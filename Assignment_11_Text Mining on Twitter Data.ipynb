{
 "cells": [
  {
   "cell_type": "code",
   "execution_count": 2,
   "metadata": {
    "ExecuteTime": {
     "end_time": "2021-02-12T04:31:35.935206Z",
     "start_time": "2021-02-12T04:31:28.542103Z"
    }
   },
   "outputs": [
    {
     "name": "stdout",
     "output_type": "stream",
     "text": [
      "Requirement already satisfied: tweepy in c:\\users\\musaddique\\anaconda3\\lib\\site-packages (3.10.0)\n",
      "Requirement already satisfied: requests[socks]>=2.11.1 in c:\\users\\musaddique\\anaconda3\\lib\\site-packages (from tweepy) (2.24.0)\n",
      "Requirement already satisfied: requests-oauthlib>=0.7.0 in c:\\users\\musaddique\\anaconda3\\lib\\site-packages (from tweepy) (1.3.0)\n",
      "Requirement already satisfied: six>=1.10.0 in c:\\users\\musaddique\\anaconda3\\lib\\site-packages (from tweepy) (1.15.0)\n",
      "Requirement already satisfied: idna<3,>=2.5 in c:\\users\\musaddique\\anaconda3\\lib\\site-packages (from requests[socks]>=2.11.1->tweepy) (2.10)\n",
      "Requirement already satisfied: chardet<4,>=3.0.2 in c:\\users\\musaddique\\anaconda3\\lib\\site-packages (from requests[socks]>=2.11.1->tweepy) (3.0.4)\n",
      "Requirement already satisfied: certifi>=2017.4.17 in c:\\users\\musaddique\\anaconda3\\lib\\site-packages (from requests[socks]>=2.11.1->tweepy) (2020.6.20)\n",
      "Requirement already satisfied: urllib3!=1.25.0,!=1.25.1,<1.26,>=1.21.1 in c:\\users\\musaddique\\anaconda3\\lib\\site-packages (from requests[socks]>=2.11.1->tweepy) (1.25.9)\n",
      "Requirement already satisfied: PySocks!=1.5.7,>=1.5.6; extra == \"socks\" in c:\\users\\musaddique\\anaconda3\\lib\\site-packages (from requests[socks]>=2.11.1->tweepy) (1.7.1)\n",
      "Requirement already satisfied: oauthlib>=3.0.0 in c:\\users\\musaddique\\anaconda3\\lib\\site-packages (from requests-oauthlib>=0.7.0->tweepy) (3.1.0)\n",
      "Note: you may need to restart the kernel to use updated packages.\n"
     ]
    }
   ],
   "source": [
    "pip install tweepy  "
   ]
  },
  {
   "cell_type": "code",
   "execution_count": 3,
   "metadata": {
    "ExecuteTime": {
     "end_time": "2021-02-12T04:31:39.004116Z",
     "start_time": "2021-02-12T04:31:38.996777Z"
    }
   },
   "outputs": [],
   "source": [
    "# -*- coding: utf-8 -*-"
   ]
  },
  {
   "cell_type": "code",
   "execution_count": 7,
   "metadata": {
    "ExecuteTime": {
     "end_time": "2021-02-12T04:32:20.751691Z",
     "start_time": "2021-02-12T04:32:15.292771Z"
    }
   },
   "outputs": [
    {
     "name": "stdout",
     "output_type": "stream",
     "text": [
      "Collecting credentialsNote: you may need to restart the kernel to use updated packages.\n",
      "\n",
      "  Downloading credentials-1.1-py2.py3-none-any.whl (4.2 kB)\n",
      "Installing collected packages: credentials\n",
      "Successfully installed credentials-1.1\n"
     ]
    }
   ],
   "source": [
    "pip install credentials       \n"
   ]
  },
  {
   "cell_type": "code",
   "execution_count": 8,
   "metadata": {
    "ExecuteTime": {
     "end_time": "2021-02-12T04:32:36.462514Z",
     "start_time": "2021-02-12T04:32:29.789684Z"
    }
   },
   "outputs": [],
   "source": [
    "import pandas as pd           #importing required libraries\n",
    "import tweepy             "
   ]
  },
  {
   "cell_type": "markdown",
   "metadata": {},
   "source": [
    "#### witter API credentials"
   ]
  },
  {
   "cell_type": "code",
   "execution_count": 9,
   "metadata": {
    "ExecuteTime": {
     "end_time": "2021-02-12T04:32:47.916086Z",
     "start_time": "2021-02-12T04:32:47.909981Z"
    }
   },
   "outputs": [],
   "source": [
    "consumer_key = \"psHN5dFig6pWtSfUIS1gbmYGT\"\n",
    "consumer_secret = \"7vWfeIQWn2DQytgCCJHWLrEcTfVdhEKHsa5XrukcGaTy3Soytn\"\n",
    "access_key = \"3680198593-aZ8vFNPYepvI9iRG515Ef6Q9oJmNd6YPpG0RSpt\"\n",
    "access_secret = \"vhkMcCI1Lz47PO9mYFCrfM8hEJRx4wsIP9THyKM2nitPD\""
   ]
  },
  {
   "cell_type": "code",
   "execution_count": 10,
   "metadata": {
    "ExecuteTime": {
     "end_time": "2021-02-12T04:32:50.951699Z",
     "start_time": "2021-02-12T04:32:50.949254Z"
    }
   },
   "outputs": [],
   "source": [
    "alltweets = []"
   ]
  },
  {
   "cell_type": "code",
   "execution_count": 11,
   "metadata": {
    "ExecuteTime": {
     "end_time": "2021-02-12T04:32:55.769626Z",
     "start_time": "2021-02-12T04:32:55.748099Z"
    }
   },
   "outputs": [],
   "source": [
    "def get_all_tweets(imVkohli):                                #accessing and obtaining required twitter account's data\n",
    "    auth = tweepy.OAuthHandler(consumer_key,consumer_secret)\n",
    "    auth.set_access_token(access_key, access_secret)\n",
    "    api = tweepy.API(auth)\n",
    "    new_tweets = api.user_timeline(screen_name = imVkohli,count=200)\n",
    "    alltweets.extend(new_tweets)\n",
    "    \n",
    "    oldest = alltweets[-1].id - 1\n",
    "    while len(new_tweets)>0:\n",
    "        new_tweets = api.user_timeline(screen_name = imVkohli,count=200,max_id=oldest)\n",
    "        #save most recent tweets\n",
    "        alltweets.extend(new_tweets)\n",
    "        #update the id of the oldest tweet less one\n",
    "        oldest = alltweets[-1].id - 1\n",
    "        print (\"...%s tweets downloaded so far\" % (len(alltweets)))                # tweet.get('user', {}).get('location', {})\n",
    " \n",
    "    outtweets = [[tweet.created_at,tweet.entities[\"hashtags\"],tweet.entities[\"user_mentions\"],tweet.favorite_count,\n",
    "                  tweet.geo,tweet.id_str,tweet.lang,tweet.place,tweet.retweet_count,tweet.retweeted,tweet.source,tweet.text,\n",
    "                  tweet._json[\"user\"][\"location\"],tweet._json[\"user\"][\"name\"],tweet._json[\"user\"][\"time_zone\"],\n",
    "                  tweet._json[\"user\"][\"utc_offset\"]] for tweet in alltweets]\n",
    "    \n",
    "    import pandas as pd\n",
    "    tweets_df = pd.DataFrame(columns = [\"time\",\"hashtags\",\"user_mentions\",\"favorite_count\",\n",
    "                                    \"geo\",\"id_str\",\"lang\",\"place\",\"retweet_count\",\"retweeted\",\"source\",\n",
    "                                    \"text\",\"location\",\"name\",\"time_zone\",\"utc_offset\"])\n",
    "    tweets_df[\"time\"]  = pd.Series([str(i[0]) for i in outtweets])\n",
    "    tweets_df[\"hashtags\"] = pd.Series([str(i[1]) for i in outtweets])\n",
    "    tweets_df[\"user_mentions\"] = pd.Series([str(i[2]) for i in outtweets])\n",
    "    tweets_df[\"favorite_count\"] = pd.Series([str(i[3]) for i in outtweets])\n",
    "    tweets_df[\"geo\"] = pd.Series([str(i[4]) for i in outtweets])\n",
    "    tweets_df[\"id_str\"] = pd.Series([str(i[5]) for i in outtweets])\n",
    "    tweets_df[\"lang\"] = pd.Series([str(i[6]) for i in outtweets])\n",
    "    tweets_df[\"place\"] = pd.Series([str(i[7]) for i in outtweets])\n",
    "    tweets_df[\"retweet_count\"] = pd.Series([str(i[8]) for i in outtweets])\n",
    "    tweets_df[\"retweeted\"] = pd.Series([str(i[9]) for i in outtweets])\n",
    "    tweets_df[\"source\"] = pd.Series([str(i[10]) for i in outtweets])\n",
    "    tweets_df[\"text\"] = pd.Series([str(i[11]) for i in outtweets])\n",
    "    tweets_df[\"location\"] = pd.Series([str(i[12]) for i in outtweets])\n",
    "    tweets_df[\"name\"] = pd.Series([str(i[13]) for i in outtweets])\n",
    "    tweets_df[\"time_zone\"] = pd.Series([str(i[14]) for i in outtweets])\n",
    "    tweets_df[\"utc_offset\"] = pd.Series([str(i[15]) for i in outtweets])\n",
    "    tweets_df.to_csv(imVkohli+\"_tweets.csv\")\n",
    "    return tweets_df"
   ]
  },
  {
   "cell_type": "code",
   "execution_count": 12,
   "metadata": {
    "ExecuteTime": {
     "end_time": "2021-02-12T04:33:40.761104Z",
     "start_time": "2021-02-12T04:33:02.552180Z"
    }
   },
   "outputs": [
    {
     "name": "stdout",
     "output_type": "stream",
     "text": [
      "...400 tweets downloaded so far\n",
      "...600 tweets downloaded so far\n",
      "...800 tweets downloaded so far\n",
      "...1000 tweets downloaded so far\n",
      "...1200 tweets downloaded so far\n",
      "...1400 tweets downloaded so far\n",
      "...1600 tweets downloaded so far\n",
      "...1800 tweets downloaded so far\n",
      "...2000 tweets downloaded so far\n",
      "...2200 tweets downloaded so far\n",
      "...2335 tweets downloaded so far\n",
      "...2335 tweets downloaded so far\n"
     ]
    }
   ],
   "source": [
    "kohli= get_all_tweets(\"imVkohli\")      #downloading all the tweets from selected twitter account"
   ]
  },
  {
   "cell_type": "code",
   "execution_count": 13,
   "metadata": {
    "ExecuteTime": {
     "end_time": "2021-02-12T04:33:43.221341Z",
     "start_time": "2021-02-12T04:33:43.148920Z"
    }
   },
   "outputs": [
    {
     "data": {
      "text/html": [
       "<div>\n",
       "<style scoped>\n",
       "    .dataframe tbody tr th:only-of-type {\n",
       "        vertical-align: middle;\n",
       "    }\n",
       "\n",
       "    .dataframe tbody tr th {\n",
       "        vertical-align: top;\n",
       "    }\n",
       "\n",
       "    .dataframe thead th {\n",
       "        text-align: right;\n",
       "    }\n",
       "</style>\n",
       "<table border=\"1\" class=\"dataframe\">\n",
       "  <thead>\n",
       "    <tr style=\"text-align: right;\">\n",
       "      <th></th>\n",
       "      <th>time</th>\n",
       "      <th>hashtags</th>\n",
       "      <th>user_mentions</th>\n",
       "      <th>favorite_count</th>\n",
       "      <th>geo</th>\n",
       "      <th>id_str</th>\n",
       "      <th>lang</th>\n",
       "      <th>place</th>\n",
       "      <th>retweet_count</th>\n",
       "      <th>retweeted</th>\n",
       "      <th>source</th>\n",
       "      <th>text</th>\n",
       "      <th>location</th>\n",
       "      <th>name</th>\n",
       "      <th>time_zone</th>\n",
       "      <th>utc_offset</th>\n",
       "    </tr>\n",
       "  </thead>\n",
       "  <tbody>\n",
       "    <tr>\n",
       "      <th>0</th>\n",
       "      <td>2021-02-03 17:20:37</td>\n",
       "      <td>[]</td>\n",
       "      <td>[]</td>\n",
       "      <td>280185</td>\n",
       "      <td>None</td>\n",
       "      <td>1357016154108166144</td>\n",
       "      <td>en</td>\n",
       "      <td>None</td>\n",
       "      <td>40377</td>\n",
       "      <td>False</td>\n",
       "      <td>Twitter for Android</td>\n",
       "      <td>Let us all stay united in this hour of disagre...</td>\n",
       "      <td></td>\n",
       "      <td>Virat Kohli</td>\n",
       "      <td>None</td>\n",
       "      <td>None</td>\n",
       "    </tr>\n",
       "    <tr>\n",
       "      <th>1</th>\n",
       "      <td>2021-02-03 05:08:25</td>\n",
       "      <td>[]</td>\n",
       "      <td>[]</td>\n",
       "      <td>26166</td>\n",
       "      <td>None</td>\n",
       "      <td>1356831889236008961</td>\n",
       "      <td>en</td>\n",
       "      <td>None</td>\n",
       "      <td>1503</td>\n",
       "      <td>False</td>\n",
       "      <td>Twitter for Android</td>\n",
       "      <td>The first step to becoming a professional spor...</td>\n",
       "      <td></td>\n",
       "      <td>Virat Kohli</td>\n",
       "      <td>None</td>\n",
       "      <td>None</td>\n",
       "    </tr>\n",
       "    <tr>\n",
       "      <th>2</th>\n",
       "      <td>2021-01-31 08:15:12</td>\n",
       "      <td>[]</td>\n",
       "      <td>[]</td>\n",
       "      <td>109836</td>\n",
       "      <td>None</td>\n",
       "      <td>1355791729526378500</td>\n",
       "      <td>und</td>\n",
       "      <td>None</td>\n",
       "      <td>5814</td>\n",
       "      <td>False</td>\n",
       "      <td>Twitter for Android</td>\n",
       "      <td>🇮🇳 https://t.co/jGez2Na675</td>\n",
       "      <td></td>\n",
       "      <td>Virat Kohli</td>\n",
       "      <td>None</td>\n",
       "      <td>None</td>\n",
       "    </tr>\n",
       "    <tr>\n",
       "      <th>3</th>\n",
       "      <td>2021-01-26 04:58:01</td>\n",
       "      <td>[]</td>\n",
       "      <td>[]</td>\n",
       "      <td>192949</td>\n",
       "      <td>None</td>\n",
       "      <td>1353930169791115264</td>\n",
       "      <td>en</td>\n",
       "      <td>None</td>\n",
       "      <td>10488</td>\n",
       "      <td>False</td>\n",
       "      <td>Twitter for Android</td>\n",
       "      <td>The future depends on what we do today. Let's ...</td>\n",
       "      <td></td>\n",
       "      <td>Virat Kohli</td>\n",
       "      <td>None</td>\n",
       "      <td>None</td>\n",
       "    </tr>\n",
       "    <tr>\n",
       "      <th>4</th>\n",
       "      <td>2021-01-25 05:08:17</td>\n",
       "      <td>[]</td>\n",
       "      <td>[{'screen_name': 'MarcBartra', 'name': 'Marc B...</td>\n",
       "      <td>73824</td>\n",
       "      <td>None</td>\n",
       "      <td>1353570362282270721</td>\n",
       "      <td>en</td>\n",
       "      <td>None</td>\n",
       "      <td>3244</td>\n",
       "      <td>False</td>\n",
       "      <td>Twitter for Android</td>\n",
       "      <td>Teamed up with @MarcBartra @officialasafa @pum...</td>\n",
       "      <td></td>\n",
       "      <td>Virat Kohli</td>\n",
       "      <td>None</td>\n",
       "      <td>None</td>\n",
       "    </tr>\n",
       "    <tr>\n",
       "      <th>...</th>\n",
       "      <td>...</td>\n",
       "      <td>...</td>\n",
       "      <td>...</td>\n",
       "      <td>...</td>\n",
       "      <td>...</td>\n",
       "      <td>...</td>\n",
       "      <td>...</td>\n",
       "      <td>...</td>\n",
       "      <td>...</td>\n",
       "      <td>...</td>\n",
       "      <td>...</td>\n",
       "      <td>...</td>\n",
       "      <td>...</td>\n",
       "      <td>...</td>\n",
       "      <td>...</td>\n",
       "      <td>...</td>\n",
       "    </tr>\n",
       "    <tr>\n",
       "      <th>2330</th>\n",
       "      <td>2009-09-22 09:44:31</td>\n",
       "      <td>[]</td>\n",
       "      <td>[{'screen_name': 'yuvsingh09', 'name': 'Yuvraj...</td>\n",
       "      <td>63</td>\n",
       "      <td>None</td>\n",
       "      <td>4168829709</td>\n",
       "      <td>en</td>\n",
       "      <td>None</td>\n",
       "      <td>14</td>\n",
       "      <td>False</td>\n",
       "      <td>Twitter Web Client</td>\n",
       "      <td>@yuvsingh09 Hello Mr.Bond \\nwatched it you wer...</td>\n",
       "      <td></td>\n",
       "      <td>Virat Kohli</td>\n",
       "      <td>None</td>\n",
       "      <td>None</td>\n",
       "    </tr>\n",
       "    <tr>\n",
       "      <th>2331</th>\n",
       "      <td>2009-09-22 08:46:33</td>\n",
       "      <td>[]</td>\n",
       "      <td>[{'screen_name': 'hulk7174', 'name': 'Anol Pro...</td>\n",
       "      <td>43</td>\n",
       "      <td>None</td>\n",
       "      <td>4168263153</td>\n",
       "      <td>und</td>\n",
       "      <td>None</td>\n",
       "      <td>8</td>\n",
       "      <td>False</td>\n",
       "      <td>Twitter Web Client</td>\n",
       "      <td>@hulk7174 ??????</td>\n",
       "      <td></td>\n",
       "      <td>Virat Kohli</td>\n",
       "      <td>None</td>\n",
       "      <td>None</td>\n",
       "    </tr>\n",
       "    <tr>\n",
       "      <th>2332</th>\n",
       "      <td>2009-09-22 07:32:46</td>\n",
       "      <td>[]</td>\n",
       "      <td>[]</td>\n",
       "      <td>118</td>\n",
       "      <td>None</td>\n",
       "      <td>4167514786</td>\n",
       "      <td>en</td>\n",
       "      <td>None</td>\n",
       "      <td>51</td>\n",
       "      <td>False</td>\n",
       "      <td>Twitter Web Client</td>\n",
       "      <td>Time for Training....</td>\n",
       "      <td></td>\n",
       "      <td>Virat Kohli</td>\n",
       "      <td>None</td>\n",
       "      <td>None</td>\n",
       "    </tr>\n",
       "    <tr>\n",
       "      <th>2333</th>\n",
       "      <td>2009-09-10 15:36:10</td>\n",
       "      <td>[]</td>\n",
       "      <td>[]</td>\n",
       "      <td>121</td>\n",
       "      <td>None</td>\n",
       "      <td>3889494504</td>\n",
       "      <td>en</td>\n",
       "      <td>None</td>\n",
       "      <td>59</td>\n",
       "      <td>False</td>\n",
       "      <td>Twitter Web Client</td>\n",
       "      <td>Will be heading to SriLanka Woohoo !!!</td>\n",
       "      <td></td>\n",
       "      <td>Virat Kohli</td>\n",
       "      <td>None</td>\n",
       "      <td>None</td>\n",
       "    </tr>\n",
       "    <tr>\n",
       "      <th>2334</th>\n",
       "      <td>2009-09-04 10:31:36</td>\n",
       "      <td>[]</td>\n",
       "      <td>[{'screen_name': 'yuvsingh09', 'name': 'Yuvraj...</td>\n",
       "      <td>239</td>\n",
       "      <td>None</td>\n",
       "      <td>3754340192</td>\n",
       "      <td>en</td>\n",
       "      <td>None</td>\n",
       "      <td>163</td>\n",
       "      <td>False</td>\n",
       "      <td>Twitter Web Client</td>\n",
       "      <td>@yuvsingh09 Aiieeeeeee me too me too</td>\n",
       "      <td></td>\n",
       "      <td>Virat Kohli</td>\n",
       "      <td>None</td>\n",
       "      <td>None</td>\n",
       "    </tr>\n",
       "  </tbody>\n",
       "</table>\n",
       "<p>2335 rows × 16 columns</p>\n",
       "</div>"
      ],
      "text/plain": [
       "                     time hashtags  \\\n",
       "0     2021-02-03 17:20:37       []   \n",
       "1     2021-02-03 05:08:25       []   \n",
       "2     2021-01-31 08:15:12       []   \n",
       "3     2021-01-26 04:58:01       []   \n",
       "4     2021-01-25 05:08:17       []   \n",
       "...                   ...      ...   \n",
       "2330  2009-09-22 09:44:31       []   \n",
       "2331  2009-09-22 08:46:33       []   \n",
       "2332  2009-09-22 07:32:46       []   \n",
       "2333  2009-09-10 15:36:10       []   \n",
       "2334  2009-09-04 10:31:36       []   \n",
       "\n",
       "                                          user_mentions favorite_count   geo  \\\n",
       "0                                                    []         280185  None   \n",
       "1                                                    []          26166  None   \n",
       "2                                                    []         109836  None   \n",
       "3                                                    []         192949  None   \n",
       "4     [{'screen_name': 'MarcBartra', 'name': 'Marc B...          73824  None   \n",
       "...                                                 ...            ...   ...   \n",
       "2330  [{'screen_name': 'yuvsingh09', 'name': 'Yuvraj...             63  None   \n",
       "2331  [{'screen_name': 'hulk7174', 'name': 'Anol Pro...             43  None   \n",
       "2332                                                 []            118  None   \n",
       "2333                                                 []            121  None   \n",
       "2334  [{'screen_name': 'yuvsingh09', 'name': 'Yuvraj...            239  None   \n",
       "\n",
       "                   id_str lang place retweet_count retweeted  \\\n",
       "0     1357016154108166144   en  None         40377     False   \n",
       "1     1356831889236008961   en  None          1503     False   \n",
       "2     1355791729526378500  und  None          5814     False   \n",
       "3     1353930169791115264   en  None         10488     False   \n",
       "4     1353570362282270721   en  None          3244     False   \n",
       "...                   ...  ...   ...           ...       ...   \n",
       "2330           4168829709   en  None            14     False   \n",
       "2331           4168263153  und  None             8     False   \n",
       "2332           4167514786   en  None            51     False   \n",
       "2333           3889494504   en  None            59     False   \n",
       "2334           3754340192   en  None           163     False   \n",
       "\n",
       "                   source                                               text  \\\n",
       "0     Twitter for Android  Let us all stay united in this hour of disagre...   \n",
       "1     Twitter for Android  The first step to becoming a professional spor...   \n",
       "2     Twitter for Android                         🇮🇳 https://t.co/jGez2Na675   \n",
       "3     Twitter for Android  The future depends on what we do today. Let's ...   \n",
       "4     Twitter for Android  Teamed up with @MarcBartra @officialasafa @pum...   \n",
       "...                   ...                                                ...   \n",
       "2330   Twitter Web Client  @yuvsingh09 Hello Mr.Bond \\nwatched it you wer...   \n",
       "2331   Twitter Web Client                                   @hulk7174 ??????   \n",
       "2332   Twitter Web Client                              Time for Training....   \n",
       "2333   Twitter Web Client             Will be heading to SriLanka Woohoo !!!   \n",
       "2334   Twitter Web Client               @yuvsingh09 Aiieeeeeee me too me too   \n",
       "\n",
       "     location         name time_zone utc_offset  \n",
       "0              Virat Kohli      None       None  \n",
       "1              Virat Kohli      None       None  \n",
       "2              Virat Kohli      None       None  \n",
       "3              Virat Kohli      None       None  \n",
       "4              Virat Kohli      None       None  \n",
       "...       ...          ...       ...        ...  \n",
       "2330           Virat Kohli      None       None  \n",
       "2331           Virat Kohli      None       None  \n",
       "2332           Virat Kohli      None       None  \n",
       "2333           Virat Kohli      None       None  \n",
       "2334           Virat Kohli      None       None  \n",
       "\n",
       "[2335 rows x 16 columns]"
      ]
     },
     "execution_count": 13,
     "metadata": {},
     "output_type": "execute_result"
    }
   ],
   "source": [
    "kohli"
   ]
  },
  {
   "cell_type": "code",
   "execution_count": 15,
   "metadata": {
    "ExecuteTime": {
     "end_time": "2021-02-12T04:34:01.215826Z",
     "start_time": "2021-02-12T04:33:58.971081Z"
    }
   },
   "outputs": [
    {
     "name": "stdout",
     "output_type": "stream",
     "text": [
      "Requirement already satisfied: spacy in c:\\users\\musaddique\\anaconda3\\lib\\site-packages (3.0.1)\n",
      "Requirement already satisfied: typer<0.4.0,>=0.3.0 in c:\\users\\musaddique\\anaconda3\\lib\\site-packages (from spacy) (0.3.2)\n",
      "Requirement already satisfied: spacy-legacy<3.1.0,>=3.0.0 in c:\\users\\musaddique\\anaconda3\\lib\\site-packages (from spacy) (3.0.1)\n",
      "Requirement already satisfied: pathy in c:\\users\\musaddique\\anaconda3\\lib\\site-packages (from spacy) (0.3.6)\n",
      "Requirement already satisfied: packaging>=20.0 in c:\\users\\musaddique\\anaconda3\\lib\\site-packages (from spacy) (20.4)\n",
      "Requirement already satisfied: srsly<3.0.0,>=2.4.0 in c:\\users\\musaddique\\anaconda3\\lib\\site-packages (from spacy) (2.4.0)\n",
      "Requirement already satisfied: setuptools in c:\\users\\musaddique\\anaconda3\\lib\\site-packages (from spacy) (49.2.0.post20200714)\n",
      "Requirement already satisfied: murmurhash<1.1.0,>=0.28.0 in c:\\users\\musaddique\\anaconda3\\lib\\site-packages (from spacy) (1.0.5)\n",
      "Requirement already satisfied: numpy>=1.15.0 in c:\\users\\musaddique\\anaconda3\\lib\\site-packages (from spacy) (1.19.5)\n",
      "Requirement already satisfied: jinja2 in c:\\users\\musaddique\\anaconda3\\lib\\site-packages (from spacy) (2.11.2)\n",
      "Requirement already satisfied: tqdm<5.0.0,>=4.38.0 in c:\\users\\musaddique\\anaconda3\\lib\\site-packages (from spacy) (4.47.0)\n",
      "Requirement already satisfied: cymem<2.1.0,>=2.0.2 in c:\\users\\musaddique\\anaconda3\\lib\\site-packages (from spacy) (2.0.5)\n",
      "Requirement already satisfied: catalogue<2.1.0,>=2.0.1 in c:\\users\\musaddique\\anaconda3\\lib\\site-packages (from spacy) (2.0.1)\n",
      "Requirement already satisfied: wasabi<1.1.0,>=0.8.1 in c:\\users\\musaddique\\anaconda3\\lib\\site-packages (from spacy) (0.8.2)\n",
      "Requirement already satisfied: blis<0.8.0,>=0.4.0 in c:\\users\\musaddique\\anaconda3\\lib\\site-packages (from spacy) (0.7.4)\n",
      "Requirement already satisfied: pydantic<1.8.0,>=1.7.1 in c:\\users\\musaddique\\anaconda3\\lib\\site-packages (from spacy) (1.7.3)\n",
      "Requirement already satisfied: thinc<8.1.0,>=8.0.0 in c:\\users\\musaddique\\anaconda3\\lib\\site-packages (from spacy) (8.0.1)\n",
      "Requirement already satisfied: preshed<3.1.0,>=3.0.2 in c:\\users\\musaddique\\anaconda3\\lib\\site-packages (from spacy) (3.0.5)\n",
      "Requirement already satisfied: requests<3.0.0,>=2.13.0 in c:\\users\\musaddique\\anaconda3\\lib\\site-packages (from spacy) (2.24.0)\n",
      "Requirement already satisfied: click<7.2.0,>=7.1.1 in c:\\users\\musaddique\\anaconda3\\lib\\site-packages (from typer<0.4.0,>=0.3.0->spacy) (7.1.2)\n",
      "Requirement already satisfied: smart-open<4.0.0,>=2.2.0 in c:\\users\\musaddique\\anaconda3\\lib\\site-packages (from pathy->spacy) (3.0.0)\n",
      "Requirement already satisfied: pyparsing>=2.0.2 in c:\\users\\musaddique\\anaconda3\\lib\\site-packages (from packaging>=20.0->spacy) (2.4.7)\n",
      "Requirement already satisfied: six in c:\\users\\musaddique\\anaconda3\\lib\\site-packages (from packaging>=20.0->spacy) (1.15.0)\n",
      "Requirement already satisfied: MarkupSafe>=0.23 in c:\\users\\musaddique\\anaconda3\\lib\\site-packages (from jinja2->spacy) (1.1.1)\n",
      "Requirement already satisfied: idna<3,>=2.5 in c:\\users\\musaddique\\anaconda3\\lib\\site-packages (from requests<3.0.0,>=2.13.0->spacy) (2.10)\n",
      "Requirement already satisfied: certifi>=2017.4.17 in c:\\users\\musaddique\\anaconda3\\lib\\site-packages (from requests<3.0.0,>=2.13.0->spacy) (2020.6.20)\n",
      "Requirement already satisfied: urllib3!=1.25.0,!=1.25.1,<1.26,>=1.21.1 in c:\\users\\musaddique\\anaconda3\\lib\\site-packages (from requests<3.0.0,>=2.13.0->spacy) (1.25.9)\n",
      "Requirement already satisfied: chardet<4,>=3.0.2 in c:\\users\\musaddique\\anaconda3\\lib\\site-packages (from requests<3.0.0,>=2.13.0->spacy) (3.0.4)\n",
      "Note: you may need to restart the kernel to use updated packages.\n"
     ]
    }
   ],
   "source": [
    "pip install spacy       "
   ]
  },
  {
   "cell_type": "code",
   "execution_count": 16,
   "metadata": {
    "ExecuteTime": {
     "end_time": "2021-02-12T04:34:09.836854Z",
     "start_time": "2021-02-12T04:34:07.642354Z"
    }
   },
   "outputs": [
    {
     "name": "stdout",
     "output_type": "stream",
     "text": [
      "Requirement already satisfied: wordcloud in c:\\users\\musaddique\\anaconda3\\lib\\site-packages (1.8.1)Note: you may need to restart the kernel to use updated packages.\n",
      "Requirement already satisfied: numpy>=1.6.1 in c:\\users\\musaddique\\anaconda3\\lib\\site-packages (from wordcloud) (1.19.5)\n",
      "Requirement already satisfied: pillow in c:\\users\\musaddique\\anaconda3\\lib\\site-packages (from wordcloud) (7.2.0)\n",
      "Requirement already satisfied: matplotlib in c:\\users\\musaddique\\anaconda3\\lib\\site-packages (from wordcloud) (3.2.2)\n",
      "Requirement already satisfied: pyparsing!=2.0.4,!=2.1.2,!=2.1.6,>=2.0.1 in c:\\users\\musaddique\\anaconda3\\lib\\site-packages (from matplotlib->wordcloud) (2.4.7)\n",
      "Requirement already satisfied: kiwisolver>=1.0.1 in c:\\users\\musaddique\\anaconda3\\lib\\site-packages (from matplotlib->wordcloud) (1.2.0)\n",
      "Requirement already satisfied: cycler>=0.10 in c:\\users\\musaddique\\anaconda3\\lib\\site-packages (from matplotlib->wordcloud) (0.10.0)\n",
      "Requirement already satisfied: python-dateutil>=2.1 in c:\\users\\musaddique\\anaconda3\\lib\\site-packages (from matplotlib->wordcloud) (2.8.1)\n",
      "Requirement already satisfied: six in c:\\users\\musaddique\\anaconda3\\lib\\site-packages (from cycler>=0.10->matplotlib->wordcloud) (1.15.0)\n",
      "\n"
     ]
    }
   ],
   "source": [
    "pip install wordcloud  "
   ]
  },
  {
   "cell_type": "code",
   "execution_count": 17,
   "metadata": {
    "ExecuteTime": {
     "end_time": "2021-02-12T04:34:45.705190Z",
     "start_time": "2021-02-12T04:34:12.650925Z"
    }
   },
   "outputs": [],
   "source": [
    "import numpy as np             #import all the required libraries\n",
    "import pandas as pd\n",
    "import string\n",
    "import spacy\n",
    "from matplotlib.pyplot import imread\n",
    "from matplotlib import pyplot as plt\n",
    "from wordcloud import WordCloud\n",
    "%matplotlib inline"
   ]
  },
  {
   "cell_type": "code",
   "execution_count": 18,
   "metadata": {
    "ExecuteTime": {
     "end_time": "2021-02-12T04:34:47.956566Z",
     "start_time": "2021-02-12T04:34:47.910229Z"
    }
   },
   "outputs": [],
   "source": [
    "kohli.drop(['hashtags'],inplace=True,axis=1)          #drop the cloumns that is not required to perform NLP\n",
    "kohli.drop(['user_mentions'],inplace=True,axis=1)\n",
    "kohli.drop(['favorite_count'],inplace=True,axis=1)\n",
    "kohli.drop(['geo'],inplace=True,axis=1)\n",
    "kohli.drop(['id_str'],inplace=True,axis=1)\n",
    "kohli.drop(['lang'],inplace=True,axis=1)\n",
    "kohli.drop(['place'],inplace=True,axis=1)\n",
    "kohli.drop(['retweet_count'],inplace=True,axis=1)\n",
    "kohli.drop(['retweeted'],inplace=True,axis=1)\n",
    "kohli.drop(['source'],inplace=True,axis=1)\n",
    "kohli.drop(['location'],inplace=True,axis=1)\n",
    "kohli.drop(['name'],inplace=True,axis=1)\n",
    "kohli.drop(['time_zone'],inplace=True,axis=1)\n",
    "kohli.drop(['utc_offset'],inplace=True,axis=1)"
   ]
  },
  {
   "cell_type": "code",
   "execution_count": 19,
   "metadata": {
    "ExecuteTime": {
     "end_time": "2021-02-12T04:34:51.938782Z",
     "start_time": "2021-02-12T04:34:51.920726Z"
    }
   },
   "outputs": [
    {
     "data": {
      "text/html": [
       "<div>\n",
       "<style scoped>\n",
       "    .dataframe tbody tr th:only-of-type {\n",
       "        vertical-align: middle;\n",
       "    }\n",
       "\n",
       "    .dataframe tbody tr th {\n",
       "        vertical-align: top;\n",
       "    }\n",
       "\n",
       "    .dataframe thead th {\n",
       "        text-align: right;\n",
       "    }\n",
       "</style>\n",
       "<table border=\"1\" class=\"dataframe\">\n",
       "  <thead>\n",
       "    <tr style=\"text-align: right;\">\n",
       "      <th></th>\n",
       "      <th>time</th>\n",
       "      <th>text</th>\n",
       "    </tr>\n",
       "  </thead>\n",
       "  <tbody>\n",
       "    <tr>\n",
       "      <th>0</th>\n",
       "      <td>2021-02-03 17:20:37</td>\n",
       "      <td>Let us all stay united in this hour of disagre...</td>\n",
       "    </tr>\n",
       "    <tr>\n",
       "      <th>1</th>\n",
       "      <td>2021-02-03 05:08:25</td>\n",
       "      <td>The first step to becoming a professional spor...</td>\n",
       "    </tr>\n",
       "    <tr>\n",
       "      <th>2</th>\n",
       "      <td>2021-01-31 08:15:12</td>\n",
       "      <td>🇮🇳 https://t.co/jGez2Na675</td>\n",
       "    </tr>\n",
       "    <tr>\n",
       "      <th>3</th>\n",
       "      <td>2021-01-26 04:58:01</td>\n",
       "      <td>The future depends on what we do today. Let's ...</td>\n",
       "    </tr>\n",
       "    <tr>\n",
       "      <th>4</th>\n",
       "      <td>2021-01-25 05:08:17</td>\n",
       "      <td>Teamed up with @MarcBartra @officialasafa @pum...</td>\n",
       "    </tr>\n",
       "    <tr>\n",
       "      <th>...</th>\n",
       "      <td>...</td>\n",
       "      <td>...</td>\n",
       "    </tr>\n",
       "    <tr>\n",
       "      <th>2330</th>\n",
       "      <td>2009-09-22 09:44:31</td>\n",
       "      <td>@yuvsingh09 Hello Mr.Bond \\nwatched it you wer...</td>\n",
       "    </tr>\n",
       "    <tr>\n",
       "      <th>2331</th>\n",
       "      <td>2009-09-22 08:46:33</td>\n",
       "      <td>@hulk7174 ??????</td>\n",
       "    </tr>\n",
       "    <tr>\n",
       "      <th>2332</th>\n",
       "      <td>2009-09-22 07:32:46</td>\n",
       "      <td>Time for Training....</td>\n",
       "    </tr>\n",
       "    <tr>\n",
       "      <th>2333</th>\n",
       "      <td>2009-09-10 15:36:10</td>\n",
       "      <td>Will be heading to SriLanka Woohoo !!!</td>\n",
       "    </tr>\n",
       "    <tr>\n",
       "      <th>2334</th>\n",
       "      <td>2009-09-04 10:31:36</td>\n",
       "      <td>@yuvsingh09 Aiieeeeeee me too me too</td>\n",
       "    </tr>\n",
       "  </tbody>\n",
       "</table>\n",
       "<p>2335 rows × 2 columns</p>\n",
       "</div>"
      ],
      "text/plain": [
       "                     time                                               text\n",
       "0     2021-02-03 17:20:37  Let us all stay united in this hour of disagre...\n",
       "1     2021-02-03 05:08:25  The first step to becoming a professional spor...\n",
       "2     2021-01-31 08:15:12                         🇮🇳 https://t.co/jGez2Na675\n",
       "3     2021-01-26 04:58:01  The future depends on what we do today. Let's ...\n",
       "4     2021-01-25 05:08:17  Teamed up with @MarcBartra @officialasafa @pum...\n",
       "...                   ...                                                ...\n",
       "2330  2009-09-22 09:44:31  @yuvsingh09 Hello Mr.Bond \\nwatched it you wer...\n",
       "2331  2009-09-22 08:46:33                                   @hulk7174 ??????\n",
       "2332  2009-09-22 07:32:46                              Time for Training....\n",
       "2333  2009-09-10 15:36:10             Will be heading to SriLanka Woohoo !!!\n",
       "2334  2009-09-04 10:31:36               @yuvsingh09 Aiieeeeeee me too me too\n",
       "\n",
       "[2335 rows x 2 columns]"
      ]
     },
     "execution_count": 19,
     "metadata": {},
     "output_type": "execute_result"
    }
   ],
   "source": [
    "kohli"
   ]
  },
  {
   "cell_type": "code",
   "execution_count": 20,
   "metadata": {
    "ExecuteTime": {
     "end_time": "2021-02-12T04:34:56.269320Z",
     "start_time": "2021-02-12T04:34:56.254665Z"
    }
   },
   "outputs": [],
   "source": [
    "kohli.drop(['time'],inplace=True,axis=1)"
   ]
  },
  {
   "cell_type": "code",
   "execution_count": 21,
   "metadata": {
    "ExecuteTime": {
     "end_time": "2021-02-12T04:34:58.780483Z",
     "start_time": "2021-02-12T04:34:58.754041Z"
    }
   },
   "outputs": [
    {
     "data": {
      "text/html": [
       "<div>\n",
       "<style scoped>\n",
       "    .dataframe tbody tr th:only-of-type {\n",
       "        vertical-align: middle;\n",
       "    }\n",
       "\n",
       "    .dataframe tbody tr th {\n",
       "        vertical-align: top;\n",
       "    }\n",
       "\n",
       "    .dataframe thead th {\n",
       "        text-align: right;\n",
       "    }\n",
       "</style>\n",
       "<table border=\"1\" class=\"dataframe\">\n",
       "  <thead>\n",
       "    <tr style=\"text-align: right;\">\n",
       "      <th></th>\n",
       "      <th>text</th>\n",
       "    </tr>\n",
       "  </thead>\n",
       "  <tbody>\n",
       "    <tr>\n",
       "      <th>0</th>\n",
       "      <td>Let us all stay united in this hour of disagre...</td>\n",
       "    </tr>\n",
       "    <tr>\n",
       "      <th>1</th>\n",
       "      <td>The first step to becoming a professional spor...</td>\n",
       "    </tr>\n",
       "    <tr>\n",
       "      <th>2</th>\n",
       "      <td>🇮🇳 https://t.co/jGez2Na675</td>\n",
       "    </tr>\n",
       "    <tr>\n",
       "      <th>3</th>\n",
       "      <td>The future depends on what we do today. Let's ...</td>\n",
       "    </tr>\n",
       "    <tr>\n",
       "      <th>4</th>\n",
       "      <td>Teamed up with @MarcBartra @officialasafa @pum...</td>\n",
       "    </tr>\n",
       "    <tr>\n",
       "      <th>...</th>\n",
       "      <td>...</td>\n",
       "    </tr>\n",
       "    <tr>\n",
       "      <th>2330</th>\n",
       "      <td>@yuvsingh09 Hello Mr.Bond \\nwatched it you wer...</td>\n",
       "    </tr>\n",
       "    <tr>\n",
       "      <th>2331</th>\n",
       "      <td>@hulk7174 ??????</td>\n",
       "    </tr>\n",
       "    <tr>\n",
       "      <th>2332</th>\n",
       "      <td>Time for Training....</td>\n",
       "    </tr>\n",
       "    <tr>\n",
       "      <th>2333</th>\n",
       "      <td>Will be heading to SriLanka Woohoo !!!</td>\n",
       "    </tr>\n",
       "    <tr>\n",
       "      <th>2334</th>\n",
       "      <td>@yuvsingh09 Aiieeeeeee me too me too</td>\n",
       "    </tr>\n",
       "  </tbody>\n",
       "</table>\n",
       "<p>2335 rows × 1 columns</p>\n",
       "</div>"
      ],
      "text/plain": [
       "                                                   text\n",
       "0     Let us all stay united in this hour of disagre...\n",
       "1     The first step to becoming a professional spor...\n",
       "2                            🇮🇳 https://t.co/jGez2Na675\n",
       "3     The future depends on what we do today. Let's ...\n",
       "4     Teamed up with @MarcBartra @officialasafa @pum...\n",
       "...                                                 ...\n",
       "2330  @yuvsingh09 Hello Mr.Bond \\nwatched it you wer...\n",
       "2331                                   @hulk7174 ??????\n",
       "2332                              Time for Training....\n",
       "2333             Will be heading to SriLanka Woohoo !!!\n",
       "2334               @yuvsingh09 Aiieeeeeee me too me too\n",
       "\n",
       "[2335 rows x 1 columns]"
      ]
     },
     "execution_count": 21,
     "metadata": {},
     "output_type": "execute_result"
    }
   ],
   "source": [
    "kohli"
   ]
  },
  {
   "cell_type": "code",
   "execution_count": 22,
   "metadata": {
    "ExecuteTime": {
     "end_time": "2021-02-12T04:35:10.154861Z",
     "start_time": "2021-02-12T04:35:02.000708Z"
    },
    "scrolled": true
   },
   "outputs": [
    {
     "name": "stdout",
     "output_type": "stream",
     "text": [
      "Requirement already satisfied: en-core-web-sm==3.0.0 from https://github.com/explosion/spacy-models/releases/download/en_core_web_sm-3.0.0/en_core_web_sm-3.0.0-py3-none-any.whl#egg=en_core_web_sm==3.0.0 in c:\\users\\musaddique\\anaconda3\\lib\\site-packages (3.0.0)\n",
      "Requirement already satisfied: spacy<3.1.0,>=3.0.0 in c:\\users\\musaddique\\anaconda3\\lib\\site-packages (from en-core-web-sm==3.0.0) (3.0.1)\n",
      "Requirement already satisfied: setuptools in c:\\users\\musaddique\\anaconda3\\lib\\site-packages (from spacy<3.1.0,>=3.0.0->en-core-web-sm==3.0.0) (49.2.0.post20200714)\n",
      "Requirement already satisfied: packaging>=20.0 in c:\\users\\musaddique\\anaconda3\\lib\\site-packages (from spacy<3.1.0,>=3.0.0->en-core-web-sm==3.0.0) (20.4)\n",
      "Requirement already satisfied: srsly<3.0.0,>=2.4.0 in c:\\users\\musaddique\\anaconda3\\lib\\site-packages (from spacy<3.1.0,>=3.0.0->en-core-web-sm==3.0.0) (2.4.0)\n",
      "Requirement already satisfied: tqdm<5.0.0,>=4.38.0 in c:\\users\\musaddique\\anaconda3\\lib\\site-packages (from spacy<3.1.0,>=3.0.0->en-core-web-sm==3.0.0) (4.47.0)\n",
      "Requirement already satisfied: pathy in c:\\users\\musaddique\\anaconda3\\lib\\site-packages (from spacy<3.1.0,>=3.0.0->en-core-web-sm==3.0.0) (0.3.6)\n",
      "Requirement already satisfied: numpy>=1.15.0 in c:\\users\\musaddique\\anaconda3\\lib\\site-packages (from spacy<3.1.0,>=3.0.0->en-core-web-sm==3.0.0) (1.19.5)\n",
      "Requirement already satisfied: pydantic<1.8.0,>=1.7.1 in c:\\users\\musaddique\\anaconda3\\lib\\site-packages (from spacy<3.1.0,>=3.0.0->en-core-web-sm==3.0.0) (1.7.3)\n",
      "Requirement already satisfied: blis<0.8.0,>=0.4.0 in c:\\users\\musaddique\\anaconda3\\lib\\site-packages (from spacy<3.1.0,>=3.0.0->en-core-web-sm==3.0.0) (0.7.4)\n",
      "Requirement already satisfied: cymem<2.1.0,>=2.0.2 in c:\\users\\musaddique\\anaconda3\\lib\\site-packages (from spacy<3.1.0,>=3.0.0->en-core-web-sm==3.0.0) (2.0.5)\n",
      "Requirement already satisfied: preshed<3.1.0,>=3.0.2 in c:\\users\\musaddique\\anaconda3\\lib\\site-packages (from spacy<3.1.0,>=3.0.0->en-core-web-sm==3.0.0) (3.0.5)\n",
      "Requirement already satisfied: typer<0.4.0,>=0.3.0 in c:\\users\\musaddique\\anaconda3\\lib\\site-packages (from spacy<3.1.0,>=3.0.0->en-core-web-sm==3.0.0) (0.3.2)\n",
      "Requirement already satisfied: jinja2 in c:\\users\\musaddique\\anaconda3\\lib\\site-packages (from spacy<3.1.0,>=3.0.0->en-core-web-sm==3.0.0) (2.11.2)\n",
      "Requirement already satisfied: thinc<8.1.0,>=8.0.0 in c:\\users\\musaddique\\anaconda3\\lib\\site-packages (from spacy<3.1.0,>=3.0.0->en-core-web-sm==3.0.0) (8.0.1)\n",
      "Requirement already satisfied: wasabi<1.1.0,>=0.8.1 in c:\\users\\musaddique\\anaconda3\\lib\\site-packages (from spacy<3.1.0,>=3.0.0->en-core-web-sm==3.0.0) (0.8.2)\n",
      "Requirement already satisfied: requests<3.0.0,>=2.13.0 in c:\\users\\musaddique\\anaconda3\\lib\\site-packages (from spacy<3.1.0,>=3.0.0->en-core-web-sm==3.0.0) (2.24.0)\n",
      "Requirement already satisfied: murmurhash<1.1.0,>=0.28.0 in c:\\users\\musaddique\\anaconda3\\lib\\site-packages (from spacy<3.1.0,>=3.0.0->en-core-web-sm==3.0.0) (1.0.5)\n",
      "Requirement already satisfied: spacy-legacy<3.1.0,>=3.0.0 in c:\\users\\musaddique\\anaconda3\\lib\\site-packages (from spacy<3.1.0,>=3.0.0->en-core-web-sm==3.0.0) (3.0.1)\n",
      "Requirement already satisfied: catalogue<2.1.0,>=2.0.1 in c:\\users\\musaddique\\anaconda3\\lib\\site-packages (from spacy<3.1.0,>=3.0.0->en-core-web-sm==3.0.0) (2.0.1)\n",
      "Requirement already satisfied: six in c:\\users\\musaddique\\anaconda3\\lib\\site-packages (from packaging>=20.0->spacy<3.1.0,>=3.0.0->en-core-web-sm==3.0.0) (1.15.0)\n",
      "Requirement already satisfied: pyparsing>=2.0.2 in c:\\users\\musaddique\\anaconda3\\lib\\site-packages (from packaging>=20.0->spacy<3.1.0,>=3.0.0->en-core-web-sm==3.0.0) (2.4.7)\n",
      "Requirement already satisfied: smart-open<4.0.0,>=2.2.0 in c:\\users\\musaddique\\anaconda3\\lib\\site-packages (from pathy->spacy<3.1.0,>=3.0.0->en-core-web-sm==3.0.0) (3.0.0)\n",
      "Requirement already satisfied: click<7.2.0,>=7.1.1 in c:\\users\\musaddique\\anaconda3\\lib\\site-packages (from typer<0.4.0,>=0.3.0->spacy<3.1.0,>=3.0.0->en-core-web-sm==3.0.0) (7.1.2)\n",
      "Requirement already satisfied: MarkupSafe>=0.23 in c:\\users\\musaddique\\anaconda3\\lib\\site-packages (from jinja2->spacy<3.1.0,>=3.0.0->en-core-web-sm==3.0.0) (1.1.1)\n",
      "Requirement already satisfied: urllib3!=1.25.0,!=1.25.1,<1.26,>=1.21.1 in c:\\users\\musaddique\\anaconda3\\lib\\site-packages (from requests<3.0.0,>=2.13.0->spacy<3.1.0,>=3.0.0->en-core-web-sm==3.0.0) (1.25.9)\n",
      "Requirement already satisfied: certifi>=2017.4.17 in c:\\users\\musaddique\\anaconda3\\lib\\site-packages (from requests<3.0.0,>=2.13.0->spacy<3.1.0,>=3.0.0->en-core-web-sm==3.0.0) (2020.6.20)\n",
      "Requirement already satisfied: idna<3,>=2.5 in c:\\users\\musaddique\\anaconda3\\lib\\site-packages (from requests<3.0.0,>=2.13.0->spacy<3.1.0,>=3.0.0->en-core-web-sm==3.0.0) (2.10)\n",
      "Requirement already satisfied: chardet<4,>=3.0.2 in c:\\users\\musaddique\\anaconda3\\lib\\site-packages (from requests<3.0.0,>=2.13.0->spacy<3.1.0,>=3.0.0->en-core-web-sm==3.0.0) (3.0.4)\n",
      "[+] Download and installation successful\n",
      "You can now load the package via spacy.load('en_core_web_sm')\n"
     ]
    },
    {
     "name": "stderr",
     "output_type": "stream",
     "text": [
      "2021-02-12 10:05:02.558207: W tensorflow/stream_executor/platform/default/dso_loader.cc:60] Could not load dynamic library 'cudart64_110.dll'; dlerror: cudart64_110.dll not found\n",
      "2021-02-12 10:05:02.558277: I tensorflow/stream_executor/cuda/cudart_stub.cc:29] Ignore above cudart dlerror if you do not have a GPU set up on your machine.\n"
     ]
    }
   ],
   "source": [
    "!python -m spacy download en_core_web_sm"
   ]
  },
  {
   "cell_type": "code",
   "execution_count": 23,
   "metadata": {
    "ExecuteTime": {
     "end_time": "2021-02-12T04:35:13.254771Z",
     "start_time": "2021-02-12T04:35:13.237022Z"
    }
   },
   "outputs": [
    {
     "data": {
      "text/plain": [
       "[\"Let us all stay united in this hour of disagreements. Farmers are an integral part of our country and I'm sure an a… https://t.co/ZKJa6wqZuV\",\n",
       " 'The first step to becoming a professional sportsperson is to start early and get quality coaching. With… https://t.co/TXSGkNQTAx',\n",
       " '🇮🇳 https://t.co/jGez2Na675',\n",
       " \"The future depends on what we do today. Let's be the strength of our nation and help it reach greater heights. Wish… https://t.co/myYv4wT9xZ\",\n",
       " 'Teamed up with @MarcBartra @officialasafa @pumacricket to test these new kicks. Light shoes, heavy work. @PUMA Fuse… https://t.co/rlOOD1nktl',\n",
       " 'Happy birthday pujji @cheteshwar1.  Wish you good health, happiness and more hours at the crease 😃. Have a great year ahead.',\n",
       " 'We do everything online today. Why not football? Sports &amp; learning should always continue, especially for children.… https://t.co/Vyyzeku3qC',\n",
       " '#one8blends - Your secret to confidence. 👍\\nGet yours from the link below.\\n\\nhttps://t.co/HTFOWXdC09\\n\\n@one8world… https://t.co/YK0BbmyyUz',\n",
       " '#100MillionHeroes 👏🏼 @HeroMotoCorp https://t.co/QK6IIVdki2',\n",
       " 'WHAT A WIN!!! Yessssss. To everyone who doubted us after Adelaide, stand up and take notice. Exemplary performance… https://t.co/pz5JhDgamH',\n",
       " '@ThePropheC is at a whole different level altogether and Sardool Saab 🙏🏼👏🏼\\n\\nhttps://t.co/gv3h99ZjF7',\n",
       " 'Outstanding application and belief by @Sundarwashi5 and @imShard. This is what test cricket is all about. Washy top… https://t.co/qpVrsJgpVf',\n",
       " \"Heartbroken to hear about the demise of Hardik and Krunal's dad. Spoke to him a couple of times, looked a joyful an… https://t.co/CQNzbSobUr\",\n",
       " '♥️ https://t.co/js3SkZJTsH',\n",
       " 'The incident needs to be looked at with absolute urgency and seriousness and strict action against the offenders sh… https://t.co/N4YVk4nfKC',\n",
       " 'Racial abuse is absolutely unacceptable. Having gone through many incidents of really pathetic things said on the b… https://t.co/kQASx8FnoP',\n",
       " 'Get the perfect boost of confidence with #one8fragrances\\nCheck them out now! https://t.co/2xNh3SiVK4\\n@one8world… https://t.co/zZPpqoj0w9',\n",
       " 'Happy Birthday @therealkapildev 🎂. Wishing you happy times ahead for you and your family. Have a wonderful and a healthy year ahead.',\n",
       " '✌️😁 https://t.co/4aX9KYZjjv',\n",
       " 'Praying for your speedy recovery. Get well soon 🙏 @SGanguly99',\n",
       " 'Friends who test negative together spend positive time together! ☺️ Nothing like a get together at home with friend… https://t.co/eTsnPUtG74',\n",
       " \"What a win this is, absolutely amazing effort by the whole team. Couldn't be happier for the boys and specially Jin… https://t.co/Oi53Lpb49K\",\n",
       " 'https://t.co/auzv5pMiqf https://t.co/MWNXEdupZ6',\n",
       " 'Another great day for us. Proper test cricket at its best. Absolutely top knock from Jinks👌@ajinkyarahane88',\n",
       " 'Top day 1 for us. Great display from the bowlers and a solid finish too. 🇮🇳👏',\n",
       " 'Wishing each and everyone a very Merry Christmas. 🎄⭐😀',\n",
       " 'Excited to be back playing Test cricket 🇮🇳🏏  Looking forward to a competitive game 💪💪 https://t.co/Mm5FU8ISsB',\n",
       " 'Guys, the @myntra End Of Reason Sale starts on 20th Dec. 😎 Hit the link below and wishlist your favourite Wrogn sty… https://t.co/EvwOuk2FfQ',\n",
       " '3 years and onto a lifetime together ❤️ https://t.co/a30gdU87vS',\n",
       " 'Don’t let a hectic lifestyle get the better of you. One Wellman tablet a day = Perfect formula for your nutritional… https://t.co/8ZwBzfNn5S',\n",
       " 'Tough outing but remarkable fighting spirit shown by the boys 💪. On to the tests now 🇮🇳. https://t.co/d9v6EACpc0',\n",
       " 'It’s all about the process. Intensify your training with those quick and explosive movements 💥\\nCop the #one8 LQDCEL… https://t.co/fn9E27gjoF',\n",
       " 'Amazing game of cricket. Well done boys 🙌 https://t.co/IUqiiXNTkj',\n",
       " 'On to Sydney 👍🏻. https://t.co/jRkH6SM4LY',\n",
       " 'Kick things 🆙 a notch with the #one8 Smash. \\nCop the timeless trainer on https://t.co/aTY0dEecCS \\nCollection link h… https://t.co/xncnF2VTCd',\n",
       " 'Proud of this team. 🇮🇳 We march forward. On to the T20s 💪 https://t.co/kDFutw1B3R',\n",
       " 'Haha good skills mate. Maybe we can get you in as a counter attacking batsman😃👏 @HKane https://t.co/rYjmVUkdwO',\n",
       " 'On to the next one. https://t.co/kCqkvR6EU8',\n",
       " 'Remembering the innocent lives we lost and our bravehearts who saved many during the 26/11 attacks. You will always… https://t.co/TNsSJYPy0A',\n",
       " 'RIP Diego Maradona. He changed the way the beautiful game of football is played. True genius.',\n",
       " \"Guys, it's finally here 🙌. Visit my Instagram profile and scroll over to the filters tab to try out my new AR filte… https://t.co/Gfa8Y6GaWj\",\n",
       " 'Winter has come, and so have comfy winter wear styles from Wrogn! 😎 \\n\\nSnag your winter wear from @StayWrogn on… https://t.co/QNUP6nPZ2g',\n",
       " 'Many happy returns of the day @navdeepsaini96. 🎂 Wishing you success and a wonderful year ahead.',\n",
       " 'I’m back on the field doing what I do best. Rebounding just like millions of other Indians 🇮🇳 . This is my story. C… https://t.co/UNbFGIQC2C',\n",
       " \"Wishing @FCGoaOfficial all the best for today's match and for the season ahead. #ForcaGoa #RiseAgain\",\n",
       " 'Fuel Up ⛽ https://t.co/5cNb1G8gd5',\n",
       " 'Designed for men who mean business.😎 The no gas range by #one8fragrances. Get them from https://t.co/HTFOWXvcRH… https://t.co/qfatYo3ds5',\n",
       " 'Conquer the world one step at a time with Casual Footwear from Wrogn 👍 @myntra\\nVisit the link below to check out th… https://t.co/Ui8Da8k3Tk',\n",
       " 'Love test cricket practice sessions ❤️💙 https://t.co/XPNad3YapF',\n",
       " 'Quarantine diaries. Un-ironed T-shirt, comfortable couch and a good series to watch. 👌 https://t.co/Yr26mHYCOL']"
      ]
     },
     "execution_count": 23,
     "metadata": {},
     "output_type": "execute_result"
    }
   ],
   "source": [
    "kohli = [text.strip() for text in kohli.text] # remove both the leading and the trailing characters\n",
    "kohli = [text for text in kohli if text] # removes empty strings, because they are considered in Python as False\n",
    "kohli[0:50] "
   ]
  },
  {
   "cell_type": "code",
   "execution_count": 24,
   "metadata": {
    "ExecuteTime": {
     "end_time": "2021-02-12T04:35:18.307771Z",
     "start_time": "2021-02-12T04:35:16.232194Z"
    }
   },
   "outputs": [],
   "source": [
    "nlp = spacy.load('en_core_web_sm')   #parts of speech tagging\n"
   ]
  },
  {
   "cell_type": "code",
   "execution_count": 25,
   "metadata": {
    "ExecuteTime": {
     "end_time": "2021-02-12T04:35:20.447788Z",
     "start_time": "2021-02-12T04:35:20.043716Z"
    }
   },
   "outputs": [
    {
     "data": {
      "text/html": [
       "<span class=\"tex2jax_ignore\"><div class=\"entities\" style=\"line-height: 2.5; direction: ltr\">Happy birthday \n",
       "<mark class=\"entity\" style=\"background: #aa9cfc; padding: 0.45em 0.6em; margin: 0 0.25em; line-height: 1; border-radius: 0.35em;\">\n",
       "    Mahi Bhai\n",
       "    <span style=\"font-size: 0.8em; font-weight: bold; line-height: 1; border-radius: 0.35em; vertical-align: middle; margin-left: 0.5rem\">PERSON</span>\n",
       "</mark>\n",
       ". God bless you. 💪💪\n",
       "<mark class=\"entity\" style=\"background: #aa9cfc; padding: 0.45em 0.6em; margin: 0 0.25em; line-height: 1; border-radius: 0.35em;\">\n",
       "    😇\n",
       "    <span style=\"font-size: 0.8em; font-weight: bold; line-height: 1; border-radius: 0.35em; vertical-align: middle; margin-left: 0.5rem\">PERSON</span>\n",
       "</mark>\n",
       " https://t.co/YeuQ8k9oWb</div></span>"
      ],
      "text/plain": [
       "<IPython.core.display.HTML object>"
      ]
     },
     "metadata": {},
     "output_type": "display_data"
    }
   ],
   "source": [
    "one_block=kohli[800]                    #selecting tweet of choice to visualize using spacy\n",
    "doc_block=nlp(one_block)\n",
    "spacy.displacy.render(doc_block,style='ent',jupyter=True)"
   ]
  },
  {
   "cell_type": "code",
   "execution_count": 26,
   "metadata": {
    "ExecuteTime": {
     "end_time": "2021-02-12T04:35:24.746292Z",
     "start_time": "2021-02-12T04:35:24.734466Z"
    }
   },
   "outputs": [
    {
     "data": {
      "text/plain": [
       "'Happy birthday Mahi Bhai. God bless you. 💪💪😇 https://t.co/YeuQ8k9oWb'"
      ]
     },
     "execution_count": 26,
     "metadata": {},
     "output_type": "execute_result"
    }
   ],
   "source": [
    "one_block"
   ]
  },
  {
   "cell_type": "code",
   "execution_count": 27,
   "metadata": {
    "ExecuteTime": {
     "end_time": "2021-02-12T04:35:28.819323Z",
     "start_time": "2021-02-12T04:35:28.800812Z"
    }
   },
   "outputs": [
    {
     "name": "stdout",
     "output_type": "stream",
     "text": [
      "Happy ADJ\n",
      "birthday NOUN\n",
      "Mahi PROPN\n",
      "Bhai PROPN\n",
      ". PUNCT\n",
      "God PROPN\n",
      "bless VERB\n",
      "you PRON\n",
      ". PUNCT\n",
      "💪 NOUN\n",
      "💪 NOUN\n",
      "😇 NOUN\n",
      "https://t.co/YeuQ8k9oWb NOUN\n"
     ]
    }
   ],
   "source": [
    "for token in doc_block[0:50]:          #tokenization of selected tweet to know parts of speech \n",
    "    print(token,token.pos_)\n"
   ]
  },
  {
   "cell_type": "code",
   "execution_count": 28,
   "metadata": {
    "ExecuteTime": {
     "end_time": "2021-02-12T04:35:33.479188Z",
     "start_time": "2021-02-12T04:35:33.457574Z"
    }
   },
   "outputs": [
    {
     "name": "stdout",
     "output_type": "stream",
     "text": [
      "['birthday', 'bless', '💪', '💪', '😇', 'https://t.co/YeuQ8k9oWb']\n"
     ]
    }
   ],
   "source": [
    "noun_verbs=[token.text for token in doc_block if token.pos_ in('NOUN','VERB')]\n",
    "print(noun_verbs[0:40])           #extraction of noun and verbs in selected tweet"
   ]
  },
  {
   "cell_type": "code",
   "execution_count": 29,
   "metadata": {
    "ExecuteTime": {
     "end_time": "2021-02-12T04:35:43.440680Z",
     "start_time": "2021-02-12T04:35:36.897616Z"
    }
   },
   "outputs": [
    {
     "data": {
      "text/html": [
       "<div>\n",
       "<style scoped>\n",
       "    .dataframe tbody tr th:only-of-type {\n",
       "        vertical-align: middle;\n",
       "    }\n",
       "\n",
       "    .dataframe tbody tr th {\n",
       "        vertical-align: top;\n",
       "    }\n",
       "\n",
       "    .dataframe thead th {\n",
       "        text-align: right;\n",
       "    }\n",
       "</style>\n",
       "<table border=\"1\" class=\"dataframe\">\n",
       "  <thead>\n",
       "    <tr style=\"text-align: right;\">\n",
       "      <th></th>\n",
       "      <th>word</th>\n",
       "      <th>count</th>\n",
       "    </tr>\n",
       "  </thead>\n",
       "  <tbody>\n",
       "    <tr>\n",
       "      <th>0</th>\n",
       "      <td>birthday</td>\n",
       "      <td>1</td>\n",
       "    </tr>\n",
       "    <tr>\n",
       "      <th>1</th>\n",
       "      <td>bless</td>\n",
       "      <td>1</td>\n",
       "    </tr>\n",
       "    <tr>\n",
       "      <th>2</th>\n",
       "      <td>https</td>\n",
       "      <td>1</td>\n",
       "    </tr>\n",
       "    <tr>\n",
       "      <th>3</th>\n",
       "      <td>co</td>\n",
       "      <td>1</td>\n",
       "    </tr>\n",
       "    <tr>\n",
       "      <th>4</th>\n",
       "      <td>yeuq8k9owb</td>\n",
       "      <td>1</td>\n",
       "    </tr>\n",
       "  </tbody>\n",
       "</table>\n",
       "</div>"
      ],
      "text/plain": [
       "         word  count\n",
       "0    birthday      1\n",
       "1       bless      1\n",
       "2       https      1\n",
       "3          co      1\n",
       "4  yeuq8k9owb      1"
      ]
     },
     "execution_count": 29,
     "metadata": {},
     "output_type": "execute_result"
    }
   ],
   "source": [
    "from sklearn.feature_extraction.text import CountVectorizer    #counting of tokens i.e words\n",
    "cv=CountVectorizer()\n",
    "\n",
    "text=cv.fit_transform(noun_verbs)\n",
    "sum_words=text.sum(axis=0)\n",
    "words_freq=[(word,sum_words[0,idx])for word,idx in cv.vocabulary_.items()]\n",
    "words_freq=sorted(words_freq,key=lambda x:x[1],reverse=True)\n",
    "wf_df=pd.DataFrame(words_freq)\n",
    "wf_df.columns=['word','count']\n",
    "\n",
    "wf_df[0:30]"
   ]
  },
  {
   "cell_type": "code",
   "execution_count": 30,
   "metadata": {
    "ExecuteTime": {
     "end_time": "2021-02-12T04:35:45.427409Z",
     "start_time": "2021-02-12T04:35:44.638283Z"
    }
   },
   "outputs": [
    {
     "data": {
      "text/plain": [
       "<matplotlib.axes._subplots.AxesSubplot at 0x1bd36689d90>"
      ]
     },
     "execution_count": 30,
     "metadata": {},
     "output_type": "execute_result"
    },
    {
     "data": {
      "image/png": "[encoded data removed]",
      "text/plain": [
       "<Figure size 864x576 with 1 Axes>"
      ]
     },
     "metadata": {
      "needs_background": "light"
     },
     "output_type": "display_data"
    }
   ],
   "source": [
    "wf_df[0:30].plot.bar(x='word', figsize=(12,8),title='Top verbs and nouns')  #visualization of nouns and verbs in selected tweet"
   ]
  },
  {
   "cell_type": "code",
   "execution_count": 32,
   "metadata": {
    "ExecuteTime": {
     "end_time": "2021-02-12T04:40:45.268361Z",
     "start_time": "2021-02-12T04:40:45.247471Z"
    }
   },
   "outputs": [
    {
     "data": {
      "text/plain": [
       "(2477, 2)"
      ]
     },
     "execution_count": 32,
     "metadata": {},
     "output_type": "execute_result"
    }
   ],
   "source": [
    "affin=pd.read_csv('Afinn.csv',sep=',',encoding='latin-1')  #read affin dataset for sentiment analysis\n",
    "affin.shape"
   ]
  },
  {
   "cell_type": "code",
   "execution_count": 33,
   "metadata": {
    "ExecuteTime": {
     "end_time": "2021-02-12T04:40:51.359664Z",
     "start_time": "2021-02-12T04:40:51.339192Z"
    }
   },
   "outputs": [
    {
     "data": {
      "text/html": [
       "<div>\n",
       "<style scoped>\n",
       "    .dataframe tbody tr th:only-of-type {\n",
       "        vertical-align: middle;\n",
       "    }\n",
       "\n",
       "    .dataframe tbody tr th {\n",
       "        vertical-align: top;\n",
       "    }\n",
       "\n",
       "    .dataframe thead th {\n",
       "        text-align: right;\n",
       "    }\n",
       "</style>\n",
       "<table border=\"1\" class=\"dataframe\">\n",
       "  <thead>\n",
       "    <tr style=\"text-align: right;\">\n",
       "      <th></th>\n",
       "      <th>word</th>\n",
       "      <th>value</th>\n",
       "    </tr>\n",
       "  </thead>\n",
       "  <tbody>\n",
       "    <tr>\n",
       "      <th>0</th>\n",
       "      <td>abandon</td>\n",
       "      <td>-2</td>\n",
       "    </tr>\n",
       "    <tr>\n",
       "      <th>1</th>\n",
       "      <td>abandoned</td>\n",
       "      <td>-2</td>\n",
       "    </tr>\n",
       "    <tr>\n",
       "      <th>2</th>\n",
       "      <td>abandons</td>\n",
       "      <td>-2</td>\n",
       "    </tr>\n",
       "    <tr>\n",
       "      <th>3</th>\n",
       "      <td>abducted</td>\n",
       "      <td>-2</td>\n",
       "    </tr>\n",
       "    <tr>\n",
       "      <th>4</th>\n",
       "      <td>abduction</td>\n",
       "      <td>-2</td>\n",
       "    </tr>\n",
       "  </tbody>\n",
       "</table>\n",
       "</div>"
      ],
      "text/plain": [
       "        word  value\n",
       "0    abandon     -2\n",
       "1  abandoned     -2\n",
       "2   abandons     -2\n",
       "3   abducted     -2\n",
       "4  abduction     -2"
      ]
     },
     "execution_count": 33,
     "metadata": {},
     "output_type": "execute_result"
    }
   ],
   "source": [
    "affin.head()"
   ]
  },
  {
   "cell_type": "code",
   "execution_count": 34,
   "metadata": {
    "ExecuteTime": {
     "end_time": "2021-02-12T04:40:54.642096Z",
     "start_time": "2021-02-12T04:40:54.621973Z"
    }
   },
   "outputs": [
    {
     "data": {
      "text/html": [
       "<div>\n",
       "<style scoped>\n",
       "    .dataframe tbody tr th:only-of-type {\n",
       "        vertical-align: middle;\n",
       "    }\n",
       "\n",
       "    .dataframe tbody tr th {\n",
       "        vertical-align: top;\n",
       "    }\n",
       "\n",
       "    .dataframe thead th {\n",
       "        text-align: right;\n",
       "    }\n",
       "</style>\n",
       "<table border=\"1\" class=\"dataframe\">\n",
       "  <thead>\n",
       "    <tr style=\"text-align: right;\">\n",
       "      <th></th>\n",
       "      <th>word</th>\n",
       "      <th>value</th>\n",
       "    </tr>\n",
       "  </thead>\n",
       "  <tbody>\n",
       "    <tr>\n",
       "      <th>2472</th>\n",
       "      <td>yucky</td>\n",
       "      <td>-2</td>\n",
       "    </tr>\n",
       "    <tr>\n",
       "      <th>2473</th>\n",
       "      <td>yummy</td>\n",
       "      <td>3</td>\n",
       "    </tr>\n",
       "    <tr>\n",
       "      <th>2474</th>\n",
       "      <td>zealot</td>\n",
       "      <td>-2</td>\n",
       "    </tr>\n",
       "    <tr>\n",
       "      <th>2475</th>\n",
       "      <td>zealots</td>\n",
       "      <td>-2</td>\n",
       "    </tr>\n",
       "    <tr>\n",
       "      <th>2476</th>\n",
       "      <td>zealous</td>\n",
       "      <td>2</td>\n",
       "    </tr>\n",
       "  </tbody>\n",
       "</table>\n",
       "</div>"
      ],
      "text/plain": [
       "         word  value\n",
       "2472    yucky     -2\n",
       "2473    yummy      3\n",
       "2474   zealot     -2\n",
       "2475  zealots     -2\n",
       "2476  zealous      2"
      ]
     },
     "execution_count": 34,
     "metadata": {},
     "output_type": "execute_result"
    }
   ],
   "source": [
    "affin.tail()"
   ]
  },
  {
   "cell_type": "code",
   "execution_count": 37,
   "metadata": {
    "ExecuteTime": {
     "end_time": "2021-02-12T04:42:42.869526Z",
     "start_time": "2021-02-12T04:42:33.338668Z"
    }
   },
   "outputs": [
    {
     "name": "stderr",
     "output_type": "stream",
     "text": [
      "[nltk_data] Downloading package punkt to\n",
      "[nltk_data]     C:\\Users\\Musaddique\\AppData\\Roaming\\nltk_data...\n",
      "[nltk_data]   Unzipping tokenizers\\punkt.zip.\n"
     ]
    },
    {
     "data": {
      "text/plain": [
       "True"
      ]
     },
     "execution_count": 37,
     "metadata": {},
     "output_type": "execute_result"
    }
   ],
   "source": [
    "import nltk\n",
    "nltk.download('punkt')"
   ]
  },
  {
   "cell_type": "code",
   "execution_count": 38,
   "metadata": {
    "ExecuteTime": {
     "end_time": "2021-02-12T04:42:46.277091Z",
     "start_time": "2021-02-12T04:42:46.153669Z"
    }
   },
   "outputs": [
    {
     "data": {
      "text/plain": [
       "['Light shoes, heavy work.',\n",
       " '@PUMA Fuse… https://t.co/rlOOD1nktl Happy birthday pujji @cheteshwar1.',\n",
       " 'Wish you good health, happiness and more hours at the crease 😃.',\n",
       " 'Have a great year ahead.',\n",
       " 'We do everything online today.',\n",
       " 'Why not football?',\n",
       " 'Sports &amp; learning should always continue, especially for children.… https://t.co/Vyyzeku3qC #one8blends - Your secret to confidence.',\n",
       " '👍\\nGet yours from the link below.',\n",
       " 'https://t.co/HTFOWXdC09\\n\\n@one8world… https://t.co/YK0BbmyyUz #100MillionHeroes 👏🏼 @HeroMotoCorp https://t.co/QK6IIVdki2 WHAT A WIN!!!',\n",
       " 'Yessssss.',\n",
       " 'To everyone who doubted us after Adelaide, stand up and take notice.',\n",
       " 'Exemplary performance… https://t.co/pz5JhDgamH @ThePropheC is at a whole different level altogether and Sardool Saab 🙏🏼👏🏼\\n\\nhttps://t.co/gv3h99ZjF7 Outstanding application and belief by @Sundarwashi5 and @imShard.',\n",
       " 'This is what test cricket is all about.',\n",
       " \"Washy top… https://t.co/qpVrsJgpVf Heartbroken to hear about the demise of Hardik and Krunal's dad.\",\n",
       " 'Spoke to him a couple of times, looked a joyful an… https://t.co/CQNzbSobUr ♥️ https://t.co/js3SkZJTsH The incident needs to be looked at with absolute urgency and seriousness and strict action against the offenders sh… https://t.co/N4YVk4nfKC Racial abuse is absolutely unacceptable.',\n",
       " 'Having gone through many incidents of really pathetic things said on the b… https://t.co/kQASx8FnoP Get the perfect boost of confidence with #one8fragrances\\nCheck them out now!',\n",
       " 'https://t.co/2xNh3SiVK4\\n@one8world… https://t.co/zZPpqoj0w9 Happy Birthday @therealkapildev 🎂.',\n",
       " 'Wishing you happy times ahead for you and your family.',\n",
       " 'Have a wonderful and a healthy year ahead.',\n",
       " '✌️😁 https://t.co/4aX9KYZjjv Praying for your speedy recovery.']"
      ]
     },
     "execution_count": 38,
     "metadata": {},
     "output_type": "execute_result"
    }
   ],
   "source": [
    "from nltk import tokenize                       \n",
    "sentences=tokenize.sent_tokenize(\" \".join(kohli))\n",
    "sentences[5:25]"
   ]
  },
  {
   "cell_type": "code",
   "execution_count": 39,
   "metadata": {
    "ExecuteTime": {
     "end_time": "2021-02-12T04:42:50.058833Z",
     "start_time": "2021-02-12T04:42:50.035251Z"
    }
   },
   "outputs": [
    {
     "data": {
      "text/html": [
       "<div>\n",
       "<style scoped>\n",
       "    .dataframe tbody tr th:only-of-type {\n",
       "        vertical-align: middle;\n",
       "    }\n",
       "\n",
       "    .dataframe tbody tr th {\n",
       "        vertical-align: top;\n",
       "    }\n",
       "\n",
       "    .dataframe thead th {\n",
       "        text-align: right;\n",
       "    }\n",
       "</style>\n",
       "<table border=\"1\" class=\"dataframe\">\n",
       "  <thead>\n",
       "    <tr style=\"text-align: right;\">\n",
       "      <th></th>\n",
       "      <th>sentence</th>\n",
       "    </tr>\n",
       "  </thead>\n",
       "  <tbody>\n",
       "    <tr>\n",
       "      <th>0</th>\n",
       "      <td>Let us all stay united in this hour of disagre...</td>\n",
       "    </tr>\n",
       "    <tr>\n",
       "      <th>1</th>\n",
       "      <td>Farmers are an integral part of our country an...</td>\n",
       "    </tr>\n",
       "    <tr>\n",
       "      <th>2</th>\n",
       "      <td>With… https://t.co/TXSGkNQTAx 🇮🇳 https://t.co/...</td>\n",
       "    </tr>\n",
       "    <tr>\n",
       "      <th>3</th>\n",
       "      <td>Let's be the strength of our nation and help i...</td>\n",
       "    </tr>\n",
       "    <tr>\n",
       "      <th>4</th>\n",
       "      <td>Wish… https://t.co/myYv4wT9xZ Teamed up with @...</td>\n",
       "    </tr>\n",
       "    <tr>\n",
       "      <th>...</th>\n",
       "      <td>...</td>\n",
       "    </tr>\n",
       "    <tr>\n",
       "      <th>2590</th>\n",
       "      <td>Thank you all for the wishes !!!!</td>\n",
       "    </tr>\n",
       "    <tr>\n",
       "      <th>2591</th>\n",
       "      <td>@yuvsingh09 Hello Mr.Bond \\nwatched it you wer...</td>\n",
       "    </tr>\n",
       "    <tr>\n",
       "      <th>2592</th>\n",
       "      <td>@hulk7174 ??????</td>\n",
       "    </tr>\n",
       "    <tr>\n",
       "      <th>2593</th>\n",
       "      <td>Time for Training.... Will be heading to SriLa...</td>\n",
       "    </tr>\n",
       "    <tr>\n",
       "      <th>2594</th>\n",
       "      <td>@yuvsingh09 Aiieeeeeee me too me too</td>\n",
       "    </tr>\n",
       "  </tbody>\n",
       "</table>\n",
       "<p>2595 rows × 1 columns</p>\n",
       "</div>"
      ],
      "text/plain": [
       "                                               sentence\n",
       "0     Let us all stay united in this hour of disagre...\n",
       "1     Farmers are an integral part of our country an...\n",
       "2     With… https://t.co/TXSGkNQTAx 🇮🇳 https://t.co/...\n",
       "3     Let's be the strength of our nation and help i...\n",
       "4     Wish… https://t.co/myYv4wT9xZ Teamed up with @...\n",
       "...                                                 ...\n",
       "2590                  Thank you all for the wishes !!!!\n",
       "2591  @yuvsingh09 Hello Mr.Bond \\nwatched it you wer...\n",
       "2592                                   @hulk7174 ??????\n",
       "2593  Time for Training.... Will be heading to SriLa...\n",
       "2594               @yuvsingh09 Aiieeeeeee me too me too\n",
       "\n",
       "[2595 rows x 1 columns]"
      ]
     },
     "execution_count": 39,
     "metadata": {},
     "output_type": "execute_result"
    }
   ],
   "source": [
    "sent_df=pd.DataFrame(sentences,columns=['sentence'])\n",
    "sent_df"
   ]
  },
  {
   "cell_type": "code",
   "execution_count": 40,
   "metadata": {
    "ExecuteTime": {
     "end_time": "2021-02-12T04:42:51.471768Z",
     "start_time": "2021-02-12T04:42:51.463655Z"
    }
   },
   "outputs": [],
   "source": [
    "affinity_scores=affin.set_index('word')['value'].to_dict()"
   ]
  },
  {
   "cell_type": "code",
   "execution_count": 41,
   "metadata": {
    "ExecuteTime": {
     "end_time": "2021-02-12T04:42:54.218501Z",
     "start_time": "2021-02-12T04:42:53.183493Z"
    }
   },
   "outputs": [],
   "source": [
    "nlp=spacy.load(\"en_core_web_sm\") #Custom function :score each word in a sentence in lemmatised form, \n",
    "sentiment_lexicon=affinity_scores  #but calculate the score for the whole original sentence.\n",
    "\n",
    "def calculate_sentiment(text: str=None):\n",
    "    sent_score=0\n",
    "    if text:\n",
    "        sentence=nlp(text)\n",
    "        for word in sentence:\n",
    "            sent_score+=sentiment_lexicon.get(word.lemma_,0)\n",
    "            return sent_score"
   ]
  },
  {
   "cell_type": "code",
   "execution_count": 42,
   "metadata": {
    "ExecuteTime": {
     "end_time": "2021-02-12T04:42:55.477664Z",
     "start_time": "2021-02-12T04:42:55.457762Z"
    }
   },
   "outputs": [
    {
     "data": {
      "text/plain": [
       "4"
      ]
     },
     "execution_count": 42,
     "metadata": {},
     "output_type": "execute_result"
    }
   ],
   "source": [
    "calculate_sentiment(text= 'fantastic')  #testing of custom function to know whether it works or not"
   ]
  },
  {
   "cell_type": "code",
   "execution_count": 43,
   "metadata": {
    "ExecuteTime": {
     "end_time": "2021-02-12T04:43:31.139422Z",
     "start_time": "2021-02-12T04:42:56.749321Z"
    }
   },
   "outputs": [],
   "source": [
    "sent_df['sentiment_value']=sent_df['sentence'].apply(calculate_sentiment)"
   ]
  },
  {
   "cell_type": "code",
   "execution_count": 44,
   "metadata": {
    "ExecuteTime": {
     "end_time": "2021-02-12T04:43:32.467982Z",
     "start_time": "2021-02-12T04:43:32.414538Z"
    }
   },
   "outputs": [
    {
     "data": {
      "text/plain": [
       "0    10\n",
       "1    30\n",
       "2    12\n",
       "3    13\n",
       "4    13\n",
       "5     4\n",
       "6     7\n",
       "7    12\n",
       "8     5\n",
       "9     5\n",
       "Name: word_count, dtype: int64"
      ]
     },
     "execution_count": 44,
     "metadata": {},
     "output_type": "execute_result"
    }
   ],
   "source": [
    "sent_df['word_count']=sent_df['sentence'].str.split().apply(len)  #to know the length of words in tweets\n",
    "sent_df['word_count'].head(10)"
   ]
  },
  {
   "cell_type": "code",
   "execution_count": 45,
   "metadata": {
    "ExecuteTime": {
     "end_time": "2021-02-12T04:43:34.578326Z",
     "start_time": "2021-02-12T04:43:34.555121Z"
    }
   },
   "outputs": [
    {
     "data": {
      "text/html": [
       "<div>\n",
       "<style scoped>\n",
       "    .dataframe tbody tr th:only-of-type {\n",
       "        vertical-align: middle;\n",
       "    }\n",
       "\n",
       "    .dataframe tbody tr th {\n",
       "        vertical-align: top;\n",
       "    }\n",
       "\n",
       "    .dataframe thead th {\n",
       "        text-align: right;\n",
       "    }\n",
       "</style>\n",
       "<table border=\"1\" class=\"dataframe\">\n",
       "  <thead>\n",
       "    <tr style=\"text-align: right;\">\n",
       "      <th></th>\n",
       "      <th>sentence</th>\n",
       "      <th>sentiment_value</th>\n",
       "      <th>word_count</th>\n",
       "    </tr>\n",
       "  </thead>\n",
       "  <tbody>\n",
       "    <tr>\n",
       "      <th>0</th>\n",
       "      <td>Let us all stay united in this hour of disagre...</td>\n",
       "      <td>0</td>\n",
       "      <td>10</td>\n",
       "    </tr>\n",
       "    <tr>\n",
       "      <th>1</th>\n",
       "      <td>Farmers are an integral part of our country an...</td>\n",
       "      <td>0</td>\n",
       "      <td>30</td>\n",
       "    </tr>\n",
       "    <tr>\n",
       "      <th>2</th>\n",
       "      <td>With… https://t.co/TXSGkNQTAx 🇮🇳 https://t.co/...</td>\n",
       "      <td>0</td>\n",
       "      <td>12</td>\n",
       "    </tr>\n",
       "    <tr>\n",
       "      <th>3</th>\n",
       "      <td>Let's be the strength of our nation and help i...</td>\n",
       "      <td>0</td>\n",
       "      <td>13</td>\n",
       "    </tr>\n",
       "    <tr>\n",
       "      <th>4</th>\n",
       "      <td>Wish… https://t.co/myYv4wT9xZ Teamed up with @...</td>\n",
       "      <td>1</td>\n",
       "      <td>13</td>\n",
       "    </tr>\n",
       "    <tr>\n",
       "      <th>...</th>\n",
       "      <td>...</td>\n",
       "      <td>...</td>\n",
       "      <td>...</td>\n",
       "    </tr>\n",
       "    <tr>\n",
       "      <th>2590</th>\n",
       "      <td>Thank you all for the wishes !!!!</td>\n",
       "      <td>2</td>\n",
       "      <td>7</td>\n",
       "    </tr>\n",
       "    <tr>\n",
       "      <th>2591</th>\n",
       "      <td>@yuvsingh09 Hello Mr.Bond \\nwatched it you wer...</td>\n",
       "      <td>0</td>\n",
       "      <td>11</td>\n",
       "    </tr>\n",
       "    <tr>\n",
       "      <th>2592</th>\n",
       "      <td>@hulk7174 ??????</td>\n",
       "      <td>0</td>\n",
       "      <td>2</td>\n",
       "    </tr>\n",
       "    <tr>\n",
       "      <th>2593</th>\n",
       "      <td>Time for Training.... Will be heading to SriLa...</td>\n",
       "      <td>0</td>\n",
       "      <td>10</td>\n",
       "    </tr>\n",
       "    <tr>\n",
       "      <th>2594</th>\n",
       "      <td>@yuvsingh09 Aiieeeeeee me too me too</td>\n",
       "      <td>0</td>\n",
       "      <td>6</td>\n",
       "    </tr>\n",
       "  </tbody>\n",
       "</table>\n",
       "<p>2595 rows × 3 columns</p>\n",
       "</div>"
      ],
      "text/plain": [
       "                                               sentence  sentiment_value  \\\n",
       "0     Let us all stay united in this hour of disagre...                0   \n",
       "1     Farmers are an integral part of our country an...                0   \n",
       "2     With… https://t.co/TXSGkNQTAx 🇮🇳 https://t.co/...                0   \n",
       "3     Let's be the strength of our nation and help i...                0   \n",
       "4     Wish… https://t.co/myYv4wT9xZ Teamed up with @...                1   \n",
       "...                                                 ...              ...   \n",
       "2590                  Thank you all for the wishes !!!!                2   \n",
       "2591  @yuvsingh09 Hello Mr.Bond \\nwatched it you wer...                0   \n",
       "2592                                   @hulk7174 ??????                0   \n",
       "2593  Time for Training.... Will be heading to SriLa...                0   \n",
       "2594               @yuvsingh09 Aiieeeeeee me too me too                0   \n",
       "\n",
       "      word_count  \n",
       "0             10  \n",
       "1             30  \n",
       "2             12  \n",
       "3             13  \n",
       "4             13  \n",
       "...          ...  \n",
       "2590           7  \n",
       "2591          11  \n",
       "2592           2  \n",
       "2593          10  \n",
       "2594           6  \n",
       "\n",
       "[2595 rows x 3 columns]"
      ]
     },
     "execution_count": 45,
     "metadata": {},
     "output_type": "execute_result"
    }
   ],
   "source": [
    "sent_df"
   ]
  },
  {
   "cell_type": "code",
   "execution_count": 46,
   "metadata": {
    "ExecuteTime": {
     "end_time": "2021-02-12T04:43:37.142449Z",
     "start_time": "2021-02-12T04:43:37.118615Z"
    }
   },
   "outputs": [
    {
     "data": {
      "text/html": [
       "<div>\n",
       "<style scoped>\n",
       "    .dataframe tbody tr th:only-of-type {\n",
       "        vertical-align: middle;\n",
       "    }\n",
       "\n",
       "    .dataframe tbody tr th {\n",
       "        vertical-align: top;\n",
       "    }\n",
       "\n",
       "    .dataframe thead th {\n",
       "        text-align: right;\n",
       "    }\n",
       "</style>\n",
       "<table border=\"1\" class=\"dataframe\">\n",
       "  <thead>\n",
       "    <tr style=\"text-align: right;\">\n",
       "      <th></th>\n",
       "      <th>sentence</th>\n",
       "      <th>sentiment_value</th>\n",
       "      <th>word_count</th>\n",
       "    </tr>\n",
       "  </thead>\n",
       "  <tbody>\n",
       "    <tr>\n",
       "      <th>1906</th>\n",
       "      <td>Horrible day for cricket.</td>\n",
       "      <td>-3</td>\n",
       "      <td>4</td>\n",
       "    </tr>\n",
       "    <tr>\n",
       "      <th>2438</th>\n",
       "      <td>bloody hot today.</td>\n",
       "      <td>-3</td>\n",
       "      <td>3</td>\n",
       "    </tr>\n",
       "    <tr>\n",
       "      <th>2462</th>\n",
       "      <td>hate these kind of acts by stupid people.</td>\n",
       "      <td>-3</td>\n",
       "      <td>8</td>\n",
       "    </tr>\n",
       "    <tr>\n",
       "      <th>2272</th>\n",
       "      <td>worst thing to have happened i still cannot be...</td>\n",
       "      <td>-3</td>\n",
       "      <td>10</td>\n",
       "    </tr>\n",
       "    <tr>\n",
       "      <th>986</th>\n",
       "      <td>Fear not, here’s the link!</td>\n",
       "      <td>-2</td>\n",
       "      <td>5</td>\n",
       "    </tr>\n",
       "    <tr>\n",
       "      <th>2490</th>\n",
       "      <td>miss the ipl times.</td>\n",
       "      <td>-2</td>\n",
       "      <td>4</td>\n",
       "    </tr>\n",
       "    <tr>\n",
       "      <th>2291</th>\n",
       "      <td>Shocked to hear mr Yash chopra is no more.</td>\n",
       "      <td>-2</td>\n",
       "      <td>9</td>\n",
       "    </tr>\n",
       "    <tr>\n",
       "      <th>161</th>\n",
       "      <td>Saddened to hear about the passing of Shri Pra...</td>\n",
       "      <td>-2</td>\n",
       "      <td>10</td>\n",
       "    </tr>\n",
       "    <tr>\n",
       "      <th>2126</th>\n",
       "      <td>Exhausted!</td>\n",
       "      <td>-2</td>\n",
       "      <td>1</td>\n",
       "    </tr>\n",
       "    <tr>\n",
       "      <th>2564</th>\n",
       "      <td>Missed you guys.. Hope everyone is doing well..</td>\n",
       "      <td>-2</td>\n",
       "      <td>8</td>\n",
       "    </tr>\n",
       "    <tr>\n",
       "      <th>764</th>\n",
       "      <td>Shame.</td>\n",
       "      <td>-2</td>\n",
       "      <td>1</td>\n",
       "    </tr>\n",
       "    <tr>\n",
       "      <th>2247</th>\n",
       "      <td>Sad news for the cricket world.</td>\n",
       "      <td>-2</td>\n",
       "      <td>6</td>\n",
       "    </tr>\n",
       "    <tr>\n",
       "      <th>1049</th>\n",
       "      <td>No one has captivated me with their voice like...</td>\n",
       "      <td>-1</td>\n",
       "      <td>11</td>\n",
       "    </tr>\n",
       "    <tr>\n",
       "      <th>1762</th>\n",
       "      <td>Left a convo for all\\nSign up at https://t.co/...</td>\n",
       "      <td>-1</td>\n",
       "      <td>30</td>\n",
       "    </tr>\n",
       "    <tr>\n",
       "      <th>1970</th>\n",
       "      <td>No place like home.</td>\n",
       "      <td>-1</td>\n",
       "      <td>4</td>\n",
       "    </tr>\n",
       "    <tr>\n",
       "      <th>2139</th>\n",
       "      <td>Sorry to not have been around guys.</td>\n",
       "      <td>-1</td>\n",
       "      <td>7</td>\n",
       "    </tr>\n",
       "    <tr>\n",
       "      <th>1195</th>\n",
       "      <td>Sorry we couldn't play up to our standards.</td>\n",
       "      <td>-1</td>\n",
       "      <td>8</td>\n",
       "    </tr>\n",
       "    <tr>\n",
       "      <th>2263</th>\n",
       "      <td>Sorry for not replying to tweets.</td>\n",
       "      <td>-1</td>\n",
       "      <td>6</td>\n",
       "    </tr>\n",
       "    <tr>\n",
       "      <th>2264</th>\n",
       "      <td>Hard to reply to so many.</td>\n",
       "      <td>-1</td>\n",
       "      <td>6</td>\n",
       "    </tr>\n",
       "    <tr>\n",
       "      <th>2240</th>\n",
       "      <td>Sorry to not have been that active.</td>\n",
       "      <td>-1</td>\n",
       "      <td>7</td>\n",
       "    </tr>\n",
       "  </tbody>\n",
       "</table>\n",
       "</div>"
      ],
      "text/plain": [
       "                                               sentence  sentiment_value  \\\n",
       "1906                          Horrible day for cricket.               -3   \n",
       "2438                                  bloody hot today.               -3   \n",
       "2462          hate these kind of acts by stupid people.               -3   \n",
       "2272  worst thing to have happened i still cannot be...               -3   \n",
       "986                          Fear not, here’s the link!               -2   \n",
       "2490                                miss the ipl times.               -2   \n",
       "2291         Shocked to hear mr Yash chopra is no more.               -2   \n",
       "161   Saddened to hear about the passing of Shri Pra...               -2   \n",
       "2126                                         Exhausted!               -2   \n",
       "2564    Missed you guys.. Hope everyone is doing well..               -2   \n",
       "764                                              Shame.               -2   \n",
       "2247                    Sad news for the cricket world.               -2   \n",
       "1049  No one has captivated me with their voice like...               -1   \n",
       "1762  Left a convo for all\\nSign up at https://t.co/...               -1   \n",
       "1970                                No place like home.               -1   \n",
       "2139                Sorry to not have been around guys.               -1   \n",
       "1195        Sorry we couldn't play up to our standards.               -1   \n",
       "2263                  Sorry for not replying to tweets.               -1   \n",
       "2264                          Hard to reply to so many.               -1   \n",
       "2240                Sorry to not have been that active.               -1   \n",
       "\n",
       "      word_count  \n",
       "1906           4  \n",
       "2438           3  \n",
       "2462           8  \n",
       "2272          10  \n",
       "986            5  \n",
       "2490           4  \n",
       "2291           9  \n",
       "161           10  \n",
       "2126           1  \n",
       "2564           8  \n",
       "764            1  \n",
       "2247           6  \n",
       "1049          11  \n",
       "1762          30  \n",
       "1970           4  \n",
       "2139           7  \n",
       "1195           8  \n",
       "2263           6  \n",
       "2264           6  \n",
       "2240           7  "
      ]
     },
     "execution_count": 46,
     "metadata": {},
     "output_type": "execute_result"
    }
   ],
   "source": [
    "sent_df.sort_values(by='sentiment_value').head(20)"
   ]
  },
  {
   "cell_type": "code",
   "execution_count": 47,
   "metadata": {
    "ExecuteTime": {
     "end_time": "2021-02-12T04:43:38.566880Z",
     "start_time": "2021-02-12T04:43:38.535824Z"
    }
   },
   "outputs": [
    {
     "data": {
      "text/plain": [
       "count    2595.000000\n",
       "mean        0.305202\n",
       "std         0.882949\n",
       "min        -3.000000\n",
       "25%         0.000000\n",
       "50%         0.000000\n",
       "75%         0.000000\n",
       "max         5.000000\n",
       "Name: sentiment_value, dtype: float64"
      ]
     },
     "execution_count": 47,
     "metadata": {},
     "output_type": "execute_result"
    }
   ],
   "source": [
    "sent_df['sentiment_value'].describe()"
   ]
  },
  {
   "cell_type": "code",
   "execution_count": 48,
   "metadata": {
    "ExecuteTime": {
     "end_time": "2021-02-12T04:43:40.231568Z",
     "start_time": "2021-02-12T04:43:40.218398Z"
    }
   },
   "outputs": [
    {
     "data": {
      "text/html": [
       "<div>\n",
       "<style scoped>\n",
       "    .dataframe tbody tr th:only-of-type {\n",
       "        vertical-align: middle;\n",
       "    }\n",
       "\n",
       "    .dataframe tbody tr th {\n",
       "        vertical-align: top;\n",
       "    }\n",
       "\n",
       "    .dataframe thead th {\n",
       "        text-align: right;\n",
       "    }\n",
       "</style>\n",
       "<table border=\"1\" class=\"dataframe\">\n",
       "  <thead>\n",
       "    <tr style=\"text-align: right;\">\n",
       "      <th></th>\n",
       "      <th>sentence</th>\n",
       "      <th>sentiment_value</th>\n",
       "      <th>word_count</th>\n",
       "    </tr>\n",
       "  </thead>\n",
       "  <tbody>\n",
       "    <tr>\n",
       "      <th>0</th>\n",
       "      <td>Let us all stay united in this hour of disagre...</td>\n",
       "      <td>0</td>\n",
       "      <td>10</td>\n",
       "    </tr>\n",
       "    <tr>\n",
       "      <th>1</th>\n",
       "      <td>Farmers are an integral part of our country an...</td>\n",
       "      <td>0</td>\n",
       "      <td>30</td>\n",
       "    </tr>\n",
       "    <tr>\n",
       "      <th>2</th>\n",
       "      <td>With… https://t.co/TXSGkNQTAx 🇮🇳 https://t.co/...</td>\n",
       "      <td>0</td>\n",
       "      <td>12</td>\n",
       "    </tr>\n",
       "    <tr>\n",
       "      <th>3</th>\n",
       "      <td>Let's be the strength of our nation and help i...</td>\n",
       "      <td>0</td>\n",
       "      <td>13</td>\n",
       "    </tr>\n",
       "    <tr>\n",
       "      <th>5</th>\n",
       "      <td>Light shoes, heavy work.</td>\n",
       "      <td>0</td>\n",
       "      <td>4</td>\n",
       "    </tr>\n",
       "  </tbody>\n",
       "</table>\n",
       "</div>"
      ],
      "text/plain": [
       "                                            sentence  sentiment_value  \\\n",
       "0  Let us all stay united in this hour of disagre...                0   \n",
       "1  Farmers are an integral part of our country an...                0   \n",
       "2  With… https://t.co/TXSGkNQTAx 🇮🇳 https://t.co/...                0   \n",
       "3  Let's be the strength of our nation and help i...                0   \n",
       "5                           Light shoes, heavy work.                0   \n",
       "\n",
       "   word_count  \n",
       "0          10  \n",
       "1          30  \n",
       "2          12  \n",
       "3          13  \n",
       "5           4  "
      ]
     },
     "execution_count": 48,
     "metadata": {},
     "output_type": "execute_result"
    }
   ],
   "source": [
    "sent_df[sent_df['sentiment_value']<=0].head()"
   ]
  },
  {
   "cell_type": "code",
   "execution_count": 49,
   "metadata": {
    "ExecuteTime": {
     "end_time": "2021-02-12T04:43:41.819994Z",
     "start_time": "2021-02-12T04:43:41.801488Z"
    }
   },
   "outputs": [
    {
     "data": {
      "text/html": [
       "<div>\n",
       "<style scoped>\n",
       "    .dataframe tbody tr th:only-of-type {\n",
       "        vertical-align: middle;\n",
       "    }\n",
       "\n",
       "    .dataframe tbody tr th {\n",
       "        vertical-align: top;\n",
       "    }\n",
       "\n",
       "    .dataframe thead th {\n",
       "        text-align: right;\n",
       "    }\n",
       "</style>\n",
       "<table border=\"1\" class=\"dataframe\">\n",
       "  <thead>\n",
       "    <tr style=\"text-align: right;\">\n",
       "      <th></th>\n",
       "      <th>sentence</th>\n",
       "      <th>sentiment_value</th>\n",
       "      <th>word_count</th>\n",
       "    </tr>\n",
       "  </thead>\n",
       "  <tbody>\n",
       "    <tr>\n",
       "      <th>1250</th>\n",
       "      <td>Outstanding effort to win this game &amp;amp; the ...</td>\n",
       "      <td>5</td>\n",
       "      <td>9</td>\n",
       "    </tr>\n",
       "    <tr>\n",
       "      <th>1781</th>\n",
       "      <td>Superb display by @FCGoaOfficial today!</td>\n",
       "      <td>5</td>\n",
       "      <td>5</td>\n",
       "    </tr>\n",
       "  </tbody>\n",
       "</table>\n",
       "</div>"
      ],
      "text/plain": [
       "                                               sentence  sentiment_value  \\\n",
       "1250  Outstanding effort to win this game &amp; the ...                5   \n",
       "1781            Superb display by @FCGoaOfficial today!                5   \n",
       "\n",
       "      word_count  \n",
       "1250           9  \n",
       "1781           5  "
      ]
     },
     "execution_count": 49,
     "metadata": {},
     "output_type": "execute_result"
    }
   ],
   "source": [
    "sent_df[sent_df['sentiment_value']>=5].head()"
   ]
  },
  {
   "cell_type": "code",
   "execution_count": 50,
   "metadata": {
    "ExecuteTime": {
     "end_time": "2021-02-12T04:43:45.027954Z",
     "start_time": "2021-02-12T04:43:45.023098Z"
    }
   },
   "outputs": [],
   "source": [
    "sent_df['index']=range(0,len(sent_df))"
   ]
  },
  {
   "cell_type": "code",
   "execution_count": 51,
   "metadata": {
    "ExecuteTime": {
     "end_time": "2021-02-12T04:43:48.635210Z",
     "start_time": "2021-02-12T04:43:46.296145Z"
    }
   },
   "outputs": [
    {
     "name": "stderr",
     "output_type": "stream",
     "text": [
      "C:\\Users\\Musaddique\\anaconda3\\lib\\site-packages\\seaborn\\distributions.py:369: UserWarning: Default bandwidth for data is 0; skipping density estimation.\n",
      "  warnings.warn(msg, UserWarning)\n"
     ]
    },
    {
     "data": {
      "text/plain": [
       "<matplotlib.axes._subplots.AxesSubplot at 0x1bd338287c0>"
      ]
     },
     "execution_count": 51,
     "metadata": {},
     "output_type": "execute_result"
    },
    {
     "data": {
      "image/png": "[encoded data removed]",
      "text/plain": [
       "<Figure size 432x288 with 1 Axes>"
      ]
     },
     "metadata": {
      "needs_background": "light"
     },
     "output_type": "display_data"
    }
   ],
   "source": [
    "import seaborn as sns\n",
    "import matplotlib.pyplot as plt\n",
    "sns.distplot(sent_df['sentiment_value'])"
   ]
  },
  {
   "cell_type": "code",
   "execution_count": 52,
   "metadata": {
    "ExecuteTime": {
     "end_time": "2021-02-12T04:43:53.444086Z",
     "start_time": "2021-02-12T04:43:52.369352Z"
    }
   },
   "outputs": [
    {
     "data": {
      "text/plain": [
       "<matplotlib.axes._subplots.AxesSubplot at 0x1bd29445fa0>"
      ]
     },
     "execution_count": 52,
     "metadata": {},
     "output_type": "execute_result"
    },
    {
     "data": {
      "image/png": "[encoded data removed]",
      "text/plain": [
       "<Figure size 1080x720 with 1 Axes>"
      ]
     },
     "metadata": {
      "needs_background": "light"
     },
     "output_type": "display_data"
    }
   ],
   "source": [
    "plt.figure(figsize=(15,10))\n",
    "sns.lineplot(y='sentiment_value',x='index',data=sent_df)"
   ]
  },
  {
   "cell_type": "code",
   "execution_count": 53,
   "metadata": {
    "ExecuteTime": {
     "end_time": "2021-02-12T04:43:56.729700Z",
     "start_time": "2021-02-12T04:43:56.423394Z"
    }
   },
   "outputs": [
    {
     "data": {
      "text/plain": [
       "<matplotlib.axes._subplots.AxesSubplot at 0x1bd3a99c730>"
      ]
     },
     "execution_count": 53,
     "metadata": {},
     "output_type": "execute_result"
    },
    {
     "data": {
      "image/png": "[encoded data removed]",
      "text/plain": [
       "<Figure size 720x720 with 1 Axes>"
      ]
     },
     "metadata": {
      "needs_background": "light"
     },
     "output_type": "display_data"
    }
   ],
   "source": [
    "sent_df.plot.scatter(x='word_count',y='sentiment_value',figsize=(10,10),title='sentence sentiment value to word count')"
   ]
  }
 ],
 "metadata": {
  "kernelspec": {
   "display_name": "Python 3",
   "language": "python",
   "name": "python3"
  },
  "language_info": {
   "codemirror_mode": {
    "name": "ipython",
    "version": 3
   },
   "file_extension": ".py",
   "mimetype": "text/x-python",
   "name": "python",
   "nbconvert_exporter": "python",
   "pygments_lexer": "ipython3",
   "version": "3.8.3"
  },
  "toc": {
   "base_numbering": 1,
   "nav_menu": {},
   "number_sections": true,
   "sideBar": true,
   "skip_h1_title": false,
   "title_cell": "Table of Contents",
   "title_sidebar": "Contents",
   "toc_cell": false,
   "toc_position": {},
   "toc_section_display": true,
   "toc_window_display": false
  },
  "varInspector": {
   "cols": {
    "lenName": 16,
    "lenType": 16,
    "lenVar": 40
   },
   "kernels_config": {
    "python": {
     "delete_cmd_postfix": "",
     "delete_cmd_prefix": "del ",
     "library": "var_list.py",
     "varRefreshCmd": "print(var_dic_list())"
    },
    "r": {
     "delete_cmd_postfix": ") ",
     "delete_cmd_prefix": "rm(",
     "library": "var_list.r",
     "varRefreshCmd": "cat(var_dic_list()) "
    }
   },
   "types_to_exclude": [
    "module",
    "function",
    "builtin_function_or_method",
    "instance",
    "_Feature"
   ],
   "window_display": false
  }
 },
 "nbformat": 4,
 "nbformat_minor": 2
}
