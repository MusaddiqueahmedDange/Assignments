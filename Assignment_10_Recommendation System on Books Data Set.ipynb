{
 "cells": [
  {
   "cell_type": "markdown",
   "metadata": {},
   "source": [
    "# Recommending the best book based on the ratings."
   ]
  },
  {
   "cell_type": "code",
   "execution_count": 1,
   "metadata": {
    "ExecuteTime": {
     "end_time": "2021-01-29T16:06:10.168566Z",
     "start_time": "2021-01-29T16:06:09.550288Z"
    }
   },
   "outputs": [],
   "source": [
    "import pandas as pd\n",
    "import numpy as np"
   ]
  },
  {
   "cell_type": "code",
   "execution_count": 2,
   "metadata": {
    "ExecuteTime": {
     "end_time": "2021-01-29T16:06:10.751794Z",
     "start_time": "2021-01-29T16:06:10.680182Z"
    }
   },
   "outputs": [],
   "source": [
    "# Load Movies data\n",
    "data = pd.read_csv('book (2).csv',encoding = 'latin1')\n"
   ]
  },
  {
   "cell_type": "code",
   "execution_count": 3,
   "metadata": {
    "ExecuteTime": {
     "end_time": "2021-01-29T16:06:11.595101Z",
     "start_time": "2021-01-29T16:06:11.563782Z"
    }
   },
   "outputs": [
    {
     "data": {
      "text/html": [
       "<div>\n",
       "<style scoped>\n",
       "    .dataframe tbody tr th:only-of-type {\n",
       "        vertical-align: middle;\n",
       "    }\n",
       "\n",
       "    .dataframe tbody tr th {\n",
       "        vertical-align: top;\n",
       "    }\n",
       "\n",
       "    .dataframe thead th {\n",
       "        text-align: right;\n",
       "    }\n",
       "</style>\n",
       "<table border=\"1\" class=\"dataframe\">\n",
       "  <thead>\n",
       "    <tr style=\"text-align: right;\">\n",
       "      <th></th>\n",
       "      <th>Unnamed: 0</th>\n",
       "      <th>User.ID</th>\n",
       "      <th>Book.Title</th>\n",
       "      <th>Book.Rating</th>\n",
       "    </tr>\n",
       "  </thead>\n",
       "  <tbody>\n",
       "    <tr>\n",
       "      <th>0</th>\n",
       "      <td>1</td>\n",
       "      <td>276726</td>\n",
       "      <td>Classical Mythology</td>\n",
       "      <td>5</td>\n",
       "    </tr>\n",
       "    <tr>\n",
       "      <th>1</th>\n",
       "      <td>2</td>\n",
       "      <td>276729</td>\n",
       "      <td>Clara Callan</td>\n",
       "      <td>3</td>\n",
       "    </tr>\n",
       "    <tr>\n",
       "      <th>2</th>\n",
       "      <td>3</td>\n",
       "      <td>276729</td>\n",
       "      <td>Decision in Normandy</td>\n",
       "      <td>6</td>\n",
       "    </tr>\n",
       "    <tr>\n",
       "      <th>3</th>\n",
       "      <td>4</td>\n",
       "      <td>276736</td>\n",
       "      <td>Flu: The Story of the Great Influenza Pandemic...</td>\n",
       "      <td>8</td>\n",
       "    </tr>\n",
       "    <tr>\n",
       "      <th>4</th>\n",
       "      <td>5</td>\n",
       "      <td>276737</td>\n",
       "      <td>The Mummies of Urumchi</td>\n",
       "      <td>6</td>\n",
       "    </tr>\n",
       "    <tr>\n",
       "      <th>...</th>\n",
       "      <td>...</td>\n",
       "      <td>...</td>\n",
       "      <td>...</td>\n",
       "      <td>...</td>\n",
       "    </tr>\n",
       "    <tr>\n",
       "      <th>9995</th>\n",
       "      <td>9996</td>\n",
       "      <td>162121</td>\n",
       "      <td>American Fried: Adventures of a Happy Eater.</td>\n",
       "      <td>7</td>\n",
       "    </tr>\n",
       "    <tr>\n",
       "      <th>9996</th>\n",
       "      <td>9997</td>\n",
       "      <td>162121</td>\n",
       "      <td>Cannibal In Manhattan</td>\n",
       "      <td>9</td>\n",
       "    </tr>\n",
       "    <tr>\n",
       "      <th>9997</th>\n",
       "      <td>9998</td>\n",
       "      <td>162121</td>\n",
       "      <td>How to Flirt: A Practical Guide</td>\n",
       "      <td>7</td>\n",
       "    </tr>\n",
       "    <tr>\n",
       "      <th>9998</th>\n",
       "      <td>9999</td>\n",
       "      <td>162121</td>\n",
       "      <td>Twilight</td>\n",
       "      <td>8</td>\n",
       "    </tr>\n",
       "    <tr>\n",
       "      <th>9999</th>\n",
       "      <td>10000</td>\n",
       "      <td>162129</td>\n",
       "      <td>Kids Say the Darndest Things</td>\n",
       "      <td>6</td>\n",
       "    </tr>\n",
       "  </tbody>\n",
       "</table>\n",
       "<p>10000 rows × 4 columns</p>\n",
       "</div>"
      ],
      "text/plain": [
       "      Unnamed: 0  User.ID                                         Book.Title  \\\n",
       "0              1   276726                                Classical Mythology   \n",
       "1              2   276729                                       Clara Callan   \n",
       "2              3   276729                               Decision in Normandy   \n",
       "3              4   276736  Flu: The Story of the Great Influenza Pandemic...   \n",
       "4              5   276737                             The Mummies of Urumchi   \n",
       "...          ...      ...                                                ...   \n",
       "9995        9996   162121       American Fried: Adventures of a Happy Eater.   \n",
       "9996        9997   162121                              Cannibal In Manhattan   \n",
       "9997        9998   162121                    How to Flirt: A Practical Guide   \n",
       "9998        9999   162121                                           Twilight   \n",
       "9999       10000   162129                       Kids Say the Darndest Things   \n",
       "\n",
       "      Book.Rating  \n",
       "0               5  \n",
       "1               3  \n",
       "2               6  \n",
       "3               8  \n",
       "4               6  \n",
       "...           ...  \n",
       "9995            7  \n",
       "9996            9  \n",
       "9997            7  \n",
       "9998            8  \n",
       "9999            6  \n",
       "\n",
       "[10000 rows x 4 columns]"
      ]
     },
     "execution_count": 3,
     "metadata": {},
     "output_type": "execute_result"
    }
   ],
   "source": [
    "data"
   ]
  },
  {
   "cell_type": "code",
   "execution_count": 4,
   "metadata": {
    "ExecuteTime": {
     "end_time": "2021-01-29T16:06:12.712198Z",
     "start_time": "2021-01-29T16:06:12.696151Z"
    }
   },
   "outputs": [
    {
     "data": {
      "text/html": [
       "<div>\n",
       "<style scoped>\n",
       "    .dataframe tbody tr th:only-of-type {\n",
       "        vertical-align: middle;\n",
       "    }\n",
       "\n",
       "    .dataframe tbody tr th {\n",
       "        vertical-align: top;\n",
       "    }\n",
       "\n",
       "    .dataframe thead th {\n",
       "        text-align: right;\n",
       "    }\n",
       "</style>\n",
       "<table border=\"1\" class=\"dataframe\">\n",
       "  <thead>\n",
       "    <tr style=\"text-align: right;\">\n",
       "      <th></th>\n",
       "      <th>Unnamed: 0</th>\n",
       "      <th>User.ID</th>\n",
       "      <th>Book.Title</th>\n",
       "      <th>Book.Rating</th>\n",
       "    </tr>\n",
       "  </thead>\n",
       "  <tbody>\n",
       "    <tr>\n",
       "      <th>0</th>\n",
       "      <td>1</td>\n",
       "      <td>276726</td>\n",
       "      <td>Classical Mythology</td>\n",
       "      <td>5</td>\n",
       "    </tr>\n",
       "    <tr>\n",
       "      <th>1</th>\n",
       "      <td>2</td>\n",
       "      <td>276729</td>\n",
       "      <td>Clara Callan</td>\n",
       "      <td>3</td>\n",
       "    </tr>\n",
       "    <tr>\n",
       "      <th>2</th>\n",
       "      <td>3</td>\n",
       "      <td>276729</td>\n",
       "      <td>Decision in Normandy</td>\n",
       "      <td>6</td>\n",
       "    </tr>\n",
       "  </tbody>\n",
       "</table>\n",
       "</div>"
      ],
      "text/plain": [
       "   Unnamed: 0  User.ID            Book.Title  Book.Rating\n",
       "0           1   276726   Classical Mythology            5\n",
       "1           2   276729          Clara Callan            3\n",
       "2           3   276729  Decision in Normandy            6"
      ]
     },
     "execution_count": 4,
     "metadata": {},
     "output_type": "execute_result"
    }
   ],
   "source": [
    "data.head(3)"
   ]
  },
  {
   "cell_type": "code",
   "execution_count": 5,
   "metadata": {
    "ExecuteTime": {
     "end_time": "2021-01-29T16:06:13.913473Z",
     "start_time": "2021-01-29T16:06:13.899518Z"
    }
   },
   "outputs": [
    {
     "data": {
      "text/html": [
       "<div>\n",
       "<style scoped>\n",
       "    .dataframe tbody tr th:only-of-type {\n",
       "        vertical-align: middle;\n",
       "    }\n",
       "\n",
       "    .dataframe tbody tr th {\n",
       "        vertical-align: top;\n",
       "    }\n",
       "\n",
       "    .dataframe thead th {\n",
       "        text-align: right;\n",
       "    }\n",
       "</style>\n",
       "<table border=\"1\" class=\"dataframe\">\n",
       "  <thead>\n",
       "    <tr style=\"text-align: right;\">\n",
       "      <th></th>\n",
       "      <th>Unnamed: 0</th>\n",
       "      <th>user_id</th>\n",
       "      <th>book_title</th>\n",
       "      <th>book_rating</th>\n",
       "    </tr>\n",
       "  </thead>\n",
       "  <tbody>\n",
       "    <tr>\n",
       "      <th>0</th>\n",
       "      <td>1</td>\n",
       "      <td>276726</td>\n",
       "      <td>Classical Mythology</td>\n",
       "      <td>5</td>\n",
       "    </tr>\n",
       "    <tr>\n",
       "      <th>1</th>\n",
       "      <td>2</td>\n",
       "      <td>276729</td>\n",
       "      <td>Clara Callan</td>\n",
       "      <td>3</td>\n",
       "    </tr>\n",
       "    <tr>\n",
       "      <th>2</th>\n",
       "      <td>3</td>\n",
       "      <td>276729</td>\n",
       "      <td>Decision in Normandy</td>\n",
       "      <td>6</td>\n",
       "    </tr>\n",
       "    <tr>\n",
       "      <th>3</th>\n",
       "      <td>4</td>\n",
       "      <td>276736</td>\n",
       "      <td>Flu: The Story of the Great Influenza Pandemic...</td>\n",
       "      <td>8</td>\n",
       "    </tr>\n",
       "    <tr>\n",
       "      <th>4</th>\n",
       "      <td>5</td>\n",
       "      <td>276737</td>\n",
       "      <td>The Mummies of Urumchi</td>\n",
       "      <td>6</td>\n",
       "    </tr>\n",
       "  </tbody>\n",
       "</table>\n",
       "</div>"
      ],
      "text/plain": [
       "   Unnamed: 0  user_id                                         book_title  \\\n",
       "0           1   276726                                Classical Mythology   \n",
       "1           2   276729                                       Clara Callan   \n",
       "2           3   276729                               Decision in Normandy   \n",
       "3           4   276736  Flu: The Story of the Great Influenza Pandemic...   \n",
       "4           5   276737                             The Mummies of Urumchi   \n",
       "\n",
       "   book_rating  \n",
       "0            5  \n",
       "1            3  \n",
       "2            6  \n",
       "3            8  \n",
       "4            6  "
      ]
     },
     "execution_count": 5,
     "metadata": {},
     "output_type": "execute_result"
    }
   ],
   "source": [
    "book = data.rename({'User.ID':'user_id','Book.Title':'book_title','Book.Rating':'book_rating'},axis =1)\n",
    "book.head()"
   ]
  },
  {
   "cell_type": "code",
   "execution_count": 6,
   "metadata": {
    "ExecuteTime": {
     "end_time": "2021-01-29T16:06:14.559740Z",
     "start_time": "2021-01-29T16:06:14.544269Z"
    }
   },
   "outputs": [
    {
     "data": {
      "text/plain": [
       "7.5663"
      ]
     },
     "execution_count": 6,
     "metadata": {},
     "output_type": "execute_result"
    }
   ],
   "source": [
    "avg_rate=book.book_rating.mean()\n",
    "avg_rate"
   ]
  },
  {
   "cell_type": "code",
   "execution_count": 7,
   "metadata": {
    "ExecuteTime": {
     "end_time": "2021-01-29T16:06:15.328533Z",
     "start_time": "2021-01-29T16:06:15.308985Z"
    }
   },
   "outputs": [
    {
     "data": {
      "text/plain": [
       "Unnamed: 0     0\n",
       "user_id        0\n",
       "book_title     0\n",
       "book_rating    0\n",
       "dtype: int64"
      ]
     },
     "execution_count": 7,
     "metadata": {},
     "output_type": "execute_result"
    }
   ],
   "source": [
    "book.isnull().sum()"
   ]
  },
  {
   "cell_type": "markdown",
   "metadata": {},
   "source": [
    "### We will recommend movies based on user to user similarity and item to item similarity. For that, first we need to calculate the number of unique users and Books."
   ]
  },
  {
   "cell_type": "code",
   "execution_count": 8,
   "metadata": {
    "ExecuteTime": {
     "end_time": "2021-01-29T16:06:16.675867Z",
     "start_time": "2021-01-29T16:06:16.662726Z"
    }
   },
   "outputs": [
    {
     "data": {
      "text/plain": [
       "2182"
      ]
     },
     "execution_count": 8,
     "metadata": {},
     "output_type": "execute_result"
    }
   ],
   "source": [
    "n_users = book.user_id.unique().shape[0]\n",
    "n_users"
   ]
  },
  {
   "cell_type": "code",
   "execution_count": 9,
   "metadata": {
    "ExecuteTime": {
     "end_time": "2021-01-29T16:06:17.340802Z",
     "start_time": "2021-01-29T16:06:17.323753Z"
    }
   },
   "outputs": [
    {
     "data": {
      "text/plain": [
       "9659"
      ]
     },
     "execution_count": 9,
     "metadata": {},
     "output_type": "execute_result"
    }
   ],
   "source": [
    "B_items = book.book_title.unique().shape[0]\n",
    "B_items"
   ]
  },
  {
   "cell_type": "code",
   "execution_count": 10,
   "metadata": {
    "ExecuteTime": {
     "end_time": "2021-01-29T16:06:19.504827Z",
     "start_time": "2021-01-29T16:06:18.078191Z"
    }
   },
   "outputs": [
    {
     "data": {
      "text/html": [
       "<div>\n",
       "<style scoped>\n",
       "    .dataframe tbody tr th:only-of-type {\n",
       "        vertical-align: middle;\n",
       "    }\n",
       "\n",
       "    .dataframe tbody tr th {\n",
       "        vertical-align: top;\n",
       "    }\n",
       "\n",
       "    .dataframe thead th {\n",
       "        text-align: right;\n",
       "    }\n",
       "</style>\n",
       "<table border=\"1\" class=\"dataframe\">\n",
       "  <thead>\n",
       "    <tr style=\"text-align: right;\">\n",
       "      <th>book_title</th>\n",
       "      <th>Jason, Madison &amp;amp</th>\n",
       "      <th>Other Stories;Merril;1985;McClelland &amp;amp</th>\n",
       "      <th>Repairing PC Drives &amp;amp</th>\n",
       "      <th>'48</th>\n",
       "      <th>'O Au No Keia: Voices from Hawai'I's Mahu and Transgender Communities</th>\n",
       "      <th>...AND THE HORSE HE RODE IN ON : THE PEOPLE V. KENNETH STARR</th>\n",
       "      <th>01-01-00: A Novel of the Millennium</th>\n",
       "      <th>1,401 More Things That P*Ss Me Off</th>\n",
       "      <th>10 Commandments Of Dating</th>\n",
       "      <th>100 Great Fantasy Short, Short Stories</th>\n",
       "      <th>...</th>\n",
       "      <th>Zora Hurston and the Chinaberry Tree (Reading Rainbow Book)</th>\n",
       "      <th>\\Even Monkeys Fall from Trees\\ and Other Japanese Proverbs</th>\n",
       "      <th>\\I Won't Learn from You\\: And Other Thoughts on Creative Maladjustment</th>\n",
       "      <th>\\More More More,\\ Said the Baby</th>\n",
       "      <th>\\O\\ Is for Outlaw</th>\n",
       "      <th>\\Surely You're Joking, Mr. Feynman!\\: Adventures of a Curious Character</th>\n",
       "      <th>\\Well, there's your problem\\: Cartoons</th>\n",
       "      <th>iI Paradiso Degli Orchi</th>\n",
       "      <th>stardust</th>\n",
       "      <th>Ã?Â?bermorgen.</th>\n",
       "    </tr>\n",
       "  </thead>\n",
       "  <tbody>\n",
       "    <tr>\n",
       "      <th>0</th>\n",
       "      <td>NaN</td>\n",
       "      <td>NaN</td>\n",
       "      <td>NaN</td>\n",
       "      <td>NaN</td>\n",
       "      <td>NaN</td>\n",
       "      <td>NaN</td>\n",
       "      <td>NaN</td>\n",
       "      <td>NaN</td>\n",
       "      <td>NaN</td>\n",
       "      <td>NaN</td>\n",
       "      <td>...</td>\n",
       "      <td>NaN</td>\n",
       "      <td>NaN</td>\n",
       "      <td>NaN</td>\n",
       "      <td>NaN</td>\n",
       "      <td>NaN</td>\n",
       "      <td>NaN</td>\n",
       "      <td>NaN</td>\n",
       "      <td>NaN</td>\n",
       "      <td>NaN</td>\n",
       "      <td>NaN</td>\n",
       "    </tr>\n",
       "    <tr>\n",
       "      <th>1</th>\n",
       "      <td>NaN</td>\n",
       "      <td>NaN</td>\n",
       "      <td>NaN</td>\n",
       "      <td>NaN</td>\n",
       "      <td>NaN</td>\n",
       "      <td>NaN</td>\n",
       "      <td>NaN</td>\n",
       "      <td>NaN</td>\n",
       "      <td>NaN</td>\n",
       "      <td>NaN</td>\n",
       "      <td>...</td>\n",
       "      <td>NaN</td>\n",
       "      <td>NaN</td>\n",
       "      <td>NaN</td>\n",
       "      <td>NaN</td>\n",
       "      <td>NaN</td>\n",
       "      <td>NaN</td>\n",
       "      <td>NaN</td>\n",
       "      <td>NaN</td>\n",
       "      <td>NaN</td>\n",
       "      <td>NaN</td>\n",
       "    </tr>\n",
       "    <tr>\n",
       "      <th>2</th>\n",
       "      <td>NaN</td>\n",
       "      <td>NaN</td>\n",
       "      <td>NaN</td>\n",
       "      <td>NaN</td>\n",
       "      <td>NaN</td>\n",
       "      <td>NaN</td>\n",
       "      <td>NaN</td>\n",
       "      <td>NaN</td>\n",
       "      <td>NaN</td>\n",
       "      <td>NaN</td>\n",
       "      <td>...</td>\n",
       "      <td>NaN</td>\n",
       "      <td>NaN</td>\n",
       "      <td>NaN</td>\n",
       "      <td>NaN</td>\n",
       "      <td>NaN</td>\n",
       "      <td>NaN</td>\n",
       "      <td>NaN</td>\n",
       "      <td>NaN</td>\n",
       "      <td>NaN</td>\n",
       "      <td>NaN</td>\n",
       "    </tr>\n",
       "    <tr>\n",
       "      <th>3</th>\n",
       "      <td>NaN</td>\n",
       "      <td>NaN</td>\n",
       "      <td>NaN</td>\n",
       "      <td>NaN</td>\n",
       "      <td>NaN</td>\n",
       "      <td>NaN</td>\n",
       "      <td>NaN</td>\n",
       "      <td>NaN</td>\n",
       "      <td>NaN</td>\n",
       "      <td>NaN</td>\n",
       "      <td>...</td>\n",
       "      <td>NaN</td>\n",
       "      <td>NaN</td>\n",
       "      <td>NaN</td>\n",
       "      <td>NaN</td>\n",
       "      <td>NaN</td>\n",
       "      <td>NaN</td>\n",
       "      <td>NaN</td>\n",
       "      <td>NaN</td>\n",
       "      <td>NaN</td>\n",
       "      <td>NaN</td>\n",
       "    </tr>\n",
       "    <tr>\n",
       "      <th>4</th>\n",
       "      <td>NaN</td>\n",
       "      <td>NaN</td>\n",
       "      <td>NaN</td>\n",
       "      <td>NaN</td>\n",
       "      <td>NaN</td>\n",
       "      <td>NaN</td>\n",
       "      <td>NaN</td>\n",
       "      <td>NaN</td>\n",
       "      <td>NaN</td>\n",
       "      <td>NaN</td>\n",
       "      <td>...</td>\n",
       "      <td>NaN</td>\n",
       "      <td>NaN</td>\n",
       "      <td>NaN</td>\n",
       "      <td>NaN</td>\n",
       "      <td>NaN</td>\n",
       "      <td>NaN</td>\n",
       "      <td>NaN</td>\n",
       "      <td>NaN</td>\n",
       "      <td>NaN</td>\n",
       "      <td>NaN</td>\n",
       "    </tr>\n",
       "  </tbody>\n",
       "</table>\n",
       "<p>5 rows × 9659 columns</p>\n",
       "</div>"
      ],
      "text/plain": [
       "book_title   Jason, Madison &amp   Other Stories;Merril;1985;McClelland &amp  \\\n",
       "0                            NaN                                         NaN   \n",
       "1                            NaN                                         NaN   \n",
       "2                            NaN                                         NaN   \n",
       "3                            NaN                                         NaN   \n",
       "4                            NaN                                         NaN   \n",
       "\n",
       "book_title   Repairing PC Drives &amp  '48  \\\n",
       "0                                 NaN  NaN   \n",
       "1                                 NaN  NaN   \n",
       "2                                 NaN  NaN   \n",
       "3                                 NaN  NaN   \n",
       "4                                 NaN  NaN   \n",
       "\n",
       "book_title  'O Au No Keia: Voices from Hawai'I's Mahu and Transgender Communities  \\\n",
       "0                                                         NaN                       \n",
       "1                                                         NaN                       \n",
       "2                                                         NaN                       \n",
       "3                                                         NaN                       \n",
       "4                                                         NaN                       \n",
       "\n",
       "book_title  ...AND THE HORSE HE RODE IN ON : THE PEOPLE V. KENNETH STARR  \\\n",
       "0                                                         NaN              \n",
       "1                                                         NaN              \n",
       "2                                                         NaN              \n",
       "3                                                         NaN              \n",
       "4                                                         NaN              \n",
       "\n",
       "book_title  01-01-00: A Novel of the Millennium  \\\n",
       "0                                           NaN   \n",
       "1                                           NaN   \n",
       "2                                           NaN   \n",
       "3                                           NaN   \n",
       "4                                           NaN   \n",
       "\n",
       "book_title  1,401 More Things That P*Ss Me Off  10 Commandments Of Dating  \\\n",
       "0                                          NaN                        NaN   \n",
       "1                                          NaN                        NaN   \n",
       "2                                          NaN                        NaN   \n",
       "3                                          NaN                        NaN   \n",
       "4                                          NaN                        NaN   \n",
       "\n",
       "book_title  100 Great Fantasy Short, Short Stories  ...  \\\n",
       "0                                              NaN  ...   \n",
       "1                                              NaN  ...   \n",
       "2                                              NaN  ...   \n",
       "3                                              NaN  ...   \n",
       "4                                              NaN  ...   \n",
       "\n",
       "book_title  Zora Hurston and the Chinaberry Tree (Reading Rainbow Book)  \\\n",
       "0                                                         NaN             \n",
       "1                                                         NaN             \n",
       "2                                                         NaN             \n",
       "3                                                         NaN             \n",
       "4                                                         NaN             \n",
       "\n",
       "book_title  \\Even Monkeys Fall from Trees\\ and Other Japanese Proverbs  \\\n",
       "0                                                         NaN            \n",
       "1                                                         NaN            \n",
       "2                                                         NaN            \n",
       "3                                                         NaN            \n",
       "4                                                         NaN            \n",
       "\n",
       "book_title  \\I Won't Learn from You\\: And Other Thoughts on Creative Maladjustment  \\\n",
       "0                                                         NaN                        \n",
       "1                                                         NaN                        \n",
       "2                                                         NaN                        \n",
       "3                                                         NaN                        \n",
       "4                                                         NaN                        \n",
       "\n",
       "book_title  \\More More More,\\ Said the Baby  \\O\\ Is for Outlaw  \\\n",
       "0                                       NaN                NaN   \n",
       "1                                       NaN                NaN   \n",
       "2                                       NaN                NaN   \n",
       "3                                       NaN                NaN   \n",
       "4                                       NaN                NaN   \n",
       "\n",
       "book_title  \\Surely You're Joking, Mr. Feynman!\\: Adventures of a Curious Character  \\\n",
       "0                                                         NaN                         \n",
       "1                                                         NaN                         \n",
       "2                                                         NaN                         \n",
       "3                                                         NaN                         \n",
       "4                                                         NaN                         \n",
       "\n",
       "book_title  \\Well, there's your problem\\: Cartoons  iI Paradiso Degli Orchi  \\\n",
       "0                                              NaN                      NaN   \n",
       "1                                              NaN                      NaN   \n",
       "2                                              NaN                      NaN   \n",
       "3                                              NaN                      NaN   \n",
       "4                                              NaN                      NaN   \n",
       "\n",
       "book_title  stardust  Ã?Â?bermorgen.  \n",
       "0                NaN             NaN  \n",
       "1                NaN             NaN  \n",
       "2                NaN             NaN  \n",
       "3                NaN             NaN  \n",
       "4                NaN             NaN  \n",
       "\n",
       "[5 rows x 9659 columns]"
      ]
     },
     "execution_count": 10,
     "metadata": {},
     "output_type": "execute_result"
    }
   ],
   "source": [
    "book_df =book.pivot_table(index='user_id',\n",
    "                                 columns='book_title',\n",
    "                                 values='book_rating').reset_index(drop=True)\n",
    "book_df.head()"
   ]
  },
  {
   "cell_type": "code",
   "execution_count": 11,
   "metadata": {
    "ExecuteTime": {
     "end_time": "2021-01-29T16:06:20.516194Z",
     "start_time": "2021-01-29T16:06:20.489978Z"
    }
   },
   "outputs": [
    {
     "name": "stderr",
     "output_type": "stream",
     "text": [
      "<ipython-input-11-39668f8a68ae>:1: UserWarning: Pandas doesn't allow columns to be created via a new attribute name - see https://pandas.pydata.org/pandas-docs/stable/indexing.html#attribute-access\n",
      "  book_df.user_id = book.user_id.unique()\n"
     ]
    },
    {
     "data": {
      "text/plain": [
       "array([276726, 276729, 276736, ..., 162113, 162121, 162129], dtype=int64)"
      ]
     },
     "execution_count": 11,
     "metadata": {},
     "output_type": "execute_result"
    }
   ],
   "source": [
    "book_df.user_id = book.user_id.unique()\n",
    "book_df.user_id"
   ]
  },
  {
   "cell_type": "code",
   "execution_count": 12,
   "metadata": {
    "ExecuteTime": {
     "end_time": "2021-01-29T16:06:21.692638Z",
     "start_time": "2021-01-29T16:06:21.551459Z"
    }
   },
   "outputs": [
    {
     "data": {
      "text/html": [
       "<div>\n",
       "<style scoped>\n",
       "    .dataframe tbody tr th:only-of-type {\n",
       "        vertical-align: middle;\n",
       "    }\n",
       "\n",
       "    .dataframe tbody tr th {\n",
       "        vertical-align: top;\n",
       "    }\n",
       "\n",
       "    .dataframe thead th {\n",
       "        text-align: right;\n",
       "    }\n",
       "</style>\n",
       "<table border=\"1\" class=\"dataframe\">\n",
       "  <thead>\n",
       "    <tr style=\"text-align: right;\">\n",
       "      <th>book_title</th>\n",
       "      <th>Jason, Madison &amp;amp</th>\n",
       "      <th>Other Stories;Merril;1985;McClelland &amp;amp</th>\n",
       "      <th>Repairing PC Drives &amp;amp</th>\n",
       "      <th>'48</th>\n",
       "      <th>'O Au No Keia: Voices from Hawai'I's Mahu and Transgender Communities</th>\n",
       "      <th>...AND THE HORSE HE RODE IN ON : THE PEOPLE V. KENNETH STARR</th>\n",
       "      <th>01-01-00: A Novel of the Millennium</th>\n",
       "      <th>1,401 More Things That P*Ss Me Off</th>\n",
       "      <th>10 Commandments Of Dating</th>\n",
       "      <th>100 Great Fantasy Short, Short Stories</th>\n",
       "      <th>...</th>\n",
       "      <th>Zora Hurston and the Chinaberry Tree (Reading Rainbow Book)</th>\n",
       "      <th>\\Even Monkeys Fall from Trees\\ and Other Japanese Proverbs</th>\n",
       "      <th>\\I Won't Learn from You\\: And Other Thoughts on Creative Maladjustment</th>\n",
       "      <th>\\More More More,\\ Said the Baby</th>\n",
       "      <th>\\O\\ Is for Outlaw</th>\n",
       "      <th>\\Surely You're Joking, Mr. Feynman!\\: Adventures of a Curious Character</th>\n",
       "      <th>\\Well, there's your problem\\: Cartoons</th>\n",
       "      <th>iI Paradiso Degli Orchi</th>\n",
       "      <th>stardust</th>\n",
       "      <th>Ã?Â?bermorgen.</th>\n",
       "    </tr>\n",
       "  </thead>\n",
       "  <tbody>\n",
       "    <tr>\n",
       "      <th>0</th>\n",
       "      <td>0.0</td>\n",
       "      <td>0.0</td>\n",
       "      <td>0.0</td>\n",
       "      <td>0.0</td>\n",
       "      <td>0.0</td>\n",
       "      <td>0.0</td>\n",
       "      <td>0.0</td>\n",
       "      <td>0.0</td>\n",
       "      <td>0.0</td>\n",
       "      <td>0.0</td>\n",
       "      <td>...</td>\n",
       "      <td>0.0</td>\n",
       "      <td>0.0</td>\n",
       "      <td>0.0</td>\n",
       "      <td>0.0</td>\n",
       "      <td>0.0</td>\n",
       "      <td>0.0</td>\n",
       "      <td>0.0</td>\n",
       "      <td>0.0</td>\n",
       "      <td>0.0</td>\n",
       "      <td>0.0</td>\n",
       "    </tr>\n",
       "    <tr>\n",
       "      <th>1</th>\n",
       "      <td>0.0</td>\n",
       "      <td>0.0</td>\n",
       "      <td>0.0</td>\n",
       "      <td>0.0</td>\n",
       "      <td>0.0</td>\n",
       "      <td>0.0</td>\n",
       "      <td>0.0</td>\n",
       "      <td>0.0</td>\n",
       "      <td>0.0</td>\n",
       "      <td>0.0</td>\n",
       "      <td>...</td>\n",
       "      <td>0.0</td>\n",
       "      <td>0.0</td>\n",
       "      <td>0.0</td>\n",
       "      <td>0.0</td>\n",
       "      <td>0.0</td>\n",
       "      <td>0.0</td>\n",
       "      <td>0.0</td>\n",
       "      <td>0.0</td>\n",
       "      <td>0.0</td>\n",
       "      <td>0.0</td>\n",
       "    </tr>\n",
       "    <tr>\n",
       "      <th>2</th>\n",
       "      <td>0.0</td>\n",
       "      <td>0.0</td>\n",
       "      <td>0.0</td>\n",
       "      <td>0.0</td>\n",
       "      <td>0.0</td>\n",
       "      <td>0.0</td>\n",
       "      <td>0.0</td>\n",
       "      <td>0.0</td>\n",
       "      <td>0.0</td>\n",
       "      <td>0.0</td>\n",
       "      <td>...</td>\n",
       "      <td>0.0</td>\n",
       "      <td>0.0</td>\n",
       "      <td>0.0</td>\n",
       "      <td>0.0</td>\n",
       "      <td>0.0</td>\n",
       "      <td>0.0</td>\n",
       "      <td>0.0</td>\n",
       "      <td>0.0</td>\n",
       "      <td>0.0</td>\n",
       "      <td>0.0</td>\n",
       "    </tr>\n",
       "    <tr>\n",
       "      <th>3</th>\n",
       "      <td>0.0</td>\n",
       "      <td>0.0</td>\n",
       "      <td>0.0</td>\n",
       "      <td>0.0</td>\n",
       "      <td>0.0</td>\n",
       "      <td>0.0</td>\n",
       "      <td>0.0</td>\n",
       "      <td>0.0</td>\n",
       "      <td>0.0</td>\n",
       "      <td>0.0</td>\n",
       "      <td>...</td>\n",
       "      <td>0.0</td>\n",
       "      <td>0.0</td>\n",
       "      <td>0.0</td>\n",
       "      <td>0.0</td>\n",
       "      <td>0.0</td>\n",
       "      <td>0.0</td>\n",
       "      <td>0.0</td>\n",
       "      <td>0.0</td>\n",
       "      <td>0.0</td>\n",
       "      <td>0.0</td>\n",
       "    </tr>\n",
       "    <tr>\n",
       "      <th>4</th>\n",
       "      <td>0.0</td>\n",
       "      <td>0.0</td>\n",
       "      <td>0.0</td>\n",
       "      <td>0.0</td>\n",
       "      <td>0.0</td>\n",
       "      <td>0.0</td>\n",
       "      <td>0.0</td>\n",
       "      <td>0.0</td>\n",
       "      <td>0.0</td>\n",
       "      <td>0.0</td>\n",
       "      <td>...</td>\n",
       "      <td>0.0</td>\n",
       "      <td>0.0</td>\n",
       "      <td>0.0</td>\n",
       "      <td>0.0</td>\n",
       "      <td>0.0</td>\n",
       "      <td>0.0</td>\n",
       "      <td>0.0</td>\n",
       "      <td>0.0</td>\n",
       "      <td>0.0</td>\n",
       "      <td>0.0</td>\n",
       "    </tr>\n",
       "    <tr>\n",
       "      <th>...</th>\n",
       "      <td>...</td>\n",
       "      <td>...</td>\n",
       "      <td>...</td>\n",
       "      <td>...</td>\n",
       "      <td>...</td>\n",
       "      <td>...</td>\n",
       "      <td>...</td>\n",
       "      <td>...</td>\n",
       "      <td>...</td>\n",
       "      <td>...</td>\n",
       "      <td>...</td>\n",
       "      <td>...</td>\n",
       "      <td>...</td>\n",
       "      <td>...</td>\n",
       "      <td>...</td>\n",
       "      <td>...</td>\n",
       "      <td>...</td>\n",
       "      <td>...</td>\n",
       "      <td>...</td>\n",
       "      <td>...</td>\n",
       "      <td>...</td>\n",
       "    </tr>\n",
       "    <tr>\n",
       "      <th>2177</th>\n",
       "      <td>0.0</td>\n",
       "      <td>0.0</td>\n",
       "      <td>0.0</td>\n",
       "      <td>0.0</td>\n",
       "      <td>0.0</td>\n",
       "      <td>0.0</td>\n",
       "      <td>0.0</td>\n",
       "      <td>0.0</td>\n",
       "      <td>0.0</td>\n",
       "      <td>0.0</td>\n",
       "      <td>...</td>\n",
       "      <td>0.0</td>\n",
       "      <td>0.0</td>\n",
       "      <td>0.0</td>\n",
       "      <td>0.0</td>\n",
       "      <td>0.0</td>\n",
       "      <td>0.0</td>\n",
       "      <td>0.0</td>\n",
       "      <td>0.0</td>\n",
       "      <td>0.0</td>\n",
       "      <td>0.0</td>\n",
       "    </tr>\n",
       "    <tr>\n",
       "      <th>2178</th>\n",
       "      <td>0.0</td>\n",
       "      <td>0.0</td>\n",
       "      <td>0.0</td>\n",
       "      <td>0.0</td>\n",
       "      <td>0.0</td>\n",
       "      <td>0.0</td>\n",
       "      <td>0.0</td>\n",
       "      <td>0.0</td>\n",
       "      <td>0.0</td>\n",
       "      <td>0.0</td>\n",
       "      <td>...</td>\n",
       "      <td>0.0</td>\n",
       "      <td>0.0</td>\n",
       "      <td>0.0</td>\n",
       "      <td>0.0</td>\n",
       "      <td>0.0</td>\n",
       "      <td>0.0</td>\n",
       "      <td>0.0</td>\n",
       "      <td>0.0</td>\n",
       "      <td>0.0</td>\n",
       "      <td>0.0</td>\n",
       "    </tr>\n",
       "    <tr>\n",
       "      <th>2179</th>\n",
       "      <td>0.0</td>\n",
       "      <td>0.0</td>\n",
       "      <td>0.0</td>\n",
       "      <td>0.0</td>\n",
       "      <td>0.0</td>\n",
       "      <td>0.0</td>\n",
       "      <td>0.0</td>\n",
       "      <td>0.0</td>\n",
       "      <td>0.0</td>\n",
       "      <td>0.0</td>\n",
       "      <td>...</td>\n",
       "      <td>0.0</td>\n",
       "      <td>0.0</td>\n",
       "      <td>0.0</td>\n",
       "      <td>0.0</td>\n",
       "      <td>0.0</td>\n",
       "      <td>0.0</td>\n",
       "      <td>0.0</td>\n",
       "      <td>7.0</td>\n",
       "      <td>0.0</td>\n",
       "      <td>0.0</td>\n",
       "    </tr>\n",
       "    <tr>\n",
       "      <th>2180</th>\n",
       "      <td>0.0</td>\n",
       "      <td>0.0</td>\n",
       "      <td>0.0</td>\n",
       "      <td>0.0</td>\n",
       "      <td>0.0</td>\n",
       "      <td>0.0</td>\n",
       "      <td>0.0</td>\n",
       "      <td>0.0</td>\n",
       "      <td>0.0</td>\n",
       "      <td>0.0</td>\n",
       "      <td>...</td>\n",
       "      <td>0.0</td>\n",
       "      <td>0.0</td>\n",
       "      <td>0.0</td>\n",
       "      <td>0.0</td>\n",
       "      <td>0.0</td>\n",
       "      <td>0.0</td>\n",
       "      <td>0.0</td>\n",
       "      <td>0.0</td>\n",
       "      <td>0.0</td>\n",
       "      <td>0.0</td>\n",
       "    </tr>\n",
       "    <tr>\n",
       "      <th>2181</th>\n",
       "      <td>0.0</td>\n",
       "      <td>0.0</td>\n",
       "      <td>0.0</td>\n",
       "      <td>0.0</td>\n",
       "      <td>0.0</td>\n",
       "      <td>0.0</td>\n",
       "      <td>0.0</td>\n",
       "      <td>0.0</td>\n",
       "      <td>0.0</td>\n",
       "      <td>0.0</td>\n",
       "      <td>...</td>\n",
       "      <td>0.0</td>\n",
       "      <td>0.0</td>\n",
       "      <td>0.0</td>\n",
       "      <td>0.0</td>\n",
       "      <td>0.0</td>\n",
       "      <td>0.0</td>\n",
       "      <td>0.0</td>\n",
       "      <td>0.0</td>\n",
       "      <td>0.0</td>\n",
       "      <td>0.0</td>\n",
       "    </tr>\n",
       "  </tbody>\n",
       "</table>\n",
       "<p>2182 rows × 9659 columns</p>\n",
       "</div>"
      ],
      "text/plain": [
       "book_title   Jason, Madison &amp   Other Stories;Merril;1985;McClelland &amp  \\\n",
       "0                            0.0                                         0.0   \n",
       "1                            0.0                                         0.0   \n",
       "2                            0.0                                         0.0   \n",
       "3                            0.0                                         0.0   \n",
       "4                            0.0                                         0.0   \n",
       "...                          ...                                         ...   \n",
       "2177                         0.0                                         0.0   \n",
       "2178                         0.0                                         0.0   \n",
       "2179                         0.0                                         0.0   \n",
       "2180                         0.0                                         0.0   \n",
       "2181                         0.0                                         0.0   \n",
       "\n",
       "book_title   Repairing PC Drives &amp  '48  \\\n",
       "0                                 0.0  0.0   \n",
       "1                                 0.0  0.0   \n",
       "2                                 0.0  0.0   \n",
       "3                                 0.0  0.0   \n",
       "4                                 0.0  0.0   \n",
       "...                               ...  ...   \n",
       "2177                              0.0  0.0   \n",
       "2178                              0.0  0.0   \n",
       "2179                              0.0  0.0   \n",
       "2180                              0.0  0.0   \n",
       "2181                              0.0  0.0   \n",
       "\n",
       "book_title  'O Au No Keia: Voices from Hawai'I's Mahu and Transgender Communities  \\\n",
       "0                                                         0.0                       \n",
       "1                                                         0.0                       \n",
       "2                                                         0.0                       \n",
       "3                                                         0.0                       \n",
       "4                                                         0.0                       \n",
       "...                                                       ...                       \n",
       "2177                                                      0.0                       \n",
       "2178                                                      0.0                       \n",
       "2179                                                      0.0                       \n",
       "2180                                                      0.0                       \n",
       "2181                                                      0.0                       \n",
       "\n",
       "book_title  ...AND THE HORSE HE RODE IN ON : THE PEOPLE V. KENNETH STARR  \\\n",
       "0                                                         0.0              \n",
       "1                                                         0.0              \n",
       "2                                                         0.0              \n",
       "3                                                         0.0              \n",
       "4                                                         0.0              \n",
       "...                                                       ...              \n",
       "2177                                                      0.0              \n",
       "2178                                                      0.0              \n",
       "2179                                                      0.0              \n",
       "2180                                                      0.0              \n",
       "2181                                                      0.0              \n",
       "\n",
       "book_title  01-01-00: A Novel of the Millennium  \\\n",
       "0                                           0.0   \n",
       "1                                           0.0   \n",
       "2                                           0.0   \n",
       "3                                           0.0   \n",
       "4                                           0.0   \n",
       "...                                         ...   \n",
       "2177                                        0.0   \n",
       "2178                                        0.0   \n",
       "2179                                        0.0   \n",
       "2180                                        0.0   \n",
       "2181                                        0.0   \n",
       "\n",
       "book_title  1,401 More Things That P*Ss Me Off  10 Commandments Of Dating  \\\n",
       "0                                          0.0                        0.0   \n",
       "1                                          0.0                        0.0   \n",
       "2                                          0.0                        0.0   \n",
       "3                                          0.0                        0.0   \n",
       "4                                          0.0                        0.0   \n",
       "...                                        ...                        ...   \n",
       "2177                                       0.0                        0.0   \n",
       "2178                                       0.0                        0.0   \n",
       "2179                                       0.0                        0.0   \n",
       "2180                                       0.0                        0.0   \n",
       "2181                                       0.0                        0.0   \n",
       "\n",
       "book_title  100 Great Fantasy Short, Short Stories  ...  \\\n",
       "0                                              0.0  ...   \n",
       "1                                              0.0  ...   \n",
       "2                                              0.0  ...   \n",
       "3                                              0.0  ...   \n",
       "4                                              0.0  ...   \n",
       "...                                            ...  ...   \n",
       "2177                                           0.0  ...   \n",
       "2178                                           0.0  ...   \n",
       "2179                                           0.0  ...   \n",
       "2180                                           0.0  ...   \n",
       "2181                                           0.0  ...   \n",
       "\n",
       "book_title  Zora Hurston and the Chinaberry Tree (Reading Rainbow Book)  \\\n",
       "0                                                         0.0             \n",
       "1                                                         0.0             \n",
       "2                                                         0.0             \n",
       "3                                                         0.0             \n",
       "4                                                         0.0             \n",
       "...                                                       ...             \n",
       "2177                                                      0.0             \n",
       "2178                                                      0.0             \n",
       "2179                                                      0.0             \n",
       "2180                                                      0.0             \n",
       "2181                                                      0.0             \n",
       "\n",
       "book_title  \\Even Monkeys Fall from Trees\\ and Other Japanese Proverbs  \\\n",
       "0                                                         0.0            \n",
       "1                                                         0.0            \n",
       "2                                                         0.0            \n",
       "3                                                         0.0            \n",
       "4                                                         0.0            \n",
       "...                                                       ...            \n",
       "2177                                                      0.0            \n",
       "2178                                                      0.0            \n",
       "2179                                                      0.0            \n",
       "2180                                                      0.0            \n",
       "2181                                                      0.0            \n",
       "\n",
       "book_title  \\I Won't Learn from You\\: And Other Thoughts on Creative Maladjustment  \\\n",
       "0                                                         0.0                        \n",
       "1                                                         0.0                        \n",
       "2                                                         0.0                        \n",
       "3                                                         0.0                        \n",
       "4                                                         0.0                        \n",
       "...                                                       ...                        \n",
       "2177                                                      0.0                        \n",
       "2178                                                      0.0                        \n",
       "2179                                                      0.0                        \n",
       "2180                                                      0.0                        \n",
       "2181                                                      0.0                        \n",
       "\n",
       "book_title  \\More More More,\\ Said the Baby  \\O\\ Is for Outlaw  \\\n",
       "0                                       0.0                0.0   \n",
       "1                                       0.0                0.0   \n",
       "2                                       0.0                0.0   \n",
       "3                                       0.0                0.0   \n",
       "4                                       0.0                0.0   \n",
       "...                                     ...                ...   \n",
       "2177                                    0.0                0.0   \n",
       "2178                                    0.0                0.0   \n",
       "2179                                    0.0                0.0   \n",
       "2180                                    0.0                0.0   \n",
       "2181                                    0.0                0.0   \n",
       "\n",
       "book_title  \\Surely You're Joking, Mr. Feynman!\\: Adventures of a Curious Character  \\\n",
       "0                                                         0.0                         \n",
       "1                                                         0.0                         \n",
       "2                                                         0.0                         \n",
       "3                                                         0.0                         \n",
       "4                                                         0.0                         \n",
       "...                                                       ...                         \n",
       "2177                                                      0.0                         \n",
       "2178                                                      0.0                         \n",
       "2179                                                      0.0                         \n",
       "2180                                                      0.0                         \n",
       "2181                                                      0.0                         \n",
       "\n",
       "book_title  \\Well, there's your problem\\: Cartoons  iI Paradiso Degli Orchi  \\\n",
       "0                                              0.0                      0.0   \n",
       "1                                              0.0                      0.0   \n",
       "2                                              0.0                      0.0   \n",
       "3                                              0.0                      0.0   \n",
       "4                                              0.0                      0.0   \n",
       "...                                            ...                      ...   \n",
       "2177                                           0.0                      0.0   \n",
       "2178                                           0.0                      0.0   \n",
       "2179                                           0.0                      7.0   \n",
       "2180                                           0.0                      0.0   \n",
       "2181                                           0.0                      0.0   \n",
       "\n",
       "book_title  stardust  Ã?Â?bermorgen.  \n",
       "0                0.0             0.0  \n",
       "1                0.0             0.0  \n",
       "2                0.0             0.0  \n",
       "3                0.0             0.0  \n",
       "4                0.0             0.0  \n",
       "...              ...             ...  \n",
       "2177             0.0             0.0  \n",
       "2178             0.0             0.0  \n",
       "2179             0.0             0.0  \n",
       "2180             0.0             0.0  \n",
       "2181             0.0             0.0  \n",
       "\n",
       "[2182 rows x 9659 columns]"
      ]
     },
     "execution_count": 12,
     "metadata": {},
     "output_type": "execute_result"
    }
   ],
   "source": [
    "book_df.fillna(0, inplace=True)\n",
    "book_df"
   ]
  },
  {
   "cell_type": "markdown",
   "metadata": {
    "ExecuteTime": {
     "end_time": "2020-12-31T09:18:32.418495Z",
     "start_time": "2020-12-31T09:18:32.412476Z"
    }
   },
   "source": [
    "### One of the most basic metrics you can think of is the ranking to decide which top 250 books are based on their respective ratings."
   ]
  },
  {
   "cell_type": "code",
   "execution_count": 13,
   "metadata": {
    "ExecuteTime": {
     "end_time": "2021-01-29T16:06:23.309536Z",
     "start_time": "2021-01-29T16:06:23.303700Z"
    }
   },
   "outputs": [
    {
     "name": "stdout",
     "output_type": "stream",
     "text": [
      "7.5663\n"
     ]
    }
   ],
   "source": [
    "C = data['Book.Rating'].mean()\n",
    "print(C)"
   ]
  },
  {
   "cell_type": "markdown",
   "metadata": {},
   "source": [
    "### from the above output, you can observe that the average rating of a book  is around 7.5 on a scale of 10."
   ]
  },
  {
   "cell_type": "markdown",
   "metadata": {},
   "source": [
    "### Next, let's calculate the number of ratings  received by a book in the 90th percentile. The pandas library makes this task extremely trivial using the .quantile() method of pandas:"
   ]
  },
  {
   "cell_type": "code",
   "execution_count": 14,
   "metadata": {
    "ExecuteTime": {
     "end_time": "2021-01-29T16:06:25.474859Z",
     "start_time": "2021-01-29T16:06:25.456777Z"
    }
   },
   "outputs": [
    {
     "name": "stdout",
     "output_type": "stream",
     "text": [
      "10.0\n"
     ]
    }
   ],
   "source": [
    "# Calculate the minimum number of votes required to be in the chart, m\n",
    "m = data['Book.Rating'].quantile(0.90)\n",
    "print(m)"
   ]
  },
  {
   "cell_type": "markdown",
   "metadata": {},
   "source": [
    "### now we have the minimun number of votes required to be in the chart, So you can simply use a greater than equal to condition to filter out movies having greater than equal to 10 vote counts:"
   ]
  },
  {
   "cell_type": "code",
   "execution_count": 15,
   "metadata": {
    "ExecuteTime": {
     "end_time": "2021-01-29T16:06:26.763854Z",
     "start_time": "2021-01-29T16:06:26.750959Z"
    }
   },
   "outputs": [
    {
     "data": {
      "text/plain": [
       "(1732, 4)"
      ]
     },
     "execution_count": 15,
     "metadata": {},
     "output_type": "execute_result"
    }
   ],
   "source": [
    "# Filter out all qualified Books into a new DataFrame\n",
    "q_Books = data.copy().loc[data['Book.Rating'] >= m]\n",
    "q_Books.shape"
   ]
  },
  {
   "cell_type": "code",
   "execution_count": 16,
   "metadata": {
    "ExecuteTime": {
     "end_time": "2021-01-29T16:06:28.437141Z",
     "start_time": "2021-01-29T16:06:27.391118Z"
    }
   },
   "outputs": [],
   "source": [
    "#Calculating Cosine Similarity between Users\n",
    "from sklearn.metrics import pairwise_distances\n",
    "from scipy.spatial.distance import cosine, correlation"
   ]
  },
  {
   "cell_type": "code",
   "execution_count": 17,
   "metadata": {
    "ExecuteTime": {
     "end_time": "2021-01-29T16:06:30.935245Z",
     "start_time": "2021-01-29T16:06:28.922851Z"
    }
   },
   "outputs": [
    {
     "data": {
      "text/plain": [
       "(2182, 2182)"
      ]
     },
     "execution_count": 17,
     "metadata": {},
     "output_type": "execute_result"
    }
   ],
   "source": [
    "uc_sim = 1 - pairwise_distances( book_df.values,metric='cosine')\n",
    "uc_sim.shape"
   ]
  },
  {
   "cell_type": "code",
   "execution_count": 18,
   "metadata": {
    "ExecuteTime": {
     "end_time": "2021-01-29T16:06:31.922680Z",
     "start_time": "2021-01-29T16:06:31.904600Z"
    }
   },
   "outputs": [
    {
     "data": {
      "text/plain": [
       "array([0., 1., 0., ..., 0., 0., 0.])"
      ]
     },
     "execution_count": 18,
     "metadata": {},
     "output_type": "execute_result"
    }
   ],
   "source": [
    "uc_sim[1]"
   ]
  },
  {
   "cell_type": "code",
   "execution_count": 19,
   "metadata": {
    "ExecuteTime": {
     "end_time": "2021-01-29T16:06:33.131800Z",
     "start_time": "2021-01-29T16:06:33.114257Z"
    }
   },
   "outputs": [],
   "source": [
    "\n",
    "#Store the results in a dataframe\n",
    "uc_sim_df = pd.DataFrame(uc_sim)\n",
    "uc_sim_df.index = book.user_id.unique()\n",
    "uc_sim_df.columns = book.user_id.unique()"
   ]
  },
  {
   "cell_type": "code",
   "execution_count": 20,
   "metadata": {
    "ExecuteTime": {
     "end_time": "2021-01-29T16:06:34.835761Z",
     "start_time": "2021-01-29T16:06:34.813010Z"
    }
   },
   "outputs": [
    {
     "data": {
      "text/html": [
       "<div>\n",
       "<style scoped>\n",
       "    .dataframe tbody tr th:only-of-type {\n",
       "        vertical-align: middle;\n",
       "    }\n",
       "\n",
       "    .dataframe tbody tr th {\n",
       "        vertical-align: top;\n",
       "    }\n",
       "\n",
       "    .dataframe thead th {\n",
       "        text-align: right;\n",
       "    }\n",
       "</style>\n",
       "<table border=\"1\" class=\"dataframe\">\n",
       "  <thead>\n",
       "    <tr style=\"text-align: right;\">\n",
       "      <th></th>\n",
       "      <th>276726</th>\n",
       "      <th>276729</th>\n",
       "      <th>276736</th>\n",
       "      <th>276737</th>\n",
       "      <th>276744</th>\n",
       "      <th>276745</th>\n",
       "      <th>276747</th>\n",
       "      <th>276748</th>\n",
       "      <th>276751</th>\n",
       "      <th>276754</th>\n",
       "    </tr>\n",
       "  </thead>\n",
       "  <tbody>\n",
       "    <tr>\n",
       "      <th>276726</th>\n",
       "      <td>1.0</td>\n",
       "      <td>0.0</td>\n",
       "      <td>0.0</td>\n",
       "      <td>0.0</td>\n",
       "      <td>0.0</td>\n",
       "      <td>0.0</td>\n",
       "      <td>0.0</td>\n",
       "      <td>0.0</td>\n",
       "      <td>0.0</td>\n",
       "      <td>0.0</td>\n",
       "    </tr>\n",
       "    <tr>\n",
       "      <th>276729</th>\n",
       "      <td>0.0</td>\n",
       "      <td>1.0</td>\n",
       "      <td>0.0</td>\n",
       "      <td>0.0</td>\n",
       "      <td>0.0</td>\n",
       "      <td>0.0</td>\n",
       "      <td>0.0</td>\n",
       "      <td>0.0</td>\n",
       "      <td>0.0</td>\n",
       "      <td>0.0</td>\n",
       "    </tr>\n",
       "    <tr>\n",
       "      <th>276736</th>\n",
       "      <td>0.0</td>\n",
       "      <td>0.0</td>\n",
       "      <td>1.0</td>\n",
       "      <td>0.0</td>\n",
       "      <td>0.0</td>\n",
       "      <td>0.0</td>\n",
       "      <td>0.0</td>\n",
       "      <td>0.0</td>\n",
       "      <td>0.0</td>\n",
       "      <td>0.0</td>\n",
       "    </tr>\n",
       "    <tr>\n",
       "      <th>276737</th>\n",
       "      <td>0.0</td>\n",
       "      <td>0.0</td>\n",
       "      <td>0.0</td>\n",
       "      <td>1.0</td>\n",
       "      <td>0.0</td>\n",
       "      <td>0.0</td>\n",
       "      <td>0.0</td>\n",
       "      <td>0.0</td>\n",
       "      <td>0.0</td>\n",
       "      <td>0.0</td>\n",
       "    </tr>\n",
       "    <tr>\n",
       "      <th>276744</th>\n",
       "      <td>0.0</td>\n",
       "      <td>0.0</td>\n",
       "      <td>0.0</td>\n",
       "      <td>0.0</td>\n",
       "      <td>1.0</td>\n",
       "      <td>0.0</td>\n",
       "      <td>0.0</td>\n",
       "      <td>0.0</td>\n",
       "      <td>0.0</td>\n",
       "      <td>0.0</td>\n",
       "    </tr>\n",
       "    <tr>\n",
       "      <th>276745</th>\n",
       "      <td>0.0</td>\n",
       "      <td>0.0</td>\n",
       "      <td>0.0</td>\n",
       "      <td>0.0</td>\n",
       "      <td>0.0</td>\n",
       "      <td>1.0</td>\n",
       "      <td>0.0</td>\n",
       "      <td>0.0</td>\n",
       "      <td>0.0</td>\n",
       "      <td>0.0</td>\n",
       "    </tr>\n",
       "    <tr>\n",
       "      <th>276747</th>\n",
       "      <td>0.0</td>\n",
       "      <td>0.0</td>\n",
       "      <td>0.0</td>\n",
       "      <td>0.0</td>\n",
       "      <td>0.0</td>\n",
       "      <td>0.0</td>\n",
       "      <td>1.0</td>\n",
       "      <td>0.0</td>\n",
       "      <td>0.0</td>\n",
       "      <td>0.0</td>\n",
       "    </tr>\n",
       "    <tr>\n",
       "      <th>276748</th>\n",
       "      <td>0.0</td>\n",
       "      <td>0.0</td>\n",
       "      <td>0.0</td>\n",
       "      <td>0.0</td>\n",
       "      <td>0.0</td>\n",
       "      <td>0.0</td>\n",
       "      <td>0.0</td>\n",
       "      <td>1.0</td>\n",
       "      <td>0.0</td>\n",
       "      <td>0.0</td>\n",
       "    </tr>\n",
       "    <tr>\n",
       "      <th>276751</th>\n",
       "      <td>0.0</td>\n",
       "      <td>0.0</td>\n",
       "      <td>0.0</td>\n",
       "      <td>0.0</td>\n",
       "      <td>0.0</td>\n",
       "      <td>0.0</td>\n",
       "      <td>0.0</td>\n",
       "      <td>0.0</td>\n",
       "      <td>1.0</td>\n",
       "      <td>0.0</td>\n",
       "    </tr>\n",
       "    <tr>\n",
       "      <th>276754</th>\n",
       "      <td>0.0</td>\n",
       "      <td>0.0</td>\n",
       "      <td>0.0</td>\n",
       "      <td>0.0</td>\n",
       "      <td>0.0</td>\n",
       "      <td>0.0</td>\n",
       "      <td>0.0</td>\n",
       "      <td>0.0</td>\n",
       "      <td>0.0</td>\n",
       "      <td>1.0</td>\n",
       "    </tr>\n",
       "  </tbody>\n",
       "</table>\n",
       "</div>"
      ],
      "text/plain": [
       "        276726  276729  276736  276737  276744  276745  276747  276748  \\\n",
       "276726     1.0     0.0     0.0     0.0     0.0     0.0     0.0     0.0   \n",
       "276729     0.0     1.0     0.0     0.0     0.0     0.0     0.0     0.0   \n",
       "276736     0.0     0.0     1.0     0.0     0.0     0.0     0.0     0.0   \n",
       "276737     0.0     0.0     0.0     1.0     0.0     0.0     0.0     0.0   \n",
       "276744     0.0     0.0     0.0     0.0     1.0     0.0     0.0     0.0   \n",
       "276745     0.0     0.0     0.0     0.0     0.0     1.0     0.0     0.0   \n",
       "276747     0.0     0.0     0.0     0.0     0.0     0.0     1.0     0.0   \n",
       "276748     0.0     0.0     0.0     0.0     0.0     0.0     0.0     1.0   \n",
       "276751     0.0     0.0     0.0     0.0     0.0     0.0     0.0     0.0   \n",
       "276754     0.0     0.0     0.0     0.0     0.0     0.0     0.0     0.0   \n",
       "\n",
       "        276751  276754  \n",
       "276726     0.0     0.0  \n",
       "276729     0.0     0.0  \n",
       "276736     0.0     0.0  \n",
       "276737     0.0     0.0  \n",
       "276744     0.0     0.0  \n",
       "276745     0.0     0.0  \n",
       "276747     0.0     0.0  \n",
       "276748     0.0     0.0  \n",
       "276751     1.0     0.0  \n",
       "276754     0.0     1.0  "
      ]
     },
     "execution_count": 20,
     "metadata": {},
     "output_type": "execute_result"
    }
   ],
   "source": [
    "uc_sim_df.iloc[0:10, 0:10]"
   ]
  },
  {
   "cell_type": "code",
   "execution_count": 21,
   "metadata": {
    "ExecuteTime": {
     "end_time": "2021-01-29T16:06:35.548162Z",
     "start_time": "2021-01-29T16:06:35.481571Z"
    }
   },
   "outputs": [
    {
     "data": {
      "text/plain": [
       "276726    276726\n",
       "276729    276729\n",
       "276736    276736\n",
       "276737    276737\n",
       "276744    276744\n",
       "           ...  \n",
       "277139    277139\n",
       "277143    277143\n",
       "277157    277157\n",
       "277159    277159\n",
       "277165    277165\n",
       "Length: 125, dtype: int64"
      ]
     },
     "execution_count": 21,
     "metadata": {},
     "output_type": "execute_result"
    }
   ],
   "source": [
    "uc_sim_df.idxmax(axis=1)[0:125]"
   ]
  },
  {
   "cell_type": "code",
   "execution_count": 22,
   "metadata": {
    "ExecuteTime": {
     "end_time": "2021-01-29T16:06:36.391344Z",
     "start_time": "2021-01-29T16:06:36.367082Z"
    }
   },
   "outputs": [
    {
     "data": {
      "text/html": [
       "<div>\n",
       "<style scoped>\n",
       "    .dataframe tbody tr th:only-of-type {\n",
       "        vertical-align: middle;\n",
       "    }\n",
       "\n",
       "    .dataframe tbody tr th {\n",
       "        vertical-align: top;\n",
       "    }\n",
       "\n",
       "    .dataframe thead th {\n",
       "        text-align: right;\n",
       "    }\n",
       "</style>\n",
       "<table border=\"1\" class=\"dataframe\">\n",
       "  <thead>\n",
       "    <tr style=\"text-align: right;\">\n",
       "      <th></th>\n",
       "      <th>Unnamed: 0</th>\n",
       "      <th>user_id</th>\n",
       "      <th>book_title</th>\n",
       "      <th>book_rating</th>\n",
       "    </tr>\n",
       "  </thead>\n",
       "  <tbody>\n",
       "    <tr>\n",
       "      <th>0</th>\n",
       "      <td>1</td>\n",
       "      <td>276726</td>\n",
       "      <td>Classical Mythology</td>\n",
       "      <td>5</td>\n",
       "    </tr>\n",
       "    <tr>\n",
       "      <th>2413</th>\n",
       "      <td>2414</td>\n",
       "      <td>17</td>\n",
       "      <td>Conversations With Dogbert: A Dilbert Book</td>\n",
       "      <td>7</td>\n",
       "    </tr>\n",
       "    <tr>\n",
       "      <th>2414</th>\n",
       "      <td>2415</td>\n",
       "      <td>17</td>\n",
       "      <td>The Dilbert Bunch: A Dilbert Book (Main Street...</td>\n",
       "      <td>5</td>\n",
       "    </tr>\n",
       "    <tr>\n",
       "      <th>2415</th>\n",
       "      <td>2416</td>\n",
       "      <td>17</td>\n",
       "      <td>You Don't Need Experience if You've Got Attitude</td>\n",
       "      <td>6</td>\n",
       "    </tr>\n",
       "    <tr>\n",
       "      <th>2416</th>\n",
       "      <td>2417</td>\n",
       "      <td>17</td>\n",
       "      <td>The Boss: Nameless, Blameless and Shameless (A...</td>\n",
       "      <td>3</td>\n",
       "    </tr>\n",
       "  </tbody>\n",
       "</table>\n",
       "</div>"
      ],
      "text/plain": [
       "      Unnamed: 0  user_id                                         book_title  \\\n",
       "0              1   276726                                Classical Mythology   \n",
       "2413        2414       17         Conversations With Dogbert: A Dilbert Book   \n",
       "2414        2415       17  The Dilbert Bunch: A Dilbert Book (Main Street...   \n",
       "2415        2416       17   You Don't Need Experience if You've Got Attitude   \n",
       "2416        2417       17  The Boss: Nameless, Blameless and Shameless (A...   \n",
       "\n",
       "      book_rating  \n",
       "0               5  \n",
       "2413            7  \n",
       "2414            5  \n",
       "2415            6  \n",
       "2416            3  "
      ]
     },
     "execution_count": 22,
     "metadata": {},
     "output_type": "execute_result"
    }
   ],
   "source": [
    "u=book[(book['user_id']==276726) | (book['user_id']==17)]\n",
    "u"
   ]
  },
  {
   "cell_type": "code",
   "execution_count": 23,
   "metadata": {
    "ExecuteTime": {
     "end_time": "2021-01-29T16:06:37.282466Z",
     "start_time": "2021-01-29T16:06:37.259159Z"
    }
   },
   "outputs": [
    {
     "data": {
      "text/html": [
       "<div>\n",
       "<style scoped>\n",
       "    .dataframe tbody tr th:only-of-type {\n",
       "        vertical-align: middle;\n",
       "    }\n",
       "\n",
       "    .dataframe tbody tr th {\n",
       "        vertical-align: top;\n",
       "    }\n",
       "\n",
       "    .dataframe thead th {\n",
       "        text-align: right;\n",
       "    }\n",
       "</style>\n",
       "<table border=\"1\" class=\"dataframe\">\n",
       "  <thead>\n",
       "    <tr style=\"text-align: right;\">\n",
       "      <th></th>\n",
       "      <th>Unnamed: 0</th>\n",
       "      <th>user_id</th>\n",
       "      <th>book_title</th>\n",
       "      <th>book_rating</th>\n",
       "    </tr>\n",
       "  </thead>\n",
       "  <tbody>\n",
       "    <tr>\n",
       "      <th>0</th>\n",
       "      <td>1</td>\n",
       "      <td>276726</td>\n",
       "      <td>Classical Mythology</td>\n",
       "      <td>5</td>\n",
       "    </tr>\n",
       "  </tbody>\n",
       "</table>\n",
       "</div>"
      ],
      "text/plain": [
       "   Unnamed: 0  user_id           book_title  book_rating\n",
       "0           1   276726  Classical Mythology            5"
      ]
     },
     "execution_count": 23,
     "metadata": {},
     "output_type": "execute_result"
    }
   ],
   "source": [
    "user_1=book[(book['user_id']==276726)] \n",
    "user_1"
   ]
  },
  {
   "cell_type": "code",
   "execution_count": 24,
   "metadata": {
    "ExecuteTime": {
     "end_time": "2021-01-29T16:06:37.911406Z",
     "start_time": "2021-01-29T16:06:37.887864Z"
    }
   },
   "outputs": [
    {
     "data": {
      "text/html": [
       "<div>\n",
       "<style scoped>\n",
       "    .dataframe tbody tr th:only-of-type {\n",
       "        vertical-align: middle;\n",
       "    }\n",
       "\n",
       "    .dataframe tbody tr th {\n",
       "        vertical-align: top;\n",
       "    }\n",
       "\n",
       "    .dataframe thead th {\n",
       "        text-align: right;\n",
       "    }\n",
       "</style>\n",
       "<table border=\"1\" class=\"dataframe\">\n",
       "  <thead>\n",
       "    <tr style=\"text-align: right;\">\n",
       "      <th></th>\n",
       "      <th>Unnamed: 0</th>\n",
       "      <th>user_id</th>\n",
       "      <th>book_title</th>\n",
       "      <th>book_rating</th>\n",
       "    </tr>\n",
       "  </thead>\n",
       "  <tbody>\n",
       "    <tr>\n",
       "      <th>2413</th>\n",
       "      <td>2414</td>\n",
       "      <td>17</td>\n",
       "      <td>Conversations With Dogbert: A Dilbert Book</td>\n",
       "      <td>7</td>\n",
       "    </tr>\n",
       "    <tr>\n",
       "      <th>2414</th>\n",
       "      <td>2415</td>\n",
       "      <td>17</td>\n",
       "      <td>The Dilbert Bunch: A Dilbert Book (Main Street...</td>\n",
       "      <td>5</td>\n",
       "    </tr>\n",
       "    <tr>\n",
       "      <th>2415</th>\n",
       "      <td>2416</td>\n",
       "      <td>17</td>\n",
       "      <td>You Don't Need Experience if You've Got Attitude</td>\n",
       "      <td>6</td>\n",
       "    </tr>\n",
       "    <tr>\n",
       "      <th>2416</th>\n",
       "      <td>2417</td>\n",
       "      <td>17</td>\n",
       "      <td>The Boss: Nameless, Blameless and Shameless (A...</td>\n",
       "      <td>3</td>\n",
       "    </tr>\n",
       "  </tbody>\n",
       "</table>\n",
       "</div>"
      ],
      "text/plain": [
       "      Unnamed: 0  user_id                                         book_title  \\\n",
       "2413        2414       17         Conversations With Dogbert: A Dilbert Book   \n",
       "2414        2415       17  The Dilbert Bunch: A Dilbert Book (Main Street...   \n",
       "2415        2416       17   You Don't Need Experience if You've Got Attitude   \n",
       "2416        2417       17  The Boss: Nameless, Blameless and Shameless (A...   \n",
       "\n",
       "      book_rating  \n",
       "2413            7  \n",
       "2414            5  \n",
       "2415            6  \n",
       "2416            3  "
      ]
     },
     "execution_count": 24,
     "metadata": {},
     "output_type": "execute_result"
    }
   ],
   "source": [
    "user_2=book[(book['user_id']==17)] \n",
    "user_2"
   ]
  },
  {
   "cell_type": "code",
   "execution_count": 25,
   "metadata": {
    "ExecuteTime": {
     "end_time": "2021-01-29T16:06:38.510727Z",
     "start_time": "2021-01-29T16:06:38.492937Z"
    }
   },
   "outputs": [],
   "source": [
    "indices = pd.Series(book.index, index=book['book_title']).drop_duplicates()"
   ]
  },
  {
   "cell_type": "code",
   "execution_count": 26,
   "metadata": {
    "ExecuteTime": {
     "end_time": "2021-01-29T16:06:39.343584Z",
     "start_time": "2021-01-29T16:06:39.328791Z"
    }
   },
   "outputs": [
    {
     "data": {
      "text/plain": [
       "book_title\n",
       "Classical Mythology                                                                                   0\n",
       "Clara Callan                                                                                          1\n",
       "Decision in Normandy                                                                                  2\n",
       "Flu: The Story of the Great Influenza Pandemic of 1918 and the Search for the Virus That Caused It    3\n",
       "The Mummies of Urumchi                                                                                4\n",
       "The Kitchen God's Wife                                                                                5\n",
       "What If?: The World's Foremost Military Historians Imagine What Might Have Been                       6\n",
       "PLEADING GUILTY                                                                                       7\n",
       "Under the Black Flag: The Romance and the Reality of Life Among the Pirates                           8\n",
       "Where You'll Find Me: And Other Stories                                                               9\n",
       "dtype: int64"
      ]
     },
     "execution_count": 26,
     "metadata": {},
     "output_type": "execute_result"
    }
   ],
   "source": [
    "indices[:10]"
   ]
  },
  {
   "cell_type": "code",
   "execution_count": 27,
   "metadata": {
    "ExecuteTime": {
     "end_time": "2021-01-29T16:06:40.004371Z",
     "start_time": "2021-01-29T16:06:39.993532Z"
    }
   },
   "outputs": [],
   "source": [
    "# Function that takes in movie title as input and outputs most similar movies\n",
    "def get_recommendations(book_title, cosine_sim=uc_sim):\n",
    "    # Get the index of the books that matches the title\n",
    "    idx = indices[book_title]\n",
    "\n",
    "    # Get the pairwsie similarity scores of all books with that books\n",
    "    sim_scores = list(enumerate(cosine_sim[idx]))\n",
    "\n",
    "    # Sort the books based on the similarity scores\n",
    "    sim_scores = sorted(sim_scores, key=lambda x: x[1], reverse=True)\n",
    "\n",
    "    # Get the scores of the 10 most similar books\n",
    "    sim_scores = sim_scores[0:11]\n",
    "\n",
    "    # Get the book indices\n",
    "    books_indices = [i[0] for i in sim_scores]\n",
    "\n",
    "    # Return the top 10 most similar books\n",
    "    return book['book_title'].iloc[books_indices]"
   ]
  },
  {
   "cell_type": "code",
   "execution_count": 28,
   "metadata": {
    "ExecuteTime": {
     "end_time": "2021-01-29T16:06:40.746239Z",
     "start_time": "2021-01-29T16:06:40.729435Z"
    }
   },
   "outputs": [
    {
     "data": {
      "text/plain": [
       "8     Under the Black Flag: The Romance and the Real...\n",
       "0                                   Classical Mythology\n",
       "1                                          Clara Callan\n",
       "2                                  Decision in Normandy\n",
       "3     Flu: The Story of the Great Influenza Pandemic...\n",
       "4                                The Mummies of Urumchi\n",
       "5                                The Kitchen God's Wife\n",
       "6     What If?: The World's Foremost Military Histor...\n",
       "7                                       PLEADING GUILTY\n",
       "9               Where You'll Find Me: And Other Stories\n",
       "10                          Nights Below Station Street\n",
       "Name: book_title, dtype: object"
      ]
     },
     "execution_count": 28,
     "metadata": {},
     "output_type": "execute_result"
    }
   ],
   "source": [
    "a=get_recommendations('Under the Black Flag: The Romance and the Reality of Life Among the Pirates')\n",
    "a"
   ]
  },
  {
   "cell_type": "code",
   "execution_count": 29,
   "metadata": {
    "ExecuteTime": {
     "end_time": "2021-01-29T16:06:41.435552Z",
     "start_time": "2021-01-29T16:06:41.416162Z"
    }
   },
   "outputs": [
    {
     "data": {
      "text/plain": [
       "0                                   Classical Mythology\n",
       "1                                          Clara Callan\n",
       "2                                  Decision in Normandy\n",
       "3     Flu: The Story of the Great Influenza Pandemic...\n",
       "4                                The Mummies of Urumchi\n",
       "5                                The Kitchen God's Wife\n",
       "6     What If?: The World's Foremost Military Histor...\n",
       "7                                       PLEADING GUILTY\n",
       "8     Under the Black Flag: The Romance and the Real...\n",
       "9               Where You'll Find Me: And Other Stories\n",
       "10                          Nights Below Station Street\n",
       "Name: book_title, dtype: object"
      ]
     },
     "execution_count": 29,
     "metadata": {},
     "output_type": "execute_result"
    }
   ],
   "source": [
    "b=get_recommendations('Classical Mythology')\n",
    "b"
   ]
  },
  {
   "cell_type": "code",
   "execution_count": 30,
   "metadata": {
    "ExecuteTime": {
     "end_time": "2021-01-29T16:06:42.153825Z",
     "start_time": "2021-01-29T16:06:42.086839Z"
    }
   },
   "outputs": [
    {
     "data": {
      "text/html": [
       "<div>\n",
       "<style scoped>\n",
       "    .dataframe tbody tr th:only-of-type {\n",
       "        vertical-align: middle;\n",
       "    }\n",
       "\n",
       "    .dataframe tbody tr th {\n",
       "        vertical-align: top;\n",
       "    }\n",
       "\n",
       "    .dataframe thead th {\n",
       "        text-align: right;\n",
       "    }\n",
       "</style>\n",
       "<table border=\"1\" class=\"dataframe\">\n",
       "  <thead>\n",
       "    <tr style=\"text-align: right;\">\n",
       "      <th></th>\n",
       "      <th>Unnamed: 0_x</th>\n",
       "      <th>user_id_x</th>\n",
       "      <th>book_title_x</th>\n",
       "      <th>book_rating</th>\n",
       "      <th>Unnamed: 0_y</th>\n",
       "      <th>user_id_y</th>\n",
       "      <th>book_title_y</th>\n",
       "    </tr>\n",
       "  </thead>\n",
       "  <tbody>\n",
       "    <tr>\n",
       "      <th>0</th>\n",
       "      <td>1.0</td>\n",
       "      <td>276726.0</td>\n",
       "      <td>Classical Mythology</td>\n",
       "      <td>5</td>\n",
       "      <td>2415</td>\n",
       "      <td>17</td>\n",
       "      <td>The Dilbert Bunch: A Dilbert Book (Main Street...</td>\n",
       "    </tr>\n",
       "    <tr>\n",
       "      <th>1</th>\n",
       "      <td>NaN</td>\n",
       "      <td>NaN</td>\n",
       "      <td>NaN</td>\n",
       "      <td>7</td>\n",
       "      <td>2414</td>\n",
       "      <td>17</td>\n",
       "      <td>Conversations With Dogbert: A Dilbert Book</td>\n",
       "    </tr>\n",
       "    <tr>\n",
       "      <th>2</th>\n",
       "      <td>NaN</td>\n",
       "      <td>NaN</td>\n",
       "      <td>NaN</td>\n",
       "      <td>6</td>\n",
       "      <td>2416</td>\n",
       "      <td>17</td>\n",
       "      <td>You Don't Need Experience if You've Got Attitude</td>\n",
       "    </tr>\n",
       "    <tr>\n",
       "      <th>3</th>\n",
       "      <td>NaN</td>\n",
       "      <td>NaN</td>\n",
       "      <td>NaN</td>\n",
       "      <td>3</td>\n",
       "      <td>2417</td>\n",
       "      <td>17</td>\n",
       "      <td>The Boss: Nameless, Blameless and Shameless (A...</td>\n",
       "    </tr>\n",
       "  </tbody>\n",
       "</table>\n",
       "</div>"
      ],
      "text/plain": [
       "   Unnamed: 0_x  user_id_x         book_title_x  book_rating  Unnamed: 0_y  \\\n",
       "0           1.0   276726.0  Classical Mythology            5          2415   \n",
       "1           NaN        NaN                  NaN            7          2414   \n",
       "2           NaN        NaN                  NaN            6          2416   \n",
       "3           NaN        NaN                  NaN            3          2417   \n",
       "\n",
       "   user_id_y                                       book_title_y  \n",
       "0         17  The Dilbert Bunch: A Dilbert Book (Main Street...  \n",
       "1         17         Conversations With Dogbert: A Dilbert Book  \n",
       "2         17   You Don't Need Experience if You've Got Attitude  \n",
       "3         17  The Boss: Nameless, Blameless and Shameless (A...  "
      ]
     },
     "execution_count": 30,
     "metadata": {},
     "output_type": "execute_result"
    }
   ],
   "source": [
    "pd.merge(user_1,user_2,on='book_rating',how='outer')"
   ]
  },
  {
   "cell_type": "code",
   "execution_count": 31,
   "metadata": {
    "ExecuteTime": {
     "end_time": "2021-01-29T16:06:43.035650Z",
     "start_time": "2021-01-29T16:06:43.018885Z"
    }
   },
   "outputs": [],
   "source": [
    "book_user_rating = book_df[\"You Don't Need Experience if You've Got Attitude\"]  "
   ]
  },
  {
   "cell_type": "code",
   "execution_count": 32,
   "metadata": {
    "ExecuteTime": {
     "end_time": "2021-01-29T16:06:43.784470Z",
     "start_time": "2021-01-29T16:06:43.767670Z"
    }
   },
   "outputs": [
    {
     "data": {
      "text/plain": [
       "0       0.0\n",
       "1       0.0\n",
       "2       0.0\n",
       "3       0.0\n",
       "4       0.0\n",
       "       ... \n",
       "2177    0.0\n",
       "2178    0.0\n",
       "2179    0.0\n",
       "2180    0.0\n",
       "2181    0.0\n",
       "Name: You Don't Need Experience if You've Got Attitude, Length: 2182, dtype: float64"
      ]
     },
     "execution_count": 32,
     "metadata": {},
     "output_type": "execute_result"
    }
   ],
   "source": [
    "book_user_rating"
   ]
  },
  {
   "cell_type": "code",
   "execution_count": 33,
   "metadata": {
    "ExecuteTime": {
     "end_time": "2021-01-29T16:06:50.671300Z",
     "start_time": "2021-01-29T16:06:44.488385Z"
    }
   },
   "outputs": [],
   "source": [
    "#Finding the correlation with different movies\n",
    "similar_to_book = book_df.corrwith(book_user_rating) "
   ]
  },
  {
   "cell_type": "code",
   "execution_count": 34,
   "metadata": {
    "ExecuteTime": {
     "end_time": "2021-01-29T16:06:51.262566Z",
     "start_time": "2021-01-29T16:06:51.227815Z"
    }
   },
   "outputs": [
    {
     "data": {
      "text/html": [
       "<div>\n",
       "<style scoped>\n",
       "    .dataframe tbody tr th:only-of-type {\n",
       "        vertical-align: middle;\n",
       "    }\n",
       "\n",
       "    .dataframe tbody tr th {\n",
       "        vertical-align: top;\n",
       "    }\n",
       "\n",
       "    .dataframe thead th {\n",
       "        text-align: right;\n",
       "    }\n",
       "</style>\n",
       "<table border=\"1\" class=\"dataframe\">\n",
       "  <thead>\n",
       "    <tr style=\"text-align: right;\">\n",
       "      <th></th>\n",
       "      <th>Correlation</th>\n",
       "    </tr>\n",
       "    <tr>\n",
       "      <th>book_title</th>\n",
       "      <th></th>\n",
       "    </tr>\n",
       "  </thead>\n",
       "  <tbody>\n",
       "    <tr>\n",
       "      <th>Jason, Madison &amp;amp</th>\n",
       "      <td>-0.000459</td>\n",
       "    </tr>\n",
       "    <tr>\n",
       "      <th>Other Stories;Merril;1985;McClelland &amp;amp</th>\n",
       "      <td>-0.000459</td>\n",
       "    </tr>\n",
       "    <tr>\n",
       "      <th>Repairing PC Drives &amp;amp</th>\n",
       "      <td>-0.000459</td>\n",
       "    </tr>\n",
       "    <tr>\n",
       "      <th>'48</th>\n",
       "      <td>-0.000459</td>\n",
       "    </tr>\n",
       "    <tr>\n",
       "      <th>'O Au No Keia: Voices from Hawai'I's Mahu and Transgender Communities</th>\n",
       "      <td>-0.000459</td>\n",
       "    </tr>\n",
       "  </tbody>\n",
       "</table>\n",
       "</div>"
      ],
      "text/plain": [
       "                                                    Correlation\n",
       "book_title                                                     \n",
       " Jason, Madison &amp                                  -0.000459\n",
       " Other Stories;Merril;1985;McClelland &amp            -0.000459\n",
       " Repairing PC Drives &amp                             -0.000459\n",
       "'48                                                   -0.000459\n",
       "'O Au No Keia: Voices from Hawai'I's Mahu and T...    -0.000459"
      ]
     },
     "execution_count": 34,
     "metadata": {},
     "output_type": "execute_result"
    }
   ],
   "source": [
    "corr_book = pd.DataFrame(similar_to_book, columns=['Correlation'])\n",
    "corr_book.dropna(inplace=True)\n",
    "corr_book.head()"
   ]
  },
  {
   "cell_type": "code",
   "execution_count": 35,
   "metadata": {
    "ExecuteTime": {
     "end_time": "2021-01-29T16:06:52.176964Z",
     "start_time": "2021-01-29T16:06:52.159970Z"
    }
   },
   "outputs": [
    {
     "data": {
      "text/html": [
       "<div>\n",
       "<style scoped>\n",
       "    .dataframe tbody tr th:only-of-type {\n",
       "        vertical-align: middle;\n",
       "    }\n",
       "\n",
       "    .dataframe tbody tr th {\n",
       "        vertical-align: top;\n",
       "    }\n",
       "\n",
       "    .dataframe thead th {\n",
       "        text-align: right;\n",
       "    }\n",
       "</style>\n",
       "<table border=\"1\" class=\"dataframe\">\n",
       "  <thead>\n",
       "    <tr style=\"text-align: right;\">\n",
       "      <th></th>\n",
       "      <th>Correlation</th>\n",
       "    </tr>\n",
       "    <tr>\n",
       "      <th>book_title</th>\n",
       "      <th></th>\n",
       "    </tr>\n",
       "  </thead>\n",
       "  <tbody>\n",
       "    <tr>\n",
       "      <th>Conversations With Dogbert: A Dilbert Book</th>\n",
       "      <td>1.0</td>\n",
       "    </tr>\n",
       "    <tr>\n",
       "      <th>The Boss: Nameless, Blameless and Shameless (Adams, Scott, Dilbert Book,)</th>\n",
       "      <td>1.0</td>\n",
       "    </tr>\n",
       "    <tr>\n",
       "      <th>The Dilbert Bunch: A Dilbert Book (Main Street Editions)</th>\n",
       "      <td>1.0</td>\n",
       "    </tr>\n",
       "    <tr>\n",
       "      <th>You Don't Need Experience if You've Got Attitude</th>\n",
       "      <td>1.0</td>\n",
       "    </tr>\n",
       "  </tbody>\n",
       "</table>\n",
       "</div>"
      ],
      "text/plain": [
       "                                                    Correlation\n",
       "book_title                                                     \n",
       "Conversations With Dogbert: A Dilbert Book                  1.0\n",
       "The Boss: Nameless, Blameless and Shameless (Ad...          1.0\n",
       "The Dilbert Bunch: A Dilbert Book (Main Street ...          1.0\n",
       "You Don't Need Experience if You've Got Attitude            1.0"
      ]
     },
     "execution_count": 35,
     "metadata": {},
     "output_type": "execute_result"
    }
   ],
   "source": [
    "corr_book[corr_book['Correlation'] > 0].sort_values(by='Correlation', ascending=False).head(10)  "
   ]
  },
  {
   "cell_type": "code",
   "execution_count": 36,
   "metadata": {
    "ExecuteTime": {
     "end_time": "2021-01-29T16:06:53.705145Z",
     "start_time": "2021-01-29T16:06:53.660691Z"
    }
   },
   "outputs": [],
   "source": [
    "ratings_mean_count = pd.DataFrame(book.groupby('book_title')['book_rating'].mean())\n",
    "ratings_mean_count['rating_counts'] = pd.DataFrame(book.groupby('book_title')['book_rating'].count())"
   ]
  },
  {
   "cell_type": "code",
   "execution_count": 37,
   "metadata": {
    "ExecuteTime": {
     "end_time": "2021-01-29T16:06:55.884397Z",
     "start_time": "2021-01-29T16:06:54.688745Z"
    }
   },
   "outputs": [
    {
     "data": {
      "text/plain": [
       "<matplotlib.axes._subplots.AxesSubplot at 0x1158d86f490>"
      ]
     },
     "execution_count": 37,
     "metadata": {},
     "output_type": "execute_result"
    },
    {
     "data": {
      "image/png": "[encoded data removed]",
      "text/plain": [
       "<Figure size 576x432 with 1 Axes>"
      ]
     },
     "metadata": {
      "needs_background": "light"
     },
     "output_type": "display_data"
    }
   ],
   "source": [
    "import matplotlib.pyplot as plt\n",
    "import seaborn as sns\n",
    "sns.set_style('dark')\n",
    "%matplotlib inline\n",
    "\n",
    "plt.figure(figsize=(8,6))\n",
    "plt.rcParams['patch.force_edgecolor'] = True\n",
    "ratings_mean_count['rating_counts'].hist(bins=10)"
   ]
  },
  {
   "cell_type": "code",
   "execution_count": 38,
   "metadata": {
    "ExecuteTime": {
     "end_time": "2021-01-29T16:06:56.854835Z",
     "start_time": "2021-01-29T16:06:56.367161Z"
    }
   },
   "outputs": [
    {
     "data": {
      "text/plain": [
       "<matplotlib.axes._subplots.AxesSubplot at 0x1158d9906a0>"
      ]
     },
     "execution_count": 38,
     "metadata": {},
     "output_type": "execute_result"
    },
    {
     "data": {
      "image/png": "[encoded data removed]",
      "text/plain": [
       "<Figure size 576x432 with 1 Axes>"
      ]
     },
     "metadata": {
      "needs_background": "light"
     },
     "output_type": "display_data"
    }
   ],
   "source": [
    "plt.figure(figsize=(8,6))\n",
    "plt.rcParams['patch.force_edgecolor'] = True\n",
    "ratings_mean_count['book_rating'].hist(bins=10)"
   ]
  },
  {
   "cell_type": "code",
   "execution_count": 39,
   "metadata": {
    "ExecuteTime": {
     "end_time": "2021-01-29T16:06:59.039383Z",
     "start_time": "2021-01-29T16:06:57.364897Z"
    }
   },
   "outputs": [
    {
     "data": {
      "text/plain": [
       "<seaborn.axisgrid.JointGrid at 0x1158d975fa0>"
      ]
     },
     "execution_count": 39,
     "metadata": {},
     "output_type": "execute_result"
    },
    {
     "data": {
      "text/plain": [
       "<Figure size 576x432 with 0 Axes>"
      ]
     },
     "metadata": {},
     "output_type": "display_data"
    },
    {
     "data": {
      "image/png": "[encoded data removed]",
      "text/plain": [
       "<Figure size 432x432 with 3 Axes>"
      ]
     },
     "metadata": {
      "needs_background": "light"
     },
     "output_type": "display_data"
    }
   ],
   "source": [
    "plt.figure(figsize=(8,6))\n",
    "plt.rcParams['patch.force_edgecolor'] = True\n",
    "sns.jointplot(x='book_rating', y='rating_counts', data=ratings_mean_count, alpha=0.4)"
   ]
  },
  {
   "cell_type": "markdown",
   "metadata": {},
   "source": [
    "# Conclusion:-\n",
    "\n",
    "\n",
    "### From the output you can see that the Books that have high correlation  are not very well known. This shows that correlation alone is not a good metric for similarity because there can be a user who wished to take those Books  and only  other books and rated  them same.\n"
   ]
  }
 ],
 "metadata": {
  "kernelspec": {
   "display_name": "Python 3",
   "language": "python",
   "name": "python3"
  },
  "language_info": {
   "codemirror_mode": {
    "name": "ipython",
    "version": 3
   },
   "file_extension": ".py",
   "mimetype": "text/x-python",
   "name": "python",
   "nbconvert_exporter": "python",
   "pygments_lexer": "ipython3",
   "version": "3.8.3"
  },
  "varInspector": {
   "cols": {
    "lenName": 16,
    "lenType": 16,
    "lenVar": 40
   },
   "kernels_config": {
    "python": {
     "delete_cmd_postfix": "",
     "delete_cmd_prefix": "del ",
     "library": "var_list.py",
     "varRefreshCmd": "print(var_dic_list())"
    },
    "r": {
     "delete_cmd_postfix": ") ",
     "delete_cmd_prefix": "rm(",
     "library": "var_list.r",
     "varRefreshCmd": "cat(var_dic_list()) "
    }
   },
   "types_to_exclude": [
    "module",
    "function",
    "builtin_function_or_method",
    "instance",
    "_Feature"
   ],
   "window_display": false
  }
 },
 "nbformat": 4,
 "nbformat_minor": 4
}
