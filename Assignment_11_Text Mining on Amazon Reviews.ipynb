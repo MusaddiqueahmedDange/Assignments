{
 "cells": [
  {
   "cell_type": "code",
   "execution_count": 54,
   "metadata": {
    "ExecuteTime": {
     "end_time": "2021-02-12T04:49:25.861717Z",
     "start_time": "2021-02-12T04:49:25.847836Z"
    }
   },
   "outputs": [],
   "source": [
    "import numpy as np            #importing all the required libraries\n",
    "import pandas as pd\n",
    "import string\n",
    "import spacy\n",
    "\n",
    "from matplotlib.pyplot import imread\n",
    "from matplotlib import pyplot as plt\n",
    "from wordcloud import WordCloud\n",
    "%matplotlib inline"
   ]
  },
  {
   "cell_type": "code",
   "execution_count": 55,
   "metadata": {
    "ExecuteTime": {
     "end_time": "2021-02-12T04:49:30.036658Z",
     "start_time": "2021-02-12T04:49:30.022515Z"
    }
   },
   "outputs": [],
   "source": [
    "import pandas as pd          #read the amazon reviews dataset of samsung galaxy M31s smartphone\n",
    "amazon=pd.read_csv(\"Amazon.csv\",error_bad_lines=False)"
   ]
  },
  {
   "cell_type": "code",
   "execution_count": 56,
   "metadata": {
    "ExecuteTime": {
     "end_time": "2021-02-12T04:49:35.650882Z",
     "start_time": "2021-02-12T04:49:35.606290Z"
    }
   },
   "outputs": [
    {
     "data": {
      "text/html": [
       "<div>\n",
       "<style scoped>\n",
       "    .dataframe tbody tr th:only-of-type {\n",
       "        vertical-align: middle;\n",
       "    }\n",
       "\n",
       "    .dataframe tbody tr th {\n",
       "        vertical-align: top;\n",
       "    }\n",
       "\n",
       "    .dataframe thead th {\n",
       "        text-align: right;\n",
       "    }\n",
       "</style>\n",
       "<table border=\"1\" class=\"dataframe\">\n",
       "  <thead>\n",
       "    <tr style=\"text-align: right;\">\n",
       "      <th></th>\n",
       "      <th>asin</th>\n",
       "      <th>product_title</th>\n",
       "      <th>average_rating</th>\n",
       "      <th>review_author</th>\n",
       "      <th>reviewed_product_attribute</th>\n",
       "      <th>review_rating</th>\n",
       "      <th>review_date</th>\n",
       "      <th>reviewed_country</th>\n",
       "      <th>review_text</th>\n",
       "      <th>review_comment_count</th>\n",
       "      <th>review_header</th>\n",
       "      <th>no_of_people_reacted_helpful</th>\n",
       "      <th>author_profile_url</th>\n",
       "      <th>url</th>\n",
       "      <th>brand</th>\n",
       "      <th>review_url</th>\n",
       "    </tr>\n",
       "  </thead>\n",
       "  <tbody>\n",
       "    <tr>\n",
       "      <th>0</th>\n",
       "      <td>B07DJCJBB3</td>\n",
       "      <td>Samsung Galaxy M31s (Mirage Blue, 6GB RAM, 128...</td>\n",
       "      <td>4.3</td>\n",
       "      <td>Raman Kumar</td>\n",
       "      <td>Colour: Mirage Black | Style name: 6GB RAM</td>\n",
       "      <td>4.0</td>\n",
       "      <td>August 12, 2020</td>\n",
       "      <td>India</td>\n",
       "      <td>I am facing two problems 1. Fingerprint Sensor...</td>\n",
       "      <td>NaN</td>\n",
       "      <td>Good Phone</td>\n",
       "      <td>4</td>\n",
       "      <td>https://www.amazon.in/gp/profile/amzn1.account...</td>\n",
       "      <td>https://www.amazon.in/product-reviews/B07DJCJB...</td>\n",
       "      <td>Samsung</td>\n",
       "      <td>https://www.amazon.in/gp/customer-reviews/R2CI...</td>\n",
       "    </tr>\n",
       "    <tr>\n",
       "      <th>1</th>\n",
       "      <td>B07DJCJBB3</td>\n",
       "      <td>Samsung Galaxy M31s (Mirage Blue, 6GB RAM, 128...</td>\n",
       "      <td>4.3</td>\n",
       "      <td>sumon</td>\n",
       "      <td>Colour: Mirage Black | Style name: 6GB RAM</td>\n",
       "      <td>3.0</td>\n",
       "      <td>August 20, 2020</td>\n",
       "      <td>India</td>\n",
       "      <td>The video stability needs a lot of improvement...</td>\n",
       "      <td>NaN</td>\n",
       "      <td>3.5/5 Just Camera Improvements needed</td>\n",
       "      <td>2</td>\n",
       "      <td>https://www.amazon.in/gp/profile/amzn1.account...</td>\n",
       "      <td>https://www.amazon.in/product-reviews/B07DJCJB...</td>\n",
       "      <td>Samsung</td>\n",
       "      <td>https://www.amazon.in/gp/customer-reviews/R1PC...</td>\n",
       "    </tr>\n",
       "    <tr>\n",
       "      <th>2</th>\n",
       "      <td>B07DJCJBB3</td>\n",
       "      <td>Samsung Galaxy M31s (Mirage Blue, 6GB RAM, 128...</td>\n",
       "      <td>4.3</td>\n",
       "      <td>Deepak</td>\n",
       "      <td>Colour: Mirage Blue | Style name: 6GB RAM</td>\n",
       "      <td>5.0</td>\n",
       "      <td>August 10, 2020</td>\n",
       "      <td>India</td>\n",
       "      <td>good product under budget. Got it for 18K in A...</td>\n",
       "      <td>NaN</td>\n",
       "      <td>VALUE FOR MONEY</td>\n",
       "      <td>43</td>\n",
       "      <td>https://www.amazon.in/gp/profile/amzn1.account...</td>\n",
       "      <td>https://www.amazon.in/product-reviews/B07DJCJB...</td>\n",
       "      <td>Samsung</td>\n",
       "      <td>https://www.amazon.in/gp/customer-reviews/R1N1...</td>\n",
       "    </tr>\n",
       "    <tr>\n",
       "      <th>3</th>\n",
       "      <td>B07DJCJBB3</td>\n",
       "      <td>Samsung Galaxy M31s (Mirage Blue, 6GB RAM, 128...</td>\n",
       "      <td>4.3</td>\n",
       "      <td>Vijoy K.</td>\n",
       "      <td>Colour: Mirage Black | Style name: 6GB RAM</td>\n",
       "      <td>5.0</td>\n",
       "      <td>August 16, 2020</td>\n",
       "      <td>India</td>\n",
       "      <td>The mobile was delivered on Aug 12, much befor...</td>\n",
       "      <td>NaN</td>\n",
       "      <td>Wonderful</td>\n",
       "      <td>5</td>\n",
       "      <td>https://www.amazon.in/gp/profile/amzn1.account...</td>\n",
       "      <td>https://www.amazon.in/product-reviews/B07DJCJB...</td>\n",
       "      <td>Samsung</td>\n",
       "      <td>https://www.amazon.in/gp/customer-reviews/R1HN...</td>\n",
       "    </tr>\n",
       "    <tr>\n",
       "      <th>4</th>\n",
       "      <td>B07DJCJBB3</td>\n",
       "      <td>Samsung Galaxy M31s (Mirage Blue, 6GB RAM, 128...</td>\n",
       "      <td>4.3</td>\n",
       "      <td>Venessa</td>\n",
       "      <td>Colour: Mirage Blue | Style name: 6GB RAM</td>\n",
       "      <td>4.0</td>\n",
       "      <td>August 17, 2020</td>\n",
       "      <td>India</td>\n",
       "      <td>1. Fingerprint reader is very fast. 2. Face un...</td>\n",
       "      <td>NaN</td>\n",
       "      <td>Overall a good phone.</td>\n",
       "      <td>2</td>\n",
       "      <td>https://www.amazon.in/gp/profile/amzn1.account...</td>\n",
       "      <td>https://www.amazon.in/product-reviews/B07DJCJB...</td>\n",
       "      <td>Samsung</td>\n",
       "      <td>https://www.amazon.in/gp/customer-reviews/R3CG...</td>\n",
       "    </tr>\n",
       "    <tr>\n",
       "      <th>...</th>\n",
       "      <td>...</td>\n",
       "      <td>...</td>\n",
       "      <td>...</td>\n",
       "      <td>...</td>\n",
       "      <td>...</td>\n",
       "      <td>...</td>\n",
       "      <td>...</td>\n",
       "      <td>...</td>\n",
       "      <td>...</td>\n",
       "      <td>...</td>\n",
       "      <td>...</td>\n",
       "      <td>...</td>\n",
       "      <td>...</td>\n",
       "      <td>...</td>\n",
       "      <td>...</td>\n",
       "      <td>...</td>\n",
       "    </tr>\n",
       "    <tr>\n",
       "      <th>245</th>\n",
       "      <td>B07DJCJBB3</td>\n",
       "      <td>Samsung Galaxy M31s (Mirage Blue, 6GB RAM, 128...</td>\n",
       "      <td>4.3</td>\n",
       "      <td>Varshini prasanna</td>\n",
       "      <td>Colour: Mirage Blue | Style name: 6GB RAM</td>\n",
       "      <td>5.0</td>\n",
       "      <td>August 13, 2020</td>\n",
       "      <td>India</td>\n",
       "      <td>Reviewing this after 48 hours of arrival..So f...</td>\n",
       "      <td>NaN</td>\n",
       "      <td>Worth Buying</td>\n",
       "      <td>2</td>\n",
       "      <td>https://www.amazon.in/gp/profile/amzn1.account...</td>\n",
       "      <td>https://www.amazon.in/product-reviews/B07DJCJB...</td>\n",
       "      <td>Samsung</td>\n",
       "      <td>https://www.amazon.in/gp/customer-reviews/RF7N...</td>\n",
       "    </tr>\n",
       "    <tr>\n",
       "      <th>246</th>\n",
       "      <td>B07DJCJBB3</td>\n",
       "      <td>Samsung Galaxy M31s (Mirage Blue, 6GB RAM, 128...</td>\n",
       "      <td>4.3</td>\n",
       "      <td>Sumit</td>\n",
       "      <td>Colour: Mirage Blue | Style name: 6GB RAM</td>\n",
       "      <td>1.0</td>\n",
       "      <td>August 29, 2020</td>\n",
       "      <td>India</td>\n",
       "      <td>Worst mobile ever phone is heating too much I ...</td>\n",
       "      <td>NaN</td>\n",
       "      <td>Worst mobile</td>\n",
       "      <td>22</td>\n",
       "      <td>https://www.amazon.in/gp/profile/amzn1.account...</td>\n",
       "      <td>https://www.amazon.in/product-reviews/B07DJCJB...</td>\n",
       "      <td>Samsung</td>\n",
       "      <td>https://www.amazon.in/gp/customer-reviews/R31W...</td>\n",
       "    </tr>\n",
       "    <tr>\n",
       "      <th>247</th>\n",
       "      <td>B07DJCJBB3</td>\n",
       "      <td>Samsung Galaxy M31s (Mirage Blue, 6GB RAM, 128...</td>\n",
       "      <td>4.3</td>\n",
       "      <td>Manoj U.</td>\n",
       "      <td>Colour: Mirage Blue | Style name: 6GB RAM</td>\n",
       "      <td>5.0</td>\n",
       "      <td>August 20, 2020</td>\n",
       "      <td>India</td>\n",
       "      <td>I haven't words for M31S, GREAT, I didn't like...</td>\n",
       "      <td>NaN</td>\n",
       "      <td>Good</td>\n",
       "      <td>23</td>\n",
       "      <td>https://www.amazon.in/gp/profile/amzn1.account...</td>\n",
       "      <td>https://www.amazon.in/product-reviews/B07DJCJB...</td>\n",
       "      <td>Samsung</td>\n",
       "      <td>https://www.amazon.in/gp/customer-reviews/R3T5...</td>\n",
       "    </tr>\n",
       "    <tr>\n",
       "      <th>248</th>\n",
       "      <td>B07DJCJBB3</td>\n",
       "      <td>Samsung Galaxy M31s (Mirage Blue, 6GB RAM, 128...</td>\n",
       "      <td>4.3</td>\n",
       "      <td>PARIJAT FOUZDAR</td>\n",
       "      <td>Colour: Mirage Blue | Style name: 6GB RAM</td>\n",
       "      <td>5.0</td>\n",
       "      <td>September 26, 2020</td>\n",
       "      <td>India</td>\n",
       "      <td>This is perfect for day to day usage with fant...</td>\n",
       "      <td>NaN</td>\n",
       "      <td>Fantastic experience with my first samsung phone.</td>\n",
       "      <td>1</td>\n",
       "      <td>https://www.amazon.in/gp/profile/amzn1.account...</td>\n",
       "      <td>https://www.amazon.in/product-reviews/B07DJCJB...</td>\n",
       "      <td>Samsung</td>\n",
       "      <td>https://www.amazon.in/gp/customer-reviews/R309...</td>\n",
       "    </tr>\n",
       "    <tr>\n",
       "      <th>249</th>\n",
       "      <td>B07DJCJBB3</td>\n",
       "      <td>Samsung Galaxy M31s (Mirage Blue, 6GB RAM, 128...</td>\n",
       "      <td>4.3</td>\n",
       "      <td>Vishesh</td>\n",
       "      <td>Colour: Mirage Blue | Style name: 8GB RAM</td>\n",
       "      <td>4.0</td>\n",
       "      <td>August 18, 2020</td>\n",
       "      <td>India</td>\n",
       "      <td>Well this is my Jump from Galaxy J7 prime(2016...</td>\n",
       "      <td>NaN</td>\n",
       "      <td>Does the Job no big expectations.</td>\n",
       "      <td>4</td>\n",
       "      <td>https://www.amazon.in/gp/profile/amzn1.account...</td>\n",
       "      <td>https://www.amazon.in/product-reviews/B07DJCJB...</td>\n",
       "      <td>Samsung</td>\n",
       "      <td>https://www.amazon.in/gp/customer-reviews/R3NN...</td>\n",
       "    </tr>\n",
       "  </tbody>\n",
       "</table>\n",
       "<p>250 rows × 16 columns</p>\n",
       "</div>"
      ],
      "text/plain": [
       "           asin                                      product_title  \\\n",
       "0    B07DJCJBB3  Samsung Galaxy M31s (Mirage Blue, 6GB RAM, 128...   \n",
       "1    B07DJCJBB3  Samsung Galaxy M31s (Mirage Blue, 6GB RAM, 128...   \n",
       "2    B07DJCJBB3  Samsung Galaxy M31s (Mirage Blue, 6GB RAM, 128...   \n",
       "3    B07DJCJBB3  Samsung Galaxy M31s (Mirage Blue, 6GB RAM, 128...   \n",
       "4    B07DJCJBB3  Samsung Galaxy M31s (Mirage Blue, 6GB RAM, 128...   \n",
       "..          ...                                                ...   \n",
       "245  B07DJCJBB3  Samsung Galaxy M31s (Mirage Blue, 6GB RAM, 128...   \n",
       "246  B07DJCJBB3  Samsung Galaxy M31s (Mirage Blue, 6GB RAM, 128...   \n",
       "247  B07DJCJBB3  Samsung Galaxy M31s (Mirage Blue, 6GB RAM, 128...   \n",
       "248  B07DJCJBB3  Samsung Galaxy M31s (Mirage Blue, 6GB RAM, 128...   \n",
       "249  B07DJCJBB3  Samsung Galaxy M31s (Mirage Blue, 6GB RAM, 128...   \n",
       "\n",
       "     average_rating      review_author  \\\n",
       "0               4.3        Raman Kumar   \n",
       "1               4.3              sumon   \n",
       "2               4.3             Deepak   \n",
       "3               4.3           Vijoy K.   \n",
       "4               4.3            Venessa   \n",
       "..              ...                ...   \n",
       "245             4.3  Varshini prasanna   \n",
       "246             4.3              Sumit   \n",
       "247             4.3           Manoj U.   \n",
       "248             4.3    PARIJAT FOUZDAR   \n",
       "249             4.3            Vishesh   \n",
       "\n",
       "                     reviewed_product_attribute  review_rating  \\\n",
       "0    Colour: Mirage Black | Style name: 6GB RAM            4.0   \n",
       "1    Colour: Mirage Black | Style name: 6GB RAM            3.0   \n",
       "2     Colour: Mirage Blue | Style name: 6GB RAM            5.0   \n",
       "3    Colour: Mirage Black | Style name: 6GB RAM            5.0   \n",
       "4     Colour: Mirage Blue | Style name: 6GB RAM            4.0   \n",
       "..                                          ...            ...   \n",
       "245   Colour: Mirage Blue | Style name: 6GB RAM            5.0   \n",
       "246   Colour: Mirage Blue | Style name: 6GB RAM            1.0   \n",
       "247   Colour: Mirage Blue | Style name: 6GB RAM            5.0   \n",
       "248   Colour: Mirage Blue | Style name: 6GB RAM            5.0   \n",
       "249   Colour: Mirage Blue | Style name: 8GB RAM            4.0   \n",
       "\n",
       "            review_date reviewed_country  \\\n",
       "0       August 12, 2020            India   \n",
       "1       August 20, 2020            India   \n",
       "2       August 10, 2020            India   \n",
       "3       August 16, 2020            India   \n",
       "4       August 17, 2020            India   \n",
       "..                  ...              ...   \n",
       "245     August 13, 2020            India   \n",
       "246     August 29, 2020            India   \n",
       "247     August 20, 2020            India   \n",
       "248  September 26, 2020            India   \n",
       "249     August 18, 2020            India   \n",
       "\n",
       "                                           review_text  review_comment_count  \\\n",
       "0    I am facing two problems 1. Fingerprint Sensor...                   NaN   \n",
       "1    The video stability needs a lot of improvement...                   NaN   \n",
       "2    good product under budget. Got it for 18K in A...                   NaN   \n",
       "3    The mobile was delivered on Aug 12, much befor...                   NaN   \n",
       "4    1. Fingerprint reader is very fast. 2. Face un...                   NaN   \n",
       "..                                                 ...                   ...   \n",
       "245  Reviewing this after 48 hours of arrival..So f...                   NaN   \n",
       "246  Worst mobile ever phone is heating too much I ...                   NaN   \n",
       "247  I haven't words for M31S, GREAT, I didn't like...                   NaN   \n",
       "248  This is perfect for day to day usage with fant...                   NaN   \n",
       "249  Well this is my Jump from Galaxy J7 prime(2016...                   NaN   \n",
       "\n",
       "                                         review_header  \\\n",
       "0                                           Good Phone   \n",
       "1                3.5/5 Just Camera Improvements needed   \n",
       "2                                      VALUE FOR MONEY   \n",
       "3                                            Wonderful   \n",
       "4                                Overall a good phone.   \n",
       "..                                                 ...   \n",
       "245                                       Worth Buying   \n",
       "246                                       Worst mobile   \n",
       "247                                               Good   \n",
       "248  Fantastic experience with my first samsung phone.   \n",
       "249                  Does the Job no big expectations.   \n",
       "\n",
       "    no_of_people_reacted_helpful  \\\n",
       "0                              4   \n",
       "1                              2   \n",
       "2                             43   \n",
       "3                              5   \n",
       "4                              2   \n",
       "..                           ...   \n",
       "245                            2   \n",
       "246                           22   \n",
       "247                           23   \n",
       "248                            1   \n",
       "249                            4   \n",
       "\n",
       "                                    author_profile_url  \\\n",
       "0    https://www.amazon.in/gp/profile/amzn1.account...   \n",
       "1    https://www.amazon.in/gp/profile/amzn1.account...   \n",
       "2    https://www.amazon.in/gp/profile/amzn1.account...   \n",
       "3    https://www.amazon.in/gp/profile/amzn1.account...   \n",
       "4    https://www.amazon.in/gp/profile/amzn1.account...   \n",
       "..                                                 ...   \n",
       "245  https://www.amazon.in/gp/profile/amzn1.account...   \n",
       "246  https://www.amazon.in/gp/profile/amzn1.account...   \n",
       "247  https://www.amazon.in/gp/profile/amzn1.account...   \n",
       "248  https://www.amazon.in/gp/profile/amzn1.account...   \n",
       "249  https://www.amazon.in/gp/profile/amzn1.account...   \n",
       "\n",
       "                                                   url    brand  \\\n",
       "0    https://www.amazon.in/product-reviews/B07DJCJB...  Samsung   \n",
       "1    https://www.amazon.in/product-reviews/B07DJCJB...  Samsung   \n",
       "2    https://www.amazon.in/product-reviews/B07DJCJB...  Samsung   \n",
       "3    https://www.amazon.in/product-reviews/B07DJCJB...  Samsung   \n",
       "4    https://www.amazon.in/product-reviews/B07DJCJB...  Samsung   \n",
       "..                                                 ...      ...   \n",
       "245  https://www.amazon.in/product-reviews/B07DJCJB...  Samsung   \n",
       "246  https://www.amazon.in/product-reviews/B07DJCJB...  Samsung   \n",
       "247  https://www.amazon.in/product-reviews/B07DJCJB...  Samsung   \n",
       "248  https://www.amazon.in/product-reviews/B07DJCJB...  Samsung   \n",
       "249  https://www.amazon.in/product-reviews/B07DJCJB...  Samsung   \n",
       "\n",
       "                                            review_url  \n",
       "0    https://www.amazon.in/gp/customer-reviews/R2CI...  \n",
       "1    https://www.amazon.in/gp/customer-reviews/R1PC...  \n",
       "2    https://www.amazon.in/gp/customer-reviews/R1N1...  \n",
       "3    https://www.amazon.in/gp/customer-reviews/R1HN...  \n",
       "4    https://www.amazon.in/gp/customer-reviews/R3CG...  \n",
       "..                                                 ...  \n",
       "245  https://www.amazon.in/gp/customer-reviews/RF7N...  \n",
       "246  https://www.amazon.in/gp/customer-reviews/R31W...  \n",
       "247  https://www.amazon.in/gp/customer-reviews/R3T5...  \n",
       "248  https://www.amazon.in/gp/customer-reviews/R309...  \n",
       "249  https://www.amazon.in/gp/customer-reviews/R3NN...  \n",
       "\n",
       "[250 rows x 16 columns]"
      ]
     },
     "execution_count": 56,
     "metadata": {},
     "output_type": "execute_result"
    }
   ],
   "source": [
    "amazon"
   ]
  },
  {
   "cell_type": "code",
   "execution_count": 57,
   "metadata": {
    "ExecuteTime": {
     "end_time": "2021-02-12T04:49:38.991263Z",
     "start_time": "2021-02-12T04:49:38.967450Z"
    }
   },
   "outputs": [],
   "source": [
    "amazon.drop(['asin'],inplace=True,axis=1)                #drop the columns which is not necessary to perform the nlp\n",
    "amazon.drop(['product_title'],inplace=True,axis=1)\n",
    "amazon.drop(['average_rating'],inplace=True,axis=1)\n",
    "amazon.drop(['review_author'],inplace=True,axis=1)\n",
    "amazon.drop(['reviewed_product_attribute'],inplace=True,axis=1)\n",
    "amazon.drop(['review_rating'],inplace=True,axis=1)\n",
    "amazon.drop(['review_date'],inplace=True,axis=1)\n",
    "amazon.drop(['reviewed_country'],inplace=True,axis=1)\n",
    "amazon.drop(['review_comment_count'],inplace=True,axis=1)\n",
    "amazon.drop(['review_header'],inplace=True,axis=1)\n",
    "amazon.drop(['no_of_people_reacted_helpful'],inplace=True,axis=1)\n",
    "amazon.drop(['author_profile_url'],inplace=True,axis=1)\n",
    "amazon.drop(['url'],inplace=True,axis=1)\n",
    "amazon.drop(['brand'],inplace=True,axis=1)\n",
    "amazon.drop(['review_url'],inplace=True,axis=1)"
   ]
  },
  {
   "cell_type": "code",
   "execution_count": 58,
   "metadata": {
    "ExecuteTime": {
     "end_time": "2021-02-12T04:49:41.457840Z",
     "start_time": "2021-02-12T04:49:41.426385Z"
    }
   },
   "outputs": [
    {
     "data": {
      "text/html": [
       "<div>\n",
       "<style scoped>\n",
       "    .dataframe tbody tr th:only-of-type {\n",
       "        vertical-align: middle;\n",
       "    }\n",
       "\n",
       "    .dataframe tbody tr th {\n",
       "        vertical-align: top;\n",
       "    }\n",
       "\n",
       "    .dataframe thead th {\n",
       "        text-align: right;\n",
       "    }\n",
       "</style>\n",
       "<table border=\"1\" class=\"dataframe\">\n",
       "  <thead>\n",
       "    <tr style=\"text-align: right;\">\n",
       "      <th></th>\n",
       "      <th>review_text</th>\n",
       "    </tr>\n",
       "  </thead>\n",
       "  <tbody>\n",
       "    <tr>\n",
       "      <th>0</th>\n",
       "      <td>I am facing two problems 1. Fingerprint Sensor...</td>\n",
       "    </tr>\n",
       "    <tr>\n",
       "      <th>1</th>\n",
       "      <td>The video stability needs a lot of improvement...</td>\n",
       "    </tr>\n",
       "    <tr>\n",
       "      <th>2</th>\n",
       "      <td>good product under budget. Got it for 18K in A...</td>\n",
       "    </tr>\n",
       "    <tr>\n",
       "      <th>3</th>\n",
       "      <td>The mobile was delivered on Aug 12, much befor...</td>\n",
       "    </tr>\n",
       "    <tr>\n",
       "      <th>4</th>\n",
       "      <td>1. Fingerprint reader is very fast. 2. Face un...</td>\n",
       "    </tr>\n",
       "    <tr>\n",
       "      <th>...</th>\n",
       "      <td>...</td>\n",
       "    </tr>\n",
       "    <tr>\n",
       "      <th>245</th>\n",
       "      <td>Reviewing this after 48 hours of arrival..So f...</td>\n",
       "    </tr>\n",
       "    <tr>\n",
       "      <th>246</th>\n",
       "      <td>Worst mobile ever phone is heating too much I ...</td>\n",
       "    </tr>\n",
       "    <tr>\n",
       "      <th>247</th>\n",
       "      <td>I haven't words for M31S, GREAT, I didn't like...</td>\n",
       "    </tr>\n",
       "    <tr>\n",
       "      <th>248</th>\n",
       "      <td>This is perfect for day to day usage with fant...</td>\n",
       "    </tr>\n",
       "    <tr>\n",
       "      <th>249</th>\n",
       "      <td>Well this is my Jump from Galaxy J7 prime(2016...</td>\n",
       "    </tr>\n",
       "  </tbody>\n",
       "</table>\n",
       "<p>250 rows × 1 columns</p>\n",
       "</div>"
      ],
      "text/plain": [
       "                                           review_text\n",
       "0    I am facing two problems 1. Fingerprint Sensor...\n",
       "1    The video stability needs a lot of improvement...\n",
       "2    good product under budget. Got it for 18K in A...\n",
       "3    The mobile was delivered on Aug 12, much befor...\n",
       "4    1. Fingerprint reader is very fast. 2. Face un...\n",
       "..                                                 ...\n",
       "245  Reviewing this after 48 hours of arrival..So f...\n",
       "246  Worst mobile ever phone is heating too much I ...\n",
       "247  I haven't words for M31S, GREAT, I didn't like...\n",
       "248  This is perfect for day to day usage with fant...\n",
       "249  Well this is my Jump from Galaxy J7 prime(2016...\n",
       "\n",
       "[250 rows x 1 columns]"
      ]
     },
     "execution_count": 58,
     "metadata": {},
     "output_type": "execute_result"
    }
   ],
   "source": [
    "amazon"
   ]
  },
  {
   "cell_type": "code",
   "execution_count": 59,
   "metadata": {
    "ExecuteTime": {
     "end_time": "2021-02-12T04:49:52.908942Z",
     "start_time": "2021-02-12T04:49:45.232208Z"
    }
   },
   "outputs": [
    {
     "name": "stdout",
     "output_type": "stream",
     "text": [
      "Requirement already satisfied: en-core-web-sm==3.0.0 from https://github.com/explosion/spacy-models/releases/download/en_core_web_sm-3.0.0/en_core_web_sm-3.0.0-py3-none-any.whl#egg=en_core_web_sm==3.0.0 in c:\\users\\musaddique\\anaconda3\\lib\\site-packages (3.0.0)\n",
      "Requirement already satisfied: spacy<3.1.0,>=3.0.0 in c:\\users\\musaddique\\anaconda3\\lib\\site-packages (from en-core-web-sm==3.0.0) (3.0.1)\n",
      "Requirement already satisfied: catalogue<2.1.0,>=2.0.1 in c:\\users\\musaddique\\anaconda3\\lib\\site-packages (from spacy<3.1.0,>=3.0.0->en-core-web-sm==3.0.0) (2.0.1)\n",
      "Requirement already satisfied: jinja2 in c:\\users\\musaddique\\anaconda3\\lib\\site-packages (from spacy<3.1.0,>=3.0.0->en-core-web-sm==3.0.0) (2.11.2)\n",
      "Requirement already satisfied: wasabi<1.1.0,>=0.8.1 in c:\\users\\musaddique\\anaconda3\\lib\\site-packages (from spacy<3.1.0,>=3.0.0->en-core-web-sm==3.0.0) (0.8.2)\n",
      "Requirement already satisfied: thinc<8.1.0,>=8.0.0 in c:\\users\\musaddique\\anaconda3\\lib\\site-packages (from spacy<3.1.0,>=3.0.0->en-core-web-sm==3.0.0) (8.0.1)\n",
      "Requirement already satisfied: tqdm<5.0.0,>=4.38.0 in c:\\users\\musaddique\\anaconda3\\lib\\site-packages (from spacy<3.1.0,>=3.0.0->en-core-web-sm==3.0.0) (4.47.0)\n",
      "Requirement already satisfied: pathy in c:\\users\\musaddique\\anaconda3\\lib\\site-packages (from spacy<3.1.0,>=3.0.0->en-core-web-sm==3.0.0) (0.3.6)\n",
      "Requirement already satisfied: setuptools in c:\\users\\musaddique\\anaconda3\\lib\\site-packages (from spacy<3.1.0,>=3.0.0->en-core-web-sm==3.0.0) (49.2.0.post20200714)\n",
      "Requirement already satisfied: pydantic<1.8.0,>=1.7.1 in c:\\users\\musaddique\\anaconda3\\lib\\site-packages (from spacy<3.1.0,>=3.0.0->en-core-web-sm==3.0.0) (1.7.3)\n",
      "Requirement already satisfied: packaging>=20.0 in c:\\users\\musaddique\\anaconda3\\lib\\site-packages (from spacy<3.1.0,>=3.0.0->en-core-web-sm==3.0.0) (20.4)\n",
      "Requirement already satisfied: typer<0.4.0,>=0.3.0 in c:\\users\\musaddique\\anaconda3\\lib\\site-packages (from spacy<3.1.0,>=3.0.0->en-core-web-sm==3.0.0) (0.3.2)\n",
      "Requirement already satisfied: spacy-legacy<3.1.0,>=3.0.0 in c:\\users\\musaddique\\anaconda3\\lib\\site-packages (from spacy<3.1.0,>=3.0.0->en-core-web-sm==3.0.0) (3.0.1)\n",
      "Requirement already satisfied: numpy>=1.15.0 in c:\\users\\musaddique\\anaconda3\\lib\\site-packages (from spacy<3.1.0,>=3.0.0->en-core-web-sm==3.0.0) (1.19.5)\n",
      "Requirement already satisfied: murmurhash<1.1.0,>=0.28.0 in c:\\users\\musaddique\\anaconda3\\lib\\site-packages (from spacy<3.1.0,>=3.0.0->en-core-web-sm==3.0.0) (1.0.5)\n",
      "Requirement already satisfied: preshed<3.1.0,>=3.0.2 in c:\\users\\musaddique\\anaconda3\\lib\\site-packages (from spacy<3.1.0,>=3.0.0->en-core-web-sm==3.0.0) (3.0.5)\n",
      "Requirement already satisfied: requests<3.0.0,>=2.13.0 in c:\\users\\musaddique\\anaconda3\\lib\\site-packages (from spacy<3.1.0,>=3.0.0->en-core-web-sm==3.0.0) (2.24.0)\n",
      "Requirement already satisfied: srsly<3.0.0,>=2.4.0 in c:\\users\\musaddique\\anaconda3\\lib\\site-packages (from spacy<3.1.0,>=3.0.0->en-core-web-sm==3.0.0) (2.4.0)\n",
      "Requirement already satisfied: blis<0.8.0,>=0.4.0 in c:\\users\\musaddique\\anaconda3\\lib\\site-packages (from spacy<3.1.0,>=3.0.0->en-core-web-sm==3.0.0) (0.7.4)\n",
      "Requirement already satisfied: cymem<2.1.0,>=2.0.2 in c:\\users\\musaddique\\anaconda3\\lib\\site-packages (from spacy<3.1.0,>=3.0.0->en-core-web-sm==3.0.0) (2.0.5)\n",
      "Requirement already satisfied: MarkupSafe>=0.23 in c:\\users\\musaddique\\anaconda3\\lib\\site-packages (from jinja2->spacy<3.1.0,>=3.0.0->en-core-web-sm==3.0.0) (1.1.1)\n",
      "Requirement already satisfied: smart-open<4.0.0,>=2.2.0 in c:\\users\\musaddique\\anaconda3\\lib\\site-packages (from pathy->spacy<3.1.0,>=3.0.0->en-core-web-sm==3.0.0) (3.0.0)\n",
      "Requirement already satisfied: six in c:\\users\\musaddique\\anaconda3\\lib\\site-packages (from packaging>=20.0->spacy<3.1.0,>=3.0.0->en-core-web-sm==3.0.0) (1.15.0)\n",
      "Requirement already satisfied: pyparsing>=2.0.2 in c:\\users\\musaddique\\anaconda3\\lib\\site-packages (from packaging>=20.0->spacy<3.1.0,>=3.0.0->en-core-web-sm==3.0.0) (2.4.7)\n",
      "Requirement already satisfied: click<7.2.0,>=7.1.1 in c:\\users\\musaddique\\anaconda3\\lib\\site-packages (from typer<0.4.0,>=0.3.0->spacy<3.1.0,>=3.0.0->en-core-web-sm==3.0.0) (7.1.2)\n",
      "Requirement already satisfied: idna<3,>=2.5 in c:\\users\\musaddique\\anaconda3\\lib\\site-packages (from requests<3.0.0,>=2.13.0->spacy<3.1.0,>=3.0.0->en-core-web-sm==3.0.0) (2.10)\n",
      "Requirement already satisfied: certifi>=2017.4.17 in c:\\users\\musaddique\\anaconda3\\lib\\site-packages (from requests<3.0.0,>=2.13.0->spacy<3.1.0,>=3.0.0->en-core-web-sm==3.0.0) (2020.6.20)\n",
      "Requirement already satisfied: chardet<4,>=3.0.2 in c:\\users\\musaddique\\anaconda3\\lib\\site-packages (from requests<3.0.0,>=2.13.0->spacy<3.1.0,>=3.0.0->en-core-web-sm==3.0.0) (3.0.4)\n",
      "Requirement already satisfied: urllib3!=1.25.0,!=1.25.1,<1.26,>=1.21.1 in c:\\users\\musaddique\\anaconda3\\lib\\site-packages (from requests<3.0.0,>=2.13.0->spacy<3.1.0,>=3.0.0->en-core-web-sm==3.0.0) (1.25.9)\n",
      "[+] Download and installation successful\n",
      "You can now load the package via spacy.load('en_core_web_sm')\n"
     ]
    },
    {
     "name": "stderr",
     "output_type": "stream",
     "text": [
      "2021-02-12 10:19:45.940199: W tensorflow/stream_executor/platform/default/dso_loader.cc:60] Could not load dynamic library 'cudart64_110.dll'; dlerror: cudart64_110.dll not found\n",
      "2021-02-12 10:19:45.940235: I tensorflow/stream_executor/cuda/cudart_stub.cc:29] Ignore above cudart dlerror if you do not have a GPU set up on your machine.\n"
     ]
    }
   ],
   "source": [
    "!python -m spacy download en_core_web_sm"
   ]
  },
  {
   "cell_type": "code",
   "execution_count": 60,
   "metadata": {
    "ExecuteTime": {
     "end_time": "2021-02-12T04:50:00.075191Z",
     "start_time": "2021-02-12T04:50:00.058003Z"
    }
   },
   "outputs": [
    {
     "data": {
      "text/plain": [
       "['I am facing two problems 1. Fingerprint Sensor not so good as my previous A6 Plus. 2. Front Camara is shaking. Apart from this Amazon packaging is very very simple & bad.',\n",
       " 'The video stability needs a lot of improvement l, in this price segment these things should be more refined. Also, photos in low inditect sun light or artificial lights needs improvement as it has noise in the images. I think this is just a image processing thing which can be imlroved with the updates. Else I simply love ghe phone. Being a Samsung member for the past 10 years its been a nice experience.',\n",
       " \"good product under budget. Got it for 18K in Amazon sale. Phone is not heavy weight though it has big battery. Excellent display with L1 support. Super fast charger. Good cameras Side finger print sensor is very good. Stylish gradient design. Few things I personally didn't like: Build quality - seems very fragile. Too much of pre installed software by Samsung. No back cover included in the box. Phone looks very long (depends on personal choice). I am not a gamer. All in all best budget SUPER AMOLED mobile in this price range.\",\n",
       " 'The mobile was delivered on Aug 12, much before it was showing earlier. I was using MiMax2, a Chinese product and was happy to use that and had decided to patronise Mi in future. But with current concept of avoiding Chinese products altogether, I ordered Samsung M31s. Initially, it looked to be smaller that Mi max2, though both having 6.5 display. But later on realised that M31s is a bit longer that Mi max2 thus both the phones have the same square cm area! The mobile is fantastic in everything. The finger sensor at the power key on the side is comfortable, so is the face recognition; I am enjoying it. I have set all three, pattern, finger sensor and face recognition for opening it. I could easily install dual WhatsApp. Two sims with external memory card is appreciable, with Volte in both sims always on. Camera should be good; I do not use it much. I could not find a system of locking/unlocking individual app through finger sensor, as I was having in mi max2, nor a shortcut for using torch when in haste. Yet happy for discarding a Chinese mobile and substituting with a good one, Samsung M31s. Go for it.',\n",
       " \"1. Fingerprint reader is very fast. 2. Face unlock is a little slow though it can capture your face in a mid range dark room too. Disadvantage of the face unlock was once it cannot recognise your face it does not try again you'll have to use the fingerprint or password. 3. Camera quality is amazing in the light but in the dark there's a little disturbance. 4. The battery life is not that good as expected though they have advertised a lot about the battery being 6000mah. It's charges pretty fast. 5. Reverse charging also works amazing though you cannot charge it to any phone which uses a B cable. Only C to C phones will work for this. 6. A phone cover should have been provided with the amount taken. Plus its a little slippery so a phone cover is a must. Overall it's a good phone but these are a few pros and cons when buying the phone.\",\n",
       " \"Lets talk about the positives first: Design & Build - Compelling for this Price range. Fingerprint Magnet - Alert Display - Damn, This is the best. Software Experience - This is not a clean UI but I like this feature that Samsung almost took customization to the next level. Camera - Decent, Sony sensors does its job and Samsung's camera features is like a cherry on top. Multimedia Experience - This is what the phone is good at. Believe me it wont disappoint you either. Battery - Humongous. and Fast Charger is in the box. No need to worry about the battery backup. Cons:- Not major but noticeable. Weight :- You ll definitely feel it when used for a long period of time. Performance - This is not so good as the competition provides for this price range. You can notice it heavily while scrolling Twitter. But everything is usable. Just a little bit of boost to the performance would have taken this phone to the next level. Phone gets little bit warm which is also noticeable. ( I don't know if only I have that issue) Overall - (Gamer boy, Performance Addict) - Just Ignore this People like me those who could sacrifice that little performance for a good multimedia experience should definitely give it a try. And that display, you ll definitely fall in love with it.\",\n",
       " 'bought it on amazon prime day sale . phone looks are very premium. amoled display is amazing . the single take option in photos work perfectly and allows you to take multiple shots in one go. phone battery is also good and works for one and half day without charge on moderate use. overall premium phone at decent price.',\n",
       " \"All good. Comes preloaded with some 3rd party softwares, that was a bit irritating but all can be uninstalled. Great value for money though. Battery lasts full 24 hrs with heavy bluetooth usage with my earbuds and wireless ON all the time. Takes around 1.5 hrs to charge completely. It has Knox security but remember, it's not water proof so be cautious in rain and near pools, tanks, bathroom, etc. Feeling on screen is good. Great with multiple apps open at the same time. Do not forget to put TPU cover or armor guard with some screen guard. My friend dropped his 2 days old M31s from half a meter height and screen is shattered and gone black completely. I think original screen replacement from the authorised service center is 8.5k. Better safe than sorry. Worth every penny for this price. I bought in prime day sale so got 1500/- additional discount.\",\n",
       " \"Item defective & wrost products don't buy\",\n",
       " \"Lots and lots of heating problem is there in the upper part of the phone while calling or browsing. Because of this issue you can't call without earphones. Camera is also not that good as mentioned. Battery is also draining too fast .\",\n",
       " \"Just got my hands on this beauty today morning, One word, beautiful, excellent display, smooth touch, fabulous camera....will write a more detail review after using it for some time. But first impressions last for long and M31s doesn't disappoint on the contrary it puts a smile on your face !! PS - Disappointed not to get out of the box back cover even for this price segment, had to run from shop to shop to find one as its a new phone in the market, was hard to get one but got it eventually.\",\n",
       " \"I ordered the phone as soon as it went on sale, i.e on the midnight of August 6. I was unaware that it would only be available to prime users so I had to first subscribe to Amazon prime, and during this process the blue variant of the phone that I wanted to buy went out of stock. Nonetheless, I managed to order the mirage black 6gb variant which was the only one available at around 12:25 am. But yeah I would say that I'm not at all unsatisfied with the black one as it looks so stunning. The phone was delivered to me on the morning of August 9, that is pretty fast. It has been 2 days since I'm using the phone and I would say that there is a lot about the phone to boast. I'm so happy to have been able to buy this. Everything about this phone is so awesome but the two outstanding features of this phone are its premium looks and the rear camera. The rear camera captures stunning images in all light conditions and the quality of videos is also amazing. I really loved the single shot feature, its fun to use. One thing that I'm a little bit disappointed with is the performance of the front camera in low light. The sAmoled display is so cool, you won't face any problem operating your phone in the sunlight. The 25W charger is quite useful as it charges the phone at a blazing speed. The 6000 mAh battery lasts longs but I haven't tried extreme gaming yet. So guys just go for it! Nothing can be better than the Samsung Galaxy M31s at this price range.\",\n",
       " 'Writing after 15 days of usage. Purchased on Prime Day Sale at 18k. (6GB) Full 5 star on - Samsung Brand, Display, Battery, Rear Camera. 4 Star on - Charging Speed, Front Camera, Speaker. 3 Star on - Build Quality, Performance. 2 Star on - Weight, Gorilla Glass. 1 star on - No Case, No Earphone. Best for Capturing Pics and Videos, Best Viewing Display, Long Battery Backup, No Heating even if Playing 2 hours Continuously, No lagging for Normal and Longer Use. If heavy gamer, playing 3-4 hours continuously on High HD resolution, go with Snapdragon. My usage is normal, not much less and not extreme as well. COMPLETELY SATISFIED.',\n",
       " \"If u r not interested in heavy gaming then can't get a better deal for a phone under 20k. Pros- 1) Screen - there is no doubt Samsung does provide the best screen. U will notice that instantly, and Super Amoled is really something if u r coming from ips led screen. 2) Battery - Seriously what they advertise is real it really is a monster. Last from1.5 - 2 days depending on ur usage. 3) Camera - This is the first time Samsung is using Sony sensor in there below 20k phone and boy can u tell the difference. Sony sensor with Samsung image processing is just lit, hands down can't get better camera in this budget. 4) Software- Being a past redmi and realme user i can tell how much software is important and oneui is very smooth with no blotwares or ads and works really well. I guess after oxygen os and stock Android, one ui is right behind them. 5) Design - This phone looks far better then it looks in images and overall weight balance is great , doesn't feel heavy at all even though having such a massive battery. Cons- 1) No Knox security- Don't be confused by all the reviews u find online, there is no knox security included, idk why it shows secured by knox in boot menu but still there is no such thing. It is such a great and convenient thing I just wished they included it here atleast considering the price budget. 2) Processor- It has the same exynos 9611 processor thats in their phone that cost around 11-12k . Come on Samsung why are u stuck on the same processor upgrade it there are several better option available. 2) Build- It is a plastic body and is very slippery, so requires a cover ,which is not included in box. 3) Screen around the front camera gets automatically and returns back to normal after sometimes, since it is a software bug I hope they fix it future updates , sometimes it stuck out and gets a little annoying.\",\n",
       " \"Please do not buy Samsung Galaxy M31s model, I bought this model phone through Amazon on 8th August 2020 during lauching fest. Got delivery on 15th August, started using on18th August, today is 36th day, morning as usual I took the phone to switch on wifi to use, screen came on the all of a sudden screen gone total black out, booked service center through samsung toll free number, visted they couldn't do anything much, infact they returned my phone with sreen lights on, they cant do much only requested me to change mother board. I want Amazon to replace with a new phone. I am not willing to use a phone with this sort manufacture deffect. I got repaired my new Samsung M31S mother board failure within one months time, which is really bad experience from the seller and product, so thinks twice before buying this product.\",\n",
       " \"I am writing this review after 2 months of usage. Bought this phone during the first sale in august. I am an old Samsung user and had switched to Redmi and realme in between, but didn't liked the experience. I am a student, heavy user and techy person but don't play games. My basics needs are CAMERA, SCREEN AND BATTERY with a great UI. All my needs are full filled by M31s. Now I am dividing the review into pros and cons . I have not given the remaining 1 star because of the cons. PROS 1. The screen is actually very good. The sAmoled panel is mind blowing. Although I am used to the sAmoled screen ,since I am an old Samsung user 😅. The dark mode is mind blowing .... Perfect blacks. The punch hole cut is very small and clear.... In LCD panels the cut out is bleeding. Also the chin and bezels are very small. 2. Camera is excellent. I think no one offers that kind of camera quality in this price segment. Some samples are given ...... But I have clicked many good shots . 3. Battery back up is just great. I am a heavy user and most of my consumption is from YouTube , whatsapp and Google meet . But i get a screen time of 10 to 14 hours .... which lasts 1.5 days and its insane. 4. Built quality is good . Looks are great . Feels lighter than redmi note 9 pro and realme 6. But no cover is provided , so orderd a solimo cover and screen guard along with the phone. Speakers are loud and clear. Fingerprint scanner is also good. 5. The software experience is very good with One UI. Although it's the core version of the One UI. It's equally great with some compromises. The UI is intelligent and handles the phone well. When you will use the One UI you will get to know that how other brands are implementing some key features of One UI in their own UIs, which Samsung is providing from years. 6. RAM management is awesome. It keep 15 to 20 apps opened in the memory for 4 to 5 hours.... literally ram is well managed . CONS 1. No protective gear is provided with a 0hone worth 20 k. 2. The processor is well optimized for the phone and there are minor or no lags in the UI experience. But still it sometimes feels laggy in some cases of app opening which came be overcome by software updates. But I can tell you that exynos 9611 is not that weak as claimed by some YouTubers. It does my daily tasks smoothly. 3. No dedicated haptics feedback while typing or long touch. I had to enable the haptics vibration by SETEDIT APP. The Samsung keyboard is excellent but I use Gboard because it supports haptics feedback. 4. The 25 watt provided charger takes 55 minutes from 5% to 50% and around 2 hours to charge from 5% to 100% in cool conditions of evening time ( charging time varies with room temperature). Samsung should have provided a faster charger but they even provide the same 25 W charger with their flagships 😅. Final verdict If you are a person like me who needs a phone with great camera, battery and screen, then go for it.👍🏼\",\n",
       " \"A major drawback which I found; when I'm on voice call, I can't connect to the internet...means you cannot send a photo on whattsapp while on voice call or cannot open chrome to check something...this was a major drawback on my previous phone also...but with today's advancement and latest phone, I did not expected this.....Being a businessman, very often I need to send photos on whatssapp while on call to discuss details at the same time....NOT POSSIBLE on Samsung M31s....rest all things are good at this price.\",\n",
       " 'Amazing phone in this price range. Camera and battery life is really good. Fast charging works well. PUBG runs smoothly, faced the framedrops sometimes .. but still satisfactory game play. (Not good for heavy gaming ) Fingerprint reader aworks well, not too fast not too slow. Face unlock is not good. Screen and build quality is amazing, looks are better than the competition.',\n",
       " 'Best features are its wide screen with end to end span. Sound is great...loud and clear. Pictures are decent. The camera features quite an upgradation from my previius J6. Display is great watching movies is great experience these days. The fingerprint reader is at the side unlike most others where its on the backside. Unfortunately it doesnt read cleanly. Once it fails u hv to wait for 25 sec which is a bore. The backside sensors were much better. Battery life is good but with bluetooth on as i keep it connected to my health band it drains off in around 10 hrs. Overall irs a great handset at the price of 16k that i got during the festive times. Lot of features are supposedly there but cud not execute on first try like palm movement to take selfie. Need to learn more it seems.',\n",
       " \"Pros: The only non Chinese reliable option available. Battery is a monster. Camera is good enough for decent photography Looks premium Cons: Battery charging time is more than claimed Fingerprint sensor is a headache.It fails to recognize the impression mostly. Response time is slow. The smartphone is slow.Thank u Exynos.Thank u samsung. Overall a decent phone.Wait and watch for M51 where SD has been introduced by Samsung. Update : The mobile is now lagging,and is having intermittent lags.Prime Videos are freezing for mini seconds.Thanks again to Samsung for their ego.Their Exynos processor is a masterpiece in this price range. Update 2: I have downgraded the rating from 4 to 2 star as the phone is now lagging more.Any app opened doesn't respond for 10-15 seconds,call in progress doesn't disconnect as the touch is non responsive.Bad experience Update 2 Hanging too frequent.Is there any way to send feedback to Samsung direct.\",\n",
       " \"Big thumbs up for this mobile. Looks great. Only draw back is battery not performing like 6000 mah. Hardly one full day with full battery. Everything else is perfect 5 star. Finger print sensor is lightening quick. UI experience is nice Camera is top notch I feel UI needs few more customizations within ONE UI itself. Case and screen guard should have included in the box. Battery size 6000 mah is eaten up by Exynos processor makes this phone battery offset. No advantage of having 6000 mah battery. I think this is going to be the last phone with these many features in sub 20k range. M51 is going to be sub 30k range for sure. Got this phone with exchange and it's a good deal\",\n",
       " \"Awesome camera quality Powerful battery Nice build quality Exynos 9611 is not bad, I mean trust me if you are a working person an average mobile user, you won't feel any issue with this processor. If you are looking for non Chinese brand, you can choose this phone blindly. If you compare with price this phone is much better than One Plus Nord. I am not even going to comparing this phone with cheap and disgusting Redmi, Oppo, Vivo etc. phones.\",\n",
       " \"If you are not an heavy user then this phone is perfect for you but if you are a student, and searching for a new smart phone this is not for you In the first class you will find it perfect but as the class goes on and the 4 or 5 period came it wil start manking frame drops and lags You will notice an frame drops in animation while opening and closing of an app, or while switching between apps or in scrolling. I didn't know is the problem is in my device only or if the device is like that only I strongly not recommended you to buy this phone because its not able to handel the load of online classes then if you are a heavy user how will it survive in heavy usage And please don't trust on youtube reviews of this smartphone they are totally fake. And yaa its camera too its camera in low light condition is more useless then the sit of an dog\",\n",
       " 'Another excellent M series mobile from Samsung. Look of the mobile is elegant. The Amoled screen is very much vibrant and better than the previously launched M30s . Also i felt that the screen size is slightly 2 mm larger than M30s. The front camera is placed slightly 2mm lower than the top edge, henceforth may hinder video viewing in the enlarged screen mode. The battery is a monster with 6000 mAh , so need not worry about charging for atleast 2 days with respect to the way I use. Also thanks to reverse charging facility that samsung introduced in this model. Any gadget that has c-port can be charged directly with the charging cable provided as the both ends of the charging cable are of c- port. I think this feature is only introduced by Samsung in the budget range of less than 20k . However for connecting to the laptop I may have to use the M30s charge cable. Also there is no heating problem during charging. Also the charging time is approx one and half hour from zero to full charge, which i believe is decent for a battery with capacity of about 6000 mAh.The sound quality is great. The camera quality - primary 64MP and front - 32 MP are awesome. There is a flash available for front cam as well similar to retina flash on iPhone 7 plus. Depth ( similar to portrait mode in iPhone) and Macro modes ( useful for capturing smaller size objects) are decent though not excellent. I am yet to check wide angle mode of camera. Also I am yet to check the night mode shots. Also there are other special features like single click are easy to use . It will capture a bunch of photos and video from which the best and required ones can be chosen and rest can be deleted. There are other features like single video recording on front and back cam , smart selfie option which I am yet to explore and review the quality as I just received the mobile . Also I liked the concept of introduction of finger print on the power button on the right side. The specification of processor, RAM and storage space are decent for the price paid. Also i believe that samsung is offering the mobiles at the decent spec at lesser price when compared to other premium brands like one plus, MI etc.,. Also thanks to Amazon for delivering the mobile within 5 days, i.e., a week earlier than the promised date as I see that the mobile is not available at the time of order placement, because of the demand. Earlier I bought 2 qty of M30s and I had a very good experience of using them as i never experienced any performance issues with them. Also the M series mobiles are quite sturdy. Now I believe that I will have a much better experience with M31s. Thanks to samsung for the continual launch of better quality mobiles at a very competitive price. Also the samsung galaxy eco system of apps and cloud are pretty decent . Also I have a good experience with the services of samsung incase of any damage to the mobile. Overall I am happy with the product and also with the services of samsung and Amazon.',\n",
       " \"A perfect phone made by Samsung in mid range. Camera perfect, Body style perfect, Battery perfect & much more. But a thing I don't understand that why Samsung made charger cable C to C, it would better if it comes with USB to C which helps us to connect it easily with many devices like powe bank, Desktop and etc. And one more thing I like to suggest to Samsung that, it will be more better if Samsung gives a back cover with every smartphone because in market back covers are available after 3-4 weeks of phone launch & all of us know that it is how risky to use a smartphone without cover.\",\n",
       " \"After a couple of months using i find the following pros and cons of the mobile Cons 1. Taking screenshot is very difficult. There should be easy way to take screenshots 2. Charging adopter is not universal. It is this model specific. 3. For data transfer to laptop, it requires different data cable not the commonly used. 4. Face recognition doesn't work properly and it is limited to 2 faces only. You can't add more than 2 faces. 5. Finger print recognition is not that good either Pros 1. Camera is really good in this budget. Front camera too is good. There are very good filters and effects to boost the quality of the pics. 2. Battery is good to support heavy usages 3. It runs smoothly without any lags 4. Display quality is very nice 5. Sound quality is excellent\",\n",
       " 'Ordered M31S on 22nd Aug 2020 and got delivered on 27th Aug . Writing this review after 4 days of usage. 1.Look and feel of M31S is premium. 2.Monster batter for 1.5 days of normal use. 3.Night mode is awesome 4.Camera is great. 5.UI of 31S is good. 6.Host of features in samsung M31S which i saw on youtube for tips and tricks. 7.If you are looking for phone under 20K, its the best non chinese phone in the market. 8.Sound Quality of M31S is loud and clear.It is supported by Dolby Atmos. 9.Processor is though old but OK for normal use. 10.If you have tight budget under 20K....better go for M31S rather than Chinese brands currently availble in the market.',\n",
       " \"I love this phone from samsung. I am a user since many year. Even i didn't used any other brand before and my whole family memebers have samaung phones only. I am sharing here the true revies about Samsung Galaxy M31s. Camera- 5/5 Battery- 5/5 (1.5 days or even more) Charging- 1.5 hr (0-100%) Design- 5/5 Heating- 4/5 (if you continiously play high end game like pubg for many hours). I am not a gamer so it shows no heating effect. Processor- 4/5 ( for heavy gamers). It works perfectly for me. All apps oven fastly. UI- Its the best feature i love it. You can do multitasking smoothly without any lag. You can all app at a time simultaneously. Thickness- 4/5 (You are getting a powerful battery so obviously it will be little thick, but then also no too much that's why i am giving 4). Display- 5/5 (Its also the best you will get. You will not get display like it in any other phone in this price range. So if you a video lover then this is the best for you.)\",\n",
       " \"It is Tejas not Rafael. I don't understand why people giving it 5 stars ! Camera image quality not as per my expectations.. I was using Moto G5plus 12 MP Camera and I was satisfied with its camera image quality. :-( Battery lasts for 1.5 day. I can not play IAF game in it. :-( Processor slow, many websites either not open or take lot of time. It is good phone only for average daily use.\",\n",
       " \"I purchased this phone on 6th August, but still I can't use the phone. Only because tempered glass and back cover is not available. Come on samsung, I purchased because I didn't want to purchase oppo,pocco.. blah blah.... As I am supporting make in India product.. but these Chinese brand know the nerve of customer and providing basic accessories with the phone.. it would be better if i ordered Mi phones, they are providing basic accessories and the camera quality is better than your phone in this price range..\",\n",
       " 'First thing I would clarify about 1) KNOX : M31s is secured by knox. 2) Secure Folder: This mobile has secure folder but it will come after first update. So don\\'t panic. 3) NFC : It don\\'t have NFC. Now I will go into detail about mobile * DISPLAY : Don\\'t even get a doubt about it. It\\'s awesome and it is the best display I have ever seen. * BATTERY : It\\'s ok. It does the job. But I have to say something\"Don\\'t try to judge it in the first two days because generally everyone will try to update the software and also apps in the new device \". So after those tough days it will perform well. * REAR CAMERA : In simple words \" AWESOME PERFORMANCE IN DAY LIGHT and OK PERFORMANCE IN LOW LIGHT, and ARTIFICIAL LIGHT\". * FRONT CAMERA : Don\\'t expect too much from it in LOW and ARTIFICIAL light. But It gives GOOD PERFORMANCE in DAY LIGHT. * CHARGER : It\\'s great one. It charges the phone from 0 to 100% in less than 2 hours. It\\'s Better than the standard 15 W charger. * FINGERPRINT READER : It\\'s so much better than samsung\\'s in display finger print sensor and also it\\' very comfortable than rear mounted fingerprint reader. * SPEAKER : It\\'s very very good and loud as expected. * UI : ONE OF THE BEST UI. FINALLY I WILL FINISH MY REVIEW IN TWO LINES. Just go for it if you want a good phone with awesome display, great camera, and good battery with 25 W fast charging finally from a brand named SAMSUNG. THANK YOU.',\n",
       " \"NO 4G Network mode option available to set the mobile network for 4G connection. Only 3G/LTE option exist screen shot attached. This is the most basic setting shockingly missing. My Vodafone 4G SIM works good in my other OPPO F3 mobile after setting network mode as 4G. If I didn't get solution either from Amazon or Samsung, I will return this mobile.\",\n",
       " \"Faulty mobile phone received. To charge this phone, it takes around three hours to charge upto 65%, while operating the phone, charging indicator showing @5%. Spoke to amazon customer service about this issue. As per them technician assigned to inspect the phone. After technician's report they will replace the phone.\",\n",
       " 'Poor configuration mobile from Samsung ( Review after a month of use ) Following are the reasons: 1) They processor performs poorly causing the phone to hang all the time 2) The screen touch sensitivity is poor and screen blanks out while making a call. Need to double tap it every time to get the screen alive ( eg for a IVR call ) 3) Battery performance sub par. 4) Too bulky and fat to use. 5) Very poor sensitivity fingerprinter reader. For a left handed person makes its use complicated due to positioning of the sensor. 6) Camera is great quality but for Rs19,500 ie cost of phone I would rather buy a DSLR camera to enjoy even better quality pics than get stuck with a phone whose only ability is to click good photos. Remember a smartphones first and primary use is to make phone calls and its smart use. Both which are sub par. My verdict ..... Please dont go purely on the star rating and reviews published on Amazon. Do your own research and decide.',\n",
       " \"I was looking for a new phone in the Samsung brand I must say galaxy M31s is the best choice, that too at such a reasonable price. I have been using this phone for over a week now and following are my views on the phone. 1. Delivery by Amazon just the next day of my purchase. Thanks Amazon! 2. The size of the phone is quite appropriate,it stays in my pocket easily and can be used single handed. It has a metal like finish 3. As far as the display is concerned, crisp and clear with infinity- O display, absolutely soothing to the eyes. 4. Sound quality - It has a premium quality Dolby sound and I just love to hear music on this phone. 5. The 1st best feature if this phone is it's battery with 6000 mAh. Even if I don't charge my battery lasts for at least 2 days. Also the charger is very fast. 6. The 2nd best feature is the camera. It has 4 cameras having best depth and clarity of 64mp with ultra wide lens and macro camera. The clarity of the front camera is outstanding for selfies! I would strongly recommend this phone, you can't get anything better in this range..\",\n",
       " 'After the setup process I have noticed the volume was very very low for some time and it came after some time. After used for two days same problem stared again for some time. Is the mobile need repair or replacement.',\n",
       " 'I liked the camera on M31s and I think it\\'s the best camera on a phone under 20k. Apart from that samsung is making Chinese manufacturers sweat by slowly focusing on mid range mobile category so yeah we can expect great phones under low budget as well. Only thing which I don\\'t liked about this device is Exynos 9611 as it is an old processor & shows its age while gaming. Apart from that everything is \"monster\" 😁.',\n",
       " \"I've been using this phone for 2 weeks, extremely happy about the batery backup, fingerprint reader is really cool & impressive. About the camera quality it's been amazing. Apps opens faster and also multitasking is efficient. Really liked the always on display feature and dark mode. Also sound quality is awesome, & with headphones amazing experience as it provides Dolby Atmos feature while using headphones gets activated & you can enjoy the theatre like experience. Also very light weight considering the battery capacity, very easy to operate with one hand & touch sensitivity is also amazing even with screen gaurd. Battery gets charged from 10 to 100 in two hrs. Now no need to carry any power bank.\",\n",
       " \"Ordered on Prime day, 6th August 12 AM. Received the phone on 8th August. All aspects of the phone is on par or above the next segment. Display is gorgeous. Lookwise it doesn't feel like an M series phone. FP sensor works well although it can store only 3 fingerprints. Camera is overall good. Can't say it's a camera centric phone obviously. However it has some good outputs 6000mah battery with 25W fast charging is awesome. (you get reverse charging as well). The only con i felt till now is the exclusion of a phone cover in the box. This might sound silly but I'm one of those guy's who use phone with a cover only to be on the safer side. Just because there is no cover I'm unable to use the phone as my daily driver right now. Come on Samsung. How much will a tpu cover cost for you?? 50Rs?? M31s is actually A51 without on screen fp. It has better specs than A51 which retails around 8-9k than M31s which makes this phone one of a kind. The dimensions are also the same as A51. So you can use the same tempered glass but cant use A51 back cover for M31s since it should have the cutout for side mounted fp scanner. Overall a great phone. Value for money I should say. If you are not a heavy gamer this is the best choice around. Will update the review after using the phone for 2 weeks. Till then book your phone and wait for the delivery as it is back-ordered at this moment.\",\n",
       " 'First of all thanks to amazon for its lightning fast delivery..phone is delivered within 1 day😍...now come to the phone...samsung has beautiful gorgeous display..sound is awesome..camera is too good to be tdue ..and battery life is non replacable...overall i will give it 9 out of 10..only con is the processor..dont take me wrong..it is very efficient for daily day use but if u are a hard core gamer then it might not be for u..i will upload my review later on finally',\n",
       " 'Overall good experience, my rating would be 3.5. Pros: 1. Size : Good for movie & gaming. 2. Camera : Very good, works exceptionally good in night mode. 3. Look and feel : Vivid, typical samsung type. 4. Pre- installed softwares: Limited and only required ones. good from security aspect. 5. Weight : Feels heavy and when in pocket will definitely make u a feel that u are carrying something worth not losing. Cons: 1. Phone heats up if used continuously for 30 mins for phone calls. 2. Even video calls and you tube playbacks heats the phone near camera area. Pretty unexpected from an highend phone from Samsung 3. Battery: Not a good performance as per 6000 mah. LAsts for a day with normal usage, i.e. phone calls, whatsapp, 1 hour youtube video, and some browsing. To be honest, i am disappointed on battery performance looking at its size especially when Samsung made it a big USP. 4. Crux: You have better options in this price range, would recommend to try those instead of blowing 21,500 on this phone. 5. Processor: Samsung has not done any big changes in its old Exynios Genre. Must go ahead.. But Samsung has been a miser..did not provide rear silicon cover. Charging cable length is just OK IN length.',\n",
       " \"So, it has been few days since I got my hands on Samsung Galaxy M31s, and I've got to say if you like media consumption on phone this is the best. Let me divide this into pros and cons. A. Pros 1. AWESOME DISPLAY I mean it when I say this has got an awesome display. The infinity-O sAmolled display is perfect for media consumption. Sure it has not got that high refresh rate that some Chinese phone makers and high end phones are providing, but the qualtiy of the display, is top notch. (Also like some infinity o displays out there this doesn't have any beading or halo effect around the camera cutout) 2. SINGLE TAKE IS SUPERB You have to use this feature to get to know how good it is to have it on a phone. There are time when we want to capture a moment both in videos and photos (maybe with some filters) This feature let's you have that. It automatically captures the best photos and videos with just one shot. It's not as good as that in Samsung's flagship phones (just because they can capture using various lens and m31s uses its primary 64MP lens) 3. MONSTER BATTERY LIFE Well that's to be expected right? 6000mah should last you a full day with heavy load (like heavy gaming and media consumption) I had 15-20% remaining battery with heavy use. But mostly with semi-heavy gaming and usage the phone lasted me almost 2 days without charge. 4. WELL OPTIMISED PHONE M31s has android 10 with One UI 2.0 out of the box and it's a well optimised for apps and games. I have not faced any stutter or lag while using apps or playing games like pubg and codm. 5. 25W Super fast charge Samsung provides with the flagship typec-type c Samsung 25W super charger inside the box. Thus it takes relatively less time to charge the huge 6000 mah battery. 6. Non-Chinese phone Since boycott Chinese products is going on and most of the smartphone are made in China, this is a phone which is made in India so a good alternative. B. Cons 1. Plastic build Since it's a plastic back it easily picks up scratches. So I recommend to use a case or a skin on this phone. (Case does not come with phone so you will have to purchase it) Well I don't have any more cons that I can think of. Yes it would have been good if Samsung upgraded the processor, but one UI 2 is well optimised for this particular processor so maybe that's why they didn't upgrade the processor. Basically M31s has a good screen, battery life, awesome camera, good fingerprint reader and is a excellent Samsung phone.\",\n",
       " 'Battery life is not as per expectation with minimal use only 40% got discharged. Camera quality is better but best. Even Single take feature also not that much impressive, because it not give 10 pics always as per provided information of this feature (or else i dont how to use this feature, if i am doing anything wrong then pls let me know. If any configuration is required to use this feature pls let me know). Not given option of Microsoft office link, so i cant connect my laptop with phone. This is the review after one day use. Over all good.',\n",
       " 'I ordered this Samsung galaxy m 31s model.but the charger was missing and camera quality is so cheap..very bad experience.i want to return the product.but they said only replacement of same phone can be done..plz gv me some option to return this item or I can replace with other good phone atleast having good camera quality.my phone screen was damaged.but phone charging is fast and good battery 🔋 backup..',\n",
       " \"I got product today only. Detailed review I will give later. Initial review under: Product is looking better than I expected. Outer box is very cheap quality. Screen resolution good but not best. Camera quality good. Soud quality motr than average. It is taken more than 1 hour for 60% charging. Initially I feel it's a good phone but they could have atleast given back cover and ear phone with this price range.\",\n",
       " 'Phone is heating and also camera is blurring when flash light is on. Worst camera ever.',\n",
       " 'I have used various mobiles but Samsung is really a price saver and satusfier product Samsung m31 s is a best mobile I am reviewing features 1. Camera quality awesome Sony made 2. Screen is fully hd 3.gamers are invited to purchase this awesome processor for games like pubg 4. Reverse charging really amazed me 5.battery backup is high It has only one disadvantage it contains plastic body that I do not like on this and finally I reached to conclusion mobile is really awesome 😊😊',\n",
       " \"Pros: -In hand feeling is great with unique gradient look. -The cameras of this one is just amazing. Photography might become ur hobby with the ultimate quad camera setup in this device. - Fingerprint sensor is modern and works really well. - Super amoled display and the speakers with punchy sound gives a completely different experience with the multimedia. -25 watts charger is the cherry on the cake. Cons: -A back cover could have been provided because the back is a fingerprint magnet. - A bit advanced processor could have made this phone an asset worth possessing (Only for hard core gamers). Conclusion- Being a moderate user, I am really happy with this Samsung device. It's a big competition to any other smartphones in this range in the market at this point of time.\",\n",
       " 'This is to share my horrible experience with Amazon and Samsung. The phone arrived with an irresponsive touch screen and I had to make multiple calls, emails to team to get it replaced. Even showed it to the Samsung customer care center. After the technician report confirming that the phone is a defect piece, the only option available was to place it for a refund as it is no longer in stock.',\n",
       " \"Phone is not upto the mark 1. You cannot block any app internet usage 2. You cannot see daily internet data usage(Not networking usage) 3. You cannot see internet speed in status bar 4. Screen recording is not there 5. No lock screens gesture 6. One tap lock screen These can be small features but it helps a lot... I didn't buy chinese phone to support govt atmanirbhar... I am not satisfied with this product.\"]"
      ]
     },
     "execution_count": 60,
     "metadata": {},
     "output_type": "execute_result"
    }
   ],
   "source": [
    "amazon=[review_text.strip() for review_text in amazon.review_text]  # remove both the leading and the trailing characters\n",
    "amazon=[review_text for review_text in amazon if review_text]  # removes empty strings, because they are considered in Python as False\n",
    "amazon[0:50]"
   ]
  },
  {
   "cell_type": "code",
   "execution_count": 61,
   "metadata": {
    "ExecuteTime": {
     "end_time": "2021-02-12T04:50:06.449772Z",
     "start_time": "2021-02-12T04:50:05.203861Z"
    }
   },
   "outputs": [],
   "source": [
    "nlp=spacy.load('en_core_web_sm')   #parts of speech tagging\n"
   ]
  },
  {
   "cell_type": "code",
   "execution_count": 62,
   "metadata": {
    "ExecuteTime": {
     "end_time": "2021-02-12T04:50:08.980166Z",
     "start_time": "2021-02-12T04:50:08.938688Z"
    }
   },
   "outputs": [
    {
     "data": {
      "text/html": [
       "<span class=\"tex2jax_ignore\"><div class=\"entities\" style=\"line-height: 2.5; direction: ltr\">Facial recognition is not working itself and Its says \n",
       "<mark class=\"entity\" style=\"background: #e4e7d2; padding: 0.45em 0.6em; margin: 0 0.25em; line-height: 1; border-radius: 0.35em;\">\n",
       "    64\n",
       "    <span style=\"font-size: 0.8em; font-weight: bold; line-height: 1; border-radius: 0.35em; vertical-align: middle; margin-left: 0.5rem\">CARDINAL</span>\n",
       "</mark>\n",
       "MB camera but its only in writings not in performance.6000 \n",
       "<mark class=\"entity\" style=\"background: #7aecec; padding: 0.45em 0.6em; margin: 0 0.25em; line-height: 1; border-radius: 0.35em;\">\n",
       "    MAH\n",
       "    <span style=\"font-size: 0.8em; font-weight: bold; line-height: 1; border-radius: 0.35em; vertical-align: middle; margin-left: 0.5rem\">ORG</span>\n",
       "</mark>\n",
       " battery but it will drain in 8hrs (Not even Continues) if you watch basic youtube and normal FB browsing. I will not recommend this mobile if anyone wish to by only for \n",
       "<mark class=\"entity\" style=\"background: #aa9cfc; padding: 0.45em 0.6em; margin: 0 0.25em; line-height: 1; border-radius: 0.35em;\">\n",
       "    Camera\n",
       "    <span style=\"font-size: 0.8em; font-weight: bold; line-height: 1; border-radius: 0.35em; vertical-align: middle; margin-left: 0.5rem\">PERSON</span>\n",
       "</mark>\n",
       " and battery</div></span>"
      ],
      "text/plain": [
       "<IPython.core.display.HTML object>"
      ]
     },
     "metadata": {},
     "output_type": "display_data"
    }
   ],
   "source": [
    "one_block=amazon[120]       #selecting review of choice to visualize using spacy\n",
    "doc_block=nlp(one_block)\n",
    "spacy.displacy.render(doc_block,style='ent',jupyter=True)"
   ]
  },
  {
   "cell_type": "code",
   "execution_count": 63,
   "metadata": {
    "ExecuteTime": {
     "end_time": "2021-02-12T04:50:11.449052Z",
     "start_time": "2021-02-12T04:50:11.429597Z"
    }
   },
   "outputs": [
    {
     "data": {
      "text/plain": [
       "'Facial recognition is not working itself and Its says 64MB camera but its only in writings not in performance.6000 MAH battery but it will drain in 8hrs (Not even Continues) if you watch basic youtube and normal FB browsing. I will not recommend this mobile if anyone wish to by only for Camera and battery'"
      ]
     },
     "execution_count": 63,
     "metadata": {},
     "output_type": "execute_result"
    }
   ],
   "source": [
    "one_block"
   ]
  },
  {
   "cell_type": "code",
   "execution_count": 64,
   "metadata": {
    "ExecuteTime": {
     "end_time": "2021-02-12T04:50:14.292329Z",
     "start_time": "2021-02-12T04:50:14.265138Z"
    }
   },
   "outputs": [
    {
     "name": "stdout",
     "output_type": "stream",
     "text": [
      "Facial ADJ\n",
      "recognition NOUN\n",
      "is AUX\n",
      "not PART\n",
      "working VERB\n",
      "itself PRON\n",
      "and CCONJ\n",
      "Its PRON\n",
      "says VERB\n",
      "64 NUM\n",
      "MB NOUN\n",
      "camera NOUN\n",
      "but CCONJ\n",
      "its PRON\n",
      "only ADJ\n",
      "in ADP\n",
      "writings NOUN\n",
      "not PART\n",
      "in ADP\n",
      "performance.6000 NUM\n",
      "MAH PROPN\n",
      "battery NOUN\n",
      "but CCONJ\n",
      "it PRON\n",
      "will AUX\n",
      "drain VERB\n",
      "in ADP\n",
      "8hrs PROPN\n",
      "( PUNCT\n",
      "Not PART\n",
      "even ADV\n",
      "Continues VERB\n",
      ") PUNCT\n",
      "if SCONJ\n",
      "you PRON\n",
      "watch VERB\n",
      "basic ADJ\n",
      "youtube NOUN\n",
      "and CCONJ\n",
      "normal ADJ\n",
      "FB NOUN\n",
      "browsing NOUN\n",
      ". PUNCT\n",
      "I PRON\n",
      "will AUX\n",
      "not PART\n",
      "recommend VERB\n",
      "this DET\n",
      "mobile NOUN\n",
      "if SCONJ\n"
     ]
    }
   ],
   "source": [
    "for token in doc_block[0:50]:    #tokenization of selected tweet to know parts of speech \n",
    "    print(token,token.pos_)"
   ]
  },
  {
   "cell_type": "code",
   "execution_count": 65,
   "metadata": {
    "ExecuteTime": {
     "end_time": "2021-02-12T04:50:16.625052Z",
     "start_time": "2021-02-12T04:50:16.604488Z"
    }
   },
   "outputs": [
    {
     "name": "stdout",
     "output_type": "stream",
     "text": [
      "['recognition', 'working', 'says', 'MB', 'camera', 'writings', 'battery', 'drain', 'Continues', 'watch', 'youtube', 'FB', 'browsing', 'recommend', 'mobile', 'wish', 'battery']\n"
     ]
    }
   ],
   "source": [
    "noun_verbs=[token.text for token in doc_block if token.pos_ in('NOUN','VERB')]\n",
    "print(noun_verbs[0:50])   #extraction of noun and verbs in selected review"
   ]
  },
  {
   "cell_type": "code",
   "execution_count": 66,
   "metadata": {
    "ExecuteTime": {
     "end_time": "2021-02-12T04:50:19.050634Z",
     "start_time": "2021-02-12T04:50:19.014302Z"
    }
   },
   "outputs": [
    {
     "data": {
      "text/html": [
       "<div>\n",
       "<style scoped>\n",
       "    .dataframe tbody tr th:only-of-type {\n",
       "        vertical-align: middle;\n",
       "    }\n",
       "\n",
       "    .dataframe tbody tr th {\n",
       "        vertical-align: top;\n",
       "    }\n",
       "\n",
       "    .dataframe thead th {\n",
       "        text-align: right;\n",
       "    }\n",
       "</style>\n",
       "<table border=\"1\" class=\"dataframe\">\n",
       "  <thead>\n",
       "    <tr style=\"text-align: right;\">\n",
       "      <th></th>\n",
       "      <th>word</th>\n",
       "      <th>count</th>\n",
       "    </tr>\n",
       "  </thead>\n",
       "  <tbody>\n",
       "    <tr>\n",
       "      <th>0</th>\n",
       "      <td>battery</td>\n",
       "      <td>2</td>\n",
       "    </tr>\n",
       "    <tr>\n",
       "      <th>1</th>\n",
       "      <td>recognition</td>\n",
       "      <td>1</td>\n",
       "    </tr>\n",
       "    <tr>\n",
       "      <th>2</th>\n",
       "      <td>working</td>\n",
       "      <td>1</td>\n",
       "    </tr>\n",
       "    <tr>\n",
       "      <th>3</th>\n",
       "      <td>says</td>\n",
       "      <td>1</td>\n",
       "    </tr>\n",
       "    <tr>\n",
       "      <th>4</th>\n",
       "      <td>mb</td>\n",
       "      <td>1</td>\n",
       "    </tr>\n",
       "    <tr>\n",
       "      <th>5</th>\n",
       "      <td>camera</td>\n",
       "      <td>1</td>\n",
       "    </tr>\n",
       "    <tr>\n",
       "      <th>6</th>\n",
       "      <td>writings</td>\n",
       "      <td>1</td>\n",
       "    </tr>\n",
       "    <tr>\n",
       "      <th>7</th>\n",
       "      <td>drain</td>\n",
       "      <td>1</td>\n",
       "    </tr>\n",
       "    <tr>\n",
       "      <th>8</th>\n",
       "      <td>continues</td>\n",
       "      <td>1</td>\n",
       "    </tr>\n",
       "    <tr>\n",
       "      <th>9</th>\n",
       "      <td>watch</td>\n",
       "      <td>1</td>\n",
       "    </tr>\n",
       "    <tr>\n",
       "      <th>10</th>\n",
       "      <td>youtube</td>\n",
       "      <td>1</td>\n",
       "    </tr>\n",
       "    <tr>\n",
       "      <th>11</th>\n",
       "      <td>fb</td>\n",
       "      <td>1</td>\n",
       "    </tr>\n",
       "    <tr>\n",
       "      <th>12</th>\n",
       "      <td>browsing</td>\n",
       "      <td>1</td>\n",
       "    </tr>\n",
       "    <tr>\n",
       "      <th>13</th>\n",
       "      <td>recommend</td>\n",
       "      <td>1</td>\n",
       "    </tr>\n",
       "    <tr>\n",
       "      <th>14</th>\n",
       "      <td>mobile</td>\n",
       "      <td>1</td>\n",
       "    </tr>\n",
       "    <tr>\n",
       "      <th>15</th>\n",
       "      <td>wish</td>\n",
       "      <td>1</td>\n",
       "    </tr>\n",
       "  </tbody>\n",
       "</table>\n",
       "</div>"
      ],
      "text/plain": [
       "           word  count\n",
       "0       battery      2\n",
       "1   recognition      1\n",
       "2       working      1\n",
       "3          says      1\n",
       "4            mb      1\n",
       "5        camera      1\n",
       "6      writings      1\n",
       "7         drain      1\n",
       "8     continues      1\n",
       "9         watch      1\n",
       "10      youtube      1\n",
       "11           fb      1\n",
       "12     browsing      1\n",
       "13    recommend      1\n",
       "14       mobile      1\n",
       "15         wish      1"
      ]
     },
     "execution_count": 66,
     "metadata": {},
     "output_type": "execute_result"
    }
   ],
   "source": [
    "from sklearn.feature_extraction.text import CountVectorizer       #counting of tokens i.e words\n",
    "cv=CountVectorizer()                                             \n",
    "\n",
    "text=cv.fit_transform(noun_verbs)\n",
    "sum_words=text.sum(axis=0)\n",
    "words_freq=[(word,sum_words[0,idx])for word,idx in cv.vocabulary_.items()]\n",
    "words_freq=sorted(words_freq,key=lambda x:x[1],reverse=True)\n",
    "wf_df=pd.DataFrame(words_freq)\n",
    "wf_df.columns=[\"word\",\"count\"]\n",
    "\n",
    "wf_df[0:40]\n",
    "\n"
   ]
  },
  {
   "cell_type": "code",
   "execution_count": 67,
   "metadata": {
    "ExecuteTime": {
     "end_time": "2021-02-12T04:50:21.858481Z",
     "start_time": "2021-02-12T04:50:21.449619Z"
    }
   },
   "outputs": [
    {
     "data": {
      "text/plain": [
       "<matplotlib.axes._subplots.AxesSubplot at 0x1bd31e9eee0>"
      ]
     },
     "execution_count": 67,
     "metadata": {},
     "output_type": "execute_result"
    },
    {
     "data": {
      "image/png": "[encoded data removed]",
      "text/plain": [
       "<Figure size 864x576 with 1 Axes>"
      ]
     },
     "metadata": {
      "needs_background": "light"
     },
     "output_type": "display_data"
    }
   ],
   "source": [
    "wf_df[0:30].plot.bar(x='word', figsize=(12,8) ,title='Top nouns and verbs')  #visualization of nouns and verbs in selected review"
   ]
  },
  {
   "cell_type": "code",
   "execution_count": 68,
   "metadata": {
    "ExecuteTime": {
     "end_time": "2021-02-12T04:50:24.231118Z",
     "start_time": "2021-02-12T04:50:24.207644Z"
    }
   },
   "outputs": [
    {
     "data": {
      "text/plain": [
       "(2477, 2)"
      ]
     },
     "execution_count": 68,
     "metadata": {},
     "output_type": "execute_result"
    }
   ],
   "source": [
    "affin=pd.read_csv('Afinn.csv',sep=',',encoding='latin-1')   #read affin dataset for sentiment analysis\n",
    "affin.shape"
   ]
  },
  {
   "cell_type": "code",
   "execution_count": 69,
   "metadata": {
    "ExecuteTime": {
     "end_time": "2021-02-12T04:50:26.792408Z",
     "start_time": "2021-02-12T04:50:26.774602Z"
    }
   },
   "outputs": [
    {
     "data": {
      "text/html": [
       "<div>\n",
       "<style scoped>\n",
       "    .dataframe tbody tr th:only-of-type {\n",
       "        vertical-align: middle;\n",
       "    }\n",
       "\n",
       "    .dataframe tbody tr th {\n",
       "        vertical-align: top;\n",
       "    }\n",
       "\n",
       "    .dataframe thead th {\n",
       "        text-align: right;\n",
       "    }\n",
       "</style>\n",
       "<table border=\"1\" class=\"dataframe\">\n",
       "  <thead>\n",
       "    <tr style=\"text-align: right;\">\n",
       "      <th></th>\n",
       "      <th>word</th>\n",
       "      <th>value</th>\n",
       "    </tr>\n",
       "  </thead>\n",
       "  <tbody>\n",
       "    <tr>\n",
       "      <th>0</th>\n",
       "      <td>abandon</td>\n",
       "      <td>-2</td>\n",
       "    </tr>\n",
       "    <tr>\n",
       "      <th>1</th>\n",
       "      <td>abandoned</td>\n",
       "      <td>-2</td>\n",
       "    </tr>\n",
       "    <tr>\n",
       "      <th>2</th>\n",
       "      <td>abandons</td>\n",
       "      <td>-2</td>\n",
       "    </tr>\n",
       "    <tr>\n",
       "      <th>3</th>\n",
       "      <td>abducted</td>\n",
       "      <td>-2</td>\n",
       "    </tr>\n",
       "    <tr>\n",
       "      <th>4</th>\n",
       "      <td>abduction</td>\n",
       "      <td>-2</td>\n",
       "    </tr>\n",
       "  </tbody>\n",
       "</table>\n",
       "</div>"
      ],
      "text/plain": [
       "        word  value\n",
       "0    abandon     -2\n",
       "1  abandoned     -2\n",
       "2   abandons     -2\n",
       "3   abducted     -2\n",
       "4  abduction     -2"
      ]
     },
     "execution_count": 69,
     "metadata": {},
     "output_type": "execute_result"
    }
   ],
   "source": [
    "affin.head()"
   ]
  },
  {
   "cell_type": "code",
   "execution_count": 70,
   "metadata": {
    "ExecuteTime": {
     "end_time": "2021-02-12T04:50:29.272078Z",
     "start_time": "2021-02-12T04:50:29.252810Z"
    }
   },
   "outputs": [
    {
     "data": {
      "text/html": [
       "<div>\n",
       "<style scoped>\n",
       "    .dataframe tbody tr th:only-of-type {\n",
       "        vertical-align: middle;\n",
       "    }\n",
       "\n",
       "    .dataframe tbody tr th {\n",
       "        vertical-align: top;\n",
       "    }\n",
       "\n",
       "    .dataframe thead th {\n",
       "        text-align: right;\n",
       "    }\n",
       "</style>\n",
       "<table border=\"1\" class=\"dataframe\">\n",
       "  <thead>\n",
       "    <tr style=\"text-align: right;\">\n",
       "      <th></th>\n",
       "      <th>word</th>\n",
       "      <th>value</th>\n",
       "    </tr>\n",
       "  </thead>\n",
       "  <tbody>\n",
       "    <tr>\n",
       "      <th>2472</th>\n",
       "      <td>yucky</td>\n",
       "      <td>-2</td>\n",
       "    </tr>\n",
       "    <tr>\n",
       "      <th>2473</th>\n",
       "      <td>yummy</td>\n",
       "      <td>3</td>\n",
       "    </tr>\n",
       "    <tr>\n",
       "      <th>2474</th>\n",
       "      <td>zealot</td>\n",
       "      <td>-2</td>\n",
       "    </tr>\n",
       "    <tr>\n",
       "      <th>2475</th>\n",
       "      <td>zealots</td>\n",
       "      <td>-2</td>\n",
       "    </tr>\n",
       "    <tr>\n",
       "      <th>2476</th>\n",
       "      <td>zealous</td>\n",
       "      <td>2</td>\n",
       "    </tr>\n",
       "  </tbody>\n",
       "</table>\n",
       "</div>"
      ],
      "text/plain": [
       "         word  value\n",
       "2472    yucky     -2\n",
       "2473    yummy      3\n",
       "2474   zealot     -2\n",
       "2475  zealots     -2\n",
       "2476  zealous      2"
      ]
     },
     "execution_count": 70,
     "metadata": {},
     "output_type": "execute_result"
    }
   ],
   "source": [
    "affin.tail()"
   ]
  },
  {
   "cell_type": "code",
   "execution_count": 71,
   "metadata": {
    "ExecuteTime": {
     "end_time": "2021-02-12T04:50:31.498069Z",
     "start_time": "2021-02-12T04:50:31.318179Z"
    }
   },
   "outputs": [
    {
     "data": {
      "text/plain": [
       "['6.',\n",
       " 'A phone cover should have been provided with the amount taken.',\n",
       " 'Plus its a little slippery so a phone cover is a must.',\n",
       " \"Overall it's a good phone but these are a few pros and cons when buying the phone.\",\n",
       " 'Lets talk about the positives first: Design & Build - Compelling for this Price range.',\n",
       " 'Fingerprint Magnet - Alert Display - Damn, This is the best.',\n",
       " 'Software Experience - This is not a clean UI but I like this feature that Samsung almost took customization to the next level.',\n",
       " \"Camera - Decent, Sony sensors does its job and Samsung's camera features is like a cherry on top.\",\n",
       " 'Multimedia Experience - This is what the phone is good at.',\n",
       " 'Believe me it wont disappoint you either.',\n",
       " 'Battery - Humongous.',\n",
       " 'and Fast Charger is in the box.',\n",
       " 'No need to worry about the battery backup.',\n",
       " 'Cons:- Not major but noticeable.',\n",
       " 'Weight :- You ll definitely feel it when used for a long period of time.',\n",
       " 'Performance - This is not so good as the competition provides for this price range.',\n",
       " 'You can notice it heavily while scrolling Twitter.',\n",
       " 'But everything is usable.',\n",
       " 'Just a little bit of boost to the performance would have taken this phone to the next level.',\n",
       " 'Phone gets little bit warm which is also noticeable.',\n",
       " \"( I don't know if only I have that issue) Overall - (Gamer boy, Performance Addict) - Just Ignore this People like me those who could sacrifice that little performance for a good multimedia experience should definitely give it a try.\",\n",
       " 'And that display, you ll definitely fall in love with it.',\n",
       " 'bought it on amazon prime day sale .',\n",
       " 'phone looks are very premium.',\n",
       " 'amoled display is amazing .',\n",
       " 'the single take option in photos work perfectly and allows you to take multiple shots in one go.',\n",
       " 'phone battery is also good and works for one and half day without charge on moderate use.',\n",
       " 'overall premium phone at decent price.',\n",
       " 'All good.',\n",
       " 'Comes preloaded with some 3rd party softwares, that was a bit irritating but all can be uninstalled.',\n",
       " 'Great value for money though.',\n",
       " 'Battery lasts full 24 hrs with heavy bluetooth usage with my earbuds and wireless ON all the time.',\n",
       " 'Takes around 1.5 hrs to charge completely.',\n",
       " \"It has Knox security but remember, it's not water proof so be cautious in rain and near pools, tanks, bathroom, etc.\",\n",
       " 'Feeling on screen is good.',\n",
       " 'Great with multiple apps open at the same time.',\n",
       " 'Do not forget to put TPU cover or armor guard with some screen guard.',\n",
       " 'My friend dropped his 2 days old M31s from half a meter height and screen is shattered and gone black completely.',\n",
       " 'I think original screen replacement from the authorised service center is 8.5k.',\n",
       " 'Better safe than sorry.',\n",
       " 'Worth every penny for this price.',\n",
       " 'I bought in prime day sale so got 1500/- additional discount.',\n",
       " \"Item defective & wrost products don't buy Lots and lots of heating problem is there in the upper part of the phone while calling or browsing.\",\n",
       " \"Because of this issue you can't call without earphones.\",\n",
       " 'Camera is also not that good as mentioned.',\n",
       " 'Battery is also draining too fast .',\n",
       " 'Just got my hands on this beauty today morning, One word, beautiful, excellent display, smooth touch, fabulous camera....will write a more detail review after using it for some time.',\n",
       " \"But first impressions last for long and M31s doesn't disappoint on the contrary it puts a smile on your face !!\",\n",
       " 'PS - Disappointed not to get out of the box back cover even for this price segment, had to run from shop to shop to find one as its a new phone in the market, was hard to get one but got it eventually.',\n",
       " 'I ordered the phone as soon as it went on sale, i.e on the midnight of August 6.']"
      ]
     },
     "execution_count": 71,
     "metadata": {},
     "output_type": "execute_result"
    }
   ],
   "source": [
    "from nltk import tokenize                           #tokenization of all the reviews\n",
    "sentences=tokenize.sent_tokenize(\" \".join(amazon))\n",
    "sentences[50:100]"
   ]
  },
  {
   "cell_type": "code",
   "execution_count": 72,
   "metadata": {
    "ExecuteTime": {
     "end_time": "2021-02-12T04:50:34.011925Z",
     "start_time": "2021-02-12T04:50:33.998507Z"
    }
   },
   "outputs": [
    {
     "data": {
      "text/html": [
       "<div>\n",
       "<style scoped>\n",
       "    .dataframe tbody tr th:only-of-type {\n",
       "        vertical-align: middle;\n",
       "    }\n",
       "\n",
       "    .dataframe tbody tr th {\n",
       "        vertical-align: top;\n",
       "    }\n",
       "\n",
       "    .dataframe thead th {\n",
       "        text-align: right;\n",
       "    }\n",
       "</style>\n",
       "<table border=\"1\" class=\"dataframe\">\n",
       "  <thead>\n",
       "    <tr style=\"text-align: right;\">\n",
       "      <th></th>\n",
       "      <th>sentence</th>\n",
       "    </tr>\n",
       "  </thead>\n",
       "  <tbody>\n",
       "    <tr>\n",
       "      <th>0</th>\n",
       "      <td>I am facing two problems 1.</td>\n",
       "    </tr>\n",
       "    <tr>\n",
       "      <th>1</th>\n",
       "      <td>Fingerprint Sensor not so good as my previous ...</td>\n",
       "    </tr>\n",
       "    <tr>\n",
       "      <th>2</th>\n",
       "      <td>2.</td>\n",
       "    </tr>\n",
       "    <tr>\n",
       "      <th>3</th>\n",
       "      <td>Front Camara is shaking.</td>\n",
       "    </tr>\n",
       "    <tr>\n",
       "      <th>4</th>\n",
       "      <td>Apart from this Amazon packaging is very very ...</td>\n",
       "    </tr>\n",
       "    <tr>\n",
       "      <th>...</th>\n",
       "      <td>...</td>\n",
       "    </tr>\n",
       "    <tr>\n",
       "      <th>2460</th>\n",
       "      <td>On the other hand it went from 100 to 96% In 2...</td>\n",
       "    </tr>\n",
       "    <tr>\n",
       "      <th>2461</th>\n",
       "      <td>5.</td>\n",
       "    </tr>\n",
       "    <tr>\n",
       "      <th>2462</th>\n",
       "      <td>Processor is fast.</td>\n",
       "    </tr>\n",
       "    <tr>\n",
       "      <th>2463</th>\n",
       "      <td>It can handle many apps at a time.</td>\n",
       "    </tr>\n",
       "    <tr>\n",
       "      <th>2464</th>\n",
       "      <td>Rest it is a wonderful fone and I don't have a...</td>\n",
       "    </tr>\n",
       "  </tbody>\n",
       "</table>\n",
       "<p>2465 rows × 1 columns</p>\n",
       "</div>"
      ],
      "text/plain": [
       "                                               sentence\n",
       "0                           I am facing two problems 1.\n",
       "1     Fingerprint Sensor not so good as my previous ...\n",
       "2                                                    2.\n",
       "3                              Front Camara is shaking.\n",
       "4     Apart from this Amazon packaging is very very ...\n",
       "...                                                 ...\n",
       "2460  On the other hand it went from 100 to 96% In 2...\n",
       "2461                                                 5.\n",
       "2462                                 Processor is fast.\n",
       "2463                 It can handle many apps at a time.\n",
       "2464  Rest it is a wonderful fone and I don't have a...\n",
       "\n",
       "[2465 rows x 1 columns]"
      ]
     },
     "execution_count": 72,
     "metadata": {},
     "output_type": "execute_result"
    }
   ],
   "source": [
    "sent_df=pd.DataFrame(sentences,columns=['sentence'])\n",
    "sent_df"
   ]
  },
  {
   "cell_type": "code",
   "execution_count": 73,
   "metadata": {
    "ExecuteTime": {
     "end_time": "2021-02-12T04:50:36.492782Z",
     "start_time": "2021-02-12T04:50:36.464829Z"
    }
   },
   "outputs": [],
   "source": [
    "affinity_scores=affin.set_index('word')['value'].to_dict()"
   ]
  },
  {
   "cell_type": "code",
   "execution_count": 74,
   "metadata": {
    "ExecuteTime": {
     "end_time": "2021-02-12T04:50:39.975424Z",
     "start_time": "2021-02-12T04:50:38.921605Z"
    }
   },
   "outputs": [],
   "source": [
    "nlp=spacy.load(\"en_core_web_sm\")   #Custom function :score each word in a sentence in lemmatised form, \n",
    "sentiment_lexicon=affinity_scores    #but calculate the score for the whole original sentence.\n",
    "\n",
    "\n",
    "def calculate_sentiment(text: str=None):\n",
    "    sent_score=0\n",
    "    if text:\n",
    "        sentence=nlp(text)\n",
    "        for word in sentence:\n",
    "            sent_score+=sentiment_lexicon.get(word.lemma_,0)\n",
    "            return sent_score"
   ]
  },
  {
   "cell_type": "code",
   "execution_count": 75,
   "metadata": {
    "ExecuteTime": {
     "end_time": "2021-02-12T04:50:42.403594Z",
     "start_time": "2021-02-12T04:50:42.384202Z"
    }
   },
   "outputs": [
    {
     "data": {
      "text/plain": [
       "3"
      ]
     },
     "execution_count": 75,
     "metadata": {},
     "output_type": "execute_result"
    }
   ],
   "source": [
    "calculate_sentiment(text=\"good\")  #testing of custom function to know whether it works or not"
   ]
  },
  {
   "cell_type": "code",
   "execution_count": 76,
   "metadata": {
    "ExecuteTime": {
     "end_time": "2021-02-12T04:51:17.235574Z",
     "start_time": "2021-02-12T04:50:44.692710Z"
    }
   },
   "outputs": [],
   "source": [
    "sent_df['sentimental_value']=sent_df['sentence'].apply(calculate_sentiment)"
   ]
  },
  {
   "cell_type": "code",
   "execution_count": 77,
   "metadata": {
    "ExecuteTime": {
     "end_time": "2021-02-12T04:51:19.278500Z",
     "start_time": "2021-02-12T04:51:19.249116Z"
    }
   },
   "outputs": [
    {
     "data": {
      "text/plain": [
       "0     6\n",
       "1    10\n",
       "2     1\n",
       "3     4\n",
       "4    11\n",
       "5    19\n",
       "6    19\n",
       "7    16\n",
       "8     6\n",
       "9    14\n",
       "Name: word_count, dtype: int64"
      ]
     },
     "execution_count": 77,
     "metadata": {},
     "output_type": "execute_result"
    }
   ],
   "source": [
    "sent_df['word_count']=sent_df['sentence'].str.split().apply(len)  #to know the length of words in reviews\n",
    "sent_df['word_count'].head(10)"
   ]
  },
  {
   "cell_type": "code",
   "execution_count": 78,
   "metadata": {
    "ExecuteTime": {
     "end_time": "2021-02-12T04:51:21.798888Z",
     "start_time": "2021-02-12T04:51:21.775190Z"
    }
   },
   "outputs": [
    {
     "data": {
      "text/html": [
       "<div>\n",
       "<style scoped>\n",
       "    .dataframe tbody tr th:only-of-type {\n",
       "        vertical-align: middle;\n",
       "    }\n",
       "\n",
       "    .dataframe tbody tr th {\n",
       "        vertical-align: top;\n",
       "    }\n",
       "\n",
       "    .dataframe thead th {\n",
       "        text-align: right;\n",
       "    }\n",
       "</style>\n",
       "<table border=\"1\" class=\"dataframe\">\n",
       "  <thead>\n",
       "    <tr style=\"text-align: right;\">\n",
       "      <th></th>\n",
       "      <th>sentence</th>\n",
       "      <th>sentimental_value</th>\n",
       "      <th>word_count</th>\n",
       "    </tr>\n",
       "  </thead>\n",
       "  <tbody>\n",
       "    <tr>\n",
       "      <th>0</th>\n",
       "      <td>I am facing two problems 1.</td>\n",
       "      <td>0</td>\n",
       "      <td>6</td>\n",
       "    </tr>\n",
       "    <tr>\n",
       "      <th>1</th>\n",
       "      <td>Fingerprint Sensor not so good as my previous ...</td>\n",
       "      <td>0</td>\n",
       "      <td>10</td>\n",
       "    </tr>\n",
       "    <tr>\n",
       "      <th>2</th>\n",
       "      <td>2.</td>\n",
       "      <td>0</td>\n",
       "      <td>1</td>\n",
       "    </tr>\n",
       "    <tr>\n",
       "      <th>3</th>\n",
       "      <td>Front Camara is shaking.</td>\n",
       "      <td>0</td>\n",
       "      <td>4</td>\n",
       "    </tr>\n",
       "    <tr>\n",
       "      <th>4</th>\n",
       "      <td>Apart from this Amazon packaging is very very ...</td>\n",
       "      <td>0</td>\n",
       "      <td>11</td>\n",
       "    </tr>\n",
       "    <tr>\n",
       "      <th>...</th>\n",
       "      <td>...</td>\n",
       "      <td>...</td>\n",
       "      <td>...</td>\n",
       "    </tr>\n",
       "    <tr>\n",
       "      <th>2460</th>\n",
       "      <td>On the other hand it went from 100 to 96% In 2...</td>\n",
       "      <td>0</td>\n",
       "      <td>34</td>\n",
       "    </tr>\n",
       "    <tr>\n",
       "      <th>2461</th>\n",
       "      <td>5.</td>\n",
       "      <td>0</td>\n",
       "      <td>1</td>\n",
       "    </tr>\n",
       "    <tr>\n",
       "      <th>2462</th>\n",
       "      <td>Processor is fast.</td>\n",
       "      <td>0</td>\n",
       "      <td>3</td>\n",
       "    </tr>\n",
       "    <tr>\n",
       "      <th>2463</th>\n",
       "      <td>It can handle many apps at a time.</td>\n",
       "      <td>0</td>\n",
       "      <td>8</td>\n",
       "    </tr>\n",
       "    <tr>\n",
       "      <th>2464</th>\n",
       "      <td>Rest it is a wonderful fone and I don't have a...</td>\n",
       "      <td>0</td>\n",
       "      <td>25</td>\n",
       "    </tr>\n",
       "  </tbody>\n",
       "</table>\n",
       "<p>2465 rows × 3 columns</p>\n",
       "</div>"
      ],
      "text/plain": [
       "                                               sentence  sentimental_value  \\\n",
       "0                           I am facing two problems 1.                  0   \n",
       "1     Fingerprint Sensor not so good as my previous ...                  0   \n",
       "2                                                    2.                  0   \n",
       "3                              Front Camara is shaking.                  0   \n",
       "4     Apart from this Amazon packaging is very very ...                  0   \n",
       "...                                                 ...                ...   \n",
       "2460  On the other hand it went from 100 to 96% In 2...                  0   \n",
       "2461                                                 5.                  0   \n",
       "2462                                 Processor is fast.                  0   \n",
       "2463                 It can handle many apps at a time.                  0   \n",
       "2464  Rest it is a wonderful fone and I don't have a...                  0   \n",
       "\n",
       "      word_count  \n",
       "0              6  \n",
       "1             10  \n",
       "2              1  \n",
       "3              4  \n",
       "4             11  \n",
       "...          ...  \n",
       "2460          34  \n",
       "2461           1  \n",
       "2462           3  \n",
       "2463           8  \n",
       "2464          25  \n",
       "\n",
       "[2465 rows x 3 columns]"
      ]
     },
     "execution_count": 78,
     "metadata": {},
     "output_type": "execute_result"
    }
   ],
   "source": [
    "sent_df"
   ]
  },
  {
   "cell_type": "code",
   "execution_count": 79,
   "metadata": {
    "ExecuteTime": {
     "end_time": "2021-02-12T04:51:24.248695Z",
     "start_time": "2021-02-12T04:51:24.232810Z"
    }
   },
   "outputs": [
    {
     "data": {
      "text/html": [
       "<div>\n",
       "<style scoped>\n",
       "    .dataframe tbody tr th:only-of-type {\n",
       "        vertical-align: middle;\n",
       "    }\n",
       "\n",
       "    .dataframe tbody tr th {\n",
       "        vertical-align: top;\n",
       "    }\n",
       "\n",
       "    .dataframe thead th {\n",
       "        text-align: right;\n",
       "    }\n",
       "</style>\n",
       "<table border=\"1\" class=\"dataframe\">\n",
       "  <thead>\n",
       "    <tr style=\"text-align: right;\">\n",
       "      <th></th>\n",
       "      <th>sentence</th>\n",
       "      <th>sentimental_value</th>\n",
       "      <th>word_count</th>\n",
       "    </tr>\n",
       "  </thead>\n",
       "  <tbody>\n",
       "    <tr>\n",
       "      <th>2460</th>\n",
       "      <td>On the other hand it went from 100 to 96% In 2...</td>\n",
       "      <td>0</td>\n",
       "      <td>34</td>\n",
       "    </tr>\n",
       "    <tr>\n",
       "      <th>2461</th>\n",
       "      <td>5.</td>\n",
       "      <td>0</td>\n",
       "      <td>1</td>\n",
       "    </tr>\n",
       "    <tr>\n",
       "      <th>2462</th>\n",
       "      <td>Processor is fast.</td>\n",
       "      <td>0</td>\n",
       "      <td>3</td>\n",
       "    </tr>\n",
       "    <tr>\n",
       "      <th>2463</th>\n",
       "      <td>It can handle many apps at a time.</td>\n",
       "      <td>0</td>\n",
       "      <td>8</td>\n",
       "    </tr>\n",
       "    <tr>\n",
       "      <th>2464</th>\n",
       "      <td>Rest it is a wonderful fone and I don't have a...</td>\n",
       "      <td>0</td>\n",
       "      <td>25</td>\n",
       "    </tr>\n",
       "  </tbody>\n",
       "</table>\n",
       "</div>"
      ],
      "text/plain": [
       "                                               sentence  sentimental_value  \\\n",
       "2460  On the other hand it went from 100 to 96% In 2...                  0   \n",
       "2461                                                 5.                  0   \n",
       "2462                                 Processor is fast.                  0   \n",
       "2463                 It can handle many apps at a time.                  0   \n",
       "2464  Rest it is a wonderful fone and I don't have a...                  0   \n",
       "\n",
       "      word_count  \n",
       "2460          34  \n",
       "2461           1  \n",
       "2462           3  \n",
       "2463           8  \n",
       "2464          25  "
      ]
     },
     "execution_count": 79,
     "metadata": {},
     "output_type": "execute_result"
    }
   ],
   "source": [
    "sent_df.tail()"
   ]
  },
  {
   "cell_type": "code",
   "execution_count": 80,
   "metadata": {
    "ExecuteTime": {
     "end_time": "2021-02-12T04:51:26.832063Z",
     "start_time": "2021-02-12T04:51:26.805320Z"
    }
   },
   "outputs": [
    {
     "data": {
      "text/html": [
       "<div>\n",
       "<style scoped>\n",
       "    .dataframe tbody tr th:only-of-type {\n",
       "        vertical-align: middle;\n",
       "    }\n",
       "\n",
       "    .dataframe tbody tr th {\n",
       "        vertical-align: top;\n",
       "    }\n",
       "\n",
       "    .dataframe thead th {\n",
       "        text-align: right;\n",
       "    }\n",
       "</style>\n",
       "<table border=\"1\" class=\"dataframe\">\n",
       "  <thead>\n",
       "    <tr style=\"text-align: right;\">\n",
       "      <th></th>\n",
       "      <th>sentence</th>\n",
       "      <th>sentimental_value</th>\n",
       "      <th>word_count</th>\n",
       "    </tr>\n",
       "  </thead>\n",
       "  <tbody>\n",
       "    <tr>\n",
       "      <th>1468</th>\n",
       "      <td>Worst camera from Samsung Worst support from A...</td>\n",
       "      <td>-3</td>\n",
       "      <td>13</td>\n",
       "    </tr>\n",
       "    <tr>\n",
       "      <th>884</th>\n",
       "      <td>Worst ever phone from Samsung.</td>\n",
       "      <td>-3</td>\n",
       "      <td>5</td>\n",
       "    </tr>\n",
       "    <tr>\n",
       "      <th>517</th>\n",
       "      <td>Worst camera ever.</td>\n",
       "      <td>-3</td>\n",
       "      <td>3</td>\n",
       "    </tr>\n",
       "    <tr>\n",
       "      <th>791</th>\n",
       "      <td>worst camera, Low processer.</td>\n",
       "      <td>-3</td>\n",
       "      <td>4</td>\n",
       "    </tr>\n",
       "    <tr>\n",
       "      <th>553</th>\n",
       "      <td>Worst product ever,I got this phone on 15aug 2...</td>\n",
       "      <td>-3</td>\n",
       "      <td>69</td>\n",
       "    </tr>\n",
       "    <tr>\n",
       "      <th>2231</th>\n",
       "      <td>Bad: •Doesn't offer earphones in the box.</td>\n",
       "      <td>-3</td>\n",
       "      <td>7</td>\n",
       "    </tr>\n",
       "    <tr>\n",
       "      <th>788</th>\n",
       "      <td>Worst Samsung mobile I have ever used.</td>\n",
       "      <td>-3</td>\n",
       "      <td>7</td>\n",
       "    </tr>\n",
       "    <tr>\n",
       "      <th>41</th>\n",
       "      <td>Disadvantage of the face unlock was once it ca...</td>\n",
       "      <td>-2</td>\n",
       "      <td>25</td>\n",
       "    </tr>\n",
       "    <tr>\n",
       "      <th>373</th>\n",
       "      <td>Poor configuration mobile from Samsung ( Revie...</td>\n",
       "      <td>-2</td>\n",
       "      <td>45</td>\n",
       "    </tr>\n",
       "    <tr>\n",
       "      <th>1069</th>\n",
       "      <td>Struggles a bit during the low light conditions.</td>\n",
       "      <td>-2</td>\n",
       "      <td>8</td>\n",
       "    </tr>\n",
       "    <tr>\n",
       "      <th>1372</th>\n",
       "      <td>Poor quality control and pre dispatch inspection.</td>\n",
       "      <td>-2</td>\n",
       "      <td>7</td>\n",
       "    </tr>\n",
       "    <tr>\n",
       "      <th>855</th>\n",
       "      <td>Pathetic behaviour by the Bhopal logistics team.</td>\n",
       "      <td>-2</td>\n",
       "      <td>7</td>\n",
       "    </tr>\n",
       "    <tr>\n",
       "      <th>922</th>\n",
       "      <td>Poor performance for this price!</td>\n",
       "      <td>-2</td>\n",
       "      <td>5</td>\n",
       "    </tr>\n",
       "    <tr>\n",
       "      <th>1091</th>\n",
       "      <td>DISAPPOINTED from SAMSUNG again.</td>\n",
       "      <td>-2</td>\n",
       "      <td>4</td>\n",
       "    </tr>\n",
       "    <tr>\n",
       "      <th>989</th>\n",
       "      <td>Disappointed with processor which can be bette...</td>\n",
       "      <td>-2</td>\n",
       "      <td>13</td>\n",
       "    </tr>\n",
       "    <tr>\n",
       "      <th>2377</th>\n",
       "      <td>Poor placement of fingerprint scanner.</td>\n",
       "      <td>-2</td>\n",
       "      <td>5</td>\n",
       "    </tr>\n",
       "    <tr>\n",
       "      <th>2381</th>\n",
       "      <td>No idea what phone these youtubers were using ...</td>\n",
       "      <td>-1</td>\n",
       "      <td>19</td>\n",
       "    </tr>\n",
       "    <tr>\n",
       "      <th>2169</th>\n",
       "      <td>No smoothness, slow booting, UI is not user fr...</td>\n",
       "      <td>-1</td>\n",
       "      <td>9</td>\n",
       "    </tr>\n",
       "    <tr>\n",
       "      <th>571</th>\n",
       "      <td>Forget about the need to carry a power bank.</td>\n",
       "      <td>-1</td>\n",
       "      <td>9</td>\n",
       "    </tr>\n",
       "    <tr>\n",
       "      <th>2357</th>\n",
       "      <td>Waste of my money.</td>\n",
       "      <td>-1</td>\n",
       "      <td>4</td>\n",
       "    </tr>\n",
       "  </tbody>\n",
       "</table>\n",
       "</div>"
      ],
      "text/plain": [
       "                                               sentence  sentimental_value  \\\n",
       "1468  Worst camera from Samsung Worst support from A...                 -3   \n",
       "884                      Worst ever phone from Samsung.                 -3   \n",
       "517                                  Worst camera ever.                 -3   \n",
       "791                        worst camera, Low processer.                 -3   \n",
       "553   Worst product ever,I got this phone on 15aug 2...                 -3   \n",
       "2231          Bad: •Doesn't offer earphones in the box.                 -3   \n",
       "788              Worst Samsung mobile I have ever used.                 -3   \n",
       "41    Disadvantage of the face unlock was once it ca...                 -2   \n",
       "373   Poor configuration mobile from Samsung ( Revie...                 -2   \n",
       "1069   Struggles a bit during the low light conditions.                 -2   \n",
       "1372  Poor quality control and pre dispatch inspection.                 -2   \n",
       "855    Pathetic behaviour by the Bhopal logistics team.                 -2   \n",
       "922                    Poor performance for this price!                 -2   \n",
       "1091                   DISAPPOINTED from SAMSUNG again.                 -2   \n",
       "989   Disappointed with processor which can be bette...                 -2   \n",
       "2377             Poor placement of fingerprint scanner.                 -2   \n",
       "2381  No idea what phone these youtubers were using ...                 -1   \n",
       "2169  No smoothness, slow booting, UI is not user fr...                 -1   \n",
       "571        Forget about the need to carry a power bank.                 -1   \n",
       "2357                                 Waste of my money.                 -1   \n",
       "\n",
       "      word_count  \n",
       "1468          13  \n",
       "884            5  \n",
       "517            3  \n",
       "791            4  \n",
       "553           69  \n",
       "2231           7  \n",
       "788            7  \n",
       "41            25  \n",
       "373           45  \n",
       "1069           8  \n",
       "1372           7  \n",
       "855            7  \n",
       "922            5  \n",
       "1091           4  \n",
       "989           13  \n",
       "2377           5  \n",
       "2381          19  \n",
       "2169           9  \n",
       "571            9  \n",
       "2357           4  "
      ]
     },
     "execution_count": 80,
     "metadata": {},
     "output_type": "execute_result"
    }
   ],
   "source": [
    "sent_df.sort_values(by='sentimental_value').head(20)"
   ]
  },
  {
   "cell_type": "code",
   "execution_count": 81,
   "metadata": {
    "ExecuteTime": {
     "end_time": "2021-02-12T04:51:29.853818Z",
     "start_time": "2021-02-12T04:51:29.841492Z"
    }
   },
   "outputs": [
    {
     "data": {
      "text/plain": [
       "count    2465.000000\n",
       "mean        0.064503\n",
       "std         0.553451\n",
       "min        -3.000000\n",
       "25%         0.000000\n",
       "50%         0.000000\n",
       "75%         0.000000\n",
       "max         5.000000\n",
       "Name: sentimental_value, dtype: float64"
      ]
     },
     "execution_count": 81,
     "metadata": {},
     "output_type": "execute_result"
    }
   ],
   "source": [
    "sent_df['sentimental_value'].describe()"
   ]
  },
  {
   "cell_type": "code",
   "execution_count": 82,
   "metadata": {
    "ExecuteTime": {
     "end_time": "2021-02-12T04:51:32.325817Z",
     "start_time": "2021-02-12T04:51:32.303178Z"
    }
   },
   "outputs": [
    {
     "data": {
      "text/html": [
       "<div>\n",
       "<style scoped>\n",
       "    .dataframe tbody tr th:only-of-type {\n",
       "        vertical-align: middle;\n",
       "    }\n",
       "\n",
       "    .dataframe tbody tr th {\n",
       "        vertical-align: top;\n",
       "    }\n",
       "\n",
       "    .dataframe thead th {\n",
       "        text-align: right;\n",
       "    }\n",
       "</style>\n",
       "<table border=\"1\" class=\"dataframe\">\n",
       "  <thead>\n",
       "    <tr style=\"text-align: right;\">\n",
       "      <th></th>\n",
       "      <th>sentence</th>\n",
       "      <th>sentimental_value</th>\n",
       "      <th>word_count</th>\n",
       "    </tr>\n",
       "  </thead>\n",
       "  <tbody>\n",
       "    <tr>\n",
       "      <th>0</th>\n",
       "      <td>I am facing two problems 1.</td>\n",
       "      <td>0</td>\n",
       "      <td>6</td>\n",
       "    </tr>\n",
       "    <tr>\n",
       "      <th>1</th>\n",
       "      <td>Fingerprint Sensor not so good as my previous ...</td>\n",
       "      <td>0</td>\n",
       "      <td>10</td>\n",
       "    </tr>\n",
       "    <tr>\n",
       "      <th>2</th>\n",
       "      <td>2.</td>\n",
       "      <td>0</td>\n",
       "      <td>1</td>\n",
       "    </tr>\n",
       "    <tr>\n",
       "      <th>3</th>\n",
       "      <td>Front Camara is shaking.</td>\n",
       "      <td>0</td>\n",
       "      <td>4</td>\n",
       "    </tr>\n",
       "    <tr>\n",
       "      <th>4</th>\n",
       "      <td>Apart from this Amazon packaging is very very ...</td>\n",
       "      <td>0</td>\n",
       "      <td>11</td>\n",
       "    </tr>\n",
       "  </tbody>\n",
       "</table>\n",
       "</div>"
      ],
      "text/plain": [
       "                                            sentence  sentimental_value  \\\n",
       "0                        I am facing two problems 1.                  0   \n",
       "1  Fingerprint Sensor not so good as my previous ...                  0   \n",
       "2                                                 2.                  0   \n",
       "3                           Front Camara is shaking.                  0   \n",
       "4  Apart from this Amazon packaging is very very ...                  0   \n",
       "\n",
       "   word_count  \n",
       "0           6  \n",
       "1          10  \n",
       "2           1  \n",
       "3           4  \n",
       "4          11  "
      ]
     },
     "execution_count": 82,
     "metadata": {},
     "output_type": "execute_result"
    }
   ],
   "source": [
    "sent_df[sent_df['sentimental_value']<=0].head()"
   ]
  },
  {
   "cell_type": "code",
   "execution_count": 83,
   "metadata": {
    "ExecuteTime": {
     "end_time": "2021-02-12T04:51:34.491225Z",
     "start_time": "2021-02-12T04:51:34.474458Z"
    }
   },
   "outputs": [
    {
     "data": {
      "text/html": [
       "<div>\n",
       "<style scoped>\n",
       "    .dataframe tbody tr th:only-of-type {\n",
       "        vertical-align: middle;\n",
       "    }\n",
       "\n",
       "    .dataframe tbody tr th {\n",
       "        vertical-align: top;\n",
       "    }\n",
       "\n",
       "    .dataframe thead th {\n",
       "        text-align: right;\n",
       "    }\n",
       "</style>\n",
       "<table border=\"1\" class=\"dataframe\">\n",
       "  <thead>\n",
       "    <tr style=\"text-align: right;\">\n",
       "      <th></th>\n",
       "      <th>sentence</th>\n",
       "      <th>sentimental_value</th>\n",
       "      <th>word_count</th>\n",
       "    </tr>\n",
       "  </thead>\n",
       "  <tbody>\n",
       "    <tr>\n",
       "      <th>10</th>\n",
       "      <td>good product under budget.</td>\n",
       "      <td>3</td>\n",
       "      <td>4</td>\n",
       "    </tr>\n",
       "    <tr>\n",
       "      <th>13</th>\n",
       "      <td>Excellent display with L1 support.</td>\n",
       "      <td>3</td>\n",
       "      <td>5</td>\n",
       "    </tr>\n",
       "    <tr>\n",
       "      <th>14</th>\n",
       "      <td>Super fast charger.</td>\n",
       "      <td>3</td>\n",
       "      <td>3</td>\n",
       "    </tr>\n",
       "    <tr>\n",
       "      <th>15</th>\n",
       "      <td>Good cameras Side finger print sensor is very ...</td>\n",
       "      <td>3</td>\n",
       "      <td>9</td>\n",
       "    </tr>\n",
       "    <tr>\n",
       "      <th>80</th>\n",
       "      <td>Great value for money though.</td>\n",
       "      <td>3</td>\n",
       "      <td>5</td>\n",
       "    </tr>\n",
       "  </tbody>\n",
       "</table>\n",
       "</div>"
      ],
      "text/plain": [
       "                                             sentence  sentimental_value  \\\n",
       "10                         good product under budget.                  3   \n",
       "13                 Excellent display with L1 support.                  3   \n",
       "14                                Super fast charger.                  3   \n",
       "15  Good cameras Side finger print sensor is very ...                  3   \n",
       "80                      Great value for money though.                  3   \n",
       "\n",
       "    word_count  \n",
       "10           4  \n",
       "13           5  \n",
       "14           3  \n",
       "15           9  \n",
       "80           5  "
      ]
     },
     "execution_count": 83,
     "metadata": {},
     "output_type": "execute_result"
    }
   ],
   "source": [
    "sent_df[sent_df['sentimental_value']>=2].head()"
   ]
  },
  {
   "cell_type": "code",
   "execution_count": 84,
   "metadata": {
    "ExecuteTime": {
     "end_time": "2021-02-12T04:51:36.962570Z",
     "start_time": "2021-02-12T04:51:36.949254Z"
    }
   },
   "outputs": [],
   "source": [
    "sent_df['index']=range(0,len(sent_df))"
   ]
  },
  {
   "cell_type": "code",
   "execution_count": 85,
   "metadata": {
    "ExecuteTime": {
     "end_time": "2021-02-12T04:51:39.891435Z",
     "start_time": "2021-02-12T04:51:39.443981Z"
    }
   },
   "outputs": [
    {
     "name": "stderr",
     "output_type": "stream",
     "text": [
      "C:\\Users\\Musaddique\\anaconda3\\lib\\site-packages\\seaborn\\distributions.py:369: UserWarning: Default bandwidth for data is 0; skipping density estimation.\n",
      "  warnings.warn(msg, UserWarning)\n"
     ]
    },
    {
     "data": {
      "text/plain": [
       "<matplotlib.axes._subplots.AxesSubplot at 0x1bd3257d8e0>"
      ]
     },
     "execution_count": 85,
     "metadata": {},
     "output_type": "execute_result"
    },
    {
     "data": {
      "image/png": "[encoded data removed]",
      "text/plain": [
       "<Figure size 432x288 with 1 Axes>"
      ]
     },
     "metadata": {
      "needs_background": "light"
     },
     "output_type": "display_data"
    }
   ],
   "source": [
    "import seaborn as sns\n",
    "import matplotlib.pyplot as plt\n",
    "sns.distplot(sent_df['sentimental_value'])"
   ]
  },
  {
   "cell_type": "code",
   "execution_count": 86,
   "metadata": {
    "ExecuteTime": {
     "end_time": "2021-02-12T04:51:43.185773Z",
     "start_time": "2021-02-12T04:51:42.334796Z"
    }
   },
   "outputs": [
    {
     "data": {
      "text/plain": [
       "<matplotlib.axes._subplots.AxesSubplot at 0x1bd339a0460>"
      ]
     },
     "execution_count": 86,
     "metadata": {},
     "output_type": "execute_result"
    },
    {
     "data": {
      "image/png": "[encoded data removed]",
      "text/plain": [
       "<Figure size 1080x720 with 1 Axes>"
      ]
     },
     "metadata": {
      "needs_background": "light"
     },
     "output_type": "display_data"
    }
   ],
   "source": [
    "plt.figure(figsize=(15,10))\n",
    "sns.lineplot(y='sentimental_value',x='index',data=sent_df)"
   ]
  },
  {
   "cell_type": "code",
   "execution_count": 87,
   "metadata": {
    "ExecuteTime": {
     "end_time": "2021-02-12T04:51:45.975604Z",
     "start_time": "2021-02-12T04:51:45.628375Z"
    }
   },
   "outputs": [
    {
     "data": {
      "text/plain": [
       "<matplotlib.axes._subplots.AxesSubplot at 0x1bd3c5778e0>"
      ]
     },
     "execution_count": 87,
     "metadata": {},
     "output_type": "execute_result"
    },
    {
     "data": {
      "image/png": "[encoded data removed]",
      "text/plain": [
       "<Figure size 720x720 with 1 Axes>"
      ]
     },
     "metadata": {
      "needs_background": "light"
     },
     "output_type": "display_data"
    }
   ],
   "source": [
    "sent_df.plot.scatter(x='word_count',y='sentimental_value',figsize=(10,10),title='sentence sentiment value to word count ')"
   ]
  }
 ],
 "metadata": {
  "kernelspec": {
   "display_name": "Python 3",
   "language": "python",
   "name": "python3"
  },
  "language_info": {
   "codemirror_mode": {
    "name": "ipython",
    "version": 3
   },
   "file_extension": ".py",
   "mimetype": "text/x-python",
   "name": "python",
   "nbconvert_exporter": "python",
   "pygments_lexer": "ipython3",
   "version": "3.8.3"
  },
  "toc": {
   "base_numbering": 1,
   "nav_menu": {},
   "number_sections": true,
   "sideBar": true,
   "skip_h1_title": false,
   "title_cell": "Table of Contents",
   "title_sidebar": "Contents",
   "toc_cell": false,
   "toc_position": {},
   "toc_section_display": true,
   "toc_window_display": false
  },
  "varInspector": {
   "cols": {
    "lenName": 16,
    "lenType": 16,
    "lenVar": 40
   },
   "kernels_config": {
    "python": {
     "delete_cmd_postfix": "",
     "delete_cmd_prefix": "del ",
     "library": "var_list.py",
     "varRefreshCmd": "print(var_dic_list())"
    },
    "r": {
     "delete_cmd_postfix": ") ",
     "delete_cmd_prefix": "rm(",
     "library": "var_list.r",
     "varRefreshCmd": "cat(var_dic_list()) "
    }
   },
   "types_to_exclude": [
    "module",
    "function",
    "builtin_function_or_method",
    "instance",
    "_Feature"
   ],
   "window_display": false
  }
 },
 "nbformat": 4,
 "nbformat_minor": 4
}
