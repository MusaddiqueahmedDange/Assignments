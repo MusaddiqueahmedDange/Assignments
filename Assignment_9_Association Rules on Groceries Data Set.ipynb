{
 "cells": [
  {
   "cell_type": "code",
   "execution_count": 1,
   "metadata": {
    "ExecuteTime": {
     "end_time": "2021-01-29T16:04:26.809348Z",
     "start_time": "2021-01-29T16:04:23.819853Z"
    }
   },
   "outputs": [
    {
     "name": "stdout",
     "output_type": "stream",
     "text": [
      "Requirement already satisfied: mlxtend in c:\\users\\musaddique\\anaconda3\\lib\\site-packages (0.18.0)\n",
      "Requirement already satisfied: setuptools in c:\\users\\musaddique\\anaconda3\\lib\\site-packages (from mlxtend) (49.2.0.post20200714)\n",
      "Requirement already satisfied: numpy>=1.16.2 in c:\\users\\musaddique\\anaconda3\\lib\\site-packages (from mlxtend) (1.18.5)\n",
      "Requirement already satisfied: scipy>=1.2.1 in c:\\users\\musaddique\\anaconda3\\lib\\site-packages (from mlxtend) (1.5.0)\n",
      "Requirement already satisfied: pandas>=0.24.2 in c:\\users\\musaddique\\anaconda3\\lib\\site-packages (from mlxtend) (1.0.5)\n",
      "Requirement already satisfied: matplotlib>=3.0.0 in c:\\users\\musaddique\\anaconda3\\lib\\site-packages (from mlxtend) (3.2.2)\n",
      "Requirement already satisfied: joblib>=0.13.2 in c:\\users\\musaddique\\anaconda3\\lib\\site-packages (from mlxtend) (0.16.0)\n",
      "Requirement already satisfied: scikit-learn>=0.20.3 in c:\\users\\musaddique\\anaconda3\\lib\\site-packages (from mlxtend) (0.23.1)\n",
      "Requirement already satisfied: python-dateutil>=2.6.1 in c:\\users\\musaddique\\anaconda3\\lib\\site-packages (from pandas>=0.24.2->mlxtend) (2.8.1)\n",
      "Requirement already satisfied: pytz>=2017.2 in c:\\users\\musaddique\\anaconda3\\lib\\site-packages (from pandas>=0.24.2->mlxtend) (2020.1)\n",
      "Requirement already satisfied: pyparsing!=2.0.4,!=2.1.2,!=2.1.6,>=2.0.1 in c:\\users\\musaddique\\anaconda3\\lib\\site-packages (from matplotlib>=3.0.0->mlxtend) (2.4.7)\n",
      "Requirement already satisfied: kiwisolver>=1.0.1 in c:\\users\\musaddique\\anaconda3\\lib\\site-packages (from matplotlib>=3.0.0->mlxtend) (1.2.0)\n",
      "Requirement already satisfied: cycler>=0.10 in c:\\users\\musaddique\\anaconda3\\lib\\site-packages (from matplotlib>=3.0.0->mlxtend) (0.10.0)\n",
      "Requirement already satisfied: threadpoolctl>=2.0.0 in c:\\users\\musaddique\\anaconda3\\lib\\site-packages (from scikit-learn>=0.20.3->mlxtend) (2.1.0)\n",
      "Requirement already satisfied: six>=1.5 in c:\\users\\musaddique\\anaconda3\\lib\\site-packages (from python-dateutil>=2.6.1->pandas>=0.24.2->mlxtend) (1.15.0)\n"
     ]
    }
   ],
   "source": [
    "!pip install mlxtend\n",
    "import pandas as pd\n",
    "import numpy as np\n",
    "from mlxtend.frequent_patterns import apriori,association_rules"
   ]
  },
  {
   "cell_type": "code",
   "execution_count": 2,
   "metadata": {
    "ExecuteTime": {
     "end_time": "2021-01-29T16:04:27.616644Z",
     "start_time": "2021-01-29T16:04:27.560081Z"
    }
   },
   "outputs": [],
   "source": [
    " groceries = []\n",
    "with open(\"groceries.csv\") as f:\n",
    "    groceries = f.read()\n",
    "\n",
    "\n",
    "\n",
    "# splitting the data into separate transactions using separator as \"\\n\"\n",
    "groceries = groceries.split(\"\\n\")\n",
    "groceries_list = []\n",
    "for i in groceries:\n",
    "    groceries_list.append(i.split(\",\"))\n",
    "    "
   ]
  },
  {
   "cell_type": "code",
   "execution_count": 3,
   "metadata": {
    "ExecuteTime": {
     "end_time": "2021-01-29T16:04:28.849432Z",
     "start_time": "2021-01-29T16:04:28.836676Z"
    }
   },
   "outputs": [],
   "source": [
    "all_groceries_list = [i for item in groceries_list for i in item]\n",
    "from collections import Counter\n",
    "\n",
    "item_frequencies = Counter(all_groceries_list)\n"
   ]
  },
  {
   "cell_type": "code",
   "execution_count": 4,
   "metadata": {
    "ExecuteTime": {
     "end_time": "2021-01-29T16:04:30.377774Z",
     "start_time": "2021-01-29T16:04:30.363106Z"
    }
   },
   "outputs": [],
   "source": [
    "# after sorting\n",
    "#item_frequencies = sorted(item_frequencies.items(),key = lambda x:x[1])\n",
    "item_frequencies = sorted(item_frequencies.items(),key = lambda x:x[1])"
   ]
  },
  {
   "cell_type": "code",
   "execution_count": 5,
   "metadata": {
    "ExecuteTime": {
     "end_time": "2021-01-29T16:04:31.034165Z",
     "start_time": "2021-01-29T16:04:31.026706Z"
    }
   },
   "outputs": [],
   "source": [
    "# Storing frequencies and items in separate variables \n",
    "frequencies = list(reversed([i[1] for i in item_frequencies]))\n",
    "items = list(reversed([i[0] for i in item_frequencies]))\n"
   ]
  },
  {
   "cell_type": "code",
   "execution_count": 6,
   "metadata": {
    "ExecuteTime": {
     "end_time": "2021-01-29T16:04:32.572144Z",
     "start_time": "2021-01-29T16:04:31.694697Z"
    }
   },
   "outputs": [
    {
     "name": "stderr",
     "output_type": "stream",
     "text": [
      "<ipython-input-6-2201dfd3438c>:5: MatplotlibDeprecationWarning: Using a string of single character colors as a color sequence is deprecated. Use an explicit list instead.\n",
      "  plt.bar(x=list(range(0,11)) ,height=frequencies[0:11],color='rgbkymc');plt.xticks(list(range(0,11),),items[0:11]);plt.xlabel(\"items\")\n"
     ]
    },
    {
     "data": {
      "text/plain": [
       "Text(0.5, 0, 'Items')"
      ]
     },
     "execution_count": 6,
     "metadata": {},
     "output_type": "execute_result"
    },
    {
     "data": {
      "image/png": "[encoded data removed]",
      "text/plain": [
       "<Figure size 1080x360 with 1 Axes>"
      ]
     },
     "metadata": {
      "needs_background": "light"
     },
     "output_type": "display_data"
    }
   ],
   "source": [
    "# barplot of top 10 \n",
    "\n",
    "import matplotlib.pyplot as plt\n",
    "plt.figure(figsize=(15, 5))\n",
    "plt.bar(x=list(range(0,11)) ,height=frequencies[0:11],color='rgbkymc');plt.xticks(list(range(0,11),),items[0:11]);plt.xlabel(\"items\")\n",
    "plt.ylabel(\"Count\");plt.xlabel(\"Items\")"
   ]
  },
  {
   "cell_type": "code",
   "execution_count": 7,
   "metadata": {
    "ExecuteTime": {
     "end_time": "2021-01-29T16:04:33.252913Z",
     "start_time": "2021-01-29T16:04:33.225753Z"
    }
   },
   "outputs": [],
   "source": [
    "#Creating Data Frame for the transactions data \n",
    "\n",
    "# Purpose of converting all list into Series object Coz to treat each list element as entire element not to separate \n",
    "groceries_series  = pd.DataFrame(pd.Series(groceries_list))\n",
    "groceries_series = groceries_series.iloc[:9835,:] # removing the last empty transaction\n"
   ]
  },
  {
   "cell_type": "code",
   "execution_count": 8,
   "metadata": {
    "ExecuteTime": {
     "end_time": "2021-01-29T16:04:35.432828Z",
     "start_time": "2021-01-29T16:04:35.419003Z"
    }
   },
   "outputs": [],
   "source": [
    "groceries_series.columns = [\"transactions\"]"
   ]
  },
  {
   "cell_type": "code",
   "execution_count": 9,
   "metadata": {
    "ExecuteTime": {
     "end_time": "2021-01-29T16:04:38.459926Z",
     "start_time": "2021-01-29T16:04:36.068079Z"
    }
   },
   "outputs": [],
   "source": [
    "# creating a dummy columns for the each item in each transactions ... Using column names as item name\n",
    "X = groceries_series['transactions'].str.join(sep='*').str.get_dummies(sep='*')"
   ]
  },
  {
   "cell_type": "code",
   "execution_count": 10,
   "metadata": {
    "ExecuteTime": {
     "end_time": "2021-01-29T16:04:39.562516Z",
     "start_time": "2021-01-29T16:04:38.631389Z"
    }
   },
   "outputs": [
    {
     "data": {
      "text/html": [
       "<div>\n",
       "<style scoped>\n",
       "    .dataframe tbody tr th:only-of-type {\n",
       "        vertical-align: middle;\n",
       "    }\n",
       "\n",
       "    .dataframe tbody tr th {\n",
       "        vertical-align: top;\n",
       "    }\n",
       "\n",
       "    .dataframe thead th {\n",
       "        text-align: right;\n",
       "    }\n",
       "</style>\n",
       "<table border=\"1\" class=\"dataframe\">\n",
       "  <thead>\n",
       "    <tr style=\"text-align: right;\">\n",
       "      <th></th>\n",
       "      <th>support</th>\n",
       "      <th>itemsets</th>\n",
       "    </tr>\n",
       "  </thead>\n",
       "  <tbody>\n",
       "    <tr>\n",
       "      <th>0</th>\n",
       "      <td>0.082766</td>\n",
       "      <td>(citrus fruit)</td>\n",
       "    </tr>\n",
       "    <tr>\n",
       "      <th>1</th>\n",
       "      <td>0.058566</td>\n",
       "      <td>(margarine)</td>\n",
       "    </tr>\n",
       "    <tr>\n",
       "      <th>2</th>\n",
       "      <td>0.017692</td>\n",
       "      <td>(semi-finished bread)</td>\n",
       "    </tr>\n",
       "    <tr>\n",
       "      <th>3</th>\n",
       "      <td>0.139502</td>\n",
       "      <td>(yogurt)</td>\n",
       "    </tr>\n",
       "    <tr>\n",
       "      <th>4</th>\n",
       "      <td>0.104931</td>\n",
       "      <td>(tropical fruit)</td>\n",
       "    </tr>\n",
       "    <tr>\n",
       "      <th>...</th>\n",
       "      <td>...</td>\n",
       "      <td>...</td>\n",
       "    </tr>\n",
       "    <tr>\n",
       "      <th>996</th>\n",
       "      <td>0.005491</td>\n",
       "      <td>(meat, soda)</td>\n",
       "    </tr>\n",
       "    <tr>\n",
       "      <th>997</th>\n",
       "      <td>0.005084</td>\n",
       "      <td>(root vegetables, meat)</td>\n",
       "    </tr>\n",
       "    <tr>\n",
       "      <th>998</th>\n",
       "      <td>0.005287</td>\n",
       "      <td>(meat, sausage)</td>\n",
       "    </tr>\n",
       "    <tr>\n",
       "      <th>999</th>\n",
       "      <td>0.005287</td>\n",
       "      <td>(meat, yogurt)</td>\n",
       "    </tr>\n",
       "    <tr>\n",
       "      <th>1000</th>\n",
       "      <td>0.005186</td>\n",
       "      <td>(mustard, whole milk)</td>\n",
       "    </tr>\n",
       "  </tbody>\n",
       "</table>\n",
       "<p>1001 rows × 2 columns</p>\n",
       "</div>"
      ],
      "text/plain": [
       "       support                 itemsets\n",
       "0     0.082766           (citrus fruit)\n",
       "1     0.058566              (margarine)\n",
       "2     0.017692    (semi-finished bread)\n",
       "3     0.139502                 (yogurt)\n",
       "4     0.104931         (tropical fruit)\n",
       "...        ...                      ...\n",
       "996   0.005491             (meat, soda)\n",
       "997   0.005084  (root vegetables, meat)\n",
       "998   0.005287          (meat, sausage)\n",
       "999   0.005287           (meat, yogurt)\n",
       "1000  0.005186    (mustard, whole milk)\n",
       "\n",
       "[1001 rows x 2 columns]"
      ]
     },
     "execution_count": 10,
     "metadata": {},
     "output_type": "execute_result"
    }
   ],
   "source": [
    "from mlxtend.frequent_patterns import apriori, fpmax, fpgrowth\n",
    "frequent_itemsets_a = fpgrowth(X, min_support=0.005, use_colnames=True)\n",
    "frequent_itemsets_a"
   ]
  },
  {
   "cell_type": "markdown",
   "metadata": {
    "ExecuteTime": {
     "end_time": "2020-12-29T15:23:03.230147Z",
     "start_time": "2020-12-29T15:23:02.488169Z"
    }
   },
   "source": [
    "# Similar methods for as seen above\n",
    "#frequent_itemsets = apriori(df, min_support=0.05, use_colnames=True)\n",
    "#frequent_itemsets_b = fpmax(X, min_support=0.005, use_colnames=True)\n"
   ]
  },
  {
   "cell_type": "markdown",
   "metadata": {},
   "source": [
    "#  Generating Association Rules from Frequent Itemsets"
   ]
  },
  {
   "cell_type": "code",
   "execution_count": 11,
   "metadata": {
    "ExecuteTime": {
     "end_time": "2021-01-29T16:04:40.397162Z",
     "start_time": "2021-01-29T16:04:40.301842Z"
    }
   },
   "outputs": [
    {
     "data": {
      "text/html": [
       "<div>\n",
       "<style scoped>\n",
       "    .dataframe tbody tr th:only-of-type {\n",
       "        vertical-align: middle;\n",
       "    }\n",
       "\n",
       "    .dataframe tbody tr th {\n",
       "        vertical-align: top;\n",
       "    }\n",
       "\n",
       "    .dataframe thead th {\n",
       "        text-align: right;\n",
       "    }\n",
       "</style>\n",
       "<table border=\"1\" class=\"dataframe\">\n",
       "  <thead>\n",
       "    <tr style=\"text-align: right;\">\n",
       "      <th></th>\n",
       "      <th>antecedents</th>\n",
       "      <th>consequents</th>\n",
       "      <th>antecedent support</th>\n",
       "      <th>consequent support</th>\n",
       "      <th>support</th>\n",
       "      <th>confidence</th>\n",
       "      <th>lift</th>\n",
       "      <th>leverage</th>\n",
       "      <th>conviction</th>\n",
       "    </tr>\n",
       "  </thead>\n",
       "  <tbody>\n",
       "    <tr>\n",
       "      <th>0</th>\n",
       "      <td>(whole milk)</td>\n",
       "      <td>(citrus fruit)</td>\n",
       "      <td>0.255516</td>\n",
       "      <td>0.082766</td>\n",
       "      <td>0.030503</td>\n",
       "      <td>0.119379</td>\n",
       "      <td>1.442377</td>\n",
       "      <td>0.009355</td>\n",
       "      <td>1.041577</td>\n",
       "    </tr>\n",
       "    <tr>\n",
       "      <th>1</th>\n",
       "      <td>(citrus fruit)</td>\n",
       "      <td>(whole milk)</td>\n",
       "      <td>0.082766</td>\n",
       "      <td>0.255516</td>\n",
       "      <td>0.030503</td>\n",
       "      <td>0.368550</td>\n",
       "      <td>1.442377</td>\n",
       "      <td>0.009355</td>\n",
       "      <td>1.179008</td>\n",
       "    </tr>\n",
       "    <tr>\n",
       "      <th>2</th>\n",
       "      <td>(citrus fruit)</td>\n",
       "      <td>(yogurt)</td>\n",
       "      <td>0.082766</td>\n",
       "      <td>0.139502</td>\n",
       "      <td>0.021657</td>\n",
       "      <td>0.261671</td>\n",
       "      <td>1.875752</td>\n",
       "      <td>0.010111</td>\n",
       "      <td>1.165467</td>\n",
       "    </tr>\n",
       "    <tr>\n",
       "      <th>3</th>\n",
       "      <td>(yogurt)</td>\n",
       "      <td>(citrus fruit)</td>\n",
       "      <td>0.139502</td>\n",
       "      <td>0.082766</td>\n",
       "      <td>0.021657</td>\n",
       "      <td>0.155248</td>\n",
       "      <td>1.875752</td>\n",
       "      <td>0.010111</td>\n",
       "      <td>1.085803</td>\n",
       "    </tr>\n",
       "    <tr>\n",
       "      <th>4</th>\n",
       "      <td>(tropical fruit)</td>\n",
       "      <td>(citrus fruit)</td>\n",
       "      <td>0.104931</td>\n",
       "      <td>0.082766</td>\n",
       "      <td>0.019929</td>\n",
       "      <td>0.189922</td>\n",
       "      <td>2.294702</td>\n",
       "      <td>0.011244</td>\n",
       "      <td>1.132280</td>\n",
       "    </tr>\n",
       "    <tr>\n",
       "      <th>...</th>\n",
       "      <td>...</td>\n",
       "      <td>...</td>\n",
       "      <td>...</td>\n",
       "      <td>...</td>\n",
       "      <td>...</td>\n",
       "      <td>...</td>\n",
       "      <td>...</td>\n",
       "      <td>...</td>\n",
       "      <td>...</td>\n",
       "    </tr>\n",
       "    <tr>\n",
       "      <th>2957</th>\n",
       "      <td>(sausage)</td>\n",
       "      <td>(meat)</td>\n",
       "      <td>0.093950</td>\n",
       "      <td>0.025826</td>\n",
       "      <td>0.005287</td>\n",
       "      <td>0.056277</td>\n",
       "      <td>2.179074</td>\n",
       "      <td>0.002861</td>\n",
       "      <td>1.032267</td>\n",
       "    </tr>\n",
       "    <tr>\n",
       "      <th>2958</th>\n",
       "      <td>(meat)</td>\n",
       "      <td>(yogurt)</td>\n",
       "      <td>0.025826</td>\n",
       "      <td>0.139502</td>\n",
       "      <td>0.005287</td>\n",
       "      <td>0.204724</td>\n",
       "      <td>1.467540</td>\n",
       "      <td>0.001684</td>\n",
       "      <td>1.082013</td>\n",
       "    </tr>\n",
       "    <tr>\n",
       "      <th>2959</th>\n",
       "      <td>(yogurt)</td>\n",
       "      <td>(meat)</td>\n",
       "      <td>0.139502</td>\n",
       "      <td>0.025826</td>\n",
       "      <td>0.005287</td>\n",
       "      <td>0.037901</td>\n",
       "      <td>1.467540</td>\n",
       "      <td>0.001684</td>\n",
       "      <td>1.012550</td>\n",
       "    </tr>\n",
       "    <tr>\n",
       "      <th>2960</th>\n",
       "      <td>(mustard)</td>\n",
       "      <td>(whole milk)</td>\n",
       "      <td>0.011998</td>\n",
       "      <td>0.255516</td>\n",
       "      <td>0.005186</td>\n",
       "      <td>0.432203</td>\n",
       "      <td>1.691492</td>\n",
       "      <td>0.002120</td>\n",
       "      <td>1.311181</td>\n",
       "    </tr>\n",
       "    <tr>\n",
       "      <th>2961</th>\n",
       "      <td>(whole milk)</td>\n",
       "      <td>(mustard)</td>\n",
       "      <td>0.255516</td>\n",
       "      <td>0.011998</td>\n",
       "      <td>0.005186</td>\n",
       "      <td>0.020294</td>\n",
       "      <td>1.691492</td>\n",
       "      <td>0.002120</td>\n",
       "      <td>1.008468</td>\n",
       "    </tr>\n",
       "  </tbody>\n",
       "</table>\n",
       "<p>2962 rows × 9 columns</p>\n",
       "</div>"
      ],
      "text/plain": [
       "           antecedents     consequents  antecedent support  \\\n",
       "0         (whole milk)  (citrus fruit)            0.255516   \n",
       "1       (citrus fruit)    (whole milk)            0.082766   \n",
       "2       (citrus fruit)        (yogurt)            0.082766   \n",
       "3             (yogurt)  (citrus fruit)            0.139502   \n",
       "4     (tropical fruit)  (citrus fruit)            0.104931   \n",
       "...                ...             ...                 ...   \n",
       "2957         (sausage)          (meat)            0.093950   \n",
       "2958            (meat)        (yogurt)            0.025826   \n",
       "2959          (yogurt)          (meat)            0.139502   \n",
       "2960         (mustard)    (whole milk)            0.011998   \n",
       "2961      (whole milk)       (mustard)            0.255516   \n",
       "\n",
       "      consequent support   support  confidence      lift  leverage  conviction  \n",
       "0               0.082766  0.030503    0.119379  1.442377  0.009355    1.041577  \n",
       "1               0.255516  0.030503    0.368550  1.442377  0.009355    1.179008  \n",
       "2               0.139502  0.021657    0.261671  1.875752  0.010111    1.165467  \n",
       "3               0.082766  0.021657    0.155248  1.875752  0.010111    1.085803  \n",
       "4               0.082766  0.019929    0.189922  2.294702  0.011244    1.132280  \n",
       "...                  ...       ...         ...       ...       ...         ...  \n",
       "2957            0.025826  0.005287    0.056277  2.179074  0.002861    1.032267  \n",
       "2958            0.139502  0.005287    0.204724  1.467540  0.001684    1.082013  \n",
       "2959            0.025826  0.005287    0.037901  1.467540  0.001684    1.012550  \n",
       "2960            0.255516  0.005186    0.432203  1.691492  0.002120    1.311181  \n",
       "2961            0.011998  0.005186    0.020294  1.691492  0.002120    1.008468  \n",
       "\n",
       "[2962 rows x 9 columns]"
      ]
     },
     "execution_count": 11,
     "metadata": {},
     "output_type": "execute_result"
    }
   ],
   "source": [
    "from mlxtend.frequent_patterns import association_rules\n",
    "\n",
    "association_rules(frequent_itemsets_a, metric=\"confidence\", min_threshold=0.005)"
   ]
  },
  {
   "cell_type": "markdown",
   "metadata": {},
   "source": [
    "# Rule Generation and Selection Criteria"
   ]
  },
  {
   "cell_type": "code",
   "execution_count": 12,
   "metadata": {
    "ExecuteTime": {
     "end_time": "2021-01-29T16:04:41.400106Z",
     "start_time": "2021-01-29T16:04:41.302787Z"
    }
   },
   "outputs": [
    {
     "data": {
      "text/html": [
       "<div>\n",
       "<style scoped>\n",
       "    .dataframe tbody tr th:only-of-type {\n",
       "        vertical-align: middle;\n",
       "    }\n",
       "\n",
       "    .dataframe tbody tr th {\n",
       "        vertical-align: top;\n",
       "    }\n",
       "\n",
       "    .dataframe thead th {\n",
       "        text-align: right;\n",
       "    }\n",
       "</style>\n",
       "<table border=\"1\" class=\"dataframe\">\n",
       "  <thead>\n",
       "    <tr style=\"text-align: right;\">\n",
       "      <th></th>\n",
       "      <th>antecedents</th>\n",
       "      <th>consequents</th>\n",
       "      <th>antecedent support</th>\n",
       "      <th>consequent support</th>\n",
       "      <th>support</th>\n",
       "      <th>confidence</th>\n",
       "      <th>lift</th>\n",
       "      <th>leverage</th>\n",
       "      <th>conviction</th>\n",
       "    </tr>\n",
       "  </thead>\n",
       "  <tbody>\n",
       "    <tr>\n",
       "      <th>0</th>\n",
       "      <td>(whole milk)</td>\n",
       "      <td>(citrus fruit)</td>\n",
       "      <td>0.255516</td>\n",
       "      <td>0.082766</td>\n",
       "      <td>0.030503</td>\n",
       "      <td>0.119379</td>\n",
       "      <td>1.442377</td>\n",
       "      <td>0.009355</td>\n",
       "      <td>1.041577</td>\n",
       "    </tr>\n",
       "    <tr>\n",
       "      <th>1</th>\n",
       "      <td>(citrus fruit)</td>\n",
       "      <td>(whole milk)</td>\n",
       "      <td>0.082766</td>\n",
       "      <td>0.255516</td>\n",
       "      <td>0.030503</td>\n",
       "      <td>0.368550</td>\n",
       "      <td>1.442377</td>\n",
       "      <td>0.009355</td>\n",
       "      <td>1.179008</td>\n",
       "    </tr>\n",
       "    <tr>\n",
       "      <th>2</th>\n",
       "      <td>(citrus fruit)</td>\n",
       "      <td>(yogurt)</td>\n",
       "      <td>0.082766</td>\n",
       "      <td>0.139502</td>\n",
       "      <td>0.021657</td>\n",
       "      <td>0.261671</td>\n",
       "      <td>1.875752</td>\n",
       "      <td>0.010111</td>\n",
       "      <td>1.165467</td>\n",
       "    </tr>\n",
       "    <tr>\n",
       "      <th>3</th>\n",
       "      <td>(yogurt)</td>\n",
       "      <td>(citrus fruit)</td>\n",
       "      <td>0.139502</td>\n",
       "      <td>0.082766</td>\n",
       "      <td>0.021657</td>\n",
       "      <td>0.155248</td>\n",
       "      <td>1.875752</td>\n",
       "      <td>0.010111</td>\n",
       "      <td>1.085803</td>\n",
       "    </tr>\n",
       "    <tr>\n",
       "      <th>4</th>\n",
       "      <td>(tropical fruit)</td>\n",
       "      <td>(citrus fruit)</td>\n",
       "      <td>0.104931</td>\n",
       "      <td>0.082766</td>\n",
       "      <td>0.019929</td>\n",
       "      <td>0.189922</td>\n",
       "      <td>2.294702</td>\n",
       "      <td>0.011244</td>\n",
       "      <td>1.132280</td>\n",
       "    </tr>\n",
       "    <tr>\n",
       "      <th>...</th>\n",
       "      <td>...</td>\n",
       "      <td>...</td>\n",
       "      <td>...</td>\n",
       "      <td>...</td>\n",
       "      <td>...</td>\n",
       "      <td>...</td>\n",
       "      <td>...</td>\n",
       "      <td>...</td>\n",
       "      <td>...</td>\n",
       "    </tr>\n",
       "    <tr>\n",
       "      <th>2957</th>\n",
       "      <td>(sausage)</td>\n",
       "      <td>(meat)</td>\n",
       "      <td>0.093950</td>\n",
       "      <td>0.025826</td>\n",
       "      <td>0.005287</td>\n",
       "      <td>0.056277</td>\n",
       "      <td>2.179074</td>\n",
       "      <td>0.002861</td>\n",
       "      <td>1.032267</td>\n",
       "    </tr>\n",
       "    <tr>\n",
       "      <th>2958</th>\n",
       "      <td>(meat)</td>\n",
       "      <td>(yogurt)</td>\n",
       "      <td>0.025826</td>\n",
       "      <td>0.139502</td>\n",
       "      <td>0.005287</td>\n",
       "      <td>0.204724</td>\n",
       "      <td>1.467540</td>\n",
       "      <td>0.001684</td>\n",
       "      <td>1.082013</td>\n",
       "    </tr>\n",
       "    <tr>\n",
       "      <th>2959</th>\n",
       "      <td>(yogurt)</td>\n",
       "      <td>(meat)</td>\n",
       "      <td>0.139502</td>\n",
       "      <td>0.025826</td>\n",
       "      <td>0.005287</td>\n",
       "      <td>0.037901</td>\n",
       "      <td>1.467540</td>\n",
       "      <td>0.001684</td>\n",
       "      <td>1.012550</td>\n",
       "    </tr>\n",
       "    <tr>\n",
       "      <th>2960</th>\n",
       "      <td>(mustard)</td>\n",
       "      <td>(whole milk)</td>\n",
       "      <td>0.011998</td>\n",
       "      <td>0.255516</td>\n",
       "      <td>0.005186</td>\n",
       "      <td>0.432203</td>\n",
       "      <td>1.691492</td>\n",
       "      <td>0.002120</td>\n",
       "      <td>1.311181</td>\n",
       "    </tr>\n",
       "    <tr>\n",
       "      <th>2961</th>\n",
       "      <td>(whole milk)</td>\n",
       "      <td>(mustard)</td>\n",
       "      <td>0.255516</td>\n",
       "      <td>0.011998</td>\n",
       "      <td>0.005186</td>\n",
       "      <td>0.020294</td>\n",
       "      <td>1.691492</td>\n",
       "      <td>0.002120</td>\n",
       "      <td>1.008468</td>\n",
       "    </tr>\n",
       "  </tbody>\n",
       "</table>\n",
       "<p>2962 rows × 9 columns</p>\n",
       "</div>"
      ],
      "text/plain": [
       "           antecedents     consequents  antecedent support  \\\n",
       "0         (whole milk)  (citrus fruit)            0.255516   \n",
       "1       (citrus fruit)    (whole milk)            0.082766   \n",
       "2       (citrus fruit)        (yogurt)            0.082766   \n",
       "3             (yogurt)  (citrus fruit)            0.139502   \n",
       "4     (tropical fruit)  (citrus fruit)            0.104931   \n",
       "...                ...             ...                 ...   \n",
       "2957         (sausage)          (meat)            0.093950   \n",
       "2958            (meat)        (yogurt)            0.025826   \n",
       "2959          (yogurt)          (meat)            0.139502   \n",
       "2960         (mustard)    (whole milk)            0.011998   \n",
       "2961      (whole milk)       (mustard)            0.255516   \n",
       "\n",
       "      consequent support   support  confidence      lift  leverage  conviction  \n",
       "0               0.082766  0.030503    0.119379  1.442377  0.009355    1.041577  \n",
       "1               0.255516  0.030503    0.368550  1.442377  0.009355    1.179008  \n",
       "2               0.139502  0.021657    0.261671  1.875752  0.010111    1.165467  \n",
       "3               0.082766  0.021657    0.155248  1.875752  0.010111    1.085803  \n",
       "4               0.082766  0.019929    0.189922  2.294702  0.011244    1.132280  \n",
       "...                  ...       ...         ...       ...       ...         ...  \n",
       "2957            0.025826  0.005287    0.056277  2.179074  0.002861    1.032267  \n",
       "2958            0.139502  0.005287    0.204724  1.467540  0.001684    1.082013  \n",
       "2959            0.025826  0.005287    0.037901  1.467540  0.001684    1.012550  \n",
       "2960            0.255516  0.005186    0.432203  1.691492  0.002120    1.311181  \n",
       "2961            0.011998  0.005186    0.020294  1.691492  0.002120    1.008468  \n",
       "\n",
       "[2962 rows x 9 columns]"
      ]
     },
     "execution_count": 12,
     "metadata": {},
     "output_type": "execute_result"
    }
   ],
   "source": [
    "rules = association_rules(frequent_itemsets_a, metric=\"lift\", min_threshold=0.4)\n",
    "rules"
   ]
  },
  {
   "cell_type": "code",
   "execution_count": 13,
   "metadata": {
    "ExecuteTime": {
     "end_time": "2021-01-29T16:04:41.855086Z",
     "start_time": "2021-01-29T16:04:41.847626Z"
    }
   },
   "outputs": [
    {
     "data": {
      "text/plain": [
       "(2962, 9)"
      ]
     },
     "execution_count": 13,
     "metadata": {},
     "output_type": "execute_result"
    }
   ],
   "source": [
    "rules.shape"
   ]
  },
  {
   "cell_type": "code",
   "execution_count": 14,
   "metadata": {
    "ExecuteTime": {
     "end_time": "2021-01-29T16:04:42.393045Z",
     "start_time": "2021-01-29T16:04:42.351752Z"
    }
   },
   "outputs": [
    {
     "data": {
      "text/html": [
       "<div>\n",
       "<style scoped>\n",
       "    .dataframe tbody tr th:only-of-type {\n",
       "        vertical-align: middle;\n",
       "    }\n",
       "\n",
       "    .dataframe tbody tr th {\n",
       "        vertical-align: top;\n",
       "    }\n",
       "\n",
       "    .dataframe thead th {\n",
       "        text-align: right;\n",
       "    }\n",
       "</style>\n",
       "<table border=\"1\" class=\"dataframe\">\n",
       "  <thead>\n",
       "    <tr style=\"text-align: right;\">\n",
       "      <th></th>\n",
       "      <th>antecedents</th>\n",
       "      <th>consequents</th>\n",
       "      <th>antecedent support</th>\n",
       "      <th>consequent support</th>\n",
       "      <th>support</th>\n",
       "      <th>confidence</th>\n",
       "      <th>lift</th>\n",
       "      <th>leverage</th>\n",
       "      <th>conviction</th>\n",
       "      <th>antecedent_len</th>\n",
       "    </tr>\n",
       "  </thead>\n",
       "  <tbody>\n",
       "    <tr>\n",
       "      <th>0</th>\n",
       "      <td>(whole milk)</td>\n",
       "      <td>(citrus fruit)</td>\n",
       "      <td>0.255516</td>\n",
       "      <td>0.082766</td>\n",
       "      <td>0.030503</td>\n",
       "      <td>0.119379</td>\n",
       "      <td>1.442377</td>\n",
       "      <td>0.009355</td>\n",
       "      <td>1.041577</td>\n",
       "      <td>9835</td>\n",
       "    </tr>\n",
       "    <tr>\n",
       "      <th>1</th>\n",
       "      <td>(citrus fruit)</td>\n",
       "      <td>(whole milk)</td>\n",
       "      <td>0.082766</td>\n",
       "      <td>0.255516</td>\n",
       "      <td>0.030503</td>\n",
       "      <td>0.368550</td>\n",
       "      <td>1.442377</td>\n",
       "      <td>0.009355</td>\n",
       "      <td>1.179008</td>\n",
       "      <td>9835</td>\n",
       "    </tr>\n",
       "    <tr>\n",
       "      <th>2</th>\n",
       "      <td>(citrus fruit)</td>\n",
       "      <td>(yogurt)</td>\n",
       "      <td>0.082766</td>\n",
       "      <td>0.139502</td>\n",
       "      <td>0.021657</td>\n",
       "      <td>0.261671</td>\n",
       "      <td>1.875752</td>\n",
       "      <td>0.010111</td>\n",
       "      <td>1.165467</td>\n",
       "      <td>9835</td>\n",
       "    </tr>\n",
       "    <tr>\n",
       "      <th>3</th>\n",
       "      <td>(yogurt)</td>\n",
       "      <td>(citrus fruit)</td>\n",
       "      <td>0.139502</td>\n",
       "      <td>0.082766</td>\n",
       "      <td>0.021657</td>\n",
       "      <td>0.155248</td>\n",
       "      <td>1.875752</td>\n",
       "      <td>0.010111</td>\n",
       "      <td>1.085803</td>\n",
       "      <td>9835</td>\n",
       "    </tr>\n",
       "    <tr>\n",
       "      <th>4</th>\n",
       "      <td>(tropical fruit)</td>\n",
       "      <td>(citrus fruit)</td>\n",
       "      <td>0.104931</td>\n",
       "      <td>0.082766</td>\n",
       "      <td>0.019929</td>\n",
       "      <td>0.189922</td>\n",
       "      <td>2.294702</td>\n",
       "      <td>0.011244</td>\n",
       "      <td>1.132280</td>\n",
       "      <td>9835</td>\n",
       "    </tr>\n",
       "    <tr>\n",
       "      <th>...</th>\n",
       "      <td>...</td>\n",
       "      <td>...</td>\n",
       "      <td>...</td>\n",
       "      <td>...</td>\n",
       "      <td>...</td>\n",
       "      <td>...</td>\n",
       "      <td>...</td>\n",
       "      <td>...</td>\n",
       "      <td>...</td>\n",
       "      <td>...</td>\n",
       "    </tr>\n",
       "    <tr>\n",
       "      <th>2957</th>\n",
       "      <td>(sausage)</td>\n",
       "      <td>(meat)</td>\n",
       "      <td>0.093950</td>\n",
       "      <td>0.025826</td>\n",
       "      <td>0.005287</td>\n",
       "      <td>0.056277</td>\n",
       "      <td>2.179074</td>\n",
       "      <td>0.002861</td>\n",
       "      <td>1.032267</td>\n",
       "      <td>9835</td>\n",
       "    </tr>\n",
       "    <tr>\n",
       "      <th>2958</th>\n",
       "      <td>(meat)</td>\n",
       "      <td>(yogurt)</td>\n",
       "      <td>0.025826</td>\n",
       "      <td>0.139502</td>\n",
       "      <td>0.005287</td>\n",
       "      <td>0.204724</td>\n",
       "      <td>1.467540</td>\n",
       "      <td>0.001684</td>\n",
       "      <td>1.082013</td>\n",
       "      <td>9835</td>\n",
       "    </tr>\n",
       "    <tr>\n",
       "      <th>2959</th>\n",
       "      <td>(yogurt)</td>\n",
       "      <td>(meat)</td>\n",
       "      <td>0.139502</td>\n",
       "      <td>0.025826</td>\n",
       "      <td>0.005287</td>\n",
       "      <td>0.037901</td>\n",
       "      <td>1.467540</td>\n",
       "      <td>0.001684</td>\n",
       "      <td>1.012550</td>\n",
       "      <td>9835</td>\n",
       "    </tr>\n",
       "    <tr>\n",
       "      <th>2960</th>\n",
       "      <td>(mustard)</td>\n",
       "      <td>(whole milk)</td>\n",
       "      <td>0.011998</td>\n",
       "      <td>0.255516</td>\n",
       "      <td>0.005186</td>\n",
       "      <td>0.432203</td>\n",
       "      <td>1.691492</td>\n",
       "      <td>0.002120</td>\n",
       "      <td>1.311181</td>\n",
       "      <td>9835</td>\n",
       "    </tr>\n",
       "    <tr>\n",
       "      <th>2961</th>\n",
       "      <td>(whole milk)</td>\n",
       "      <td>(mustard)</td>\n",
       "      <td>0.255516</td>\n",
       "      <td>0.011998</td>\n",
       "      <td>0.005186</td>\n",
       "      <td>0.020294</td>\n",
       "      <td>1.691492</td>\n",
       "      <td>0.002120</td>\n",
       "      <td>1.008468</td>\n",
       "      <td>9835</td>\n",
       "    </tr>\n",
       "  </tbody>\n",
       "</table>\n",
       "<p>2962 rows × 10 columns</p>\n",
       "</div>"
      ],
      "text/plain": [
       "           antecedents     consequents  antecedent support  \\\n",
       "0         (whole milk)  (citrus fruit)            0.255516   \n",
       "1       (citrus fruit)    (whole milk)            0.082766   \n",
       "2       (citrus fruit)        (yogurt)            0.082766   \n",
       "3             (yogurt)  (citrus fruit)            0.139502   \n",
       "4     (tropical fruit)  (citrus fruit)            0.104931   \n",
       "...                ...             ...                 ...   \n",
       "2957         (sausage)          (meat)            0.093950   \n",
       "2958            (meat)        (yogurt)            0.025826   \n",
       "2959          (yogurt)          (meat)            0.139502   \n",
       "2960         (mustard)    (whole milk)            0.011998   \n",
       "2961      (whole milk)       (mustard)            0.255516   \n",
       "\n",
       "      consequent support   support  confidence      lift  leverage  \\\n",
       "0               0.082766  0.030503    0.119379  1.442377  0.009355   \n",
       "1               0.255516  0.030503    0.368550  1.442377  0.009355   \n",
       "2               0.139502  0.021657    0.261671  1.875752  0.010111   \n",
       "3               0.082766  0.021657    0.155248  1.875752  0.010111   \n",
       "4               0.082766  0.019929    0.189922  2.294702  0.011244   \n",
       "...                  ...       ...         ...       ...       ...   \n",
       "2957            0.025826  0.005287    0.056277  2.179074  0.002861   \n",
       "2958            0.139502  0.005287    0.204724  1.467540  0.001684   \n",
       "2959            0.025826  0.005287    0.037901  1.467540  0.001684   \n",
       "2960            0.255516  0.005186    0.432203  1.691492  0.002120   \n",
       "2961            0.011998  0.005186    0.020294  1.691492  0.002120   \n",
       "\n",
       "      conviction  antecedent_len  \n",
       "0       1.041577            9835  \n",
       "1       1.179008            9835  \n",
       "2       1.165467            9835  \n",
       "3       1.085803            9835  \n",
       "4       1.132280            9835  \n",
       "...          ...             ...  \n",
       "2957    1.032267            9835  \n",
       "2958    1.082013            9835  \n",
       "2959    1.012550            9835  \n",
       "2960    1.311181            9835  \n",
       "2961    1.008468            9835  \n",
       "\n",
       "[2962 rows x 10 columns]"
      ]
     },
     "execution_count": 14,
     "metadata": {},
     "output_type": "execute_result"
    }
   ],
   "source": [
    "rules[\"antecedent_len\"] = rules[\"antecedents\"].apply(lambda x: len(X))\n",
    "rules"
   ]
  },
  {
   "cell_type": "code",
   "execution_count": 15,
   "metadata": {
    "ExecuteTime": {
     "end_time": "2021-01-29T16:04:43.105439Z",
     "start_time": "2021-01-29T16:04:43.073404Z"
    }
   },
   "outputs": [
    {
     "data": {
      "text/html": [
       "<div>\n",
       "<style scoped>\n",
       "    .dataframe tbody tr th:only-of-type {\n",
       "        vertical-align: middle;\n",
       "    }\n",
       "\n",
       "    .dataframe tbody tr th {\n",
       "        vertical-align: top;\n",
       "    }\n",
       "\n",
       "    .dataframe thead th {\n",
       "        text-align: right;\n",
       "    }\n",
       "</style>\n",
       "<table border=\"1\" class=\"dataframe\">\n",
       "  <thead>\n",
       "    <tr style=\"text-align: right;\">\n",
       "      <th></th>\n",
       "      <th>antecedents</th>\n",
       "      <th>consequents</th>\n",
       "      <th>antecedent support</th>\n",
       "      <th>consequent support</th>\n",
       "      <th>support</th>\n",
       "      <th>confidence</th>\n",
       "      <th>lift</th>\n",
       "      <th>leverage</th>\n",
       "      <th>conviction</th>\n",
       "      <th>antecedent_len</th>\n",
       "    </tr>\n",
       "  </thead>\n",
       "  <tbody>\n",
       "    <tr>\n",
       "      <th>46</th>\n",
       "      <td>(tropical fruit, citrus fruit)</td>\n",
       "      <td>(other vegetables)</td>\n",
       "      <td>0.019929</td>\n",
       "      <td>0.193493</td>\n",
       "      <td>0.009049</td>\n",
       "      <td>0.454082</td>\n",
       "      <td>2.346765</td>\n",
       "      <td>0.005193</td>\n",
       "      <td>1.477341</td>\n",
       "      <td>9835</td>\n",
       "    </tr>\n",
       "    <tr>\n",
       "      <th>70</th>\n",
       "      <td>(root vegetables, citrus fruit)</td>\n",
       "      <td>(other vegetables)</td>\n",
       "      <td>0.017692</td>\n",
       "      <td>0.193493</td>\n",
       "      <td>0.010371</td>\n",
       "      <td>0.586207</td>\n",
       "      <td>3.029608</td>\n",
       "      <td>0.006948</td>\n",
       "      <td>1.949059</td>\n",
       "      <td>9835</td>\n",
       "    </tr>\n",
       "    <tr>\n",
       "      <th>88</th>\n",
       "      <td>(root vegetables, whole milk, citrus fruit)</td>\n",
       "      <td>(other vegetables)</td>\n",
       "      <td>0.009151</td>\n",
       "      <td>0.193493</td>\n",
       "      <td>0.005796</td>\n",
       "      <td>0.633333</td>\n",
       "      <td>3.273165</td>\n",
       "      <td>0.004025</td>\n",
       "      <td>2.199566</td>\n",
       "      <td>9835</td>\n",
       "    </tr>\n",
       "    <tr>\n",
       "      <th>91</th>\n",
       "      <td>(whole milk, citrus fruit, other vegetables)</td>\n",
       "      <td>(root vegetables)</td>\n",
       "      <td>0.013015</td>\n",
       "      <td>0.108998</td>\n",
       "      <td>0.005796</td>\n",
       "      <td>0.445312</td>\n",
       "      <td>4.085493</td>\n",
       "      <td>0.004377</td>\n",
       "      <td>1.606313</td>\n",
       "      <td>9835</td>\n",
       "    </tr>\n",
       "    <tr>\n",
       "      <th>167</th>\n",
       "      <td>(domestic eggs, margarine)</td>\n",
       "      <td>(whole milk)</td>\n",
       "      <td>0.008338</td>\n",
       "      <td>0.255516</td>\n",
       "      <td>0.005186</td>\n",
       "      <td>0.621951</td>\n",
       "      <td>2.434099</td>\n",
       "      <td>0.003055</td>\n",
       "      <td>1.969280</td>\n",
       "      <td>9835</td>\n",
       "    </tr>\n",
       "    <tr>\n",
       "      <th>...</th>\n",
       "      <td>...</td>\n",
       "      <td>...</td>\n",
       "      <td>...</td>\n",
       "      <td>...</td>\n",
       "      <td>...</td>\n",
       "      <td>...</td>\n",
       "      <td>...</td>\n",
       "      <td>...</td>\n",
       "      <td>...</td>\n",
       "      <td>...</td>\n",
       "    </tr>\n",
       "    <tr>\n",
       "      <th>2895</th>\n",
       "      <td>(onions)</td>\n",
       "      <td>(other vegetables)</td>\n",
       "      <td>0.031012</td>\n",
       "      <td>0.193493</td>\n",
       "      <td>0.014235</td>\n",
       "      <td>0.459016</td>\n",
       "      <td>2.372268</td>\n",
       "      <td>0.008234</td>\n",
       "      <td>1.490817</td>\n",
       "      <td>9835</td>\n",
       "    </tr>\n",
       "    <tr>\n",
       "      <th>2901</th>\n",
       "      <td>(root vegetables, onions)</td>\n",
       "      <td>(other vegetables)</td>\n",
       "      <td>0.009456</td>\n",
       "      <td>0.193493</td>\n",
       "      <td>0.005694</td>\n",
       "      <td>0.602151</td>\n",
       "      <td>3.112008</td>\n",
       "      <td>0.003864</td>\n",
       "      <td>2.027167</td>\n",
       "      <td>9835</td>\n",
       "    </tr>\n",
       "    <tr>\n",
       "      <th>2907</th>\n",
       "      <td>(whole milk, onions)</td>\n",
       "      <td>(other vegetables)</td>\n",
       "      <td>0.012100</td>\n",
       "      <td>0.193493</td>\n",
       "      <td>0.006609</td>\n",
       "      <td>0.546218</td>\n",
       "      <td>2.822942</td>\n",
       "      <td>0.004268</td>\n",
       "      <td>1.777303</td>\n",
       "      <td>9835</td>\n",
       "    </tr>\n",
       "    <tr>\n",
       "      <th>2913</th>\n",
       "      <td>(herbs)</td>\n",
       "      <td>(other vegetables)</td>\n",
       "      <td>0.016268</td>\n",
       "      <td>0.193493</td>\n",
       "      <td>0.007728</td>\n",
       "      <td>0.475000</td>\n",
       "      <td>2.454874</td>\n",
       "      <td>0.004580</td>\n",
       "      <td>1.536205</td>\n",
       "      <td>9835</td>\n",
       "    </tr>\n",
       "    <tr>\n",
       "      <th>2917</th>\n",
       "      <td>(herbs)</td>\n",
       "      <td>(root vegetables)</td>\n",
       "      <td>0.016268</td>\n",
       "      <td>0.108998</td>\n",
       "      <td>0.007016</td>\n",
       "      <td>0.431250</td>\n",
       "      <td>3.956477</td>\n",
       "      <td>0.005243</td>\n",
       "      <td>1.566596</td>\n",
       "      <td>9835</td>\n",
       "    </tr>\n",
       "  </tbody>\n",
       "</table>\n",
       "<p>102 rows × 10 columns</p>\n",
       "</div>"
      ],
      "text/plain": [
       "                                       antecedents         consequents  \\\n",
       "46                  (tropical fruit, citrus fruit)  (other vegetables)   \n",
       "70                 (root vegetables, citrus fruit)  (other vegetables)   \n",
       "88     (root vegetables, whole milk, citrus fruit)  (other vegetables)   \n",
       "91    (whole milk, citrus fruit, other vegetables)   (root vegetables)   \n",
       "167                     (domestic eggs, margarine)        (whole milk)   \n",
       "...                                            ...                 ...   \n",
       "2895                                      (onions)  (other vegetables)   \n",
       "2901                     (root vegetables, onions)  (other vegetables)   \n",
       "2907                          (whole milk, onions)  (other vegetables)   \n",
       "2913                                       (herbs)  (other vegetables)   \n",
       "2917                                       (herbs)   (root vegetables)   \n",
       "\n",
       "      antecedent support  consequent support   support  confidence      lift  \\\n",
       "46              0.019929            0.193493  0.009049    0.454082  2.346765   \n",
       "70              0.017692            0.193493  0.010371    0.586207  3.029608   \n",
       "88              0.009151            0.193493  0.005796    0.633333  3.273165   \n",
       "91              0.013015            0.108998  0.005796    0.445312  4.085493   \n",
       "167             0.008338            0.255516  0.005186    0.621951  2.434099   \n",
       "...                  ...                 ...       ...         ...       ...   \n",
       "2895            0.031012            0.193493  0.014235    0.459016  2.372268   \n",
       "2901            0.009456            0.193493  0.005694    0.602151  3.112008   \n",
       "2907            0.012100            0.193493  0.006609    0.546218  2.822942   \n",
       "2913            0.016268            0.193493  0.007728    0.475000  2.454874   \n",
       "2917            0.016268            0.108998  0.007016    0.431250  3.956477   \n",
       "\n",
       "      leverage  conviction  antecedent_len  \n",
       "46    0.005193    1.477341            9835  \n",
       "70    0.006948    1.949059            9835  \n",
       "88    0.004025    2.199566            9835  \n",
       "91    0.004377    1.606313            9835  \n",
       "167   0.003055    1.969280            9835  \n",
       "...        ...         ...             ...  \n",
       "2895  0.008234    1.490817            9835  \n",
       "2901  0.003864    2.027167            9835  \n",
       "2907  0.004268    1.777303            9835  \n",
       "2913  0.004580    1.536205            9835  \n",
       "2917  0.005243    1.566596            9835  \n",
       "\n",
       "[102 rows x 10 columns]"
      ]
     },
     "execution_count": 15,
     "metadata": {},
     "output_type": "execute_result"
    }
   ],
   "source": [
    "rules[ (rules['antecedent_len'] >= 9835) &\n",
    "       (rules['confidence'] > 0.43) &\n",
    "       (rules['lift'] > 2.2) ]"
   ]
  },
  {
   "cell_type": "code",
   "execution_count": 16,
   "metadata": {
    "ExecuteTime": {
     "end_time": "2021-01-29T16:04:43.966780Z",
     "start_time": "2021-01-29T16:04:43.934071Z"
    }
   },
   "outputs": [
    {
     "data": {
      "text/html": [
       "<div>\n",
       "<style scoped>\n",
       "    .dataframe tbody tr th:only-of-type {\n",
       "        vertical-align: middle;\n",
       "    }\n",
       "\n",
       "    .dataframe tbody tr th {\n",
       "        vertical-align: top;\n",
       "    }\n",
       "\n",
       "    .dataframe thead th {\n",
       "        text-align: right;\n",
       "    }\n",
       "</style>\n",
       "<table border=\"1\" class=\"dataframe\">\n",
       "  <thead>\n",
       "    <tr style=\"text-align: right;\">\n",
       "      <th></th>\n",
       "      <th>antecedents</th>\n",
       "      <th>consequents</th>\n",
       "      <th>antecedent support</th>\n",
       "      <th>consequent support</th>\n",
       "      <th>support</th>\n",
       "      <th>confidence</th>\n",
       "      <th>lift</th>\n",
       "      <th>leverage</th>\n",
       "      <th>conviction</th>\n",
       "      <th>antecedent_len</th>\n",
       "    </tr>\n",
       "  </thead>\n",
       "  <tbody>\n",
       "    <tr>\n",
       "      <th>36</th>\n",
       "      <td>(tropical fruit, citrus fruit)</td>\n",
       "      <td>(whole milk)</td>\n",
       "      <td>0.019929</td>\n",
       "      <td>0.255516</td>\n",
       "      <td>0.009049</td>\n",
       "      <td>0.454082</td>\n",
       "      <td>1.777116</td>\n",
       "      <td>0.003957</td>\n",
       "      <td>1.363728</td>\n",
       "      <td>9835</td>\n",
       "    </tr>\n",
       "    <tr>\n",
       "      <th>40</th>\n",
       "      <td>(tropical fruit, citrus fruit)</td>\n",
       "      <td>(yogurt)</td>\n",
       "      <td>0.019929</td>\n",
       "      <td>0.139502</td>\n",
       "      <td>0.006304</td>\n",
       "      <td>0.316327</td>\n",
       "      <td>2.267545</td>\n",
       "      <td>0.003524</td>\n",
       "      <td>1.258639</td>\n",
       "      <td>9835</td>\n",
       "    </tr>\n",
       "    <tr>\n",
       "      <th>46</th>\n",
       "      <td>(tropical fruit, citrus fruit)</td>\n",
       "      <td>(other vegetables)</td>\n",
       "      <td>0.019929</td>\n",
       "      <td>0.193493</td>\n",
       "      <td>0.009049</td>\n",
       "      <td>0.454082</td>\n",
       "      <td>2.346765</td>\n",
       "      <td>0.005193</td>\n",
       "      <td>1.477341</td>\n",
       "      <td>9835</td>\n",
       "    </tr>\n",
       "    <tr>\n",
       "      <th>78</th>\n",
       "      <td>(tropical fruit, citrus fruit)</td>\n",
       "      <td>(root vegetables)</td>\n",
       "      <td>0.019929</td>\n",
       "      <td>0.108998</td>\n",
       "      <td>0.005694</td>\n",
       "      <td>0.285714</td>\n",
       "      <td>2.621269</td>\n",
       "      <td>0.003522</td>\n",
       "      <td>1.247402</td>\n",
       "      <td>9835</td>\n",
       "    </tr>\n",
       "    <tr>\n",
       "      <th>564</th>\n",
       "      <td>(tropical fruit, citrus fruit)</td>\n",
       "      <td>(pip fruit)</td>\n",
       "      <td>0.019929</td>\n",
       "      <td>0.075648</td>\n",
       "      <td>0.005592</td>\n",
       "      <td>0.280612</td>\n",
       "      <td>3.709437</td>\n",
       "      <td>0.004085</td>\n",
       "      <td>1.284915</td>\n",
       "      <td>9835</td>\n",
       "    </tr>\n",
       "  </tbody>\n",
       "</table>\n",
       "</div>"
      ],
      "text/plain": [
       "                        antecedents         consequents  antecedent support  \\\n",
       "36   (tropical fruit, citrus fruit)        (whole milk)            0.019929   \n",
       "40   (tropical fruit, citrus fruit)            (yogurt)            0.019929   \n",
       "46   (tropical fruit, citrus fruit)  (other vegetables)            0.019929   \n",
       "78   (tropical fruit, citrus fruit)   (root vegetables)            0.019929   \n",
       "564  (tropical fruit, citrus fruit)         (pip fruit)            0.019929   \n",
       "\n",
       "     consequent support   support  confidence      lift  leverage  conviction  \\\n",
       "36             0.255516  0.009049    0.454082  1.777116  0.003957    1.363728   \n",
       "40             0.139502  0.006304    0.316327  2.267545  0.003524    1.258639   \n",
       "46             0.193493  0.009049    0.454082  2.346765  0.005193    1.477341   \n",
       "78             0.108998  0.005694    0.285714  2.621269  0.003522    1.247402   \n",
       "564            0.075648  0.005592    0.280612  3.709437  0.004085    1.284915   \n",
       "\n",
       "     antecedent_len  \n",
       "36             9835  \n",
       "40             9835  \n",
       "46             9835  \n",
       "78             9835  \n",
       "564            9835  "
      ]
     },
     "execution_count": 16,
     "metadata": {},
     "output_type": "execute_result"
    }
   ],
   "source": [
    "#we can select entries based on the \"antecedents\" or \"consequents\" columns:\n",
    "rules[rules['antecedents']=={'citrus fruit','tropical fruit'}]\n"
   ]
  },
  {
   "cell_type": "code",
   "execution_count": 17,
   "metadata": {
    "ExecuteTime": {
     "end_time": "2021-01-29T16:04:44.604990Z",
     "start_time": "2021-01-29T16:04:44.565621Z"
    }
   },
   "outputs": [
    {
     "data": {
      "text/html": [
       "<div>\n",
       "<style scoped>\n",
       "    .dataframe tbody tr th:only-of-type {\n",
       "        vertical-align: middle;\n",
       "    }\n",
       "\n",
       "    .dataframe tbody tr th {\n",
       "        vertical-align: top;\n",
       "    }\n",
       "\n",
       "    .dataframe thead th {\n",
       "        text-align: right;\n",
       "    }\n",
       "</style>\n",
       "<table border=\"1\" class=\"dataframe\">\n",
       "  <thead>\n",
       "    <tr style=\"text-align: right;\">\n",
       "      <th></th>\n",
       "      <th>antecedents</th>\n",
       "      <th>consequents</th>\n",
       "      <th>antecedent support</th>\n",
       "      <th>consequent support</th>\n",
       "      <th>support</th>\n",
       "      <th>confidence</th>\n",
       "      <th>lift</th>\n",
       "      <th>leverage</th>\n",
       "      <th>conviction</th>\n",
       "      <th>antecedent_len</th>\n",
       "    </tr>\n",
       "  </thead>\n",
       "  <tbody>\n",
       "    <tr>\n",
       "      <th>70</th>\n",
       "      <td>(root vegetables, citrus fruit)</td>\n",
       "      <td>(other vegetables)</td>\n",
       "      <td>0.017692</td>\n",
       "      <td>0.193493</td>\n",
       "      <td>0.010371</td>\n",
       "      <td>0.586207</td>\n",
       "      <td>3.029608</td>\n",
       "      <td>0.006948</td>\n",
       "      <td>1.949059</td>\n",
       "      <td>9835</td>\n",
       "    </tr>\n",
       "    <tr>\n",
       "      <th>77</th>\n",
       "      <td>(root vegetables, citrus fruit)</td>\n",
       "      <td>(tropical fruit)</td>\n",
       "      <td>0.017692</td>\n",
       "      <td>0.104931</td>\n",
       "      <td>0.005694</td>\n",
       "      <td>0.321839</td>\n",
       "      <td>3.067139</td>\n",
       "      <td>0.003838</td>\n",
       "      <td>1.319847</td>\n",
       "      <td>9835</td>\n",
       "    </tr>\n",
       "    <tr>\n",
       "      <th>83</th>\n",
       "      <td>(root vegetables, citrus fruit)</td>\n",
       "      <td>(whole milk)</td>\n",
       "      <td>0.017692</td>\n",
       "      <td>0.255516</td>\n",
       "      <td>0.009151</td>\n",
       "      <td>0.517241</td>\n",
       "      <td>2.024301</td>\n",
       "      <td>0.004630</td>\n",
       "      <td>1.542145</td>\n",
       "      <td>9835</td>\n",
       "    </tr>\n",
       "    <tr>\n",
       "      <th>93</th>\n",
       "      <td>(root vegetables, citrus fruit)</td>\n",
       "      <td>(whole milk, other vegetables)</td>\n",
       "      <td>0.017692</td>\n",
       "      <td>0.074835</td>\n",
       "      <td>0.005796</td>\n",
       "      <td>0.327586</td>\n",
       "      <td>4.377460</td>\n",
       "      <td>0.004472</td>\n",
       "      <td>1.375887</td>\n",
       "      <td>9835</td>\n",
       "    </tr>\n",
       "  </tbody>\n",
       "</table>\n",
       "</div>"
      ],
      "text/plain": [
       "                        antecedents                     consequents  \\\n",
       "70  (root vegetables, citrus fruit)              (other vegetables)   \n",
       "77  (root vegetables, citrus fruit)                (tropical fruit)   \n",
       "83  (root vegetables, citrus fruit)                    (whole milk)   \n",
       "93  (root vegetables, citrus fruit)  (whole milk, other vegetables)   \n",
       "\n",
       "    antecedent support  consequent support   support  confidence      lift  \\\n",
       "70            0.017692            0.193493  0.010371    0.586207  3.029608   \n",
       "77            0.017692            0.104931  0.005694    0.321839  3.067139   \n",
       "83            0.017692            0.255516  0.009151    0.517241  2.024301   \n",
       "93            0.017692            0.074835  0.005796    0.327586  4.377460   \n",
       "\n",
       "    leverage  conviction  antecedent_len  \n",
       "70  0.006948    1.949059            9835  \n",
       "77  0.003838    1.319847            9835  \n",
       "83  0.004630    1.542145            9835  \n",
       "93  0.004472    1.375887            9835  "
      ]
     },
     "execution_count": 17,
     "metadata": {},
     "output_type": "execute_result"
    }
   ],
   "source": [
    "rules[rules['antecedents']=={'root vegetables','citrus fruit'}]"
   ]
  },
  {
   "cell_type": "code",
   "execution_count": 18,
   "metadata": {
    "ExecuteTime": {
     "end_time": "2021-01-29T16:04:45.100301Z",
     "start_time": "2021-01-29T16:04:45.066895Z"
    }
   },
   "outputs": [
    {
     "data": {
      "text/html": [
       "<div>\n",
       "<style scoped>\n",
       "    .dataframe tbody tr th:only-of-type {\n",
       "        vertical-align: middle;\n",
       "    }\n",
       "\n",
       "    .dataframe tbody tr th {\n",
       "        vertical-align: top;\n",
       "    }\n",
       "\n",
       "    .dataframe thead th {\n",
       "        text-align: right;\n",
       "    }\n",
       "</style>\n",
       "<table border=\"1\" class=\"dataframe\">\n",
       "  <thead>\n",
       "    <tr style=\"text-align: right;\">\n",
       "      <th></th>\n",
       "      <th>antecedents</th>\n",
       "      <th>consequents</th>\n",
       "      <th>antecedent support</th>\n",
       "      <th>consequent support</th>\n",
       "      <th>support</th>\n",
       "      <th>confidence</th>\n",
       "      <th>lift</th>\n",
       "      <th>leverage</th>\n",
       "      <th>conviction</th>\n",
       "      <th>antecedent_len</th>\n",
       "    </tr>\n",
       "  </thead>\n",
       "  <tbody>\n",
       "    <tr>\n",
       "      <th>88</th>\n",
       "      <td>(root vegetables, whole milk, citrus fruit)</td>\n",
       "      <td>(other vegetables)</td>\n",
       "      <td>0.009151</td>\n",
       "      <td>0.193493</td>\n",
       "      <td>0.005796</td>\n",
       "      <td>0.633333</td>\n",
       "      <td>3.273165</td>\n",
       "      <td>0.004025</td>\n",
       "      <td>2.199566</td>\n",
       "      <td>9835</td>\n",
       "    </tr>\n",
       "  </tbody>\n",
       "</table>\n",
       "</div>"
      ],
      "text/plain": [
       "                                    antecedents         consequents  \\\n",
       "88  (root vegetables, whole milk, citrus fruit)  (other vegetables)   \n",
       "\n",
       "    antecedent support  consequent support   support  confidence      lift  \\\n",
       "88            0.009151            0.193493  0.005796    0.633333  3.273165   \n",
       "\n",
       "    leverage  conviction  antecedent_len  \n",
       "88  0.004025    2.199566            9835  "
      ]
     },
     "execution_count": 18,
     "metadata": {},
     "output_type": "execute_result"
    }
   ],
   "source": [
    "rules[rules['antecedents']=={'root vegetables', 'citrus fruit', 'whole milk'}]"
   ]
  },
  {
   "cell_type": "code",
   "execution_count": 19,
   "metadata": {
    "ExecuteTime": {
     "end_time": "2021-01-29T16:04:45.923862Z",
     "start_time": "2021-01-29T16:04:45.898000Z"
    }
   },
   "outputs": [
    {
     "data": {
      "text/html": [
       "<div>\n",
       "<style scoped>\n",
       "    .dataframe tbody tr th:only-of-type {\n",
       "        vertical-align: middle;\n",
       "    }\n",
       "\n",
       "    .dataframe tbody tr th {\n",
       "        vertical-align: top;\n",
       "    }\n",
       "\n",
       "    .dataframe thead th {\n",
       "        text-align: right;\n",
       "    }\n",
       "</style>\n",
       "<table border=\"1\" class=\"dataframe\">\n",
       "  <thead>\n",
       "    <tr style=\"text-align: right;\">\n",
       "      <th></th>\n",
       "      <th>antecedents</th>\n",
       "      <th>consequents</th>\n",
       "      <th>antecedent support</th>\n",
       "      <th>consequent support</th>\n",
       "      <th>support</th>\n",
       "      <th>confidence</th>\n",
       "      <th>lift</th>\n",
       "      <th>leverage</th>\n",
       "      <th>conviction</th>\n",
       "      <th>antecedent_len</th>\n",
       "    </tr>\n",
       "  </thead>\n",
       "  <tbody>\n",
       "    <tr>\n",
       "      <th>91</th>\n",
       "      <td>(whole milk, citrus fruit, other vegetables)</td>\n",
       "      <td>(root vegetables)</td>\n",
       "      <td>0.013015</td>\n",
       "      <td>0.108998</td>\n",
       "      <td>0.005796</td>\n",
       "      <td>0.445312</td>\n",
       "      <td>4.085493</td>\n",
       "      <td>0.004377</td>\n",
       "      <td>1.606313</td>\n",
       "      <td>9835</td>\n",
       "    </tr>\n",
       "  </tbody>\n",
       "</table>\n",
       "</div>"
      ],
      "text/plain": [
       "                                     antecedents        consequents  \\\n",
       "91  (whole milk, citrus fruit, other vegetables)  (root vegetables)   \n",
       "\n",
       "    antecedent support  consequent support   support  confidence      lift  \\\n",
       "91            0.013015            0.108998  0.005796    0.445312  4.085493   \n",
       "\n",
       "    leverage  conviction  antecedent_len  \n",
       "91  0.004377    1.606313            9835  "
      ]
     },
     "execution_count": 19,
     "metadata": {},
     "output_type": "execute_result"
    }
   ],
   "source": [
    "rules[rules['antecedents']=={'other vegetables', 'citrus fruit', 'whole milk'}]"
   ]
  },
  {
   "cell_type": "code",
   "execution_count": 20,
   "metadata": {
    "ExecuteTime": {
     "end_time": "2021-01-29T16:04:46.501631Z",
     "start_time": "2021-01-29T16:04:46.469375Z"
    }
   },
   "outputs": [
    {
     "data": {
      "text/html": [
       "<div>\n",
       "<style scoped>\n",
       "    .dataframe tbody tr th:only-of-type {\n",
       "        vertical-align: middle;\n",
       "    }\n",
       "\n",
       "    .dataframe tbody tr th {\n",
       "        vertical-align: top;\n",
       "    }\n",
       "\n",
       "    .dataframe thead th {\n",
       "        text-align: right;\n",
       "    }\n",
       "</style>\n",
       "<table border=\"1\" class=\"dataframe\">\n",
       "  <thead>\n",
       "    <tr style=\"text-align: right;\">\n",
       "      <th></th>\n",
       "      <th>antecedents</th>\n",
       "      <th>consequents</th>\n",
       "      <th>antecedent support</th>\n",
       "      <th>consequent support</th>\n",
       "      <th>support</th>\n",
       "      <th>confidence</th>\n",
       "      <th>lift</th>\n",
       "      <th>leverage</th>\n",
       "      <th>conviction</th>\n",
       "      <th>antecedent_len</th>\n",
       "    </tr>\n",
       "  </thead>\n",
       "  <tbody>\n",
       "    <tr>\n",
       "      <th>167</th>\n",
       "      <td>(domestic eggs, margarine)</td>\n",
       "      <td>(whole milk)</td>\n",
       "      <td>0.008338</td>\n",
       "      <td>0.255516</td>\n",
       "      <td>0.005186</td>\n",
       "      <td>0.621951</td>\n",
       "      <td>2.434099</td>\n",
       "      <td>0.003055</td>\n",
       "      <td>1.96928</td>\n",
       "      <td>9835</td>\n",
       "    </tr>\n",
       "  </tbody>\n",
       "</table>\n",
       "</div>"
      ],
      "text/plain": [
       "                    antecedents   consequents  antecedent support  \\\n",
       "167  (domestic eggs, margarine)  (whole milk)            0.008338   \n",
       "\n",
       "     consequent support   support  confidence      lift  leverage  conviction  \\\n",
       "167            0.255516  0.005186    0.621951  2.434099  0.003055     1.96928   \n",
       "\n",
       "     antecedent_len  \n",
       "167            9835  "
      ]
     },
     "execution_count": 20,
     "metadata": {},
     "output_type": "execute_result"
    }
   ],
   "source": [
    "rules[rules['antecedents']=={'domestic eggs', 'margarine'}]"
   ]
  },
  {
   "cell_type": "code",
   "execution_count": 21,
   "metadata": {
    "ExecuteTime": {
     "end_time": "2021-01-29T16:04:47.032639Z",
     "start_time": "2021-01-29T16:04:46.995601Z"
    }
   },
   "outputs": [
    {
     "data": {
      "text/html": [
       "<div>\n",
       "<style scoped>\n",
       "    .dataframe tbody tr th:only-of-type {\n",
       "        vertical-align: middle;\n",
       "    }\n",
       "\n",
       "    .dataframe tbody tr th {\n",
       "        vertical-align: top;\n",
       "    }\n",
       "\n",
       "    .dataframe thead th {\n",
       "        text-align: right;\n",
       "    }\n",
       "</style>\n",
       "<table border=\"1\" class=\"dataframe\">\n",
       "  <thead>\n",
       "    <tr style=\"text-align: right;\">\n",
       "      <th></th>\n",
       "      <th>antecedents</th>\n",
       "      <th>consequents</th>\n",
       "      <th>antecedent support</th>\n",
       "      <th>consequent support</th>\n",
       "      <th>support</th>\n",
       "      <th>confidence</th>\n",
       "      <th>lift</th>\n",
       "      <th>leverage</th>\n",
       "      <th>conviction</th>\n",
       "      <th>antecedent_len</th>\n",
       "    </tr>\n",
       "  </thead>\n",
       "  <tbody>\n",
       "    <tr>\n",
       "      <th>2901</th>\n",
       "      <td>(root vegetables, onions)</td>\n",
       "      <td>(other vegetables)</td>\n",
       "      <td>0.009456</td>\n",
       "      <td>0.193493</td>\n",
       "      <td>0.005694</td>\n",
       "      <td>0.602151</td>\n",
       "      <td>3.112008</td>\n",
       "      <td>0.003864</td>\n",
       "      <td>2.027167</td>\n",
       "      <td>9835</td>\n",
       "    </tr>\n",
       "  </tbody>\n",
       "</table>\n",
       "</div>"
      ],
      "text/plain": [
       "                    antecedents         consequents  antecedent support  \\\n",
       "2901  (root vegetables, onions)  (other vegetables)            0.009456   \n",
       "\n",
       "      consequent support   support  confidence      lift  leverage  \\\n",
       "2901            0.193493  0.005694    0.602151  3.112008  0.003864   \n",
       "\n",
       "      conviction  antecedent_len  \n",
       "2901    2.027167            9835  "
      ]
     },
     "execution_count": 21,
     "metadata": {},
     "output_type": "execute_result"
    }
   ],
   "source": [
    "rules[rules['antecedents']=={'root vegetables', 'onions'}]"
   ]
  },
  {
   "cell_type": "markdown",
   "metadata": {},
   "source": [
    "  #                         ********** Visualizing results:-\n",
    "\n",
    "# Support vs Confidence"
   ]
  },
  {
   "cell_type": "code",
   "execution_count": 22,
   "metadata": {
    "ExecuteTime": {
     "end_time": "2021-01-29T16:04:48.400641Z",
     "start_time": "2021-01-29T16:04:48.082260Z"
    }
   },
   "outputs": [
    {
     "data": {
      "image/png": "[encoded data removed]",
      "text/plain": [
       "<Figure size 432x288 with 1 Axes>"
      ]
     },
     "metadata": {
      "needs_background": "light"
     },
     "output_type": "display_data"
    }
   ],
   "source": [
    "plt.scatter(rules['support'],rules['confidence'],alpha=0.5)\n",
    "\n",
    "plt.xlabel('support')\n",
    "plt.ylabel('confidence')\n",
    "plt.title('Support vs Confidence')\n",
    "plt.show()\n"
   ]
  },
  {
   "cell_type": "markdown",
   "metadata": {},
   "source": [
    "# Support vs Lift"
   ]
  },
  {
   "cell_type": "code",
   "execution_count": 23,
   "metadata": {
    "ExecuteTime": {
     "end_time": "2021-01-29T16:04:49.513725Z",
     "start_time": "2021-01-29T16:04:49.240164Z"
    }
   },
   "outputs": [
    {
     "data": {
      "image/png": "[encoded data removed]",
      "text/plain": [
       "<Figure size 432x288 with 1 Axes>"
      ]
     },
     "metadata": {
      "needs_background": "light"
     },
     "output_type": "display_data"
    }
   ],
   "source": [
    "plt.scatter(rules['support'],rules['lift'], alpha=0.5)\n",
    "plt.xlabel('support')\n",
    "plt.ylabel('lift')\n",
    "plt.title('Support vs Lift')\n",
    "plt.show()"
   ]
  },
  {
   "cell_type": "markdown",
   "metadata": {},
   "source": [
    "# Lift vs Confidence"
   ]
  },
  {
   "cell_type": "code",
   "execution_count": 24,
   "metadata": {
    "ExecuteTime": {
     "end_time": "2021-01-29T16:04:50.849819Z",
     "start_time": "2021-01-29T16:04:50.521117Z"
    }
   },
   "outputs": [
    {
     "data": {
      "text/plain": [
       "[<matplotlib.lines.Line2D at 0x15de4b180d0>,\n",
       " <matplotlib.lines.Line2D at 0x15de4b181f0>]"
      ]
     },
     "execution_count": 24,
     "metadata": {},
     "output_type": "execute_result"
    },
    {
     "data": {
      "image/png": "[encoded data removed]",
      "text/plain": [
       "<Figure size 432x288 with 1 Axes>"
      ]
     },
     "metadata": {
      "needs_background": "light"
     },
     "output_type": "display_data"
    }
   ],
   "source": [
    "fit = np.polyfit(rules['lift'], rules['confidence'], 1)\n",
    "fit_fn = np.poly1d(fit)\n",
    "plt.plot(rules['lift'], rules['confidence'], 'yo', rules['lift'], \n",
    " fit_fn(rules['lift']))"
   ]
  },
  {
   "cell_type": "code",
   "execution_count": 25,
   "metadata": {
    "ExecuteTime": {
     "end_time": "2021-01-29T16:04:51.626530Z",
     "start_time": "2021-01-29T16:04:51.053269Z"
    }
   },
   "outputs": [
    {
     "ename": "NameError",
     "evalue": "name 'frequent_itemsets' is not defined",
     "output_type": "error",
     "traceback": [
      "\u001b[1;31m---------------------------------------------------------------------------\u001b[0m",
      "\u001b[1;31mNameError\u001b[0m                                 Traceback (most recent call last)",
      "\u001b[1;32m<ipython-input-25-160451b507e2>\u001b[0m in \u001b[0;36m<module>\u001b[1;34m\u001b[0m\n\u001b[1;32m----> 1\u001b[1;33m \u001b[0mfrequent_itemsets\u001b[0m\u001b[1;33m.\u001b[0m\u001b[0msort_values\u001b[0m\u001b[1;33m(\u001b[0m\u001b[1;34m'support'\u001b[0m\u001b[1;33m,\u001b[0m\u001b[0mascending\u001b[0m \u001b[1;33m=\u001b[0m \u001b[1;32mFalse\u001b[0m\u001b[1;33m,\u001b[0m\u001b[0minplace\u001b[0m\u001b[1;33m=\u001b[0m\u001b[1;32mTrue\u001b[0m\u001b[1;33m)\u001b[0m\u001b[1;33m\u001b[0m\u001b[1;33m\u001b[0m\u001b[0m\n\u001b[0m",
      "\u001b[1;31mNameError\u001b[0m: name 'frequent_itemsets' is not defined"
     ]
    }
   ],
   "source": [
    "frequent_itemsets.sort_values('support',ascending = False,inplace=True)"
   ]
  },
  {
   "cell_type": "code",
   "execution_count": 26,
   "metadata": {
    "ExecuteTime": {
     "end_time": "2021-01-29T16:04:52.082238Z",
     "start_time": "2021-01-29T16:04:51.730624Z"
    }
   },
   "outputs": [
    {
     "name": "stderr",
     "output_type": "stream",
     "text": [
      "<ipython-input-26-6c0224333500>:5: MatplotlibDeprecationWarning: Using a string of single character colors as a color sequence is deprecated. Use an explicit list instead.\n",
      "  plt.bar(x=list(range(0,11)) ,height=frequent_itemsets_a.support[0:11],color='rgbkymc');plt.xticks(list(range(0,11),),items[0:11]);plt.xlabel(\"item-sets\");\n"
     ]
    },
    {
     "data": {
      "text/plain": [
       "Text(0, 0.5, 'support')"
      ]
     },
     "execution_count": 26,
     "metadata": {},
     "output_type": "execute_result"
    },
    {
     "data": {
      "image/png": "[encoded data removed]",
      "text/plain": [
       "<Figure size 1080x360 with 1 Axes>"
      ]
     },
     "metadata": {
      "needs_background": "light"
     },
     "output_type": "display_data"
    }
   ],
   "source": [
    "# barplot of top 10 \n",
    "\n",
    "import matplotlib.pyplot as plt\n",
    "plt.figure(figsize=(15, 5))\n",
    "plt.bar(x=list(range(0,11)) ,height=frequent_itemsets_a.support[0:11],color='rgbkymc');plt.xticks(list(range(0,11),),items[0:11]);plt.xlabel(\"item-sets\");\n",
    "plt.ylabel(\"support\")"
   ]
  },
  {
   "cell_type": "code",
   "execution_count": 27,
   "metadata": {
    "ExecuteTime": {
     "end_time": "2021-01-29T16:04:52.358652Z",
     "start_time": "2021-01-29T16:04:52.302059Z"
    }
   },
   "outputs": [],
   "source": [
    "rules = association_rules(frequent_itemsets_a, metric=\"lift\", min_threshold=1)\n",
    "rules.head(20)\n",
    "rules.sort_values('lift',ascending = False,inplace=True)"
   ]
  },
  {
   "cell_type": "markdown",
   "metadata": {},
   "source": [
    "## To eliminate Redudancy in Rules"
   ]
  },
  {
   "cell_type": "code",
   "execution_count": 28,
   "metadata": {
    "ExecuteTime": {
     "end_time": "2021-01-29T16:04:53.893933Z",
     "start_time": "2021-01-29T16:04:53.870179Z"
    }
   },
   "outputs": [],
   "source": [
    "from mlxtend.frequent_patterns import association_rules\n",
    "def to_list(i):\n",
    "    return (sorted(list(i)))\n",
    "\n",
    "\n",
    "ma_X = rules.antecedents.apply(to_list)+rules.consequents.apply(to_list)\n",
    "\n",
    "\n",
    "ma_X = ma_X.apply(sorted)\n",
    "\n",
    "rules_sets = list(ma_X)\n"
   ]
  },
  {
   "cell_type": "code",
   "execution_count": 29,
   "metadata": {
    "ExecuteTime": {
     "end_time": "2021-01-29T16:04:54.495381Z",
     "start_time": "2021-01-29T16:04:54.421521Z"
    }
   },
   "outputs": [],
   "source": [
    "unique_rules_sets = [list(m) for m in set(tuple(i) for i in rules_sets)]\n",
    "index_rules = []\n",
    "for i in unique_rules_sets:\n",
    "    index_rules.append(rules_sets.index(i))\n"
   ]
  },
  {
   "cell_type": "code",
   "execution_count": 30,
   "metadata": {
    "ExecuteTime": {
     "end_time": "2021-01-29T16:04:54.991490Z",
     "start_time": "2021-01-29T16:04:54.975537Z"
    }
   },
   "outputs": [],
   "source": [
    "# getting rules without any redudancy \n",
    "rules_no_redudancy  = rules.iloc[index_rules,:]\n",
    "\n"
   ]
  },
  {
   "cell_type": "code",
   "execution_count": 31,
   "metadata": {
    "ExecuteTime": {
     "end_time": "2021-01-29T16:04:55.502542Z",
     "start_time": "2021-01-29T16:04:55.467164Z"
    }
   },
   "outputs": [
    {
     "data": {
      "text/html": [
       "<div>\n",
       "<style scoped>\n",
       "    .dataframe tbody tr th:only-of-type {\n",
       "        vertical-align: middle;\n",
       "    }\n",
       "\n",
       "    .dataframe tbody tr th {\n",
       "        vertical-align: top;\n",
       "    }\n",
       "\n",
       "    .dataframe thead th {\n",
       "        text-align: right;\n",
       "    }\n",
       "</style>\n",
       "<table border=\"1\" class=\"dataframe\">\n",
       "  <thead>\n",
       "    <tr style=\"text-align: right;\">\n",
       "      <th></th>\n",
       "      <th>antecedents</th>\n",
       "      <th>consequents</th>\n",
       "      <th>antecedent support</th>\n",
       "      <th>consequent support</th>\n",
       "      <th>support</th>\n",
       "      <th>confidence</th>\n",
       "      <th>lift</th>\n",
       "      <th>leverage</th>\n",
       "      <th>conviction</th>\n",
       "    </tr>\n",
       "  </thead>\n",
       "  <tbody>\n",
       "    <tr>\n",
       "      <th>397</th>\n",
       "      <td>(whole milk, tropical fruit)</td>\n",
       "      <td>(root vegetables, yogurt)</td>\n",
       "      <td>0.042298</td>\n",
       "      <td>0.025826</td>\n",
       "      <td>0.005694</td>\n",
       "      <td>0.134615</td>\n",
       "      <td>5.212371</td>\n",
       "      <td>0.004602</td>\n",
       "      <td>1.125712</td>\n",
       "    </tr>\n",
       "    <tr>\n",
       "      <th>615</th>\n",
       "      <td>(whole milk, other vegetables)</td>\n",
       "      <td>(root vegetables, pip fruit)</td>\n",
       "      <td>0.074835</td>\n",
       "      <td>0.015557</td>\n",
       "      <td>0.005491</td>\n",
       "      <td>0.073370</td>\n",
       "      <td>4.716272</td>\n",
       "      <td>0.004326</td>\n",
       "      <td>1.062390</td>\n",
       "    </tr>\n",
       "    <tr>\n",
       "      <th>2664</th>\n",
       "      <td>(ham)</td>\n",
       "      <td>(white bread)</td>\n",
       "      <td>0.026029</td>\n",
       "      <td>0.042095</td>\n",
       "      <td>0.005084</td>\n",
       "      <td>0.195312</td>\n",
       "      <td>4.639851</td>\n",
       "      <td>0.003988</td>\n",
       "      <td>1.190407</td>\n",
       "    </tr>\n",
       "    <tr>\n",
       "      <th>381</th>\n",
       "      <td>(root vegetables, tropical fruit)</td>\n",
       "      <td>(whole milk, other vegetables)</td>\n",
       "      <td>0.021047</td>\n",
       "      <td>0.074835</td>\n",
       "      <td>0.007016</td>\n",
       "      <td>0.333333</td>\n",
       "      <td>4.454257</td>\n",
       "      <td>0.005441</td>\n",
       "      <td>1.387748</td>\n",
       "    </tr>\n",
       "    <tr>\n",
       "      <th>1544</th>\n",
       "      <td>(fruit/vegetable juice, whole milk)</td>\n",
       "      <td>(other vegetables, yogurt)</td>\n",
       "      <td>0.026640</td>\n",
       "      <td>0.043416</td>\n",
       "      <td>0.005084</td>\n",
       "      <td>0.190840</td>\n",
       "      <td>4.395570</td>\n",
       "      <td>0.003927</td>\n",
       "      <td>1.182193</td>\n",
       "    </tr>\n",
       "    <tr>\n",
       "      <th>91</th>\n",
       "      <td>(root vegetables, citrus fruit)</td>\n",
       "      <td>(whole milk, other vegetables)</td>\n",
       "      <td>0.017692</td>\n",
       "      <td>0.074835</td>\n",
       "      <td>0.005796</td>\n",
       "      <td>0.327586</td>\n",
       "      <td>4.377460</td>\n",
       "      <td>0.004472</td>\n",
       "      <td>1.375887</td>\n",
       "    </tr>\n",
       "    <tr>\n",
       "      <th>293</th>\n",
       "      <td>(other vegetables, yogurt)</td>\n",
       "      <td>(whole milk, tropical fruit)</td>\n",
       "      <td>0.043416</td>\n",
       "      <td>0.042298</td>\n",
       "      <td>0.007626</td>\n",
       "      <td>0.175644</td>\n",
       "      <td>4.152546</td>\n",
       "      <td>0.005789</td>\n",
       "      <td>1.161758</td>\n",
       "    </tr>\n",
       "    <tr>\n",
       "      <th>2303</th>\n",
       "      <td>(root vegetables, whipped/sour cream)</td>\n",
       "      <td>(whole milk, other vegetables)</td>\n",
       "      <td>0.017082</td>\n",
       "      <td>0.074835</td>\n",
       "      <td>0.005186</td>\n",
       "      <td>0.303571</td>\n",
       "      <td>4.056556</td>\n",
       "      <td>0.003907</td>\n",
       "      <td>1.328442</td>\n",
       "    </tr>\n",
       "    <tr>\n",
       "      <th>1774</th>\n",
       "      <td>(root vegetables, yogurt)</td>\n",
       "      <td>(whole milk, other vegetables)</td>\n",
       "      <td>0.025826</td>\n",
       "      <td>0.074835</td>\n",
       "      <td>0.007829</td>\n",
       "      <td>0.303150</td>\n",
       "      <td>4.050919</td>\n",
       "      <td>0.005896</td>\n",
       "      <td>1.327638</td>\n",
       "    </tr>\n",
       "    <tr>\n",
       "      <th>816</th>\n",
       "      <td>(whipped/sour cream)</td>\n",
       "      <td>(butter, other vegetables)</td>\n",
       "      <td>0.071683</td>\n",
       "      <td>0.020031</td>\n",
       "      <td>0.005796</td>\n",
       "      <td>0.080851</td>\n",
       "      <td>4.036397</td>\n",
       "      <td>0.004360</td>\n",
       "      <td>1.066171</td>\n",
       "    </tr>\n",
       "  </tbody>\n",
       "</table>\n",
       "</div>"
      ],
      "text/plain": [
       "                                antecedents                     consequents  \\\n",
       "397            (whole milk, tropical fruit)       (root vegetables, yogurt)   \n",
       "615          (whole milk, other vegetables)    (root vegetables, pip fruit)   \n",
       "2664                                  (ham)                   (white bread)   \n",
       "381       (root vegetables, tropical fruit)  (whole milk, other vegetables)   \n",
       "1544    (fruit/vegetable juice, whole milk)      (other vegetables, yogurt)   \n",
       "91          (root vegetables, citrus fruit)  (whole milk, other vegetables)   \n",
       "293              (other vegetables, yogurt)    (whole milk, tropical fruit)   \n",
       "2303  (root vegetables, whipped/sour cream)  (whole milk, other vegetables)   \n",
       "1774              (root vegetables, yogurt)  (whole milk, other vegetables)   \n",
       "816                    (whipped/sour cream)      (butter, other vegetables)   \n",
       "\n",
       "      antecedent support  consequent support   support  confidence      lift  \\\n",
       "397             0.042298            0.025826  0.005694    0.134615  5.212371   \n",
       "615             0.074835            0.015557  0.005491    0.073370  4.716272   \n",
       "2664            0.026029            0.042095  0.005084    0.195312  4.639851   \n",
       "381             0.021047            0.074835  0.007016    0.333333  4.454257   \n",
       "1544            0.026640            0.043416  0.005084    0.190840  4.395570   \n",
       "91              0.017692            0.074835  0.005796    0.327586  4.377460   \n",
       "293             0.043416            0.042298  0.007626    0.175644  4.152546   \n",
       "2303            0.017082            0.074835  0.005186    0.303571  4.056556   \n",
       "1774            0.025826            0.074835  0.007829    0.303150  4.050919   \n",
       "816             0.071683            0.020031  0.005796    0.080851  4.036397   \n",
       "\n",
       "      leverage  conviction  \n",
       "397   0.004602    1.125712  \n",
       "615   0.004326    1.062390  \n",
       "2664  0.003988    1.190407  \n",
       "381   0.005441    1.387748  \n",
       "1544  0.003927    1.182193  \n",
       "91    0.004472    1.375887  \n",
       "293   0.005789    1.161758  \n",
       "2303  0.003907    1.328442  \n",
       "1774  0.005896    1.327638  \n",
       "816   0.004360    1.066171  "
      ]
     },
     "execution_count": 31,
     "metadata": {},
     "output_type": "execute_result"
    }
   ],
   "source": [
    "# Sorting them with respect to list and getting top 10 rules \n",
    "rules_no_redudancy.sort_values('lift',ascending=False).head(10)\n",
    "\n"
   ]
  },
  {
   "cell_type": "markdown",
   "metadata": {},
   "source": [
    "#  The first rule & the second rule. states that the support for Vegitables and sausage compared to its default sale."
   ]
  }
 ],
 "metadata": {
  "kernelspec": {
   "display_name": "Python 3",
   "language": "python",
   "name": "python3"
  },
  "language_info": {
   "codemirror_mode": {
    "name": "ipython",
    "version": 3
   },
   "file_extension": ".py",
   "mimetype": "text/x-python",
   "name": "python",
   "nbconvert_exporter": "python",
   "pygments_lexer": "ipython3",
   "version": "3.8.3"
  },
  "varInspector": {
   "cols": {
    "lenName": 16,
    "lenType": 16,
    "lenVar": 40
   },
   "kernels_config": {
    "python": {
     "delete_cmd_postfix": "",
     "delete_cmd_prefix": "del ",
     "library": "var_list.py",
     "varRefreshCmd": "print(var_dic_list())"
    },
    "r": {
     "delete_cmd_postfix": ") ",
     "delete_cmd_prefix": "rm(",
     "library": "var_list.r",
     "varRefreshCmd": "cat(var_dic_list()) "
    }
   },
   "types_to_exclude": [
    "module",
    "function",
    "builtin_function_or_method",
    "instance",
    "_Feature"
   ],
   "window_display": false
  }
 },
 "nbformat": 4,
 "nbformat_minor": 2
}
